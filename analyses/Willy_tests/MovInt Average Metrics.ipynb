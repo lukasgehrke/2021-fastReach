{
 "cells": [
  {
   "cell_type": "code",
   "execution_count": 1,
   "id": "985d95c9",
   "metadata": {},
   "outputs": [],
   "source": [
    "import pandas as pd\n",
    "import numpy as np\n",
    "import seaborn as sns\n",
    "import matplotlib.pyplot as plt\n",
    "from matplotlib.pyplot import figure\n",
    "from matplotlib.lines import Line2D\n",
    "from sklearn.discriminant_analysis import LinearDiscriminantAnalysis as LDA\n",
    "from sklearn.model_selection import train_test_split, cross_val_score, cross_validate, KFold, cross_val_predict\n",
    "from sklearn.metrics import roc_curve, auc, roc_auc_score, plot_roc_curve, confusion_matrix, plot_confusion_matrix, ConfusionMatrixDisplay, classification_report, RocCurveDisplay\n",
    "from sklearn.model_selection import StratifiedKFold"
   ]
  },
  {
   "cell_type": "code",
   "execution_count": 2,
   "id": "678bc253",
   "metadata": {},
   "outputs": [],
   "source": [
    "#EEG\n",
    "path = \"/Users/willy/Documents/GitHub/2021-fastReach/data/study/eeglab2python/\"\n",
    "\n",
    "data_eeg_11 = pd.read_csv(path+'11\\data_s11_rp-win_-1-0_srate-250_modality-eeg.csv')\n",
    "data_eeg_3 = pd.read_csv(path+'3\\data_s3_rp-win_-1-0_srate-250_modality-eeg.csv')\n",
    "data_eeg_4 = pd.read_csv(path+'4\\data_s4_rp-win_-1-0_srate-250_modality-eeg.csv')\n",
    "data_eeg_5 = pd.read_csv(path+'5\\data_s5_rp-win_-1-0_srate-250_modality-eeg.csv')\n",
    "data_eeg_6 = pd.read_csv(path+'6\\data_s6_rp-win_-1-0_srate-250_modality-eeg.csv')\n",
    "data_eeg_7 = pd.read_csv(path+'7\\data_s7_rp-win_-1-0_srate-250_modality-eeg.csv')\n",
    "\n",
    "# EEG Window \n",
    "win_eeg = 25\n",
    "win_eeg_scaled_11 = np.arange(len(data_eeg_11))//win_eeg\n",
    "win_eeg_scaled_3 = np.arange(len(data_eeg_3))//win_eeg\n",
    "win_eeg_scaled_4 = np.arange(len(data_eeg_4))//win_eeg\n",
    "win_eeg_scaled_5 = np.arange(len(data_eeg_5))//win_eeg\n",
    "win_eeg_scaled_6 = np.arange(len(data_eeg_6))//win_eeg\n",
    "win_eeg_scaled_7 = np.arange(len(data_eeg_7))//win_eeg"
   ]
  },
  {
   "cell_type": "code",
   "execution_count": 3,
   "id": "a2b64686",
   "metadata": {},
   "outputs": [],
   "source": [
    "#EEG DataFrames\n",
    "win_eeg_mean_11 = data_eeg_11.groupby(win_eeg_scaled_11).mean() \n",
    "df_eeg_11 = win_eeg_mean_11.pivot(index=['epoch_ix', 'rp_class'], columns='sample', values=win_eeg_mean_11.columns[3:].tolist())\n",
    "df_eeg_11.reset_index(inplace=True)\n",
    "\n",
    "win_eeg_mean_3 = data_eeg_3.groupby(win_eeg_scaled_3).mean() \n",
    "df_eeg_3 = win_eeg_mean_3.pivot(index=['epoch_ix', 'rp_class'], columns='sample', values=win_eeg_mean_3.columns[3:].tolist())\n",
    "df_eeg_3.reset_index(inplace=True)\n",
    "\n",
    "win_eeg_mean_4 = data_eeg_4.groupby(win_eeg_scaled_4).mean() \n",
    "df_eeg_4 = win_eeg_mean_4.pivot(index=['epoch_ix', 'rp_class'], columns='sample', values=win_eeg_mean_4.columns[3:].tolist())\n",
    "df_eeg_4.reset_index(inplace=True)\n",
    "\n",
    "win_eeg_mean_5 = data_eeg_5.groupby(win_eeg_scaled_5).mean() \n",
    "df_eeg_5 = win_eeg_mean_5.pivot(index=['epoch_ix', 'rp_class'], columns='sample', values=win_eeg_mean_5.columns[3:].tolist())\n",
    "df_eeg_5.reset_index(inplace=True)\n",
    "\n",
    "win_eeg_mean_6 = data_eeg_6.groupby(win_eeg_scaled_6).mean() \n",
    "df_eeg_6 = win_eeg_mean_6.pivot(index=['epoch_ix', 'rp_class'], columns='sample', values=win_eeg_mean_6.columns[3:].tolist())\n",
    "df_eeg_6.reset_index(inplace=True)\n",
    "\n",
    "win_eeg_mean_7 = data_eeg_7.groupby(win_eeg_scaled_7).mean() \n",
    "df_eeg_7 = win_eeg_mean_7.pivot(index=['epoch_ix', 'rp_class'], columns='sample', values=win_eeg_mean_7.columns[3:].tolist())\n",
    "df_eeg_7.reset_index(inplace=True)"
   ]
  },
  {
   "cell_type": "code",
   "execution_count": 4,
   "id": "b48d3f63",
   "metadata": {},
   "outputs": [],
   "source": [
    "# EEG Classifiers\n",
    "\n",
    "# splits data randomly in n=folds \n",
    "kfolds = KFold(n_splits=10, random_state=1, shuffle=True)\n",
    "\n",
    "Xeeg_11 = df_eeg_11.iloc[:,2:].values\n",
    "yeeg_11 = np.asarray(df_eeg_11['rp_class'])\n",
    "clf_eeg_11 = LDA(solver='lsqr', shrinkage='auto')\n",
    "clf_eeg_11.fit(Xeeg_11, yeeg_11)\n",
    "pred_y_eeg_11 = cross_val_predict(clf_eeg_11, Xeeg_11, yeeg_11, cv=kfolds)\n",
    "\n",
    "Xeeg_3 = df_eeg_3.iloc[:,2:].values\n",
    "yeeg_3 = np.asarray(df_eeg_3['rp_class'])\n",
    "clf_eeg_3 = LDA(solver='lsqr', shrinkage='auto')\n",
    "clf_eeg_3.fit(Xeeg_3, yeeg_3)\n",
    "pred_y_eeg_3 = cross_val_predict(clf_eeg_3, Xeeg_3, yeeg_3, cv=kfolds)\n",
    "\n",
    "Xeeg_4 = df_eeg_4.iloc[:,2:].values\n",
    "yeeg_4 = np.asarray(df_eeg_4['rp_class'])\n",
    "clf_eeg_4 = LDA(solver='lsqr', shrinkage='auto')\n",
    "clf_eeg_4.fit(Xeeg_4, yeeg_4)\n",
    "pred_y_eeg_4 = cross_val_predict(clf_eeg_4, Xeeg_4, yeeg_4, cv=kfolds)\n",
    "\n",
    "Xeeg_5 = df_eeg_5.iloc[:,2:].values\n",
    "yeeg_5 = np.asarray(df_eeg_5['rp_class'])\n",
    "clf_eeg_5 = LDA(solver='lsqr', shrinkage='auto')\n",
    "clf_eeg_5.fit(Xeeg_5, yeeg_5)\n",
    "pred_y_eeg_5 = cross_val_predict(clf_eeg_5, Xeeg_5, yeeg_5, cv=kfolds)\n",
    "\n",
    "Xeeg_6 = df_eeg_6.iloc[:,2:].values\n",
    "yeeg_6 = np.asarray(df_eeg_6['rp_class'])\n",
    "clf_eeg_6 = LDA(solver='lsqr', shrinkage='auto')\n",
    "clf_eeg_6.fit(Xeeg_6, yeeg_6)\n",
    "pred_y_eeg_6 = cross_val_predict(clf_eeg_6, Xeeg_6, yeeg_6, cv=kfolds)\n",
    "\n",
    "Xeeg_7 = df_eeg_7.iloc[:,2:].values\n",
    "yeeg_7 = np.asarray(df_eeg_7['rp_class'])\n",
    "clf_eeg_7 = LDA(solver='lsqr', shrinkage='auto')\n",
    "clf_eeg_7.fit(Xeeg_7, yeeg_7)\n",
    "pred_y_eeg_7 = cross_val_predict(clf_eeg_7, Xeeg_7, yeeg_7, cv=kfolds)"
   ]
  },
  {
   "cell_type": "code",
   "execution_count": 5,
   "id": "a99cca97",
   "metadata": {},
   "outputs": [],
   "source": [
    "# Averaged confusion matrix\n",
    "cm_eeg_11 = confusion_matrix(y_true=yeeg_11, y_pred=pred_y_eeg_11)\n",
    "cm_eeg_3 = confusion_matrix(y_true=yeeg_3, y_pred=pred_y_eeg_3)\n",
    "cm_eeg_4 = confusion_matrix(y_true=yeeg_4, y_pred=pred_y_eeg_4)\n",
    "cm_eeg_5 = confusion_matrix(y_true=yeeg_5, y_pred=pred_y_eeg_5)\n",
    "cm_eeg_6 = confusion_matrix(y_true=yeeg_6, y_pred=pred_y_eeg_6)\n",
    "cm_eeg_7 = confusion_matrix(y_true=yeeg_7, y_pred=pred_y_eeg_7)\n",
    "\n",
    "mean_cm = np.zeros((2, 2))\n",
    "std_cm = np.zeros((2, 2))\n",
    "mean_cm[0,0] = np.mean([cm_eeg_11[0,0], cm_eeg_3[0,0], cm_eeg_4[0,0], cm_eeg_5[0,0], cm_eeg_6[0,0],cm_eeg_7[0,0]])\n",
    "mean_cm[0,1] = np.mean([cm_eeg_11[0,1], cm_eeg_3[0,1], cm_eeg_4[0,1], cm_eeg_5[0,1], cm_eeg_6[0,1],cm_eeg_7[0,1]])\n",
    "mean_cm[1,0] = np.mean([cm_eeg_11[1,0], cm_eeg_3[1,0], cm_eeg_4[1,0], cm_eeg_5[1,0], cm_eeg_6[1,0],cm_eeg_7[1,0]])\n",
    "mean_cm[1,1] = np.mean([cm_eeg_11[1,1], cm_eeg_3[1,1], cm_eeg_4[1,1], cm_eeg_5[1,1], cm_eeg_6[1,1],cm_eeg_7[1,1]])\n",
    "\n",
    "std_cm[0,0] = np.std([cm_eeg_11[0,0], cm_eeg_3[0,0], cm_eeg_4[0,0], cm_eeg_5[0,0], cm_eeg_6[0,0],cm_eeg_7[0,0]])\n",
    "std_cm[0,1] = np.std([cm_eeg_11[0,1], cm_eeg_3[0,1], cm_eeg_4[0,1], cm_eeg_5[0,1], cm_eeg_6[0,1],cm_eeg_7[0,1]])\n",
    "std_cm[1,0] = np.std([cm_eeg_11[1,0], cm_eeg_3[1,0], cm_eeg_4[1,0], cm_eeg_5[1,0], cm_eeg_6[1,0],cm_eeg_7[1,0]])\n",
    "std_cm[1,1] = np.std([cm_eeg_11[1,1], cm_eeg_3[1,1], cm_eeg_4[1,1], cm_eeg_5[1,1], cm_eeg_6[1,1],cm_eeg_7[1,1]])"
   ]
  },
  {
   "cell_type": "code",
   "execution_count": 24,
   "id": "7cce98df",
   "metadata": {},
   "outputs": [
    {
     "data": {
      "text/plain": [
       "Text(0.5, 22.5, 'Predicted label')"
      ]
     },
     "execution_count": 24,
     "metadata": {},
     "output_type": "execute_result"
    },
    {
     "data": {
      "image/png": "[encoded data removed]",
      "text/plain": [
       "<Figure size 504x432 with 2 Axes>"
      ]
     },
     "metadata": {
      "needs_background": "light"
     },
     "output_type": "display_data"
    }
   ],
   "source": [
    "#Can't plot fucking std deviation in the same time\n",
    "figure(figsize=(7,6))\n",
    "sns.set_context(\"talk\")\n",
    "ax = plt.axes()\n",
    "a = sns.heatmap(mean_cm, ax = ax, annot=np.array([['%0.1f $\\pm$ %0.1f' % (mean_cm[0,0], std_cm[0,0]),'%0.1f $\\pm$ %0.1f' % (mean_cm[0,1], std_cm[0,1])],['%0.1f $\\pm$ %0.1f' % (mean_cm[1,0], std_cm[1,0]),'%0.1f $\\pm$ %0.1f' % (mean_cm[1,1], std_cm[1,1])]]), cmap='Oranges', fmt=\"\", vmin=20, vmax=120, xticklabels=[\"No intent\", \"Intent\"], yticklabels=[\"No intent\", \"Intent\"])\n",
    "a.set_title('EEG')\n",
    "plt.ylabel('True label')\n",
    "plt.xlabel('Predicted label')"
   ]
  },
  {
   "cell_type": "code",
   "execution_count": 7,
   "id": "c67a7256",
   "metadata": {
    "scrolled": false
   },
   "outputs": [
    {
     "data": {
      "image/png": "[encoded data removed]",
      "text/plain": [
       "<Figure size 432x288 with 1 Axes>"
      ]
     },
     "metadata": {
      "needs_background": "light"
     },
     "output_type": "display_data"
    }
   ],
   "source": [
    "tprs_11 = []\n",
    "aucs_11 = []\n",
    "mean_fpr_11 = np.linspace(0,1,100)\n",
    "i = 1\n",
    "for train,test in kfolds.split(Xeeg_11,yeeg_11):\n",
    "    prediction_11 = clf_eeg_11.fit(Xeeg_11[train],yeeg_11[train]).predict_proba(Xeeg_11[test])\n",
    "    fpr_11, tpr_11, t_11 = roc_curve(yeeg_11[test], prediction_11[:, 1], pos_label=2.0)\n",
    "    tprs_11.append(np.interp(mean_fpr_11, fpr_11, tpr_11))\n",
    "    roc_auc_11 = auc(fpr_11, tpr_11)\n",
    "    aucs_11.append(roc_auc_11)\n",
    "    i= i+1\n",
    "\n",
    "tprs_3 = []\n",
    "aucs_3 = []\n",
    "mean_fpr_3 = np.linspace(0,1,100)\n",
    "i = 1\n",
    "for train,test in kfolds.split(Xeeg_3,yeeg_3):\n",
    "    prediction_3 = clf_eeg_3.fit(Xeeg_3[train],yeeg_3[train]).predict_proba(Xeeg_3[test])\n",
    "    fpr_3, tpr_3, t_3 = roc_curve(yeeg_3[test], prediction_3[:, 1], pos_label=2.0)\n",
    "    tprs_3.append(np.interp(mean_fpr_3, fpr_3, tpr_3))\n",
    "    roc_auc_3 = auc(fpr_3, tpr_3)\n",
    "    aucs_3.append(roc_auc_3)\n",
    "    i= i+1\n",
    "\n",
    "tprs_4 = []\n",
    "aucs_4 = []\n",
    "mean_fpr_4 = np.linspace(0,1,100)\n",
    "i = 1\n",
    "for train,test in kfolds.split(Xeeg_4,yeeg_4):\n",
    "    prediction_4 = clf_eeg_4.fit(Xeeg_4[train],yeeg_4[train]).predict_proba(Xeeg_4[test])\n",
    "    fpr_4, tpr_4, t_4 = roc_curve(yeeg_4[test], prediction_4[:, 1], pos_label=2.0)\n",
    "    tprs_4.append(np.interp(mean_fpr_4, fpr_4, tpr_4))\n",
    "    roc_auc_4 = auc(fpr_4, tpr_4)\n",
    "    aucs_4.append(roc_auc_4)\n",
    "    i= i+1\n",
    "    \n",
    "tprs_5 = []\n",
    "aucs_5 = []\n",
    "mean_fpr_5 = np.linspace(0,1,100)\n",
    "i = 1\n",
    "for train,test in kfolds.split(Xeeg_5,yeeg_5):\n",
    "    prediction_5 = clf_eeg_5.fit(Xeeg_5[train],yeeg_5[train]).predict_proba(Xeeg_5[test])\n",
    "    fpr_5, tpr_5, t_5 = roc_curve(yeeg_5[test], prediction_5[:, 1], pos_label=2.0)\n",
    "    tprs_5.append(np.interp(mean_fpr_5, fpr_5, tpr_5))\n",
    "    roc_auc_5 = auc(fpr_5, tpr_5)\n",
    "    aucs_5.append(roc_auc_5)\n",
    "    i= i+1\n",
    "    \n",
    "tprs_6 = []\n",
    "aucs_6 = []\n",
    "mean_fpr_6 = np.linspace(0,1,100)\n",
    "i = 1\n",
    "for train,test in kfolds.split(Xeeg_6,yeeg_6):\n",
    "    prediction_6 = clf_eeg_6.fit(Xeeg_6[train],yeeg_6[train]).predict_proba(Xeeg_6[test])\n",
    "    fpr_6, tpr_6, t_6 = roc_curve(yeeg_6[test], prediction_6[:, 1], pos_label=2.0)\n",
    "    tprs_6.append(np.interp(mean_fpr_6, fpr_6, tpr_6))\n",
    "    roc_auc_6 = auc(fpr_6, tpr_6)\n",
    "    aucs_6.append(roc_auc_6)\n",
    "    i= i+1\n",
    "    \n",
    "tprs_7 = []\n",
    "aucs_7 = []\n",
    "mean_fpr_7 = np.linspace(0,1,100)\n",
    "i = 1\n",
    "for train,test in kfolds.split(Xeeg_7,yeeg_7):\n",
    "    prediction_7 = clf_eeg_7.fit(Xeeg_7[train],yeeg_7[train]).predict_proba(Xeeg_7[test])\n",
    "    fpr_7, tpr_7, t_7 = roc_curve(yeeg_7[test], prediction_7[:, 1], pos_label=2.0)\n",
    "    tprs_7.append(np.interp(mean_fpr_7, fpr_7, tpr_7))\n",
    "    roc_auc_7 = auc(fpr_7, tpr_7)\n",
    "    aucs_7.append(roc_auc_7)\n",
    "    i= i+1\n",
    "\n",
    "  \n",
    "plt.plot([0,1],[0,1],linestyle = '--',lw = 2,color = 'black')\n",
    "mean_tpr_11 = np.mean(tprs_11, axis=0)\n",
    "mean_auc_11 = auc(mean_fpr_11, mean_tpr_11)\n",
    "std_auc_11 = np.std(aucs_11)\n",
    "plt.plot(mean_fpr_11, mean_tpr_11, color='0.8')\n",
    "\n",
    "mean_tpr_3 = np.mean(tprs_3, axis=0)\n",
    "mean_auc_3 = auc(mean_fpr_3, mean_tpr_3)\n",
    "std_auc_3 = np.std(aucs_3)\n",
    "plt.plot(mean_fpr_3, mean_tpr_3, color='0.8')\n",
    "\n",
    "mean_tpr_4 = np.mean(tprs_4, axis=0)\n",
    "mean_auc_4 = auc(mean_fpr_4, mean_tpr_4)\n",
    "std_auc_4 = np.std(aucs_4)\n",
    "plt.plot(mean_fpr_4, mean_tpr_4, color='0.8')\n",
    "\n",
    "mean_tpr_5 = np.mean(tprs_5, axis=0)\n",
    "mean_auc_5 = auc(mean_fpr_5, mean_tpr_5)\n",
    "std_auc_5 = np.std(aucs_5)\n",
    "plt.plot(mean_fpr_5, mean_tpr_5, color='0.8')\n",
    "\n",
    "mean_tpr_6 = np.mean(tprs_6, axis=0)\n",
    "mean_auc_6 = auc(mean_fpr_6, mean_tpr_6)\n",
    "std_auc_6 = np.std(aucs_6)\n",
    "plt.plot(mean_fpr_6, mean_tpr_6, color='0.8')\n",
    "\n",
    "mean_tpr_7 = np.mean(tprs_7, axis=0)\n",
    "mean_auc_7 = auc(mean_fpr_7, mean_tpr_7)\n",
    "std_auc_7 = np.std(aucs_7)\n",
    "plt.plot(mean_fpr_7, mean_tpr_7, color='0.8')\n",
    "\n",
    "mean_tpr_all = np.zeros((100))\n",
    "mean_fpr_all = np.zeros((100))\n",
    "\n",
    "for i in range(len(mean_tpr_11)):\n",
    "    mean_tpr_all[i] = np.mean([mean_tpr_11[i], mean_tpr_3[i], mean_tpr_4[i], mean_tpr_5[i], mean_tpr_6[i], mean_tpr_7[i]])\n",
    "    mean_fpr_all[i] = np.mean([mean_fpr_11[i], mean_fpr_3[i], mean_fpr_4[i], mean_fpr_5[i], mean_fpr_6[i], mean_fpr_7[i]])\n",
    "\n",
    "mean_auc_all = auc(mean_fpr_all, mean_tpr_all)\n",
    "std_auc_all = np.mean([std_auc_11, std_auc_3, std_auc_4, std_auc_5, std_auc_6, std_auc_7])\n",
    "plt.plot(mean_fpr_all, mean_tpr_all, color='r',\n",
    "         label=r'Average AUC = %0.2f $\\pm$ %0.2f' % (mean_auc_all, std_auc_all),lw=2, alpha=1)\n",
    "\n",
    "\n",
    "plt.xlabel('False Positive Rate')\n",
    "plt.ylabel('True Positive Rate')\n",
    "plt.title('EEG ROC')\n",
    "plt.legend(loc=\"lower right\")\n",
    "\n",
    "plt.show()"
   ]
  },
  {
   "cell_type": "code",
   "execution_count": 8,
   "id": "52e854c9",
   "metadata": {},
   "outputs": [],
   "source": [
    "# EMG\n",
    "path = \"/Users/willy/Documents/GitHub/2021-fastReach/data/study/eeglab2python/\"\n",
    "\n",
    "data_remg_11 = pd.read_csv(path+'11\\data_s11_rp-win_-1-0_srate-250_modality-emg.csv')\n",
    "data_emg_11 = pd.concat([data_remg_11.iloc[:,:4], data_remg_11.iloc[:,4] + 0.280], axis=1)\n",
    "data_emg_11.rename(columns={'EMG1':'Deltoïd', 'EMG2':'Biceps'}, inplace=True )\n",
    "\n",
    "#data_remg_3 = pd.read_csv(path+'3\\data_s3_rp-win_-1-0_srate-250_modality-emg.csv')\n",
    "#data_emg_3 = pd.concat([data_remg_3.iloc[:,:4], data_remg_3.iloc[:,4] + 0.270], axis=1)\n",
    "#data_emg_3.iloc[len(data_emg_3)//2:,3:] = (data_emg_3.iloc[len(data_emg_3)//2:,3:]/2.5) +0.0065\n",
    "#data_emg_3.rename(columns={'EMG1':'Deltoïd', 'EMG2':'Biceps'}, inplace=True )\n",
    "\n",
    "# EMG Window \n",
    "win_emg = 250\n",
    "win_emg_scaled_11 = np.arange(len(data_emg_11))//win_emg\n",
    "#win_emg_scaled_3 = np.arange(len(data_emg_3))//win_emg"
   ]
  },
  {
   "cell_type": "code",
   "execution_count": 9,
   "id": "5d8a443e",
   "metadata": {},
   "outputs": [],
   "source": [
    "def rms(values):\n",
    "    return np.sqrt(sum(values**2)/len(values))\n",
    "\n",
    "def mini(values):\n",
    "    return np.min(values)\n",
    "\n",
    "def maxi(values):\n",
    "    return np.max(values)\n",
    "\n",
    "def mav(values):\n",
    "    return np.mean(abs(values))\n",
    "\n",
    "def var(values):\n",
    "    return np.var(values)"
   ]
  },
  {
   "cell_type": "code",
   "execution_count": 10,
   "id": "a70cfdd2",
   "metadata": {},
   "outputs": [],
   "source": [
    "feat_list = [rms, mini, maxi, mav, var]                                      \n",
    "nfeat_list = ['rms', 'mini', 'maxi', 'mav', 'var']  #, 'wl'#  'mavs', 'zc', 'ssc'  (Waveform actually pretty powerful)\n",
    "\n",
    "muscle_1_11 =[None] * len(feat_list)\n",
    "muscle_2_11 =[None] * len(feat_list)\n",
    "muscle_1_3 =[None] * len(feat_list)\n",
    "muscle_2_3 =[None] * len(feat_list)\n",
    "\n",
    "#EMG DataFrame\n",
    "for i in range(len(feat_list)):\n",
    "    muscle_1_11[i] = data_emg_11.groupby(win_emg_scaled_11)['Biceps'].apply(feat_list[i])\n",
    "    muscle_2_11[i] = data_emg_11.groupby(win_emg_scaled_11)['Deltoïd'].apply(feat_list[i])\n",
    "#    muscle_1_3[i] = data_emg_3.groupby(win_emg_scaled_3)['Biceps'].apply(feat_list[i])\n",
    "#    muscle_2_3[i] = data_emg_3.groupby(win_emg_scaled_3)['Deltoïd'].apply(feat_list[i])\n",
    "\n",
    "m1_11 = pd.DataFrame(muscle_1_11, index=nfeat_list).transpose()\n",
    "m2_11 = pd.DataFrame(muscle_2_11, index=nfeat_list).transpose()\n",
    "mk_11 = {'Biceps':m1_11, 'Deltoïd':m2_11}\n",
    "muscles_11 = pd.concat([m1_11,m2_11], axis=1, keys=mk_11.keys())\n",
    "\n",
    "#m1_3 = pd.DataFrame(muscle_1_3, index=nfeat_list).transpose()\n",
    "#m2_3 = pd.DataFrame(muscle_2_3, index=nfeat_list).transpose()\n",
    "#mk_3 = {'Biceps':m1_3, 'Deltoïd':m2_3}\n",
    "#muscles_3 = pd.concat([m1_3,m2_3], axis=1, keys=mk_3.keys())\n",
    "\n",
    "c_labels_11 = data_emg_11.iloc[:,:3].groupby(win_emg_scaled_11).mean()\n",
    "#c_labels_3 = data_emg_3.iloc[:,:3].groupby(win_emg_scaled_3).mean()\n",
    "\n",
    "win_emg_mean_11 = pd.concat([c_labels_11, muscles_11], axis=1)\n",
    "#win_emg_mean_3 = pd.concat([c_labels_3, muscles_3], axis=1)"
   ]
  },
  {
   "cell_type": "code",
   "execution_count": 11,
   "id": "392099b1",
   "metadata": {},
   "outputs": [],
   "source": [
    "# DataFrames\n",
    "df_emg_11 = win_emg_mean_11.pivot(index=['epoch_ix', 'rp_class'], columns='sample', values=win_emg_mean_11.columns[3:].tolist())\n",
    "df_emg_11.reset_index(inplace=True)\n",
    "\n",
    "#df_emg_3 = win_emg_mean_3.pivot(index=['epoch_ix', 'rp_class'], columns='sample', values=win_emg_mean_3.columns[3:].tolist())\n",
    "#df_emg_3.reset_index(inplace=True)"
   ]
  },
  {
   "cell_type": "code",
   "execution_count": 12,
   "id": "5bba6d14",
   "metadata": {},
   "outputs": [],
   "source": [
    "# Classifiers\n",
    "Xemg_11 = df_emg_11.iloc[:,2:].values\n",
    "yemg_11 = np.asarray(df_eeg_11['rp_class'])\n",
    "clf_emg_11 = LDA(solver='lsqr', shrinkage='auto')\n",
    "clf_emg_11.fit(Xemg_11, yemg_11)\n",
    "pred_y_emg_11 = cross_val_predict(clf_emg_11, Xemg_11, yemg_11, cv=kfolds)\n",
    "\n",
    "#Xemg_3 = df_emg_3.iloc[:,2:].values\n",
    "#yemg_3 = np.asarray(df_eeg_3['rp_class'])\n",
    "#clf_emg_3 = LDA(solver='lsqr', shrinkage='auto')\n",
    "#clf_emg_3.fit(Xemg_3, yemg_3)\n",
    "#pred_y_emg_3 = cross_val_predict(clf_emg_3, Xemg_3, yemg_3, cv=kfolds)"
   ]
  },
  {
   "cell_type": "code",
   "execution_count": 13,
   "id": "f2439306",
   "metadata": {},
   "outputs": [],
   "source": [
    "# Averaged confusion matrix\n",
    "cm_emg_11 = confusion_matrix(y_true=yemg_11, y_pred=pred_y_emg_11)\n",
    "#cm_emg_3 = confusion_matrix(y_true=yemg_3, y_pred=pred_y_emg_3)\n",
    "\n",
    "#mean_cm_emg = np.zeros((2, 2))\n",
    "#std_cm_emg = np.zeros((2, 2))\n",
    "#mean_cm_emg[0,0] = np.mean([cm_emg_11[0,0], cm_emg_3[0,0]])\n",
    "#mean_cm_emg[0,1] = np.mean([cm_emg_11[0,1], cm_emg_3[0,1]])\n",
    "#mean_cm_emg[1,0] = np.mean([cm_emg_11[1,0], cm_emg_3[1,0]])\n",
    "#mean_cm_emg[1,1] = np.mean([cm_emg_11[1,1], cm_emg_3[1,1]])\n",
    "\n",
    "#std_cm_emg[0,0] = np.std([cm_emg_11[0,0], cm_emg_3[0,0]])\n",
    "#std_cm_emg[0,1] = np.std([cm_emg_11[0,1], cm_emg_3[0,1]])\n",
    "#std_cm_emg[1,0] = np.std([cm_emg_11[1,0], cm_emg_3[1,0]])\n",
    "#std_cm_emg[1,1] = np.std([cm_emg_11[1,1], cm_emg_3[1,1]])"
   ]
  },
  {
   "cell_type": "code",
   "execution_count": 25,
   "id": "04811189",
   "metadata": {},
   "outputs": [
    {
     "data": {
      "text/plain": [
       "Text(0.5, 22.5, 'Predicted label')"
      ]
     },
     "execution_count": 25,
     "metadata": {},
     "output_type": "execute_result"
    },
    {
     "data": {
      "image/png": "[encoded data removed]",
      "text/plain": [
       "<Figure size 504x432 with 2 Axes>"
      ]
     },
     "metadata": {
      "needs_background": "light"
     },
     "output_type": "display_data"
    }
   ],
   "source": [
    "#Can't plot fucking std deviation in the same time\n",
    "figure(figsize=(7,6))\n",
    "sns.set_context(\"talk\")\n",
    "ax = plt.axes()\n",
    "b=sns.heatmap(cm_emg_11, ax = ax, annot=np.array([['%0.1f' % (cm_emg_11[0,0]),'%0.1f' % (cm_emg_11[0,1])],['%0.1f' % (cm_emg_11[1,0]),'%0.1f' % (cm_emg_11[1,1])]]), cmap='Blues', fmt=\"\", vmin=20, vmax=120, xticklabels=[\"No intent\", \"Intent\"], yticklabels=[\"No intent\", \"Intent\"])\n",
    "b.set_title('EMG')\n",
    "plt.ylabel('True label')\n",
    "plt.xlabel('Predicted label')"
   ]
  },
  {
   "cell_type": "code",
   "execution_count": 15,
   "id": "e12a71ba",
   "metadata": {
    "scrolled": false
   },
   "outputs": [
    {
     "data": {
      "image/png": "[encoded data removed]",
      "text/plain": [
       "<Figure size 432x288 with 1 Axes>"
      ]
     },
     "metadata": {
      "needs_background": "light"
     },
     "output_type": "display_data"
    }
   ],
   "source": [
    "tprs_emg_11 = []\n",
    "aucs_emg_11 = []\n",
    "mean_fpr_emg_11 = np.linspace(0,1,100)\n",
    "i = 1\n",
    "for train,test in kfolds.split(Xemg_11,yemg_11):\n",
    "    prediction_emg_11 = clf_emg_11.fit(Xemg_11[train],yemg_11[train]).predict_proba(Xemg_11[test])\n",
    "    fpr_emg_11, tpr_emg_11, t_emg_11 = roc_curve(yemg_11[test], prediction_emg_11[:, 1], pos_label=2.0)\n",
    "    tprs_emg_11.append(np.interp(mean_fpr_emg_11, fpr_emg_11, tpr_emg_11))\n",
    "    roc_auc_emg_11 = auc(fpr_emg_11, tpr_emg_11)\n",
    "    aucs_emg_11.append(roc_auc_emg_11)\n",
    "    i= i+1\n",
    "\n",
    "#tprs_emg_3 = []\n",
    "#aucs_emg_3 = []\n",
    "#mean_fpr_emg_3 = np.linspace(0,1,100)\n",
    "#i = 1\n",
    "#for train,test in kfolds.split(Xemg_3,yemg_3):\n",
    "#    prediction_emg_3 = clf_emg_3.fit(Xemg_3[train],yemg_3[train]).predict_proba(Xemg_3[test])\n",
    "#    fpr_emg_3, tpr_emg_3, t_emg_3 = roc_curve(yemg_3[test], prediction_emg_3[:, 1], pos_label=2.0)\n",
    "#    tprs_emg_3.append(np.interp(mean_fpr_emg_3, fpr_emg_3, tpr_emg_3))\n",
    " #   roc_auc_emg_3 = auc(fpr_emg_3, tpr_emg_3)\n",
    " #   aucs_emg_3.append(roc_auc_emg_3)\n",
    "#   i= i+1\n",
    "    \n",
    "plt.plot([0,1],[0,1],linestyle = '--',lw = 2,color = 'black')\n",
    "mean_tpr_emg_11 = np.mean(tprs_emg_11, axis=0)\n",
    "mean_auc_emg_11 = auc(mean_fpr_emg_11, mean_tpr_emg_11)\n",
    "std_auc_emg_11 = np.std(aucs_emg_11)\n",
    "plt.plot(mean_fpr_emg_11, mean_tpr_emg_11, color='b',\n",
    "         label=r'AUC = %0.2f' % (mean_auc_emg_11),lw=2, alpha=1)\n",
    "\n",
    "#mean_tpr_emg_3 = np.mean(tprs_emg_3, axis=0)\n",
    "#mean_auc_emg_3 = auc(mean_fpr_emg_3, mean_tpr_emg_3)\n",
    "#std_auc_emg_3 = np.std(aucs_emg_3)\n",
    "#plt.plot(mean_fpr_emg_3, mean_tpr_emg_3, color='0.8')\n",
    "\n",
    "#mean_tpr_emg_all = np.zeros((100))\n",
    "#mean_fpr_emg_all = np.zeros((100))\n",
    "\n",
    "#for i in range(len(mean_tpr_11)):\n",
    "#    mean_tpr_emg_all[i] = np.mean([mean_tpr_emg_11[i], mean_tpr_emg_3[i]])\n",
    "#    mean_fpr_emg_all[i] = np.mean([mean_fpr_emg_11[i], mean_fpr_emg_3[i]])\n",
    "\n",
    "#mean_auc_emg_all = auc(mean_fpr_emg_all, mean_tpr_emg_all)\n",
    "#std_auc_emg_all = np.mean([std_auc_emg_11, std_auc_emg_3])\n",
    "#plt.plot(mean_fpr_emg_all, mean_tpr_emg_all, color='b',\n",
    "#         label=r'AUC = %0.2f $\\pm$ %0.2f' % (mean_auc_emg_11, std_auc_emg_11),lw=2, alpha=1)\n",
    "\n",
    "\n",
    "plt.xlabel('False Positive Rate')\n",
    "plt.ylabel('True Positive Rate')\n",
    "plt.title('EMG ROC')\n",
    "plt.legend(loc=\"lower right\")\n",
    "\n",
    "plt.show()"
   ]
  },
  {
   "cell_type": "markdown",
   "id": "6adbb9f6",
   "metadata": {},
   "source": [
    "EEG - EMG"
   ]
  },
  {
   "cell_type": "code",
   "execution_count": 16,
   "id": "ae3b2e37",
   "metadata": {},
   "outputs": [],
   "source": [
    "# EMG\n",
    "path = \"/Users/willy/Documents/GitHub/2021-fastReach/data/study/eeglab2python/\"\n",
    "\n",
    "data_eeg_11 = pd.read_csv(path+'11\\data_s11_rp-win_-1-0_srate-250_modality-eeg.csv')\n",
    "\n",
    "# EMG\n",
    "path = \"/Users/willy/Documents/GitHub/2021-fastReach/data/study/eeglab2python/\"\n",
    "\n",
    "data_remg_11 = pd.read_csv(path+'11\\data_s11_rp-win_-1-0_srate-250_modality-emg.csv')\n",
    "data_emg_11 = pd.concat([data_remg_11.iloc[:,:3], data_remg_11.iloc[:,3]-0.009, data_remg_11.iloc[:,4] + 0.270], axis=1)\n",
    "data_emg_11.rename(columns={'EMG1':'Deltoïd', 'EMG2':'Biceps'}, inplace=True )"
   ]
  },
  {
   "cell_type": "code",
   "execution_count": 17,
   "id": "b968ab32",
   "metadata": {},
   "outputs": [],
   "source": [
    "# EEG Window \n",
    "win_eeg = 25\n",
    "win_eeg_scaled_11 = np.arange(len(data_eeg_11))//win_eeg\n",
    "\n",
    "# EMG Window \n",
    "win_emg = 250\n",
    "win_emg_scaled_11 = np.arange(len(data_emg_11))//win_emg"
   ]
  },
  {
   "cell_type": "code",
   "execution_count": 18,
   "id": "bf03eb69",
   "metadata": {},
   "outputs": [],
   "source": [
    "def rms(values):\n",
    "    return np.sqrt(sum(values**2)/len(values))\n",
    "\n",
    "def mini(values):\n",
    "    return np.min(values)\n",
    "\n",
    "def maxi(values):\n",
    "    return np.max(values)\n",
    "\n",
    "def mav(values):\n",
    "    return np.mean(abs(values))\n",
    "\n",
    "def var(values):\n",
    "    return np.var(values)"
   ]
  },
  {
   "cell_type": "code",
   "execution_count": 19,
   "id": "d1e59c9d",
   "metadata": {},
   "outputs": [],
   "source": [
    "feat_list = [rms, mini, maxi, mav, var]                                      \n",
    "nfeat_list = ['rms', 'mini', 'maxi', 'mav', 'var']  #, 'wl'#  'mavs', 'zc', 'ssc'  (Waveform actually pretty powerful)\n",
    "\n",
    "muscle_1_11 =[None] * len(feat_list)\n",
    "muscle_2_11 =[None] * len(feat_list)\n",
    "muscle_1_3 =[None] * len(feat_list)\n",
    "muscle_2_3 =[None] * len(feat_list)\n",
    "\n",
    "#EMG DataFrame\n",
    "for i in range(len(feat_list)):\n",
    "    muscle_1_11[i] = data_emg_11.groupby(win_emg_scaled_11)['Biceps'].apply(feat_list[i])\n",
    "    muscle_2_11[i] = data_emg_11.groupby(win_emg_scaled_11)['Deltoïd'].apply(feat_list[i])\n",
    "#    muscle_1_3[i] = data_emg_3.groupby(win_emg_scaled_3)['Biceps'].apply(feat_list[i])\n",
    "#    muscle_2_3[i] = data_emg_3.groupby(win_emg_scaled_3)['Deltoïd'].apply(feat_list[i])\n",
    "\n",
    "m1_11 = pd.DataFrame(muscle_1_11, index=nfeat_list).transpose()\n",
    "m2_11 = pd.DataFrame(muscle_2_11, index=nfeat_list).transpose()\n",
    "mk_11 = {'Biceps':m1_11, 'Deltoïd':m2_11}\n",
    "muscles_11 = pd.concat([m1_11,m2_11], axis=1, keys=mk_11.keys())\n",
    "\n",
    "#m1_3 = pd.DataFrame(muscle_1_3, index=nfeat_list).transpose()\n",
    "#m2_3 = pd.DataFrame(muscle_2_3, index=nfeat_list).transpose()\n",
    "#mk_3 = {'Biceps':m1_3, 'Deltoïd':m2_3}\n",
    "#muscles_3 = pd.concat([m1_3,m2_3], axis=1, keys=mk_3.keys())\n",
    "\n",
    "c_labels_11 = data_emg_11.iloc[:,:3].groupby(win_emg_scaled_11).mean()\n",
    "#c_labels_3 = data_emg_3.iloc[:,:3].groupby(win_emg_scaled_3).mean()\n",
    "\n",
    "win_emg_mean_11 = pd.concat([c_labels_11, muscles_11], axis=1)\n",
    "#win_emg_mean_3 = pd.concat([c_labels_3, muscles_3], axis=1)"
   ]
  },
  {
   "cell_type": "code",
   "execution_count": 20,
   "id": "921cc89d",
   "metadata": {},
   "outputs": [],
   "source": [
    "#EEG\n",
    "win_eeg_mean_11 = data_eeg_11.groupby(win_eeg_scaled_11).mean() \n",
    "df_eeg_11 = win_eeg_mean_11.pivot(index=['epoch_ix', 'rp_class'], columns='sample', values=win_eeg_mean_11.columns[3:].tolist())\n",
    "df_eeg_11.reset_index(inplace=True)\n",
    "\n",
    "#EMG\n",
    "df_emg = win_emg_mean_11.pivot(index=['epoch_ix', 'rp_class'], columns='sample', values=win_emg_mean_11.columns[3:].tolist())\n",
    "df_emg.reset_index(inplace=True)\n",
    "\n",
    "#EEG - EMG\n",
    "df_eeg_emg = pd.concat([df_eeg_11, df_emg.iloc[:,2:]], axis=1)"
   ]
  },
  {
   "cell_type": "code",
   "execution_count": 21,
   "id": "6603da6d",
   "metadata": {},
   "outputs": [
    {
     "name": "stdout",
     "output_type": "stream",
     "text": [
      "0.8\n",
      "0.06869347033700521\n"
     ]
    }
   ],
   "source": [
    "X_eeg_emg = df_eeg_emg.iloc[:,2:].values\n",
    "y_eeg_emg = np.asarray(df_emg['rp_class'])\n",
    "\n",
    "clf_eeg_emg = LDA(solver='lsqr', shrinkage='auto')\n",
    "\n",
    "clf_eeg_emg.fit(X_eeg_emg, y_eeg_emg)\n",
    "\n",
    "# splits data randomly in n=folds \n",
    "kfolds = KFold(n_splits=10, random_state=1, shuffle=True) \n",
    "\n",
    "cv_results = cross_val_score(clf_eeg_emg, X_eeg_emg, y_eeg_emg, cv=kfolds)\n",
    "cv_average = cv_results.mean()\n",
    "st_deviation = cv_results.std()\n",
    "print(cv_average)\n",
    "print(st_deviation)\n",
    "pred_y_eeg_emg = cross_val_predict(clf_eeg_emg, X_eeg_emg, y_eeg_emg, cv=kfolds)"
   ]
  },
  {
   "cell_type": "code",
   "execution_count": 27,
   "id": "c0eeeae3",
   "metadata": {},
   "outputs": [
    {
     "data": {
      "text/plain": [
       "Text(0.5, 22.5, 'Predicted label')"
      ]
     },
     "execution_count": 27,
     "metadata": {},
     "output_type": "execute_result"
    },
    {
     "data": {
      "image/png": "[encoded data removed]",
      "text/plain": [
       "<Figure size 504x432 with 2 Axes>"
      ]
     },
     "metadata": {
      "needs_background": "light"
     },
     "output_type": "display_data"
    }
   ],
   "source": [
    "# Averaged confusion matrix\n",
    "cm_eeg_emg = confusion_matrix(y_true=y_eeg_emg, y_pred=pred_y_eeg_emg)\n",
    "#cm_emg_3 = confusion_matrix(y_true=yemg_3, y_pred=pred_y_emg_3)\n",
    "figure(figsize=(7,6))\n",
    "sns.set_context(\"talk\")\n",
    "ax = plt.axes()\n",
    "c=sns.heatmap(cm_eeg_emg, ax = ax, annot=np.array([['%0.1f' % (cm_eeg_emg[0,0]),'%0.1f' % (cm_eeg_emg[0,1])],['%0.1f' % (cm_eeg_emg[1,0]),'%0.1f' % (cm_eeg_emg[1,1])]]), cmap='Purples', fmt=\"\", vmin=20, vmax=120, xticklabels=[\"No intent\", \"Intent\"], yticklabels=[\"No intent\", \"Intent\"])\n",
    "c.set_title('EEG-EMG')\n",
    "plt.ylabel('True label')\n",
    "plt.xlabel('Predicted label')"
   ]
  },
  {
   "cell_type": "code",
   "execution_count": 23,
   "id": "c574cfe3",
   "metadata": {},
   "outputs": [
    {
     "data": {
      "image/png": "[encoded data removed]",
      "text/plain": [
       "<Figure size 432x288 with 1 Axes>"
      ]
     },
     "metadata": {
      "needs_background": "light"
     },
     "output_type": "display_data"
    }
   ],
   "source": [
    "tprs_emg_11 = []\n",
    "aucs_emg_11 = []\n",
    "mean_fpr_emg_11 = np.linspace(0,1,100)\n",
    "i = 1\n",
    "for train,test in kfolds.split(X_eeg_emg,y_eeg_emg):\n",
    "    prediction_emg_11 = clf_eeg_emg.fit(X_eeg_emg[train],y_eeg_emg[train]).predict_proba(X_eeg_emg[test])\n",
    "    fpr_emg_11, tpr_emg_11, t_emg_11 = roc_curve(y_eeg_emg[test], prediction_emg_11[:, 1], pos_label=2.0)\n",
    "    tprs_emg_11.append(np.interp(mean_fpr_emg_11, fpr_emg_11, tpr_emg_11))\n",
    "    roc_auc_emg_11 = auc(fpr_emg_11, tpr_emg_11)\n",
    "    aucs_emg_11.append(roc_auc_emg_11)\n",
    "    i= i+1\n",
    "  \n",
    "plt.plot([0,1],[0,1],linestyle = '--',lw = 2,color = 'black')\n",
    "mean_tpr_emg_11 = np.mean(tprs_emg_11, axis=0)\n",
    "mean_auc_emg_11 = auc(mean_fpr_emg_11, mean_tpr_emg_11)\n",
    "std_auc_emg_11 = np.std(aucs_emg_11)\n",
    "plt.plot(mean_fpr_emg_11, mean_tpr_emg_11, color='m',\n",
    "         label=r'AUC = %0.2f' % (mean_auc_emg_11),lw=2, alpha=1)\n",
    "\n",
    "plt.xlabel('False Positive Rate')\n",
    "plt.ylabel('True Positive Rate')\n",
    "plt.title('EEG-EMG ROC')\n",
    "plt.legend(loc=\"lower right\")\n",
    "\n",
    "plt.show()"
   ]
  }
 ],
 "metadata": {
  "kernelspec": {
   "display_name": "Python 3 (ipykernel)",
   "language": "python",
   "name": "python3"
  },
  "language_info": {
   "codemirror_mode": {
    "name": "ipython",
    "version": 3
   },
   "file_extension": ".py",
   "mimetype": "text/x-python",
   "name": "python",
   "nbconvert_exporter": "python",
   "pygments_lexer": "ipython3",
   "version": "3.9.7"
  }
 },
 "nbformat": 4,
 "nbformat_minor": 5
}
