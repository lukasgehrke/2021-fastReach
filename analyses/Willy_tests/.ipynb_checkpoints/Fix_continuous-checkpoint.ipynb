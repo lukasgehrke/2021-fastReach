{
 "cells": [
  {
   "cell_type": "code",
   "execution_count": 1,
   "id": "e9d56d8d",
   "metadata": {},
   "outputs": [],
   "source": [
    "import pandas as pd\n",
    "import numpy as np\n",
    "import seaborn as sns\n",
    "import matplotlib.pyplot as plt\n",
    "import dill \n",
    "from matplotlib.pyplot import figure\n",
    "from matplotlib.lines import Line2D\n",
    "from scipy.stats import wilcoxon\n",
    "from sklearn.discriminant_analysis import LinearDiscriminantAnalysis as LDA\n",
    "from sklearn.model_selection import train_test_split, cross_val_score, cross_validate, KFold, cross_val_predict\n",
    "from sklearn.metrics import roc_curve, auc, roc_auc_score, plot_roc_curve, confusion_matrix, plot_confusion_matrix, ConfusionMatrixDisplay, classification_report, RocCurveDisplay\n",
    "from sklearn.model_selection import StratifiedKFold"
   ]
  },
  {
   "cell_type": "markdown",
   "id": "785b74d3",
   "metadata": {},
   "source": [
    "<font size=\"6\">    <b>Probability over time</b>\n",
    "\n",
    "Now we will attempt to fix this thing:\n",
    "    \n",
    "    - Extract the epoch and the data on which we will train then test the classifier\n",
    "    - Extract the features on all the epochs and data of interest\n",
    "    - Train the LDA with 70% of the features\n",
    "    - Test the LDA with the other 30%"
   ]
  },
  {
   "cell_type": "code",
   "execution_count": 50,
   "id": "26a055fc",
   "metadata": {},
   "outputs": [],
   "source": [
    "#All\n",
    "velocity_11 = np.load('velocity_11.npy')\n",
    "move = pd.read_csv('/Users/willy/Documents/GitHub/2021-fastReach/data/study/eeglab2python/11/\\motion_onset_event_latencies.csv', header = None)\n",
    "move = move.values[0]\n",
    "#EEG\n",
    "eeg_11 = np.load('eeg_11.npy')\n",
    "chan = pd.read_csv('/Users/willy/Documents/GitHub/2021-fastReach/data/study/eeglab2python/11/\\chans_rp-win_-1-0.csv', header=None)\n",
    "#EMG\n",
    "emg_11 = np.load('emg_11.npy')\n",
    "emg_11[1,:] = emg_11[1,:] + 0.270\n",
    "emg_11[0,:] = emg_11[0,:] - 0.009"
   ]
  },
  {
   "cell_type": "markdown",
   "id": "7e4d571a",
   "metadata": {},
   "source": [
    "<font size=\"3\">    <b>EMG: Epochs extraction and extraction of area of interest</b>"
   ]
  },
  {
   "cell_type": "code",
   "execution_count": 54,
   "id": "0d0656ca",
   "metadata": {
    "scrolled": true
   },
   "outputs": [],
   "source": [
    "# The first and last onsets do not have enough samples before or after to get a proper frame extraction.\n",
    "fs = 250\n",
    "\n",
    "# Number of sample before and after movement onset\n",
    "idleb_emg   = fs * 6\n",
    "idlea_emg   = fs * (-5)\n",
    "\n",
    "intentb_emg = fs\n",
    "intenta_emg = 0\n",
    "\n",
    "interb_emg  = fs * 2\n",
    "intera_emg  = fs * 2\n",
    "\n",
    "# Let's create matrices with row = epoch, columns = epoch duration and 3D = nb_chan\n",
    "idle_emg    = np.zeros((len(move), (idleb_emg + idlea_emg),    emg_11.shape[0]))\n",
    "intent_emg  = np.zeros((len(move), (intentb_emg + intenta_emg),emg_11.shape[0]))\n",
    "inter_emg   = np.zeros((len(move), (interb_emg + intera_emg),  emg_11.shape[0]))\n",
    "\n",
    "for k in range(len(move)):\n",
    "   \n",
    "    for j in range(emg_11.shape[0]):\n",
    "    \n",
    "        idle_emg[k, 0:(idleb_emg + idlea_emg), j]       = emg_11[j, move[k] - idleb_emg : move[k] + idlea_emg]\n",
    "        intent_emg[k, 0:(intentb_emg + intenta_emg), j] = emg_11[j, move[k] - intentb_emg : move[k] + intenta_emg]\n",
    "        inter_emg[k, 0:(interb_emg + intera_emg), j]    = emg_11[j, move[k] - interb_emg : move[k] + intera_emg]"
   ]
  },
  {
   "cell_type": "code",
   "execution_count": 61,
   "id": "21e9fb5e",
   "metadata": {},
   "outputs": [],
   "source": [
    "def rms(values):\n",
    "    return np.sqrt(sum(values**2)/len(values))\n",
    "\n",
    "def mini(values):\n",
    "    return np.min(values)\n",
    "\n",
    "def maxi(values):\n",
    "    return np.max(values)\n",
    "\n",
    "def mav(values):\n",
    "    return np.mean(abs(values))\n",
    "\n",
    "def var(values):\n",
    "    return np.var(values)\n",
    "\n",
    "feat_list = [rms, mini, maxi, mav, var]"
   ]
  },
  {
   "cell_type": "markdown",
   "id": "6a69c313",
   "metadata": {},
   "source": [
    "<font size=\"3\">    <b>Extract the features for idle and intent</b>\n",
    "    \n",
    "5 features per window per channel."
   ]
  },
  {
   "cell_type": "code",
   "execution_count": 81,
   "id": "e922e5d5",
   "metadata": {},
   "outputs": [],
   "source": [
    "win = 250\n",
    "sld_size = 1\n",
    "\n",
    "feat_idle   = np.zeros((len(move), emg_11.shape[0]*len(feat_list)))\n",
    "feat_intent = np.zeros((len(move), emg_11.shape[0]*len(feat_list)))                  \n",
    "\n",
    "for k in range(len(move)):              # Index of the onset\n",
    "   \n",
    "    for j in range(emg_11.shape[0]):    # Index of the channel\n",
    "        \n",
    "        for i in range(len(feat_list)): # Index of the feature\n",
    "        \n",
    "            feat_idle[k, i +(5*j)]   = np.apply_along_axis(feat_list[i], 0, idle_emg[k, :, j])\n",
    "            feat_intent[k, i +(5*j)] = np.apply_along_axis(feat_list[i], 0, intent_emg[k, :, j])"
   ]
  },
  {
   "cell_type": "markdown",
   "id": "b72501fc",
   "metadata": {},
   "source": [
    "<font size=\"3\">    <b>Extract the features on period of interest with a sliding window</b>"
   ]
  },
  {
   "cell_type": "code",
   "execution_count": 97,
   "id": "1a335f07",
   "metadata": {},
   "outputs": [],
   "source": [
    "feat_inter = np.zeros((len(move), emg_11.shape[0]*len(feat_list), (inter_emg.shape[1]//sld_size) - fs + sld_size))\n",
    "\n",
    "for k in range(len(move)):                  # Index of the onset\n",
    "    \n",
    "    for l in range(feat_emg.shape[2]):      # Index of the slide\n",
    "   \n",
    "        for j in range(emg_11.shape[0]):    # Index of the channel\n",
    "        \n",
    "            for i in range(len(feat_list)): # Index of the feature\n",
    "        \n",
    "            feat_inter[k, i +(5*j), l] = np.apply_along_axis(feat_list[i], 0, inter_emg[k, :, j])\n",
    "        "
   ]
  },
  {
   "cell_type": "code",
   "execution_count": 98,
   "id": "e58983d4",
   "metadata": {},
   "outputs": [
    {
     "data": {
      "text/plain": [
       "(150, 10, 751)"
      ]
     },
     "execution_count": 98,
     "metadata": {},
     "output_type": "execute_result"
    }
   ],
   "source": [
    "feat_inter.shape"
   ]
  }
 ],
 "metadata": {
  "kernelspec": {
   "display_name": "Python 3 (ipykernel)",
   "language": "python",
   "name": "python3"
  },
  "language_info": {
   "codemirror_mode": {
    "name": "ipython",
    "version": 3
   },
   "file_extension": ".py",
   "mimetype": "text/x-python",
   "name": "python",
   "nbconvert_exporter": "python",
   "pygments_lexer": "ipython3",
   "version": "3.9.7"
  }
 },
 "nbformat": 4,
 "nbformat_minor": 5
}
