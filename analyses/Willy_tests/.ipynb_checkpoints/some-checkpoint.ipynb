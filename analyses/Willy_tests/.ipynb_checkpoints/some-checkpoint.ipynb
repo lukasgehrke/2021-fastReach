{
 "cells": [
  {
   "cell_type": "code",
   "execution_count": 1,
   "id": "494969d1",
   "metadata": {},
   "outputs": [],
   "source": [
    "import pandas as pd\n",
    "import numpy as np\n",
    "import seaborn as sns\n",
    "import matplotlib.pyplot as plt\n",
    "from sklearn.discriminant_analysis import LinearDiscriminantAnalysis as LDA\n",
    "from sklearn.model_selection import train_test_split, cross_val_score, cross_validate, KFold\n",
    "import pickle"
   ]
  },
  {
   "cell_type": "code",
   "execution_count": 2,
   "id": "844fddba",
   "metadata": {},
   "outputs": [],
   "source": [
    "pID = '4'\n",
    "\n",
    "path = \"/Users/willy/Documents/GitHub/2021-fastReach/data/study/eeglab2python/\"\n",
    "\n",
    "data_fname = '\\data.csv'\n",
    "data = pd.read_csv(path+pID+data_fname)"
   ]
  },
  {
   "cell_type": "code",
   "execution_count": 3,
   "id": "990ed5e4",
   "metadata": {},
   "outputs": [],
   "source": [
    "def RMS(muscle_1, muscle_2):\n",
    "    \n",
    "    Bibi_RMS = []\n",
    "    Delto_RMS = []\n",
    "    \n",
    "    rms_1 = np.sqrt(muscle_1.mean()**2)\n",
    "    rms_2 = np.sqrt(muscle_2.mean()**2)\n",
    "    \n",
    "    rms_df = pd.DataFrame({'Epoch': data['epoch_ix'], 'RMS_Bibi':rms_1, 'RMS_Delto':rms_2})\n",
    "    \n",
    "    return rms_df"
   ]
  },
  {
   "cell_type": "code",
   "execution_count": 4,
   "id": "8fc6cf58",
   "metadata": {
    "scrolled": true
   },
   "outputs": [],
   "source": [
    "R = RMS(data.groupby(['epoch_ix'])[\"Cz\"], data.groupby(['epoch_ix'])[\"T7\"])"
   ]
  },
  {
   "cell_type": "code",
   "execution_count": 5,
   "id": "a8f7a6eb",
   "metadata": {},
   "outputs": [
    {
     "data": {
      "text/html": [
       "<div>\n",
       "<style scoped>\n",
       "    .dataframe tbody tr th:only-of-type {\n",
       "        vertical-align: middle;\n",
       "    }\n",
       "\n",
       "    .dataframe tbody tr th {\n",
       "        vertical-align: top;\n",
       "    }\n",
       "\n",
       "    .dataframe thead th {\n",
       "        text-align: right;\n",
       "    }\n",
       "</style>\n",
       "<table border=\"1\" class=\"dataframe\">\n",
       "  <thead>\n",
       "    <tr style=\"text-align: right;\">\n",
       "      <th></th>\n",
       "      <th>Epoch</th>\n",
       "      <th>RMS_Bibi</th>\n",
       "      <th>RMS_Delto</th>\n",
       "    </tr>\n",
       "  </thead>\n",
       "  <tbody>\n",
       "    <tr>\n",
       "      <th>0</th>\n",
       "      <td>1</td>\n",
       "      <td>NaN</td>\n",
       "      <td>NaN</td>\n",
       "    </tr>\n",
       "    <tr>\n",
       "      <th>1</th>\n",
       "      <td>1</td>\n",
       "      <td>8.877288</td>\n",
       "      <td>3.690297</td>\n",
       "    </tr>\n",
       "    <tr>\n",
       "      <th>2</th>\n",
       "      <td>1</td>\n",
       "      <td>15.228674</td>\n",
       "      <td>2.893277</td>\n",
       "    </tr>\n",
       "    <tr>\n",
       "      <th>3</th>\n",
       "      <td>1</td>\n",
       "      <td>8.199693</td>\n",
       "      <td>5.898855</td>\n",
       "    </tr>\n",
       "    <tr>\n",
       "      <th>4</th>\n",
       "      <td>1</td>\n",
       "      <td>2.032499</td>\n",
       "      <td>2.121737</td>\n",
       "    </tr>\n",
       "    <tr>\n",
       "      <th>...</th>\n",
       "      <td>...</td>\n",
       "      <td>...</td>\n",
       "      <td>...</td>\n",
       "    </tr>\n",
       "    <tr>\n",
       "      <th>24495</th>\n",
       "      <td>98</td>\n",
       "      <td>NaN</td>\n",
       "      <td>NaN</td>\n",
       "    </tr>\n",
       "    <tr>\n",
       "      <th>24496</th>\n",
       "      <td>98</td>\n",
       "      <td>NaN</td>\n",
       "      <td>NaN</td>\n",
       "    </tr>\n",
       "    <tr>\n",
       "      <th>24497</th>\n",
       "      <td>98</td>\n",
       "      <td>NaN</td>\n",
       "      <td>NaN</td>\n",
       "    </tr>\n",
       "    <tr>\n",
       "      <th>24498</th>\n",
       "      <td>98</td>\n",
       "      <td>NaN</td>\n",
       "      <td>NaN</td>\n",
       "    </tr>\n",
       "    <tr>\n",
       "      <th>24499</th>\n",
       "      <td>98</td>\n",
       "      <td>NaN</td>\n",
       "      <td>NaN</td>\n",
       "    </tr>\n",
       "  </tbody>\n",
       "</table>\n",
       "<p>24500 rows × 3 columns</p>\n",
       "</div>"
      ],
      "text/plain": [
       "       Epoch   RMS_Bibi  RMS_Delto\n",
       "0          1        NaN        NaN\n",
       "1          1   8.877288   3.690297\n",
       "2          1  15.228674   2.893277\n",
       "3          1   8.199693   5.898855\n",
       "4          1   2.032499   2.121737\n",
       "...      ...        ...        ...\n",
       "24495     98        NaN        NaN\n",
       "24496     98        NaN        NaN\n",
       "24497     98        NaN        NaN\n",
       "24498     98        NaN        NaN\n",
       "24499     98        NaN        NaN\n",
       "\n",
       "[24500 rows x 3 columns]"
      ]
     },
     "execution_count": 5,
     "metadata": {},
     "output_type": "execute_result"
    }
   ],
   "source": [
    "R"
   ]
  },
  {
   "cell_type": "code",
   "execution_count": null,
   "id": "41eeb074",
   "metadata": {},
   "outputs": [],
   "source": []
  }
 ],
 "metadata": {
  "kernelspec": {
   "display_name": "Python 3 (ipykernel)",
   "language": "python",
   "name": "python3"
  },
  "language_info": {
   "codemirror_mode": {
    "name": "ipython",
    "version": 3
   },
   "file_extension": ".py",
   "mimetype": "text/x-python",
   "name": "python",
   "nbconvert_exporter": "python",
   "pygments_lexer": "ipython3",
   "version": "3.9.7"
  }
 },
 "nbformat": 4,
 "nbformat_minor": 5
}
