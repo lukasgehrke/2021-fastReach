{
 "cells": [
  {
   "cell_type": "code",
   "execution_count": 1,
   "id": "c5f3e5f3",
   "metadata": {},
   "outputs": [],
   "source": [
    "import pandas as pd\n",
    "import numpy as np\n",
    "import seaborn as sns\n",
    "import matplotlib.pyplot as plt\n",
    "from sklearn.discriminant_analysis import LinearDiscriminantAnalysis as LDA\n",
    "from sklearn.model_selection import train_test_split, cross_val_score, cross_validate, KFold\n",
    "from sklearn import svm, datasets\n",
    "from sklearn.metrics import roc_curve, auc\n",
    "from sklearn.model_selection import train_test_split\n",
    "from sklearn.metrics import roc_auc_score\n",
    "import pickle\n",
    "from matplotlib.lines import Line2D\n",
    "\n",
    "from itertools import cycle"
   ]
  },
  {
   "cell_type": "markdown",
   "id": "6a18b525",
   "metadata": {},
   "source": [
    "<font size=\"5\">     <b>I. Classification</b>"
   ]
  },
  {
   "cell_type": "markdown",
   "id": "19bed607",
   "metadata": {},
   "source": [
    "<font size=\"4\">    <b>Loading the data</b>"
   ]
  },
  {
   "cell_type": "code",
   "execution_count": 64,
   "id": "8ffe42e7",
   "metadata": {},
   "outputs": [],
   "source": [
    "# EEG data with the shape (samples * channels) fs=250Hz\n",
    "pID = '4'\n",
    "\n",
    "path = \"/Users/willy/Documents/GitHub/2021-fastReach/data/study/eeglab2python/\"\n",
    "\n",
    "data_fname = '\\data.csv'\n",
    "data_eeg = pd.read_csv(path+pID+data_fname)\n",
    "\n",
    "# EMG data with the shape (samples * channels) fs=1000Hz DUMMY\n",
    "sample = np.round(np.arange(-1+(1/1000),0+(1/1000),1/1000), decimals=3).tolist()*max(data_eeg['epoch_ix'])\n",
    "epoch_ix = np.arange(1,99,1).repeat(1000)\n",
    "rp_class = np.arange(1,3).repeat(len(sample)/2)\n",
    "chan_1 = data_eeg['Cz'].repeat(4)\n",
    "chan_2 = data_eeg['T7'].repeat(4)\n",
    "data_emg = pd.DataFrame([sample, epoch_ix, rp_class, chan_1, chan_2], index=['sample', 'epoch_ix', 'rp_class', 'chan_1', 'chan_2']).transpose()"
   ]
  },
  {
   "cell_type": "markdown",
   "id": "69abcae8",
   "metadata": {},
   "source": [
    "<font size=\"4\">    <b>Features definition</b>"
   ]
  },
  {
   "cell_type": "code",
   "execution_count": 66,
   "id": "65576ba3",
   "metadata": {},
   "outputs": [],
   "source": [
    "def rms(values):\n",
    "    return np.sqrt(sum(values**2)/len(values))\n",
    "\n",
    "def mini(values):\n",
    "    return np.min(values)\n",
    "\n",
    "def maxi(values):\n",
    "    return np.max(values)\n",
    "\n",
    "def mav(values):\n",
    "    return np.mean(abs(values))\n",
    "\n",
    "def mean(values):\n",
    "    return np.mean(values)\n",
    "\n",
    "def var(values):\n",
    "    return np.var(values)"
   ]
  },
  {
   "cell_type": "markdown",
   "id": "3e0eb702",
   "metadata": {},
   "source": [
    "<font size=\"4\">    <b>Feature extraction</b>\n",
    "    \n",
    "EEG: We want to extract 1 feature (mean) at each window having a size of 25 samples, so 10 times per epoch or per second.\n",
    "    \n",
    "    -> 10 features per epoch per channel.\n",
    "\n",
    "EMG: We want to extract X features (6 ? See if selection) at each window having a size of 100 samples, so 10 times per epoch or per seconds.\n",
    "    \n",
    "    ->10 features per epoch per channel (better do features on win_size 25 ? so 40 features per epoch per channel)."
   ]
  },
  {
   "cell_type": "code",
   "execution_count": 111,
   "id": "af3f6db1",
   "metadata": {},
   "outputs": [],
   "source": [
    "# Write the features list we want to use for the EMG data, EEG only requires mean.\n",
    "feat_list = [rms, mini, maxi, mav, mean, var]\n",
    "nfeat_list = ['rms', 'mini', 'maxi', 'mav', 'mean', 'var']\n",
    "\n",
    "muscle_1 =[None] * len(feat_list)\n",
    "muscle_2 =[None] * len(feat_list)\n",
    "\n",
    "# Define the window size on which we will extract the features\n",
    "# EEG Window \n",
    "win_eeg = 25\n",
    "win_eeg_scaled = np.arange(len(data_eeg))//win_eeg\n",
    "\n",
    "# EMG Window \n",
    "win_emg = 25\n",
    "win_emg_scaled = np.arange(len(data_emg))//win_emg\n",
    "\n",
    "# Exctract the features at each window size for each channel for each epoch and put them in a DataFrame\n",
    "\n",
    "#EEG 1st DataFrame\n",
    "win_eeg_mean = data_eeg.groupby(win_eeg_scaled).mean() \n",
    "#EMG 2nd DataFrame\n",
    "for i in range(len(feat_list)):\n",
    "    muscle_1[i] = data_emg.groupby(win_emg_scaled)['chan_1'].apply(feat_list[i])\n",
    "    muscle_2[i] = data_emg.groupby(win_emg_scaled)['chan_2'].apply(feat_list[i])\n",
    "    \n",
    "m1 = pd.DataFrame(muscle_1, index=nfeat_list).transpose()\n",
    "m2 = pd.DataFrame(muscle_2, index=nfeat_list).transpose()\n",
    "mk = {'Biceps':m1, 'Deltoïd':m2}\n",
    "muscles = pd.concat([m1,m2], axis=1, keys=mk.keys())\n",
    "c_labels = data_emg.iloc[:,:3].groupby(win_emg_scaled).apply(mean) # Labels for the EMG DataFrame\n",
    "win_emg_mean = pd.concat([c_labels, muscles], axis=1)"
   ]
  },
  {
   "cell_type": "markdown",
   "id": "a262dbb0",
   "metadata": {},
   "source": [
    "<font size=\"4\">    <b>Data frames</b>\n",
    "    \n",
    "From the imported data structure to the final structure adapted for the following classification."
   ]
  },
  {
   "cell_type": "code",
   "execution_count": 112,
   "id": "1a76522d",
   "metadata": {},
   "outputs": [],
   "source": [
    "#EEG\n",
    "df_eeg = win_eeg_mean.pivot(index=['epoch_ix', 'rp_class'], columns='sample', values=win_eeg_mean.columns[4:].tolist())\n",
    "df_eeg.reset_index(inplace=True)\n",
    "\n",
    "#EMG\n",
    "\n",
    "df_emg = win_emg_mean.pivot(index=['epoch_ix', 'rp_class'], columns='sample', values=win_emg_mean.columns[3:].tolist())\n",
    "df_emg.reset_index(inplace=True)\n",
    "\n",
    "#EEG - EMG\n",
    "df_eeg_emg = pd.concat([df_eeg, df_emg.iloc[:,2:]], axis=1)"
   ]
  },
  {
   "cell_type": "markdown",
   "id": "385f600c",
   "metadata": {},
   "source": [
    "<font size=\"4\">    <b>Linear Discriminent Analysis</b>"
   ]
  },
  {
   "cell_type": "markdown",
   "id": "4a38ff35",
   "metadata": {},
   "source": [
    "<font size=\"3\">    <b>Motion</b>"
   ]
  },
  {
   "cell_type": "code",
   "execution_count": 100,
   "id": "fb632ed9",
   "metadata": {},
   "outputs": [
    {
     "name": "stdout",
     "output_type": "stream",
     "text": [
      "0.9060816326530612\n",
      "0.004405327886312489\n"
     ]
    }
   ],
   "source": [
    "clf = LDA()\n",
    "\n",
    "motion_dim = 3\n",
    "clf.fit(data_eeg.iloc[:,motion_dim].values.reshape(-1,1), data_eeg.rp_class)\n",
    "\n",
    "# splits data randomly in n=folds \n",
    "kfolds = KFold(n_splits=10, random_state=1, shuffle=True) \n",
    "\n",
    "cv_results = cross_val_score(clf, data_eeg.iloc[:,motion_dim].values.reshape(-1,1), data_eeg.rp_class, cv=kfolds)\n",
    "cv_average = cv_results.mean()\n",
    "print(cv_average)\n",
    "st_deviation = cv_results.std()\n",
    "print(st_deviation)"
   ]
  },
  {
   "cell_type": "markdown",
   "id": "55568d1a",
   "metadata": {},
   "source": [
    "<font size=\"3\">    <b>EEG</b>"
   ]
  },
  {
   "cell_type": "code",
   "execution_count": 113,
   "id": "89ac01e0",
   "metadata": {},
   "outputs": [
    {
     "name": "stdout",
     "output_type": "stream",
     "text": [
      "0.6344444444444445\n",
      "0.14635066968934077\n"
     ]
    }
   ],
   "source": [
    "Xeeg = df_eeg.iloc[:,2:].values\n",
    "yeeg = np.asarray(df_eeg['rp_class'])\n",
    "\n",
    "clf_eeg = LDA(solver='lsqr', shrinkage='auto')\n",
    "\n",
    "clf_eeg.fit(Xeeg, yeeg)\n",
    "\n",
    "# splits data randomly in n=folds \n",
    "kfolds = KFold(n_splits=10, random_state=1, shuffle=True) \n",
    "\n",
    "cv_results = cross_val_score(clf_eeg, Xeeg, yeeg, cv=kfolds)\n",
    "cv_average = cv_results.mean()\n",
    "print(cv_average)\n",
    "st_deviation = cv_results.std()\n",
    "print(st_deviation)"
   ]
  },
  {
   "cell_type": "markdown",
   "id": "ae7f156b",
   "metadata": {},
   "source": [
    "<font size=\"3\">    <b>EMG</b>"
   ]
  },
  {
   "cell_type": "code",
   "execution_count": 114,
   "id": "ad57b3c4",
   "metadata": {},
   "outputs": [
    {
     "name": "stdout",
     "output_type": "stream",
     "text": [
      "0.48999999999999994\n",
      "0.15335346083677825\n"
     ]
    }
   ],
   "source": [
    "Xemg = df_emg.iloc[:,2:].values\n",
    "yemg = np.asarray(df_emg['rp_class'])\n",
    "\n",
    "clf_emg = LDA(solver='lsqr', shrinkage='auto')\n",
    "\n",
    "clf_emg.fit(Xemg, yemg)\n",
    "\n",
    "# splits data randomly in n=folds \n",
    "kfolds = KFold(n_splits=10, random_state=1, shuffle=True) \n",
    "\n",
    "cv_results = cross_val_score(clf_emg, Xemg, yemg, cv=kfolds)\n",
    "cv_average = cv_results.mean()\n",
    "print(cv_average)\n",
    "st_deviation = cv_results.std()\n",
    "print(st_deviation)"
   ]
  },
  {
   "cell_type": "markdown",
   "id": "3e580e36",
   "metadata": {},
   "source": [
    "<font size=\"3\">    <b>EEG - EMG</b>"
   ]
  },
  {
   "cell_type": "code",
   "execution_count": 115,
   "id": "1cfc0e1a",
   "metadata": {
    "scrolled": true
   },
   "outputs": [
    {
     "name": "stdout",
     "output_type": "stream",
     "text": [
      "0.6066666666666667\n",
      "0.193550325225926\n"
     ]
    }
   ],
   "source": [
    "X_eeg_emg = df_eeg_emg.iloc[:,2:].values\n",
    "y_eeg_emg = np.asarray(df_emg['rp_class'])\n",
    "\n",
    "clf_eeg_emg = LDA(solver='lsqr', shrinkage='auto')\n",
    "\n",
    "clf_eeg_emg.fit(X_eeg_emg, y_eeg_emg)\n",
    "\n",
    "# splits data randomly in n=folds \n",
    "kfolds = KFold(n_splits=10, random_state=1, shuffle=True) \n",
    "\n",
    "cv_results = cross_val_score(clf_eeg_emg, X_eeg_emg, y_eeg_emg, cv=kfolds)\n",
    "cv_average = cv_results.mean()\n",
    "print(cv_average)\n",
    "st_deviation = cv_results.std()\n",
    "print(st_deviation)"
   ]
  },
  {
   "cell_type": "markdown",
   "id": "0863b29b",
   "metadata": {},
   "source": [
    "<font size=\"3\">    <b>Feature representation</b>"
   ]
  },
  {
   "cell_type": "code",
   "execution_count": null,
   "id": "33240b61",
   "metadata": {},
   "outputs": [],
   "source": []
  },
  {
   "cell_type": "markdown",
   "id": "50860812",
   "metadata": {},
   "source": [
    "<font size=\"5\">     <b>II. Time serie representation</b>"
   ]
  },
  {
   "cell_type": "code",
   "execution_count": null,
   "id": "c964fd21",
   "metadata": {},
   "outputs": [],
   "source": []
  }
 ],
 "metadata": {
  "kernelspec": {
   "display_name": "Python 3 (ipykernel)",
   "language": "python",
   "name": "python3"
  },
  "language_info": {
   "codemirror_mode": {
    "name": "ipython",
    "version": 3
   },
   "file_extension": ".py",
   "mimetype": "text/x-python",
   "name": "python",
   "nbconvert_exporter": "python",
   "pygments_lexer": "ipython3",
   "version": "3.9.7"
  }
 },
 "nbformat": 4,
 "nbformat_minor": 5
}
