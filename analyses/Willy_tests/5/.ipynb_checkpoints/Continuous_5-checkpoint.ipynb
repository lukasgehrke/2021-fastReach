{
 "cells": [
  {
   "cell_type": "code",
   "execution_count": 1,
   "id": "4d7a76f7",
   "metadata": {},
   "outputs": [],
   "source": [
    "import pandas as pd\n",
    "import numpy as np\n",
    "import seaborn as sns\n",
    "import matplotlib.pyplot as plt\n",
    "import dill \n",
    "from matplotlib.pyplot import figure\n",
    "from matplotlib.lines import Line2D\n",
    "from scipy.stats import wilcoxon\n",
    "from sklearn.discriminant_analysis import LinearDiscriminantAnalysis as LDA\n",
    "from sklearn.model_selection import train_test_split, cross_val_score, cross_validate, KFold, cross_val_predict\n",
    "from sklearn.metrics import roc_curve, auc, roc_auc_score, plot_roc_curve, confusion_matrix, plot_confusion_matrix, ConfusionMatrixDisplay, classification_report, RocCurveDisplay\n",
    "from sklearn.model_selection import StratifiedKFold"
   ]
  },
  {
   "cell_type": "markdown",
   "id": "77423d5f",
   "metadata": {},
   "source": [
    "<font size=\"6\">    <b>Probability over time</b>\n",
    "\n",
    "Now we will attempt to fix this thing:\n",
    "    \n",
    "    - Extract the epoch and the data on which we will train then test the classifier\n",
    "    - Extract the features on all the epochs and data of interest\n",
    "    - Train the LDA with 70% of the features\n",
    "    - Test the LDA with the other 30%"
   ]
  },
  {
   "cell_type": "code",
   "execution_count": null,
   "id": "d81cb45b",
   "metadata": {},
   "outputs": [],
   "source": [
    "pathe = '/Users/willy/Documents/GitHub/2021-fastReach/data/study/eeglab2python/5/\\eeg.csv'\n",
    "pathm = '/Users/willy/Documents/GitHub/2021-fastReach/data/study/eeglab2python/5/\\motion.csv'\n",
    "pathchan = '/Users/willy/Documents/GitHub/2021-fastReach/data/study/eeglab2python/5/\\chans_rp-win_-1-0.csv'\n",
    "move = pd.read_csv('/Users/willy/Documents/GitHub/2021-fastReach/data/study/eeglab2python/5/\\motion_onset_event_latencies.csv', header = None)\n",
    "move = move.values[0]\n",
    "\n",
    "chan = pd.read_csv(pathchan, header=None)\n",
    "eeg = pd.read_csv(pathe, header=None)\n",
    "velocity = pd.read_csv(pathm, header=None)\n",
    "\n",
    "pathemg = '/Users/willy/Documents/GitHub/2021-fastReach/data/study/eeglab2python/5/\\emg.csv'\n",
    "emg = pd.read_csv(pathemg, header=None)\n",
    "\n",
    "np.save('eeg_5', eeg)\n",
    "np.save('velocity_5', velocity)\n",
    "np.save('emg_5', emg)"
   ]
  },
  {
   "cell_type": "code",
   "execution_count": null,
   "id": "e6e48cff",
   "metadata": {},
   "outputs": [],
   "source": [
    "eeg = np.load('eeg_5.npy')\n",
    "velocity = np.load('velocity_5.npy')\n",
    "emg_5 = np.load('emg_5.npy')\n",
    "emg = emg_5[:,:]"
   ]
  },
  {
   "cell_type": "code",
   "execution_count": null,
   "id": "a6dd6aae",
   "metadata": {},
   "outputs": [],
   "source": [
    "# EEG channel selection\n",
    "eeg_b = []\n",
    "for i in chan.iloc[1:,0].astype(int)-1:  \n",
    "    eeg_b.append(eeg[i,:])\n",
    "eeg_b = np.asarray(eeg_b)\n",
    "\n",
    "\n",
    "# Baseline corection\n",
    "emg[1,:] = emg[1,:] - emg[1,0]\n",
    "emg[0,:] = emg[0,:] - emg[0,0]\n"
   ]
  },
  {
   "cell_type": "markdown",
   "id": "36af9b36",
   "metadata": {},
   "source": [
    "<font size=\"3\">    <b>Velocity: Extraction of area of interest</b>"
   ]
  },
  {
   "cell_type": "code",
   "execution_count": null,
   "id": "3a61b34f",
   "metadata": {},
   "outputs": [],
   "source": [
    "# The first and last onsets do not have enough samples before or after to get a proper frame extraction.\n",
    "fs = 250\n",
    "\n",
    "before = (fs * 2) +1\n",
    "after  =  fs\n",
    "\n",
    "velo   = np.zeros((len(move), (before + after)))\n",
    "\n",
    "for k in range(len(move)):\n",
    "    \n",
    "        velo[k, :(before + after)] = velocity[0, move[k] - before : move[k] + after]"
   ]
  },
  {
   "cell_type": "markdown",
   "id": "442a7721",
   "metadata": {},
   "source": [
    "<font size=\"3\" color='blue'>    <b>EMG: Epochs extraction and extraction of area of interest</b>"
   ]
  },
  {
   "cell_type": "code",
   "execution_count": null,
   "id": "b12f74bc",
   "metadata": {
    "scrolled": true
   },
   "outputs": [],
   "source": [
    "# Number of sample before and after movement onset\n",
    "idleb_emg   = fs * 6\n",
    "idlea_emg   = fs * (-5)\n",
    "\n",
    "intentb_emg = fs\n",
    "intenta_emg = 0\n",
    "\n",
    "interb_emg  = fs * 3     # ALWAYS TAKE 250 SAMPLES MORE BEFORE THE DESIRED START\n",
    "intera_emg  = fs * 1\n",
    "\n",
    "# Let's create matrices with row = epoch, columns = epoch duration and 3D = nb_chan\n",
    "idle_emg    = np.zeros((len(move), (idleb_emg + idlea_emg),    emg.shape[0]))      # Idle period\n",
    "intent_emg  = np.zeros((len(move), (intentb_emg + intenta_emg),emg.shape[0]))      # Intention period\n",
    "inter_emg   = np.zeros((len(move), (interb_emg + intera_emg),  emg.shape[0]))      # Period of interest\n",
    "\n",
    "for k in range(len(move)):\n",
    "   \n",
    "    for j in range(emg.shape[0]):\n",
    "    \n",
    "        idle_emg[k, 0:(idleb_emg + idlea_emg), j]       = emg[j, move[k] - idleb_emg : move[k] + idlea_emg]\n",
    "        intent_emg[k, 0:(intentb_emg + intenta_emg), j] = emg[j, move[k] - intentb_emg : move[k] + intenta_emg]\n",
    "        inter_emg[k, 0:(interb_emg + intera_emg), j]    = emg[j, move[k] - interb_emg : move[k] + intera_emg]"
   ]
  },
  {
   "cell_type": "code",
   "execution_count": null,
   "id": "402be3b3",
   "metadata": {},
   "outputs": [],
   "source": [
    "emg"
   ]
  },
  {
   "cell_type": "code",
   "execution_count": null,
   "id": "3dc57ecf",
   "metadata": {},
   "outputs": [],
   "source": [
    "def rms(values):\n",
    "    return np.sqrt(sum(values**2)/len(values))\n",
    "\n",
    "def mini(values):\n",
    "    return np.min(values)\n",
    "\n",
    "def maxi(values):\n",
    "    return np.max(values)\n",
    "\n",
    "def mav(values):\n",
    "    return np.mean(abs(values))\n",
    "\n",
    "def var(values):\n",
    "    return np.var(values)\n",
    "\n",
    "feat_list = [rms, mini, maxi, mav, var]"
   ]
  },
  {
   "cell_type": "markdown",
   "id": "78e07192",
   "metadata": {},
   "source": [
    "<font size=\"3\" color='blue'>    <b>Extract the features for idle and intent</b>\n",
    "    \n",
    "10 features per onset."
   ]
  },
  {
   "cell_type": "code",
   "execution_count": null,
   "id": "129df430",
   "metadata": {},
   "outputs": [],
   "source": [
    "win = 250\n",
    "sld_size = 1\n",
    "\n",
    "feat_idle   = np.zeros((len(move), emg.shape[0]*len(feat_list)))\n",
    "feat_intent = np.zeros((len(move), emg.shape[0]*len(feat_list)))                  \n",
    "\n",
    "for k in range(len(move)):              # Index of the onset\n",
    "   \n",
    "    for j in range(emg.shape[0]):    # Index of the channel\n",
    "        \n",
    "        for i in range(len(feat_list)): # Index of the feature\n",
    "        \n",
    "            feat_idle[k, i +(5*j)]   = np.apply_along_axis(feat_list[i], 0, idle_emg[k, :, j])\n",
    "            feat_intent[k, i +(5*j)] = np.apply_along_axis(feat_list[i], 0, intent_emg[k, :, j])"
   ]
  },
  {
   "cell_type": "markdown",
   "id": "8ac0ca3e",
   "metadata": {},
   "source": [
    "<font size=\"3\" color='blue'>    <b>Extract the features on period of interest with a sliding window</b>"
   ]
  },
  {
   "cell_type": "code",
   "execution_count": null,
   "id": "59e5b736",
   "metadata": {},
   "outputs": [],
   "source": [
    "feat_inter = np.zeros((len(move), emg.shape[0]*len(feat_list), (inter_emg.shape[1]//sld_size) - fs + sld_size))\n",
    "\n",
    "for k in range(len(move)):                  # Index of the onset\n",
    "    \n",
    "    for l in range(feat_inter.shape[2]):    # Index of the slide\n",
    "   \n",
    "        for j in range(emg.shape[0]):    # Index of the channel\n",
    "        \n",
    "            for i in range(len(feat_list)): # Index of the feature\n",
    "        \n",
    "                feat_inter[k, i +(5*j), l] = np.apply_along_axis(feat_list[i], 0, \n",
    "                                                                 inter_emg[k, (sld_size*l):win+(sld_size*l), j])\n",
    "        "
   ]
  },
  {
   "cell_type": "markdown",
   "id": "b6764aa9",
   "metadata": {},
   "source": [
    "<font size=\"3\" color='blue'>    <b>DataFrame and LDA training</b>"
   ]
  },
  {
   "cell_type": "code",
   "execution_count": null,
   "id": "b92b6567",
   "metadata": {},
   "outputs": [],
   "source": [
    "test   = 105\n",
    "idle_emg   = pd.concat([pd.DataFrame(feat_idle), pd.DataFrame(np.zeros((150)))], axis=1, keys={'features', 'class'})\n",
    "intent_emg = pd.concat([pd.DataFrame(feat_intent), pd.DataFrame(np.ones((150)))], axis=1, keys={'features', 'class'})\n",
    "\n",
    "df_emg_train = pd.concat([idle_emg.iloc[:test,:], intent_emg.iloc[:test,:]], axis=0) # Only train on 110 first epochs"
   ]
  },
  {
   "cell_type": "code",
   "execution_count": null,
   "id": "b4e64cf1",
   "metadata": {},
   "outputs": [],
   "source": [
    "feat_idle"
   ]
  },
  {
   "cell_type": "code",
   "execution_count": null,
   "id": "b3e3cfbc",
   "metadata": {},
   "outputs": [],
   "source": [
    "Xemg = df_emg_train.iloc[:, :10].values\n",
    "yemg = df_emg_train.iloc[:, 10].values\n",
    "\n",
    "clf_emg = LDA(solver='lsqr', shrinkage='auto')\n",
    "\n",
    "clf_emg.fit(Xemg, yemg)\n",
    "\n",
    "# splits data randomly in n=folds \n",
    "kfolds = KFold(n_splits=10, random_state=1, shuffle=True) \n",
    "\n",
    "cv_results = cross_val_score(clf_emg, Xemg, yemg, cv=kfolds)\n",
    "cv_average = cv_results.mean()\n",
    "st_deviation = cv_results.std()\n",
    "print(cv_average)\n",
    "print(st_deviation)"
   ]
  },
  {
   "cell_type": "markdown",
   "id": "28cf89e1",
   "metadata": {},
   "source": [
    "<font size=\"3\" color='blue'>    <b>Probability extraction</b>"
   ]
  },
  {
   "cell_type": "code",
   "execution_count": null,
   "id": "35ec4b10",
   "metadata": {},
   "outputs": [],
   "source": [
    "proba_emg = np.zeros((len(move)-test, feat_inter.shape[2]))\n",
    "\n",
    "for k in range(len(move)-test):\n",
    "    \n",
    "    for l in range(feat_inter.shape[2]):\n",
    "        \n",
    "        proba_emg[k, l] = clf_emg.predict_proba(feat_inter[-k, :, l].reshape(1, -1))[0][1]"
   ]
  },
  {
   "cell_type": "markdown",
   "id": "4a47dba3",
   "metadata": {},
   "source": [
    "<font size=\"3\" color='blue'>    <b>DataFrame including Time, Velocity and Proba</b>"
   ]
  },
  {
   "cell_type": "code",
   "execution_count": null,
   "id": "87a52103",
   "metadata": {
    "scrolled": false
   },
   "outputs": [],
   "source": [
    "time = np.arange(-2, 1+1/fs, 1/fs)                       # Define time axis\n",
    "m_time = np.tile(time, (1, len(move)-test)).transpose()\n",
    "f_time = np.reshape(m_time, len(m_time))\n",
    "\n",
    "f_proba_emg = np.reshape(proba_emg, len(f_time))\n",
    "\n",
    "m_velo = velo[test:, :]\n",
    "f_velocity = np.reshape(m_velo, len(f_time))\n",
    "\n",
    "f_data_emg = np.zeros((len(f_time), 3))\n",
    "f_data_emg[:,0] = f_time\n",
    "f_data_emg[:,1] = f_velocity * 1000\n",
    "f_data_emg[:,2] = f_proba_emg\n",
    "final_emg = pd.DataFrame(f_data_emg, columns=['Time', 'Velocity', 'Probability'])\n",
    "final_emg"
   ]
  },
  {
   "cell_type": "code",
   "execution_count": null,
   "id": "3e668329",
   "metadata": {
    "scrolled": false
   },
   "outputs": [],
   "source": [
    "figure(figsize=(12, 6))\n",
    "\n",
    "# Velocity\n",
    "sns.set_theme(context='talk', style='ticks')\n",
    "ep_move = sns.lineplot(data=final_emg, x='Time', y='Velocity', color='k', legend=False)\n",
    "\n",
    "ep_move.set(xlabel='seconds (s)', ylabel=\"Velocity ($m.s^{-1}$)\")\n",
    "\n",
    "# Movement onset\n",
    "plt.axvline(0, color='black', label = 'onset', linestyle ='--')\n",
    "\n",
    "# Detection onset\n",
    "plt.axvline(-0.216,\n",
    "            color='red', label = 'onset', linestyle ='--')\n",
    "\n",
    "# Probability\n",
    "ax2 = plt.twinx()\n",
    "ax2.set_ylabel('Probability', color='b')\n",
    "ax2.spines['right'].set_color('b')\n",
    "ax2.tick_params(axis='y', colors='b')\n",
    "ep_prob = sns.lineplot(data=final_emg, x='Time', y='Probability', ax=ax2, color='b', legend=False)\n",
    "plt.ylim((0,1))\n",
    "\n",
    "# legend\n",
    "ep_prob.legend(loc='upper left', handles=[Line2D([], [], marker='_', color=\"k\", label='Velocity'), \n",
    "                                          Line2D([], [], marker='_', color=\"b\", label='Probability')])"
   ]
  },
  {
   "cell_type": "markdown",
   "id": "f92d14b3",
   "metadata": {},
   "source": [
    "<font size=\"3\" color='red'>    <b>EEG: Epochs extraction and extraction of area of interest</b>"
   ]
  },
  {
   "cell_type": "code",
   "execution_count": null,
   "id": "7cef59ba",
   "metadata": {},
   "outputs": [],
   "source": [
    "# Number of sample before and after movement onset\n",
    "idleb_eeg   = fs * 6\n",
    "idlea_eeg   = fs * (-5)\n",
    "\n",
    "intentb_eeg = fs\n",
    "intenta_eeg = 0\n",
    "\n",
    "interb_eeg  = fs * 2\n",
    "intera_eeg  = fs * 2\n",
    "\n",
    "# Let's create matrices with row = epoch, columns = epoch duration and 3D = nb_chan\n",
    "idle_eeg    = np.zeros((len(move), (idleb_eeg + idlea_eeg),    eeg_b.shape[0]))      # Idle period\n",
    "intent_eeg  = np.zeros((len(move), (intentb_eeg + intenta_eeg),eeg_b.shape[0]))      # Intention period\n",
    "inter_eeg   = np.zeros((len(move), (interb_eeg + intera_eeg),  eeg_b.shape[0]))      # Period of interest\n",
    "\n",
    "for k in range(len(move)):\n",
    "   \n",
    "    for j in range(eeg_b.shape[0]):\n",
    "    \n",
    "        idle_eeg[k, 0:(idleb_eeg + idlea_eeg), j]       = eeg_b[j, move[k] - idleb_eeg : move[k] + idlea_eeg]\n",
    "        intent_eeg[k, 0:(intentb_eeg + intenta_eeg), j] = eeg_b[j, move[k] - intentb_eeg : move[k] + intenta_eeg]\n",
    "        inter_eeg[k, 0:(interb_eeg + intera_eeg), j]    = eeg_b[j, move[k] - interb_eeg : move[k] + intera_eeg]"
   ]
  },
  {
   "cell_type": "code",
   "execution_count": null,
   "id": "8b18061e",
   "metadata": {},
   "outputs": [],
   "source": [
    "idle_eeg.shape"
   ]
  },
  {
   "cell_type": "markdown",
   "id": "47f80204",
   "metadata": {},
   "source": [
    "<font size=\"3\" color='red'>    <b>Feature extration on idle and intent</b>"
   ]
  },
  {
   "cell_type": "code",
   "execution_count": null,
   "id": "ee8e2645",
   "metadata": {},
   "outputs": [],
   "source": [
    "win       = 250\n",
    "sld_size  = 1\n",
    "feat_size = 25\n",
    "n_feat    = win//feat_size\n",
    "\n",
    "feat_idle_eeg   = np.zeros((len(move), eeg_b.shape[0]*n_feat))\n",
    "feat_intent_eeg = np.zeros((len(move), eeg_b.shape[0]*n_feat))                  \n",
    "\n",
    "for k in range(len(move)):              # Index of the onset\n",
    "   \n",
    "    for j in range(eeg_b.shape[0]):     # Index of the channel\n",
    "        \n",
    "        for i in range(n_feat):         # Index of the feature\n",
    "        \n",
    "            feat_idle_eeg[k, i +(n_feat*j)]   = np.mean(idle_eeg[k, (feat_size*i):feat_size + (feat_size*i), j])\n",
    "            feat_intent_eeg[k, i +(n_feat*j)] = np.mean(intent_eeg[k, (feat_size*i):feat_size + (feat_size*i), j])"
   ]
  },
  {
   "cell_type": "markdown",
   "id": "9f750f25",
   "metadata": {},
   "source": [
    "<font size=\"3\" color='red'>    <b>Feature extraction on area on interest with sliding window</b>"
   ]
  },
  {
   "cell_type": "code",
   "execution_count": null,
   "id": "f6c34e06",
   "metadata": {
    "scrolled": true
   },
   "outputs": [],
   "source": [
    "feat_inter_eeg = np.zeros((len(move), eeg_b.shape[0]*n_feat, (inter_eeg.shape[1]//sld_size) - fs + sld_size))\n",
    "\n",
    "for k in range(len(move)):                   # Index of the onset\n",
    "    \n",
    "    for l in range(feat_inter_eeg.shape[2]): # Index of the slide\n",
    "   \n",
    "        for j in range(eeg_b.shape[0]):      # Index of the channel\n",
    "            \n",
    "            for i in range(n_feat):          # Index of the feature\n",
    "        \n",
    "                feat_inter_eeg[k, i +(n_feat*j), l] = np.mean(inter_eeg[k, \n",
    "                                                  (feat_size*i)+(sld_size*l):feat_size + \n",
    "                                                  (feat_size*i)+(sld_size*l), j])\n"
   ]
  },
  {
   "cell_type": "markdown",
   "id": "10e0c284",
   "metadata": {},
   "source": [
    "<font size=\"3\" color='red'>    <b>Baseline correction CHECK THIS AGAIN WITH FRESH BRAIN</b>"
   ]
  },
  {
   "cell_type": "code",
   "execution_count": null,
   "id": "aa93a519",
   "metadata": {},
   "outputs": [],
   "source": [
    "#Correct the baseline after mean feature extraction, I think it should work that way\n",
    "idle_cor   = np.zeros((feat_idle_eeg.shape))\n",
    "intent_cor = np.zeros((feat_intent_eeg.shape))\n",
    "inter_cor  = np.zeros((feat_inter_eeg.shape))\n",
    "\n",
    "for k in range(len(move)):\n",
    "    \n",
    "    for j in range(eeg_b.shape[0]):\n",
    "    \n",
    "        idle_cor[k, (10*j):10+(10*j)]   = feat_idle_eeg[k, (10*j):10+(10*j)] - idle_eeg[k, 0, j]\n",
    "        intent_cor[k, (10*j):10+(10*j)] = feat_intent_eeg[k, (10*j):10+(10*j)] - intent_eeg[k, 0, j]\n",
    "            \n",
    "        for l in range(feat_inter_eeg.shape[2]):\n",
    "            \n",
    "            inter_cor[k, (10*j):10+(10*j), l] = feat_inter_eeg[k, (10*j):10+(10*j), l] - inter_eeg[k, l, j]\n",
    "        "
   ]
  },
  {
   "cell_type": "markdown",
   "id": "cc284826",
   "metadata": {},
   "source": [
    "<font size=\"3\" color='red'>    <b>DataFrames</b>"
   ]
  },
  {
   "cell_type": "code",
   "execution_count": null,
   "id": "10b93882",
   "metadata": {},
   "outputs": [],
   "source": [
    "test   = 105\n",
    "idle_eeg   = pd.concat([pd.DataFrame(idle_cor), pd.DataFrame(np.zeros((150)))], axis=1, keys={'features', 'class'})\n",
    "intent_eeg = pd.concat([pd.DataFrame(intent_cor), pd.DataFrame(np.ones((150)))], axis=1, keys={'features', 'class'})\n",
    "\n",
    "df_eeg_train = pd.concat([idle_eeg.iloc[:test,:], intent_eeg.iloc[:test,:]], axis=0) "
   ]
  },
  {
   "cell_type": "markdown",
   "id": "482c7a99",
   "metadata": {},
   "source": [
    "<font size=\"3\" color='red'>    <b>Classifier training</b>"
   ]
  },
  {
   "cell_type": "code",
   "execution_count": null,
   "id": "8ac38252",
   "metadata": {},
   "outputs": [],
   "source": [
    "Xeeg = df_eeg_train.iloc[:, :-1].values\n",
    "yeeg = df_eeg_train.iloc[:, -1].values\n",
    "\n",
    "clf_eeg = LDA(solver='lsqr', shrinkage='auto')\n",
    "\n",
    "clf_eeg.fit(Xeeg, yeeg)\n",
    "\n",
    "# splits data randomly in n=folds \n",
    "kfolds = KFold(n_splits=10, random_state=1, shuffle=True) \n",
    "\n",
    "cv_results = cross_val_score(clf_eeg, Xeeg, yeeg, cv=kfolds)\n",
    "cv_average = cv_results.mean()\n",
    "st_deviation = cv_results.std()\n",
    "print(cv_average)\n",
    "print(st_deviation)"
   ]
  },
  {
   "cell_type": "markdown",
   "id": "2c074756",
   "metadata": {},
   "source": [
    "<font size=\"3\" color='red'>    <b>Probability testing</b>"
   ]
  },
  {
   "cell_type": "code",
   "execution_count": null,
   "id": "558b1526",
   "metadata": {},
   "outputs": [],
   "source": [
    "proba_eeg = np.zeros((len(move)-test, feat_inter_eeg.shape[2]))\n",
    "\n",
    "for k in range(len(move)-test):\n",
    "    \n",
    "    for l in range(feat_inter_eeg.shape[2]):\n",
    "        \n",
    "        proba_eeg[k, l] = clf_eeg.predict_proba(inter_cor[-k, :, l].reshape(1, -1))[0][1]"
   ]
  },
  {
   "cell_type": "markdown",
   "id": "8cb19471",
   "metadata": {},
   "source": [
    "<font size=\"3\" color='red'>    <b>DataFrame, Velocity, Proba</b>"
   ]
  },
  {
   "cell_type": "code",
   "execution_count": null,
   "id": "f7b8f149",
   "metadata": {},
   "outputs": [],
   "source": [
    "time = np.arange(-2, 1+1/fs, 1/fs)                       # Define time axis\n",
    "m_time = np.tile(time, (1, len(move)-test)).transpose()\n",
    "f_time = np.reshape(m_time, len(m_time))\n",
    "\n",
    "f_proba_eeg = np.reshape(proba_eeg, len(f_time))\n",
    "\n",
    "m_velo = velo[test:, :]\n",
    "f_velocity = np.reshape(m_velo, len(f_time))\n",
    "\n",
    "f_data_eeg = np.zeros((len(f_time), 3))\n",
    "f_data_eeg[:,0] = f_time\n",
    "f_data_eeg[:,1] = f_velocity * 1000\n",
    "f_data_eeg[:,2] = f_proba_eeg\n",
    "final_eeg = pd.DataFrame(f_data_eeg, columns=['Time', 'Velocity', 'Probability'])\n",
    "final_eeg"
   ]
  },
  {
   "cell_type": "markdown",
   "id": "962f3b68",
   "metadata": {},
   "source": [
    "<font size=\"3\" color='red'>    <b>Plot</b>"
   ]
  },
  {
   "cell_type": "code",
   "execution_count": null,
   "id": "d1e2ee2e",
   "metadata": {},
   "outputs": [],
   "source": [
    "figure(figsize=(12, 6))\n",
    "\n",
    "# Velocity\n",
    "sns.set_theme(context='talk', style='ticks')\n",
    "ep_move = sns.lineplot(data=final_eeg, x='Time', y='Velocity', color='k', legend=False)\n",
    "\n",
    "ep_move.set(xlabel='seconds (s)', ylabel=\"Velocity ($m.s^{-1}$)\")\n",
    "\n",
    "# Movement onset\n",
    "plt.axvline(0, color='black', label = 'onset', linestyle ='--')\n",
    "\n",
    "# Probability\n",
    "ax2 = plt.twinx()\n",
    "ax2.set_ylabel('Probability', color='r')\n",
    "ax2.spines['right'].set_color('r')\n",
    "ax2.tick_params(axis='y', colors='r')\n",
    "ep_prob = sns.lineplot(data=final_eeg, x='Time', y='Probability', ax=ax2, color='r', legend=False)\n",
    "plt.ylim((0,1))\n",
    "\n",
    "# legend\n",
    "ep_prob.legend(loc='upper left', handles=[Line2D([], [], marker='_', color=\"k\", label='Velocity'), \n",
    "                                          Line2D([], [], marker='_', color=\"r\", label='Probability')])"
   ]
  },
  {
   "cell_type": "markdown",
   "id": "c190eecc",
   "metadata": {},
   "source": [
    "<font size=\"3\" color='purple'>    <b>Merge for EEG_EMG</b>"
   ]
  },
  {
   "cell_type": "code",
   "execution_count": null,
   "id": "2397b26f",
   "metadata": {},
   "outputs": [],
   "source": [
    "idle_eeg_emg   = np.concatenate((feat_idle, idle_cor), axis=1)\n",
    "intent_eeg_emg = np.concatenate((feat_intent, intent_cor), axis=1)\n",
    "\n",
    "inter_eeg_emg  = np.concatenate((feat_inter, inter_cor), axis=1)\n",
    "\n",
    "test   = 105\n",
    "idle   = pd.concat([pd.DataFrame(idle_eeg_emg), pd.DataFrame(np.zeros((150)))], axis=1, keys={'features', 'class'})\n",
    "intent = pd.concat([pd.DataFrame(intent_eeg_emg), pd.DataFrame(np.ones((150)))], axis=1, keys={'features', 'class'})\n",
    "\n",
    "df_eeg_emg_train = pd.concat([idle.iloc[:test,:], intent.iloc[:test,:]], axis=0) "
   ]
  },
  {
   "cell_type": "markdown",
   "id": "5ca6cf9d",
   "metadata": {},
   "source": [
    "<font size=\"3\" color='purple'>    <b>Classifier</b>"
   ]
  },
  {
   "cell_type": "code",
   "execution_count": null,
   "id": "41ddcc25",
   "metadata": {},
   "outputs": [],
   "source": [
    "Xeeg_emg = df_eeg_emg_train.iloc[:, :-1].values\n",
    "yeeg_emg = df_eeg_emg_train.iloc[:, -1].values\n",
    "\n",
    "clf_eeg_emg = LDA(solver='lsqr', shrinkage='auto')\n",
    "\n",
    "clf_eeg_emg.fit(Xeeg_emg, yeeg_emg)\n",
    "\n",
    "# splits data randomly in n=folds \n",
    "kfolds = KFold(n_splits=10, random_state=1, shuffle=True) \n",
    "\n",
    "cv_results = cross_val_score(clf_eeg_emg, Xeeg_emg, yeeg_emg, cv=kfolds)\n",
    "cv_average = cv_results.mean()\n",
    "st_deviation = cv_results.std()\n",
    "print(cv_average)\n",
    "print(st_deviation)"
   ]
  },
  {
   "cell_type": "markdown",
   "id": "fa4961d3",
   "metadata": {},
   "source": [
    "<font size=\"3\" color='purple'>    <b>Proba</b>"
   ]
  },
  {
   "cell_type": "code",
   "execution_count": null,
   "id": "70ac6711",
   "metadata": {},
   "outputs": [],
   "source": [
    "proba_eeg_emg = np.zeros((len(move)-test, feat_inter_eeg.shape[2]))\n",
    "\n",
    "for k in range(len(move)-test):\n",
    "    \n",
    "    for l in range(feat_inter_eeg.shape[2]):\n",
    "        \n",
    "        proba_eeg_emg[k, l] = clf_eeg_emg.predict_proba(inter_eeg_emg[-k, :, l].reshape(1, -1))[0][1]"
   ]
  },
  {
   "cell_type": "markdown",
   "id": "1b6895a0",
   "metadata": {},
   "source": [
    "<font size=\"3\" color='purple'>    <b>DataFrame</b>"
   ]
  },
  {
   "cell_type": "code",
   "execution_count": null,
   "id": "ffc5f641",
   "metadata": {},
   "outputs": [],
   "source": [
    "time = np.arange(-2, 1+1/fs, 1/fs)                       # Define time axis\n",
    "m_time = np.tile(time, (1, len(move)-test)).transpose()\n",
    "f_time = np.reshape(m_time, len(m_time))\n",
    "\n",
    "f_proba_eeg_emg = np.reshape(proba_eeg_emg, len(f_time))\n",
    "\n",
    "m_velo = velo[test:, :]\n",
    "f_velocity = np.reshape(m_velo, len(f_time))\n",
    "\n",
    "f_data_eeg_emg = np.zeros((len(f_time), 3))\n",
    "f_data_eeg_emg[:,0] = f_time\n",
    "f_data_eeg_emg[:,1] = f_velocity * 1000\n",
    "f_data_eeg_emg[:,2] = f_proba_eeg_emg\n",
    "final_eeg_emg = pd.DataFrame(f_data_eeg_emg, columns=['Time', 'Velocity', 'Probability'])\n",
    "final_eeg_emg"
   ]
  },
  {
   "cell_type": "markdown",
   "id": "962e3afd",
   "metadata": {},
   "source": [
    "<font size=\"3\" color='purple'>    <b>Plot</b>"
   ]
  },
  {
   "cell_type": "code",
   "execution_count": null,
   "id": "cd3a8564",
   "metadata": {},
   "outputs": [],
   "source": [
    "figure(figsize=(12, 6))\n",
    "\n",
    "# Velocity\n",
    "sns.set_theme(context='talk', style='ticks')\n",
    "ep_move = sns.lineplot(data=final_eeg_emg, x='Time', y='Velocity', color='k', legend=False)\n",
    "\n",
    "ep_move.set(xlabel='seconds (s)', ylabel=\"Velocity ($m.s^{-1}$)\")\n",
    "\n",
    "# Movement onset\n",
    "plt.axvline(0, color='black', label = 'onset', linestyle ='--')\n",
    "\n",
    "# Probability\n",
    "ax2 = plt.twinx()\n",
    "ax2.set_ylabel('Probability', color='m')\n",
    "ax2.spines['right'].set_color('m')\n",
    "ax2.tick_params(axis='y', colors='m')\n",
    "ep_prob = sns.lineplot(data=final_eeg_emg, x='Time', y='Probability', ax=ax2, color='m', legend=False)\n",
    "plt.ylim((0,1))\n",
    "\n",
    "# legend\n",
    "ep_prob.legend(loc='upper left', handles=[Line2D([], [], marker='_', color=\"k\", label='Velocity'), \n",
    "                                          Line2D([], [], marker='_', color=\"m\", label='Probability')])"
   ]
  }
 ],
 "metadata": {
  "kernelspec": {
   "display_name": "Python 3 (ipykernel)",
   "language": "python",
   "name": "python3"
  },
  "language_info": {
   "codemirror_mode": {
    "name": "ipython",
    "version": 3
   },
   "file_extension": ".py",
   "mimetype": "text/x-python",
   "name": "python",
   "nbconvert_exporter": "python",
   "pygments_lexer": "ipython3",
   "version": "3.9.7"
  }
 },
 "nbformat": 4,
 "nbformat_minor": 5
}
