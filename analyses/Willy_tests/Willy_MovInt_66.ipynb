{
 "cells": [
  {
   "cell_type": "code",
   "execution_count": 1,
   "id": "c5f3e5f3",
   "metadata": {},
   "outputs": [],
   "source": [
    "import pandas as pd\n",
    "import numpy as np\n",
    "import seaborn as sns\n",
    "import matplotlib.pyplot as plt\n",
    "from matplotlib.pyplot import figure\n",
    "from matplotlib.lines import Line2D\n",
    "from sklearn.discriminant_analysis import LinearDiscriminantAnalysis as LDA\n",
    "from sklearn.model_selection import train_test_split, cross_val_score, cross_validate, KFold, cross_val_predict\n",
    "from sklearn.metrics import roc_curve, auc, roc_auc_score, plot_roc_curve, confusion_matrix, plot_confusion_matrix, ConfusionMatrixDisplay, classification_report, RocCurveDisplay\n",
    "from sklearn.model_selection import StratifiedKFold"
   ]
  },
  {
   "cell_type": "markdown",
   "id": "6a18b525",
   "metadata": {},
   "source": [
    "<font size=\"5\">     <b>I. Classification</b>"
   ]
  },
  {
   "cell_type": "markdown",
   "id": "19bed607",
   "metadata": {},
   "source": [
    "<font size=\"4\">    <b>Loading the data</b>"
   ]
  },
  {
   "cell_type": "markdown",
   "id": "638317f3",
   "metadata": {},
   "source": [
    "<font size=\"3\" color='blue'>    <b>Offset correction for EMG -> +0.28 on Biceps</b>"
   ]
  },
  {
   "cell_type": "code",
   "execution_count": 2,
   "id": "8ffe42e7",
   "metadata": {},
   "outputs": [],
   "source": [
    "pID = '6'\n",
    "\n",
    "path = \"/Users/willy/Documents/GitHub/2021-fastReach/data/study/eeglab2python/\"\n",
    "\n",
    "# 1s\n",
    "data_eeg_name_1 = '\\data_s6_rp-win_-1-0_srate-250_modality-eeg.csv'\n",
    "data_emg_name_1 = '\\data_s6_rp-win_-1-0_srate-250_modality-emg.csv'\n",
    "data_eye_name_1 = '\\data_s6_rp-win_-1-0_srate-250_modality-eye.csv'\n",
    "\n",
    "data_eeg_1 = pd.read_csv(path+pID+data_eeg_name_1)\n",
    "\n",
    "#Choose the data set to use, classifier EEG-EMG will only work if both modalities are on the safe timeframe\n",
    "data_eeg = data_eeg_1\n",
    "\n",
    "# Define the window size on which we will extract the features\n",
    "# EEG Window \n",
    "win_eeg = 25\n",
    "win_eeg_scaled = np.arange(len(data_eeg))//win_eeg"
   ]
  },
  {
   "cell_type": "code",
   "execution_count": 3,
   "id": "6cf67372",
   "metadata": {
    "scrolled": false
   },
   "outputs": [
    {
     "data": {
      "text/html": [
       "<div>\n",
       "<style scoped>\n",
       "    .dataframe tbody tr th:only-of-type {\n",
       "        vertical-align: middle;\n",
       "    }\n",
       "\n",
       "    .dataframe tbody tr th {\n",
       "        vertical-align: top;\n",
       "    }\n",
       "\n",
       "    .dataframe thead th {\n",
       "        text-align: right;\n",
       "    }\n",
       "</style>\n",
       "<table border=\"1\" class=\"dataframe\">\n",
       "  <thead>\n",
       "    <tr style=\"text-align: right;\">\n",
       "      <th></th>\n",
       "      <th>sample</th>\n",
       "      <th>epoch_ix</th>\n",
       "      <th>rp_class</th>\n",
       "      <th>C1</th>\n",
       "      <th>F7</th>\n",
       "      <th>Cz</th>\n",
       "      <th>F5</th>\n",
       "      <th>FCz</th>\n",
       "      <th>CPz</th>\n",
       "      <th>C2</th>\n",
       "      <th>...</th>\n",
       "      <th>CP2</th>\n",
       "      <th>CP3</th>\n",
       "      <th>FC1</th>\n",
       "      <th>Pz</th>\n",
       "      <th>CP1</th>\n",
       "      <th>P4</th>\n",
       "      <th>CP6</th>\n",
       "      <th>F3</th>\n",
       "      <th>P2</th>\n",
       "      <th>FC5</th>\n",
       "    </tr>\n",
       "  </thead>\n",
       "  <tbody>\n",
       "    <tr>\n",
       "      <th>0</th>\n",
       "      <td>-0.996</td>\n",
       "      <td>1</td>\n",
       "      <td>1</td>\n",
       "      <td>0.000000</td>\n",
       "      <td>0.000000</td>\n",
       "      <td>0.000000</td>\n",
       "      <td>0.000000</td>\n",
       "      <td>0.000000</td>\n",
       "      <td>0.000000</td>\n",
       "      <td>0.000000</td>\n",
       "      <td>...</td>\n",
       "      <td>0.000000</td>\n",
       "      <td>0.000000</td>\n",
       "      <td>0.000000</td>\n",
       "      <td>0.000000</td>\n",
       "      <td>0.000000</td>\n",
       "      <td>0.000000</td>\n",
       "      <td>0.000000</td>\n",
       "      <td>0.000000</td>\n",
       "      <td>0.000000</td>\n",
       "      <td>0.000000</td>\n",
       "    </tr>\n",
       "    <tr>\n",
       "      <th>1</th>\n",
       "      <td>-0.992</td>\n",
       "      <td>1</td>\n",
       "      <td>1</td>\n",
       "      <td>-0.859364</td>\n",
       "      <td>2.640625</td>\n",
       "      <td>-1.259384</td>\n",
       "      <td>5.840628</td>\n",
       "      <td>-2.059368</td>\n",
       "      <td>-1.159367</td>\n",
       "      <td>-1.659367</td>\n",
       "      <td>...</td>\n",
       "      <td>-1.959376</td>\n",
       "      <td>0.540630</td>\n",
       "      <td>-0.959390</td>\n",
       "      <td>0.440634</td>\n",
       "      <td>-0.759396</td>\n",
       "      <td>0.140625</td>\n",
       "      <td>1.140610</td>\n",
       "      <td>0.340630</td>\n",
       "      <td>-0.059369</td>\n",
       "      <td>-0.859367</td>\n",
       "    </tr>\n",
       "    <tr>\n",
       "      <th>2</th>\n",
       "      <td>-0.988</td>\n",
       "      <td>1</td>\n",
       "      <td>1</td>\n",
       "      <td>-1.295307</td>\n",
       "      <td>-1.195328</td>\n",
       "      <td>-1.895325</td>\n",
       "      <td>2.504688</td>\n",
       "      <td>-1.195320</td>\n",
       "      <td>-2.195320</td>\n",
       "      <td>-2.795319</td>\n",
       "      <td>...</td>\n",
       "      <td>-3.695317</td>\n",
       "      <td>0.604675</td>\n",
       "      <td>-2.595310</td>\n",
       "      <td>1.604687</td>\n",
       "      <td>-2.195318</td>\n",
       "      <td>-1.995318</td>\n",
       "      <td>-8.595322</td>\n",
       "      <td>-1.295309</td>\n",
       "      <td>-2.495326</td>\n",
       "      <td>-8.695307</td>\n",
       "    </tr>\n",
       "    <tr>\n",
       "      <th>3</th>\n",
       "      <td>-0.984</td>\n",
       "      <td>1</td>\n",
       "      <td>1</td>\n",
       "      <td>-0.576565</td>\n",
       "      <td>-3.476578</td>\n",
       "      <td>-2.676575</td>\n",
       "      <td>0.523434</td>\n",
       "      <td>-3.176571</td>\n",
       "      <td>-2.176571</td>\n",
       "      <td>-2.476570</td>\n",
       "      <td>...</td>\n",
       "      <td>-4.876565</td>\n",
       "      <td>-1.576572</td>\n",
       "      <td>-1.476572</td>\n",
       "      <td>1.323442</td>\n",
       "      <td>-5.576586</td>\n",
       "      <td>-1.376575</td>\n",
       "      <td>-15.776558</td>\n",
       "      <td>-1.276560</td>\n",
       "      <td>-1.676574</td>\n",
       "      <td>-8.676556</td>\n",
       "    </tr>\n",
       "    <tr>\n",
       "      <th>4</th>\n",
       "      <td>-0.980</td>\n",
       "      <td>1</td>\n",
       "      <td>1</td>\n",
       "      <td>-1.856247</td>\n",
       "      <td>-1.856255</td>\n",
       "      <td>-5.056252</td>\n",
       "      <td>-7.656250</td>\n",
       "      <td>-3.756252</td>\n",
       "      <td>-3.656254</td>\n",
       "      <td>-2.456249</td>\n",
       "      <td>...</td>\n",
       "      <td>-2.356252</td>\n",
       "      <td>-4.356251</td>\n",
       "      <td>-2.756247</td>\n",
       "      <td>-0.756250</td>\n",
       "      <td>-6.156254</td>\n",
       "      <td>1.343752</td>\n",
       "      <td>-4.856277</td>\n",
       "      <td>-2.856241</td>\n",
       "      <td>-1.556253</td>\n",
       "      <td>-7.056252</td>\n",
       "    </tr>\n",
       "    <tr>\n",
       "      <th>...</th>\n",
       "      <td>...</td>\n",
       "      <td>...</td>\n",
       "      <td>...</td>\n",
       "      <td>...</td>\n",
       "      <td>...</td>\n",
       "      <td>...</td>\n",
       "      <td>...</td>\n",
       "      <td>...</td>\n",
       "      <td>...</td>\n",
       "      <td>...</td>\n",
       "      <td>...</td>\n",
       "      <td>...</td>\n",
       "      <td>...</td>\n",
       "      <td>...</td>\n",
       "      <td>...</td>\n",
       "      <td>...</td>\n",
       "      <td>...</td>\n",
       "      <td>...</td>\n",
       "      <td>...</td>\n",
       "      <td>...</td>\n",
       "      <td>...</td>\n",
       "    </tr>\n",
       "    <tr>\n",
       "      <th>76995</th>\n",
       "      <td>-0.016</td>\n",
       "      <td>308</td>\n",
       "      <td>2</td>\n",
       "      <td>5.481244</td>\n",
       "      <td>-4.818752</td>\n",
       "      <td>-5.118752</td>\n",
       "      <td>-0.518745</td>\n",
       "      <td>-8.618744</td>\n",
       "      <td>-3.118747</td>\n",
       "      <td>-17.318743</td>\n",
       "      <td>...</td>\n",
       "      <td>-11.618752</td>\n",
       "      <td>7.981244</td>\n",
       "      <td>3.181253</td>\n",
       "      <td>4.481264</td>\n",
       "      <td>0.181267</td>\n",
       "      <td>-9.918759</td>\n",
       "      <td>-29.918753</td>\n",
       "      <td>-1.718756</td>\n",
       "      <td>-6.618752</td>\n",
       "      <td>8.781254</td>\n",
       "    </tr>\n",
       "    <tr>\n",
       "      <th>76996</th>\n",
       "      <td>-0.012</td>\n",
       "      <td>308</td>\n",
       "      <td>2</td>\n",
       "      <td>4.659369</td>\n",
       "      <td>-0.340624</td>\n",
       "      <td>-4.040627</td>\n",
       "      <td>6.559372</td>\n",
       "      <td>-8.440636</td>\n",
       "      <td>-1.240634</td>\n",
       "      <td>-15.440638</td>\n",
       "      <td>...</td>\n",
       "      <td>-10.640628</td>\n",
       "      <td>8.259365</td>\n",
       "      <td>2.559374</td>\n",
       "      <td>2.959389</td>\n",
       "      <td>1.259380</td>\n",
       "      <td>-9.140631</td>\n",
       "      <td>-27.140619</td>\n",
       "      <td>-1.740627</td>\n",
       "      <td>-4.840637</td>\n",
       "      <td>9.159379</td>\n",
       "    </tr>\n",
       "    <tr>\n",
       "      <th>76997</th>\n",
       "      <td>-0.008</td>\n",
       "      <td>308</td>\n",
       "      <td>2</td>\n",
       "      <td>5.632809</td>\n",
       "      <td>-1.967186</td>\n",
       "      <td>-2.967189</td>\n",
       "      <td>4.032806</td>\n",
       "      <td>-8.567204</td>\n",
       "      <td>-0.667200</td>\n",
       "      <td>-14.267202</td>\n",
       "      <td>...</td>\n",
       "      <td>-9.667193</td>\n",
       "      <td>8.932807</td>\n",
       "      <td>1.332809</td>\n",
       "      <td>3.632833</td>\n",
       "      <td>3.132832</td>\n",
       "      <td>-8.967194</td>\n",
       "      <td>-27.767185</td>\n",
       "      <td>-3.467190</td>\n",
       "      <td>-4.367199</td>\n",
       "      <td>9.332811</td>\n",
       "    </tr>\n",
       "    <tr>\n",
       "      <th>76998</th>\n",
       "      <td>-0.004</td>\n",
       "      <td>308</td>\n",
       "      <td>2</td>\n",
       "      <td>4.851557</td>\n",
       "      <td>-5.748434</td>\n",
       "      <td>-2.848439</td>\n",
       "      <td>0.851562</td>\n",
       "      <td>-8.548439</td>\n",
       "      <td>-0.748440</td>\n",
       "      <td>-13.348440</td>\n",
       "      <td>...</td>\n",
       "      <td>-8.248441</td>\n",
       "      <td>6.551559</td>\n",
       "      <td>1.251565</td>\n",
       "      <td>4.051563</td>\n",
       "      <td>3.351578</td>\n",
       "      <td>-6.748437</td>\n",
       "      <td>-25.248436</td>\n",
       "      <td>-5.148436</td>\n",
       "      <td>-2.748446</td>\n",
       "      <td>4.251562</td>\n",
       "    </tr>\n",
       "    <tr>\n",
       "      <th>76999</th>\n",
       "      <td>0.000</td>\n",
       "      <td>308</td>\n",
       "      <td>2</td>\n",
       "      <td>0.646875</td>\n",
       "      <td>-4.753130</td>\n",
       "      <td>-5.753126</td>\n",
       "      <td>3.846870</td>\n",
       "      <td>-11.553127</td>\n",
       "      <td>-2.353125</td>\n",
       "      <td>-15.953131</td>\n",
       "      <td>...</td>\n",
       "      <td>-9.353126</td>\n",
       "      <td>5.146872</td>\n",
       "      <td>-1.253125</td>\n",
       "      <td>4.246893</td>\n",
       "      <td>0.846901</td>\n",
       "      <td>-6.153122</td>\n",
       "      <td>-23.753116</td>\n",
       "      <td>-5.753132</td>\n",
       "      <td>-4.553133</td>\n",
       "      <td>3.246872</td>\n",
       "    </tr>\n",
       "  </tbody>\n",
       "</table>\n",
       "<p>77000 rows × 23 columns</p>\n",
       "</div>"
      ],
      "text/plain": [
       "       sample  epoch_ix  rp_class        C1        F7        Cz        F5  \\\n",
       "0      -0.996         1         1  0.000000  0.000000  0.000000  0.000000   \n",
       "1      -0.992         1         1 -0.859364  2.640625 -1.259384  5.840628   \n",
       "2      -0.988         1         1 -1.295307 -1.195328 -1.895325  2.504688   \n",
       "3      -0.984         1         1 -0.576565 -3.476578 -2.676575  0.523434   \n",
       "4      -0.980         1         1 -1.856247 -1.856255 -5.056252 -7.656250   \n",
       "...       ...       ...       ...       ...       ...       ...       ...   \n",
       "76995  -0.016       308         2  5.481244 -4.818752 -5.118752 -0.518745   \n",
       "76996  -0.012       308         2  4.659369 -0.340624 -4.040627  6.559372   \n",
       "76997  -0.008       308         2  5.632809 -1.967186 -2.967189  4.032806   \n",
       "76998  -0.004       308         2  4.851557 -5.748434 -2.848439  0.851562   \n",
       "76999   0.000       308         2  0.646875 -4.753130 -5.753126  3.846870   \n",
       "\n",
       "             FCz       CPz         C2  ...        CP2       CP3       FC1  \\\n",
       "0       0.000000  0.000000   0.000000  ...   0.000000  0.000000  0.000000   \n",
       "1      -2.059368 -1.159367  -1.659367  ...  -1.959376  0.540630 -0.959390   \n",
       "2      -1.195320 -2.195320  -2.795319  ...  -3.695317  0.604675 -2.595310   \n",
       "3      -3.176571 -2.176571  -2.476570  ...  -4.876565 -1.576572 -1.476572   \n",
       "4      -3.756252 -3.656254  -2.456249  ...  -2.356252 -4.356251 -2.756247   \n",
       "...          ...       ...        ...  ...        ...       ...       ...   \n",
       "76995  -8.618744 -3.118747 -17.318743  ... -11.618752  7.981244  3.181253   \n",
       "76996  -8.440636 -1.240634 -15.440638  ... -10.640628  8.259365  2.559374   \n",
       "76997  -8.567204 -0.667200 -14.267202  ...  -9.667193  8.932807  1.332809   \n",
       "76998  -8.548439 -0.748440 -13.348440  ...  -8.248441  6.551559  1.251565   \n",
       "76999 -11.553127 -2.353125 -15.953131  ...  -9.353126  5.146872 -1.253125   \n",
       "\n",
       "             Pz       CP1        P4        CP6        F3        P2       FC5  \n",
       "0      0.000000  0.000000  0.000000   0.000000  0.000000  0.000000  0.000000  \n",
       "1      0.440634 -0.759396  0.140625   1.140610  0.340630 -0.059369 -0.859367  \n",
       "2      1.604687 -2.195318 -1.995318  -8.595322 -1.295309 -2.495326 -8.695307  \n",
       "3      1.323442 -5.576586 -1.376575 -15.776558 -1.276560 -1.676574 -8.676556  \n",
       "4     -0.756250 -6.156254  1.343752  -4.856277 -2.856241 -1.556253 -7.056252  \n",
       "...         ...       ...       ...        ...       ...       ...       ...  \n",
       "76995  4.481264  0.181267 -9.918759 -29.918753 -1.718756 -6.618752  8.781254  \n",
       "76996  2.959389  1.259380 -9.140631 -27.140619 -1.740627 -4.840637  9.159379  \n",
       "76997  3.632833  3.132832 -8.967194 -27.767185 -3.467190 -4.367199  9.332811  \n",
       "76998  4.051563  3.351578 -6.748437 -25.248436 -5.148436 -2.748446  4.251562  \n",
       "76999  4.246893  0.846901 -6.153122 -23.753116 -5.753132 -4.553133  3.246872  \n",
       "\n",
       "[77000 rows x 23 columns]"
      ]
     },
     "execution_count": 3,
     "metadata": {},
     "output_type": "execute_result"
    }
   ],
   "source": [
    "data_eeg"
   ]
  },
  {
   "cell_type": "code",
   "execution_count": 3,
   "id": "af3f6db1",
   "metadata": {
    "scrolled": true
   },
   "outputs": [],
   "source": [
    "#EEG 1st DataFrame\n",
    "win_eeg_mean = data_eeg.groupby(win_eeg_scaled).mean() "
   ]
  },
  {
   "cell_type": "markdown",
   "id": "a262dbb0",
   "metadata": {},
   "source": [
    "<font size=\"4\">    <b>Data frames</b>\n",
    "    \n",
    "From the imported data structure to the final structure adapted for the following classification."
   ]
  },
  {
   "cell_type": "code",
   "execution_count": 4,
   "id": "1a76522d",
   "metadata": {
    "scrolled": true
   },
   "outputs": [],
   "source": [
    "#EEG\n",
    "df_eeg = win_eeg_mean.pivot(index=['epoch_ix', 'rp_class'], columns='sample', values=win_eeg_mean.columns[3:].tolist())\n",
    "df_eeg.reset_index(inplace=True)\n"
   ]
  },
  {
   "cell_type": "markdown",
   "id": "385f600c",
   "metadata": {},
   "source": [
    "<font size=\"4\">    <b>Linear Discriminent Analysis</b>"
   ]
  },
  {
   "cell_type": "markdown",
   "id": "55568d1a",
   "metadata": {},
   "source": [
    "<font size=\"3\">    <b>EEG</b>"
   ]
  },
  {
   "cell_type": "code",
   "execution_count": 5,
   "id": "89ac01e0",
   "metadata": {},
   "outputs": [
    {
     "name": "stdout",
     "output_type": "stream",
     "text": [
      "0.6448275862068966\n",
      "0.0598253502513706\n"
     ]
    }
   ],
   "source": [
    "Xeeg = df_eeg.iloc[:,2:].values\n",
    "yeeg = np.asarray(df_eeg['rp_class'])\n",
    "\n",
    "clf_eeg = LDA(solver='lsqr', shrinkage='auto')\n",
    "\n",
    "clf_eeg.fit(Xeeg, yeeg)\n",
    "\n",
    "# splits data randomly in n=folds \n",
    "kfolds = KFold(n_splits=10, random_state=1, shuffle=True) \n",
    "\n",
    "cv_results = cross_val_score(clf_eeg, Xeeg, yeeg, cv=kfolds)\n",
    "cv_average = cv_results.mean()\n",
    "st_deviation = cv_results.std()\n",
    "print(cv_average)\n",
    "print(st_deviation)\n",
    "pred_y_eeg = cross_val_predict(clf_eeg, Xeeg, yeeg, cv=kfolds)"
   ]
  },
  {
   "cell_type": "markdown",
   "id": "236c6f35",
   "metadata": {},
   "source": [
    "<font size=\"3\">    <b>Classification metrics - EMG</b>"
   ]
  },
  {
   "cell_type": "markdown",
   "id": "50860812",
   "metadata": {},
   "source": [
    "<font size=\"5\">     <b>II. Time serie representation (only done for EEG yet)</b>"
   ]
  },
  {
   "cell_type": "markdown",
   "id": "3620ad5e",
   "metadata": {},
   "source": [
    "Test the previously trained classifier on sliding windows over time.\n",
    "Rather than testing the classifier on the whole stream of data, I will test it only on the interval [-2, 1] which should be enough, it would then speed up the processing delay.\n",
    "\n",
    "This includes the following steps: Time interest definition - Baseline correction - Features extraction - Probability calculation - DataFrame and plot\n",
    "\n",
    "<font size=\"3\" color='red'>    <b>Load the data and keep 20 best EEG</b>"
   ]
  },
  {
   "cell_type": "code",
   "execution_count": 6,
   "id": "1aac9422",
   "metadata": {},
   "outputs": [],
   "source": [
    "pathe = '/Users/willy/Documents/GitHub/2021-fastReach/data/study/eeglab2python/6/\\eeg.csv'\n",
    "pathm = '/Users/willy/Documents/GitHub/2021-fastReach/data/study/eeglab2python/6/\\motion.csv'\n",
    "pathchan = '/Users/willy/Documents/GitHub/2021-fastReach/data/study/eeglab2python/6/\\chans_rp-win_-1-0.csv'\n",
    "move = pd.read_csv('/Users/willy/Documents/GitHub/2021-fastReach/data/study/eeglab2python/6/\\motion_onset_event_latencies.csv', header = None)\n",
    "move = move.values[0]\n",
    "\n",
    "chan = pd.read_csv(pathchan, header=None)\n",
    "eeg = pd.read_csv(pathe, header=None) # , dtype='float16'\n",
    "velocity = pd.read_csv(pathm, header=None) # , dtype='float16'\n",
    "\n",
    "# Select the best chans from the csv file to filter the eeg data\n",
    "eeg_b = []\n",
    "for i in chan.iloc[1:,0].astype(int)-1:  \n",
    "    eeg_b.append(eeg.iloc[i,:])\n",
    "eeg_b = pd.DataFrame(eeg_b)"
   ]
  },
  {
   "cell_type": "markdown",
   "id": "187a5baa",
   "metadata": {},
   "source": [
    "<font size=\"3\" color='red'>    <b>Extract the time frame of interest around the movement onset</b>"
   ]
  },
  {
   "cell_type": "code",
   "execution_count": 11,
   "id": "df553f93",
   "metadata": {
    "scrolled": true
   },
   "outputs": [],
   "source": [
    "# Number of sample before and after movement onset\n",
    "b_onset = 2000\n",
    "a_onset = 1000\n",
    "onset = move[:-1] # Adjust according to the number of onset we want to consider\n",
    "\n",
    "# Extract this for the velocity\n",
    "actual_velocity = np.zeros((len(onset), (b_onset + a_onset)))\n",
    "\n",
    "# For EEG Let's create a matrix with row = epoch, columns = epoch duration and 3D = nb_chan\n",
    "epoch = np.zeros((len(onset), (b_onset + a_onset), eeg_b.shape[0]))\n",
    "\n",
    "for k in range(len(onset)):\n",
    "   \n",
    "    for j in range(eeg_b.shape[0]):\n",
    "    \n",
    "        epoch[k, 0:(b_onset + a_onset), j] = eeg_b.iloc[j, onset[k]-b_onset:onset[k]+a_onset]\n",
    "       \n",
    "        actual_velocity[k, :] = velocity.iloc[0, onset[k]-b_onset:onset[k]+a_onset]"
   ]
  },
  {
   "cell_type": "markdown",
   "id": "c6fc0f20",
   "metadata": {},
   "source": [
    "<font size=\"3\" color='red'>    <b>Baseline correction: I think this messes up the final result</b>"
   ]
  },
  {
   "cell_type": "code",
   "execution_count": 12,
   "id": "e24c7897",
   "metadata": {},
   "outputs": [],
   "source": [
    "#Try base line correction at the beginning of the epoch only, and each 250 trial as well\n",
    "epoch_cor = np.zeros((epoch.shape))\n",
    "\n",
    "for k in range(len(onset)):\n",
    "    \n",
    "    for j in range(eeg_b.shape[0]):\n",
    "        \n",
    "        for i in range((b_onset+a_onset)//250):\n",
    "            \n",
    "            epoch_cor[k, (250*i):250+(250*i), j] = epoch[k, (250*i):250+(250*i), j] - epoch[k, 250*i, j]"
   ]
  },
  {
   "cell_type": "markdown",
   "id": "dabf6385",
   "metadata": {},
   "source": [
    "<font size=\"3\" color='red'>    <b>EEG Feature extraction</b>"
   ]
  },
  {
   "cell_type": "code",
   "execution_count": 13,
   "id": "37f269ac",
   "metadata": {
    "scrolled": false
   },
   "outputs": [],
   "source": [
    "# (i and j) Extract the feature of size win_eeg 10 times per window on each channel. Each window is 250 samples.\n",
    "# (l) Slide the window by x samples and repeat the extraction.\n",
    "# (k) Switch to the next onset and repeat the process\n",
    "# Output 'feat' with dim1 = onsets, dim2 = features, dim3 = number of windows\n",
    "\n",
    "fs = 250\n",
    "nb_feat = fs//win_eeg\n",
    "sld_size = 1\n",
    "\n",
    "feat = np.zeros((len(epoch_cor), nb_feat*epoch_cor.shape[2], (epoch_cor.shape[1]//sld_size) - fs + sld_size))\n",
    "\n",
    "for k in range(len(epoch_cor)):             # Onset index\n",
    "    for l in range(feat.shape[2]):          # Window index\n",
    "        for j in range(epoch_cor.shape[2]): # Channel index\n",
    "            for i in range(nb_feat):        # Feature index\n",
    "                feat[k, i+10*j, l] = np.mean(epoch_cor[k, (win_eeg*i)+(sld_size*l):win_eeg+(win_eeg*i)+(sld_size*l), j])"
   ]
  },
  {
   "cell_type": "code",
   "execution_count": 14,
   "id": "3ff96462",
   "metadata": {},
   "outputs": [
    {
     "data": {
      "text/plain": [
       "(167, 200, 2751)"
      ]
     },
     "execution_count": 14,
     "metadata": {},
     "output_type": "execute_result"
    }
   ],
   "source": [
    "feat.shape"
   ]
  },
  {
   "cell_type": "markdown",
   "id": "8da61dc0",
   "metadata": {},
   "source": [
    "<font size=\"3\" color='red'>    <b>Probability extraction</b>"
   ]
  },
  {
   "cell_type": "code",
   "execution_count": 15,
   "id": "dd31c55f",
   "metadata": {},
   "outputs": [],
   "source": [
    "# Calculate the probability of predicting an RP based on the EEG classifier previously trained.\n",
    "# Let's output a matrix with Dim1 = onset and Dim2 = number of windows\n",
    "\n",
    "proba = np.zeros((feat.shape[0], feat.shape[2]))\n",
    "\n",
    "for k in range(len(epoch_cor)):\n",
    "    \n",
    "    for l in range(feat.shape[2]):\n",
    "        \n",
    "        proba[k, l] = clf_eeg.predict_proba(feat[k, :, l].reshape(1, -1))[0][1]"
   ]
  },
  {
   "cell_type": "markdown",
   "id": "38b49add",
   "metadata": {},
   "source": [
    "<font size=\"3\" color='red'>    <b>Final DataFrame and representation</b>"
   ]
  },
  {
   "cell_type": "code",
   "execution_count": 16,
   "id": "e506444f",
   "metadata": {
    "scrolled": true
   },
   "outputs": [
    {
     "data": {
      "text/html": [
       "<div>\n",
       "<style scoped>\n",
       "    .dataframe tbody tr th:only-of-type {\n",
       "        vertical-align: middle;\n",
       "    }\n",
       "\n",
       "    .dataframe tbody tr th {\n",
       "        vertical-align: top;\n",
       "    }\n",
       "\n",
       "    .dataframe thead th {\n",
       "        text-align: right;\n",
       "    }\n",
       "</style>\n",
       "<table border=\"1\" class=\"dataframe\">\n",
       "  <thead>\n",
       "    <tr style=\"text-align: right;\">\n",
       "      <th></th>\n",
       "      <th>Time</th>\n",
       "      <th>Velocity</th>\n",
       "      <th>Probability</th>\n",
       "    </tr>\n",
       "  </thead>\n",
       "  <tbody>\n",
       "    <tr>\n",
       "      <th>0</th>\n",
       "      <td>-2.000</td>\n",
       "      <td>0.015124</td>\n",
       "      <td>0.119879</td>\n",
       "    </tr>\n",
       "    <tr>\n",
       "      <th>1</th>\n",
       "      <td>-1.999</td>\n",
       "      <td>0.015652</td>\n",
       "      <td>0.117036</td>\n",
       "    </tr>\n",
       "    <tr>\n",
       "      <th>2</th>\n",
       "      <td>-1.998</td>\n",
       "      <td>0.015955</td>\n",
       "      <td>0.118348</td>\n",
       "    </tr>\n",
       "    <tr>\n",
       "      <th>3</th>\n",
       "      <td>-1.997</td>\n",
       "      <td>0.016040</td>\n",
       "      <td>0.123582</td>\n",
       "    </tr>\n",
       "    <tr>\n",
       "      <th>4</th>\n",
       "      <td>-1.996</td>\n",
       "      <td>0.015929</td>\n",
       "      <td>0.126582</td>\n",
       "    </tr>\n",
       "    <tr>\n",
       "      <th>...</th>\n",
       "      <td>...</td>\n",
       "      <td>...</td>\n",
       "      <td>...</td>\n",
       "    </tr>\n",
       "    <tr>\n",
       "      <th>459412</th>\n",
       "      <td>0.746</td>\n",
       "      <td>0.009326</td>\n",
       "      <td>0.724206</td>\n",
       "    </tr>\n",
       "    <tr>\n",
       "      <th>459413</th>\n",
       "      <td>0.747</td>\n",
       "      <td>0.009174</td>\n",
       "      <td>0.735477</td>\n",
       "    </tr>\n",
       "    <tr>\n",
       "      <th>459414</th>\n",
       "      <td>0.748</td>\n",
       "      <td>0.010049</td>\n",
       "      <td>0.738695</td>\n",
       "    </tr>\n",
       "    <tr>\n",
       "      <th>459415</th>\n",
       "      <td>0.749</td>\n",
       "      <td>0.011669</td>\n",
       "      <td>0.738894</td>\n",
       "    </tr>\n",
       "    <tr>\n",
       "      <th>459416</th>\n",
       "      <td>0.750</td>\n",
       "      <td>0.013337</td>\n",
       "      <td>0.739235</td>\n",
       "    </tr>\n",
       "  </tbody>\n",
       "</table>\n",
       "<p>459417 rows × 3 columns</p>\n",
       "</div>"
      ],
      "text/plain": [
       "         Time  Velocity  Probability\n",
       "0      -2.000  0.015124     0.119879\n",
       "1      -1.999  0.015652     0.117036\n",
       "2      -1.998  0.015955     0.118348\n",
       "3      -1.997  0.016040     0.123582\n",
       "4      -1.996  0.015929     0.126582\n",
       "...       ...       ...          ...\n",
       "459412  0.746  0.009326     0.724206\n",
       "459413  0.747  0.009174     0.735477\n",
       "459414  0.748  0.010049     0.738695\n",
       "459415  0.749  0.011669     0.738894\n",
       "459416  0.750  0.013337     0.739235\n",
       "\n",
       "[459417 rows x 3 columns]"
      ]
     },
     "execution_count": 16,
     "metadata": {},
     "output_type": "execute_result"
    }
   ],
   "source": [
    "# The objective is to represent the probability of RP prediction on the a certain interval of time around the movement onset.\n",
    "# So let's build a data frame with the following columns: ['Time', 'Velocity', 'Probability']\n",
    "time = np.arange(-b_onset, proba.shape[1] - b_onset)/1000\n",
    "m_time = np.tile(time, (1, len(epoch_cor))).transpose()\n",
    "f_time = np.reshape(m_time, len(m_time))\n",
    "\n",
    "f_proba = np.reshape(proba, len(f_time))\n",
    "\n",
    "m_velocity = actual_velocity[:, :proba.shape[1]]\n",
    "f_velocity = np.reshape(m_velocity, len(f_time))\n",
    "\n",
    "f_data = np.zeros((len(f_time), 3))\n",
    "f_data[:,0] = f_time\n",
    "f_data[:,1] = f_velocity * 1000\n",
    "f_data[:,2] = f_proba\n",
    "final = pd.DataFrame(f_data, columns=['Time', 'Velocity', 'Probability'])\n",
    "final"
   ]
  },
  {
   "cell_type": "code",
   "execution_count": 18,
   "id": "0799011c",
   "metadata": {},
   "outputs": [
    {
     "data": {
      "text/plain": [
       "<matplotlib.legend.Legend at 0x2ed8101d0a0>"
      ]
     },
     "execution_count": 18,
     "metadata": {},
     "output_type": "execute_result"
    },
    {
     "data": {
      "image/png": "[encoded data removed]",
      "text/plain": [
       "<Figure size 864x432 with 2 Axes>"
      ]
     },
     "metadata": {},
     "output_type": "display_data"
    }
   ],
   "source": [
    "figure(figsize=(12, 6))\n",
    "\n",
    "# Velocity\n",
    "sns.set_theme(context='talk', style='ticks')\n",
    "ep_move = sns.lineplot(data=final, x='Time', y='Velocity', color='k', legend=False)\n",
    "\n",
    "ep_move.set(xlabel='seconds (s)', ylabel=\"Velocity ($m.s^{-1}$)\")\n",
    "\n",
    "# Movement onset\n",
    "plt.axvline(0, color='black', label = 'onset', linestyle ='--')\n",
    "\n",
    "# Detection onset\n",
    "plt.axvline(final['Time'][np.argmin(final.groupby(['Time'])['Probability'].mean())],\n",
    "            color='green', label = 'onset')\n",
    "\n",
    "# Probability\n",
    "ax2 = plt.twinx()\n",
    "ax2.set_ylabel('Probability', color='r')\n",
    "ax2.spines['right'].set_color('r')\n",
    "ax2.tick_params(axis='y', colors='r')\n",
    "ep_prob = sns.lineplot(data=final, x='Time', y='Probability', ax=ax2, color='r', legend=False)\n",
    "plt.ylim((0,1))\n",
    "# legend\n",
    "ep_prob.legend(loc='upper left', handles=[Line2D([], [], marker='_', color=\"k\", label='Velocity'), \n",
    "                                          Line2D([], [], marker='_', color=\"r\", label='Probability')])"
   ]
  },
  {
   "cell_type": "code",
   "execution_count": 15,
   "id": "da998acb",
   "metadata": {},
   "outputs": [
    {
     "data": {
      "text/plain": [
       "-0.25"
      ]
     },
     "execution_count": 15,
     "metadata": {},
     "output_type": "execute_result"
    }
   ],
   "source": [
    "final['Time'][np.argmin(final.groupby(['Time'])['Probability'].mean())]"
   ]
  }
 ],
 "metadata": {
  "kernelspec": {
   "display_name": "Python 3 (ipykernel)",
   "language": "python",
   "name": "python3"
  },
  "language_info": {
   "codemirror_mode": {
    "name": "ipython",
    "version": 3
   },
   "file_extension": ".py",
   "mimetype": "text/x-python",
   "name": "python",
   "nbconvert_exporter": "python",
   "pygments_lexer": "ipython3",
   "version": "3.9.7"
  }
 },
 "nbformat": 4,
 "nbformat_minor": 5
}
