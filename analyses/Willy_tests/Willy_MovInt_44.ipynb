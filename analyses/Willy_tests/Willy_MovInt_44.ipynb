{
 "cells": [
  {
   "cell_type": "code",
   "execution_count": 1,
   "id": "c5f3e5f3",
   "metadata": {},
   "outputs": [],
   "source": [
    "import pandas as pd\n",
    "import numpy as np\n",
    "import seaborn as sns\n",
    "import matplotlib.pyplot as plt\n",
    "from matplotlib.pyplot import figure\n",
    "from matplotlib.lines import Line2D\n",
    "from sklearn.discriminant_analysis import LinearDiscriminantAnalysis as LDA\n",
    "from sklearn.model_selection import train_test_split, cross_val_score, cross_validate, KFold, cross_val_predict\n",
    "from sklearn.metrics import roc_curve, auc, roc_auc_score, plot_roc_curve, confusion_matrix, plot_confusion_matrix, ConfusionMatrixDisplay, classification_report, RocCurveDisplay\n",
    "from sklearn.model_selection import StratifiedKFold"
   ]
  },
  {
   "cell_type": "markdown",
   "id": "6a18b525",
   "metadata": {},
   "source": [
    "<font size=\"5\">     <b>I. Classification</b>"
   ]
  },
  {
   "cell_type": "markdown",
   "id": "19bed607",
   "metadata": {},
   "source": [
    "<font size=\"4\">    <b>Loading the data</b>"
   ]
  },
  {
   "cell_type": "markdown",
   "id": "638317f3",
   "metadata": {},
   "source": [
    "<font size=\"3\" color='blue'>    <b>Offset correction for EMG -> +0.28 on Biceps</b>"
   ]
  },
  {
   "cell_type": "code",
   "execution_count": 5,
   "id": "8ffe42e7",
   "metadata": {},
   "outputs": [],
   "source": [
    "pID = '4'\n",
    "\n",
    "path = \"/Users/willy/Documents/GitHub/2021-fastReach/data/study/eeglab2python/\"\n",
    "\n",
    "# 1s\n",
    "data_eeg_name_1 = '\\data_s4_rp-win_-1-0_srate-250_modality-eeg.csv'\n",
    "data_emg_name_1 = '\\data_s4_rp-win_-1-0_srate-250_modality-emg.csv'\n",
    "data_eye_name_1 = '\\data_s4_rp-win_-1-0_srate-250_modality-eye.csv'\n",
    "\n",
    "data_eeg_1 = pd.read_csv(path+pID+data_eeg_name_1)\n",
    "\n",
    "#Choose the data set to use, classifier EEG-EMG will only work if both modalities are on the safe timeframe\n",
    "data_eeg = data_eeg_1\n",
    "\n",
    "# Define the window size on which we will extract the features\n",
    "# EEG Window \n",
    "win_eeg = 25\n",
    "win_eeg_scaled = np.arange(len(data_eeg))//win_eeg"
   ]
  },
  {
   "cell_type": "code",
   "execution_count": 6,
   "id": "6cf67372",
   "metadata": {
    "scrolled": false
   },
   "outputs": [
    {
     "data": {
      "text/html": [
       "<div>\n",
       "<style scoped>\n",
       "    .dataframe tbody tr th:only-of-type {\n",
       "        vertical-align: middle;\n",
       "    }\n",
       "\n",
       "    .dataframe tbody tr th {\n",
       "        vertical-align: top;\n",
       "    }\n",
       "\n",
       "    .dataframe thead th {\n",
       "        text-align: right;\n",
       "    }\n",
       "</style>\n",
       "<table border=\"1\" class=\"dataframe\">\n",
       "  <thead>\n",
       "    <tr style=\"text-align: right;\">\n",
       "      <th></th>\n",
       "      <th>sample</th>\n",
       "      <th>epoch_ix</th>\n",
       "      <th>rp_class</th>\n",
       "      <th>P2</th>\n",
       "      <th>Oz</th>\n",
       "      <th>P4</th>\n",
       "      <th>POz</th>\n",
       "      <th>FC5</th>\n",
       "      <th>VEOG</th>\n",
       "      <th>CP5</th>\n",
       "      <th>...</th>\n",
       "      <th>P8</th>\n",
       "      <th>O2</th>\n",
       "      <th>PO4</th>\n",
       "      <th>PO8</th>\n",
       "      <th>P1</th>\n",
       "      <th>Pz</th>\n",
       "      <th>FC3</th>\n",
       "      <th>C1</th>\n",
       "      <th>C3</th>\n",
       "      <th>CP3</th>\n",
       "    </tr>\n",
       "  </thead>\n",
       "  <tbody>\n",
       "    <tr>\n",
       "      <th>0</th>\n",
       "      <td>-0.996</td>\n",
       "      <td>1</td>\n",
       "      <td>1</td>\n",
       "      <td>0.000000</td>\n",
       "      <td>0.000000</td>\n",
       "      <td>0.000000</td>\n",
       "      <td>0.000000</td>\n",
       "      <td>0.000000</td>\n",
       "      <td>0.000000</td>\n",
       "      <td>0.000000</td>\n",
       "      <td>...</td>\n",
       "      <td>0.000000</td>\n",
       "      <td>0.000000</td>\n",
       "      <td>0.000000</td>\n",
       "      <td>0.000000</td>\n",
       "      <td>0.000000</td>\n",
       "      <td>0.000000</td>\n",
       "      <td>0.000000</td>\n",
       "      <td>0.000000</td>\n",
       "      <td>0.000000</td>\n",
       "      <td>0.000000</td>\n",
       "    </tr>\n",
       "    <tr>\n",
       "      <th>1</th>\n",
       "      <td>-0.992</td>\n",
       "      <td>1</td>\n",
       "      <td>1</td>\n",
       "      <td>1.933655</td>\n",
       "      <td>0.133655</td>\n",
       "      <td>1.533653</td>\n",
       "      <td>-0.066347</td>\n",
       "      <td>-1.266346</td>\n",
       "      <td>-1.400000</td>\n",
       "      <td>1.033655</td>\n",
       "      <td>...</td>\n",
       "      <td>0.833655</td>\n",
       "      <td>3.433651</td>\n",
       "      <td>1.133659</td>\n",
       "      <td>1.533653</td>\n",
       "      <td>2.133654</td>\n",
       "      <td>1.433655</td>\n",
       "      <td>-0.766346</td>\n",
       "      <td>1.633650</td>\n",
       "      <td>0.333654</td>\n",
       "      <td>2.233654</td>\n",
       "    </tr>\n",
       "    <tr>\n",
       "      <th>2</th>\n",
       "      <td>-0.988</td>\n",
       "      <td>1</td>\n",
       "      <td>1</td>\n",
       "      <td>-0.485260</td>\n",
       "      <td>-0.985265</td>\n",
       "      <td>0.614738</td>\n",
       "      <td>-4.985264</td>\n",
       "      <td>-0.685265</td>\n",
       "      <td>-1.500000</td>\n",
       "      <td>-4.385263</td>\n",
       "      <td>...</td>\n",
       "      <td>-2.585263</td>\n",
       "      <td>-1.785267</td>\n",
       "      <td>-0.685265</td>\n",
       "      <td>-0.585264</td>\n",
       "      <td>2.614737</td>\n",
       "      <td>-0.785267</td>\n",
       "      <td>3.114737</td>\n",
       "      <td>5.914732</td>\n",
       "      <td>2.414736</td>\n",
       "      <td>3.414736</td>\n",
       "    </tr>\n",
       "    <tr>\n",
       "      <th>3</th>\n",
       "      <td>-0.984</td>\n",
       "      <td>1</td>\n",
       "      <td>1</td>\n",
       "      <td>-3.147911</td>\n",
       "      <td>-2.247908</td>\n",
       "      <td>-0.147911</td>\n",
       "      <td>-5.447906</td>\n",
       "      <td>0.852095</td>\n",
       "      <td>-7.699999</td>\n",
       "      <td>-1.247904</td>\n",
       "      <td>...</td>\n",
       "      <td>-3.947905</td>\n",
       "      <td>-7.447906</td>\n",
       "      <td>-4.547901</td>\n",
       "      <td>-2.247906</td>\n",
       "      <td>3.452093</td>\n",
       "      <td>0.252094</td>\n",
       "      <td>5.252094</td>\n",
       "      <td>9.952093</td>\n",
       "      <td>6.852095</td>\n",
       "      <td>4.552094</td>\n",
       "    </tr>\n",
       "    <tr>\n",
       "      <th>4</th>\n",
       "      <td>-0.980</td>\n",
       "      <td>1</td>\n",
       "      <td>1</td>\n",
       "      <td>-5.406136</td>\n",
       "      <td>-3.806142</td>\n",
       "      <td>-0.906143</td>\n",
       "      <td>-7.106142</td>\n",
       "      <td>-3.406141</td>\n",
       "      <td>-3.999999</td>\n",
       "      <td>1.793861</td>\n",
       "      <td>...</td>\n",
       "      <td>-8.106140</td>\n",
       "      <td>-5.106144</td>\n",
       "      <td>-7.506142</td>\n",
       "      <td>-4.706142</td>\n",
       "      <td>2.593857</td>\n",
       "      <td>-1.606144</td>\n",
       "      <td>3.093859</td>\n",
       "      <td>7.093855</td>\n",
       "      <td>7.793859</td>\n",
       "      <td>4.193859</td>\n",
       "    </tr>\n",
       "    <tr>\n",
       "      <th>...</th>\n",
       "      <td>...</td>\n",
       "      <td>...</td>\n",
       "      <td>...</td>\n",
       "      <td>...</td>\n",
       "      <td>...</td>\n",
       "      <td>...</td>\n",
       "      <td>...</td>\n",
       "      <td>...</td>\n",
       "      <td>...</td>\n",
       "      <td>...</td>\n",
       "      <td>...</td>\n",
       "      <td>...</td>\n",
       "      <td>...</td>\n",
       "      <td>...</td>\n",
       "      <td>...</td>\n",
       "      <td>...</td>\n",
       "      <td>...</td>\n",
       "      <td>...</td>\n",
       "      <td>...</td>\n",
       "      <td>...</td>\n",
       "      <td>...</td>\n",
       "    </tr>\n",
       "    <tr>\n",
       "      <th>75995</th>\n",
       "      <td>-0.016</td>\n",
       "      <td>304</td>\n",
       "      <td>2</td>\n",
       "      <td>-0.122493</td>\n",
       "      <td>11.077509</td>\n",
       "      <td>5.477509</td>\n",
       "      <td>-3.422492</td>\n",
       "      <td>-14.922489</td>\n",
       "      <td>52.199997</td>\n",
       "      <td>-7.622490</td>\n",
       "      <td>...</td>\n",
       "      <td>5.177509</td>\n",
       "      <td>-4.922492</td>\n",
       "      <td>6.077508</td>\n",
       "      <td>4.777508</td>\n",
       "      <td>-2.022492</td>\n",
       "      <td>-3.222489</td>\n",
       "      <td>-10.722493</td>\n",
       "      <td>3.277507</td>\n",
       "      <td>19.777509</td>\n",
       "      <td>0.777507</td>\n",
       "    </tr>\n",
       "    <tr>\n",
       "      <th>75996</th>\n",
       "      <td>-0.012</td>\n",
       "      <td>304</td>\n",
       "      <td>2</td>\n",
       "      <td>-1.793477</td>\n",
       "      <td>7.206524</td>\n",
       "      <td>3.706524</td>\n",
       "      <td>-7.693476</td>\n",
       "      <td>-11.293476</td>\n",
       "      <td>49.599998</td>\n",
       "      <td>-6.793478</td>\n",
       "      <td>...</td>\n",
       "      <td>2.806524</td>\n",
       "      <td>-8.393477</td>\n",
       "      <td>0.806524</td>\n",
       "      <td>-0.793478</td>\n",
       "      <td>-1.693478</td>\n",
       "      <td>-5.893475</td>\n",
       "      <td>-10.093478</td>\n",
       "      <td>4.906523</td>\n",
       "      <td>20.806522</td>\n",
       "      <td>1.406522</td>\n",
       "    </tr>\n",
       "    <tr>\n",
       "      <th>75997</th>\n",
       "      <td>-0.008</td>\n",
       "      <td>304</td>\n",
       "      <td>2</td>\n",
       "      <td>-1.064932</td>\n",
       "      <td>5.635070</td>\n",
       "      <td>5.735069</td>\n",
       "      <td>-8.264931</td>\n",
       "      <td>-16.264931</td>\n",
       "      <td>52.999996</td>\n",
       "      <td>-11.064930</td>\n",
       "      <td>...</td>\n",
       "      <td>4.835070</td>\n",
       "      <td>-3.764932</td>\n",
       "      <td>2.035069</td>\n",
       "      <td>-1.864929</td>\n",
       "      <td>-2.464931</td>\n",
       "      <td>-4.664930</td>\n",
       "      <td>-12.464932</td>\n",
       "      <td>2.935068</td>\n",
       "      <td>18.735069</td>\n",
       "      <td>1.335068</td>\n",
       "    </tr>\n",
       "    <tr>\n",
       "      <th>75998</th>\n",
       "      <td>-0.004</td>\n",
       "      <td>304</td>\n",
       "      <td>2</td>\n",
       "      <td>3.231095</td>\n",
       "      <td>7.131098</td>\n",
       "      <td>9.031097</td>\n",
       "      <td>-4.668903</td>\n",
       "      <td>-21.368904</td>\n",
       "      <td>53.799995</td>\n",
       "      <td>-11.568901</td>\n",
       "      <td>...</td>\n",
       "      <td>7.331098</td>\n",
       "      <td>-1.968904</td>\n",
       "      <td>3.631097</td>\n",
       "      <td>1.131096</td>\n",
       "      <td>-0.268904</td>\n",
       "      <td>-2.568902</td>\n",
       "      <td>-13.968905</td>\n",
       "      <td>1.631095</td>\n",
       "      <td>17.631097</td>\n",
       "      <td>2.631095</td>\n",
       "    </tr>\n",
       "    <tr>\n",
       "      <th>75999</th>\n",
       "      <td>0.000</td>\n",
       "      <td>304</td>\n",
       "      <td>2</td>\n",
       "      <td>4.640691</td>\n",
       "      <td>7.640692</td>\n",
       "      <td>10.240692</td>\n",
       "      <td>-4.559308</td>\n",
       "      <td>-20.059311</td>\n",
       "      <td>55.199997</td>\n",
       "      <td>-10.159309</td>\n",
       "      <td>...</td>\n",
       "      <td>8.340692</td>\n",
       "      <td>-5.259309</td>\n",
       "      <td>1.340692</td>\n",
       "      <td>-0.659309</td>\n",
       "      <td>-2.059310</td>\n",
       "      <td>-1.659307</td>\n",
       "      <td>-15.059310</td>\n",
       "      <td>2.640689</td>\n",
       "      <td>18.540690</td>\n",
       "      <td>2.740691</td>\n",
       "    </tr>\n",
       "  </tbody>\n",
       "</table>\n",
       "<p>76000 rows × 23 columns</p>\n",
       "</div>"
      ],
      "text/plain": [
       "       sample  epoch_ix  rp_class        P2         Oz         P4       POz  \\\n",
       "0      -0.996         1         1  0.000000   0.000000   0.000000  0.000000   \n",
       "1      -0.992         1         1  1.933655   0.133655   1.533653 -0.066347   \n",
       "2      -0.988         1         1 -0.485260  -0.985265   0.614738 -4.985264   \n",
       "3      -0.984         1         1 -3.147911  -2.247908  -0.147911 -5.447906   \n",
       "4      -0.980         1         1 -5.406136  -3.806142  -0.906143 -7.106142   \n",
       "...       ...       ...       ...       ...        ...        ...       ...   \n",
       "75995  -0.016       304         2 -0.122493  11.077509   5.477509 -3.422492   \n",
       "75996  -0.012       304         2 -1.793477   7.206524   3.706524 -7.693476   \n",
       "75997  -0.008       304         2 -1.064932   5.635070   5.735069 -8.264931   \n",
       "75998  -0.004       304         2  3.231095   7.131098   9.031097 -4.668903   \n",
       "75999   0.000       304         2  4.640691   7.640692  10.240692 -4.559308   \n",
       "\n",
       "             FC5       VEOG        CP5  ...        P8        O2       PO4  \\\n",
       "0       0.000000   0.000000   0.000000  ...  0.000000  0.000000  0.000000   \n",
       "1      -1.266346  -1.400000   1.033655  ...  0.833655  3.433651  1.133659   \n",
       "2      -0.685265  -1.500000  -4.385263  ... -2.585263 -1.785267 -0.685265   \n",
       "3       0.852095  -7.699999  -1.247904  ... -3.947905 -7.447906 -4.547901   \n",
       "4      -3.406141  -3.999999   1.793861  ... -8.106140 -5.106144 -7.506142   \n",
       "...          ...        ...        ...  ...       ...       ...       ...   \n",
       "75995 -14.922489  52.199997  -7.622490  ...  5.177509 -4.922492  6.077508   \n",
       "75996 -11.293476  49.599998  -6.793478  ...  2.806524 -8.393477  0.806524   \n",
       "75997 -16.264931  52.999996 -11.064930  ...  4.835070 -3.764932  2.035069   \n",
       "75998 -21.368904  53.799995 -11.568901  ...  7.331098 -1.968904  3.631097   \n",
       "75999 -20.059311  55.199997 -10.159309  ...  8.340692 -5.259309  1.340692   \n",
       "\n",
       "            PO8        P1        Pz        FC3        C1         C3       CP3  \n",
       "0      0.000000  0.000000  0.000000   0.000000  0.000000   0.000000  0.000000  \n",
       "1      1.533653  2.133654  1.433655  -0.766346  1.633650   0.333654  2.233654  \n",
       "2     -0.585264  2.614737 -0.785267   3.114737  5.914732   2.414736  3.414736  \n",
       "3     -2.247906  3.452093  0.252094   5.252094  9.952093   6.852095  4.552094  \n",
       "4     -4.706142  2.593857 -1.606144   3.093859  7.093855   7.793859  4.193859  \n",
       "...         ...       ...       ...        ...       ...        ...       ...  \n",
       "75995  4.777508 -2.022492 -3.222489 -10.722493  3.277507  19.777509  0.777507  \n",
       "75996 -0.793478 -1.693478 -5.893475 -10.093478  4.906523  20.806522  1.406522  \n",
       "75997 -1.864929 -2.464931 -4.664930 -12.464932  2.935068  18.735069  1.335068  \n",
       "75998  1.131096 -0.268904 -2.568902 -13.968905  1.631095  17.631097  2.631095  \n",
       "75999 -0.659309 -2.059310 -1.659307 -15.059310  2.640689  18.540690  2.740691  \n",
       "\n",
       "[76000 rows x 23 columns]"
      ]
     },
     "execution_count": 6,
     "metadata": {},
     "output_type": "execute_result"
    }
   ],
   "source": [
    "data_eeg"
   ]
  },
  {
   "cell_type": "code",
   "execution_count": 7,
   "id": "af3f6db1",
   "metadata": {
    "scrolled": true
   },
   "outputs": [],
   "source": [
    "#EEG 1st DataFrame\n",
    "win_eeg_mean = data_eeg.groupby(win_eeg_scaled).mean() "
   ]
  },
  {
   "cell_type": "markdown",
   "id": "a262dbb0",
   "metadata": {},
   "source": [
    "<font size=\"4\">    <b>Data frames</b>\n",
    "    \n",
    "From the imported data structure to the final structure adapted for the following classification."
   ]
  },
  {
   "cell_type": "code",
   "execution_count": 8,
   "id": "1a76522d",
   "metadata": {
    "scrolled": true
   },
   "outputs": [],
   "source": [
    "#EEG\n",
    "df_eeg = win_eeg_mean.pivot(index=['epoch_ix', 'rp_class'], columns='sample', values=win_eeg_mean.columns[3:].tolist())\n",
    "df_eeg.reset_index(inplace=True)\n"
   ]
  },
  {
   "cell_type": "markdown",
   "id": "385f600c",
   "metadata": {},
   "source": [
    "<font size=\"4\">    <b>Linear Discriminent Analysis</b>"
   ]
  },
  {
   "cell_type": "markdown",
   "id": "55568d1a",
   "metadata": {},
   "source": [
    "<font size=\"3\">    <b>EEG</b>"
   ]
  },
  {
   "cell_type": "code",
   "execution_count": 11,
   "id": "89ac01e0",
   "metadata": {},
   "outputs": [
    {
     "name": "stdout",
     "output_type": "stream",
     "text": [
      "0.7175268817204301\n",
      "0.05303604709623829\n"
     ]
    }
   ],
   "source": [
    "Xeeg = df_eeg.iloc[:,2:].values\n",
    "yeeg = np.asarray(df_eeg['rp_class'])\n",
    "\n",
    "clf_eeg = LDA(solver='lsqr', shrinkage='auto')\n",
    "\n",
    "clf_eeg.fit(Xeeg, yeeg)\n",
    "\n",
    "# splits data randomly in n=folds \n",
    "kfolds = KFold(n_splits=10, random_state=1, shuffle=True) \n",
    "\n",
    "cv_results = cross_val_score(clf_eeg, Xeeg, yeeg, cv=kfolds)\n",
    "cv_average = cv_results.mean()\n",
    "st_deviation = cv_results.std()\n",
    "print(cv_average)\n",
    "print(st_deviation)\n",
    "pred_y_eeg = cross_val_predict(clf_eeg, Xeeg, yeeg, cv=kfolds)"
   ]
  },
  {
   "cell_type": "markdown",
   "id": "236c6f35",
   "metadata": {},
   "source": [
    "<font size=\"3\">    <b>Classification metrics - EMG</b>"
   ]
  },
  {
   "cell_type": "markdown",
   "id": "50860812",
   "metadata": {},
   "source": [
    "<font size=\"5\">     <b>II. Time serie representation (only done for EEG yet)</b>"
   ]
  },
  {
   "cell_type": "markdown",
   "id": "3620ad5e",
   "metadata": {},
   "source": [
    "Test the previously trained classifier on sliding windows over time.\n",
    "Rather than testing the classifier on the whole stream of data, I will test it only on the interval [-2, 1] which should be enough, it would then speed up the processing delay.\n",
    "\n",
    "This includes the following steps: Time interest definition - Baseline correction - Features extraction - Probability calculation - DataFrame and plot\n",
    "\n",
    "<font size=\"3\" color='red'>    <b>Load the data and keep 20 best EEG</b>"
   ]
  },
  {
   "cell_type": "code",
   "execution_count": 12,
   "id": "1aac9422",
   "metadata": {},
   "outputs": [],
   "source": [
    "pathe = '/Users/willy/Documents/GitHub/2021-fastReach/data/study/eeglab2python/4/\\eeg.csv'\n",
    "pathm = '/Users/willy/Documents/GitHub/2021-fastReach/data/study/eeglab2python/4/\\motion.csv'\n",
    "pathchan = '/Users/willy/Documents/GitHub/2021-fastReach/data/study/eeglab2python/4/\\chans_rp-win_-1-0.csv'\n",
    "move = pd.read_csv('/Users/willy/Documents/GitHub/2021-fastReach/data/study/eeglab2python/4/\\motion_onset_event_latencies.csv', header = None)\n",
    "move = move.values[0]\n",
    "\n",
    "chan = pd.read_csv(pathchan, header=None)\n",
    "eeg = pd.read_csv(pathe, header=None) # , dtype='float16'\n",
    "velocity = pd.read_csv(pathm, header=None) # , dtype='float16'\n",
    "\n",
    "# Select the best chans from the csv file to filter the eeg data\n",
    "eeg_b = []\n",
    "for i in chan.iloc[1:,0].astype(int)-1:  \n",
    "    eeg_b.append(eeg.iloc[i,:])\n",
    "eeg_b = pd.DataFrame(eeg_b)"
   ]
  },
  {
   "cell_type": "markdown",
   "id": "187a5baa",
   "metadata": {},
   "source": [
    "<font size=\"3\" color='red'>    <b>Extract the time frame of interest around the movement onset</b>"
   ]
  },
  {
   "cell_type": "code",
   "execution_count": 13,
   "id": "df553f93",
   "metadata": {
    "scrolled": true
   },
   "outputs": [],
   "source": [
    "# Number of sample before and after movement onset\n",
    "b_onset = 2000\n",
    "a_onset = 1000\n",
    "onset = move[:-1] # Adjust according to the number of onset we want to consider\n",
    "\n",
    "# Extract this for the velocity\n",
    "actual_velocity = np.zeros((len(onset), (b_onset + a_onset)))\n",
    "\n",
    "# For EEG Let's create a matrix with row = epoch, columns = epoch duration and 3D = nb_chan\n",
    "epoch = np.zeros((len(onset), (b_onset + a_onset), eeg_b.shape[0]))\n",
    "\n",
    "for k in range(len(onset)):\n",
    "   \n",
    "    for j in range(eeg_b.shape[0]):\n",
    "    \n",
    "        epoch[k, 0:(b_onset + a_onset), j] = eeg_b.iloc[j, onset[k]-b_onset:onset[k]+a_onset]\n",
    "       \n",
    "        actual_velocity[k, :] = velocity.iloc[0, onset[k]-b_onset:onset[k]+a_onset]"
   ]
  },
  {
   "cell_type": "markdown",
   "id": "c6fc0f20",
   "metadata": {},
   "source": [
    "<font size=\"3\" color='red'>    <b>Baseline correction: I think this messes up the final result</b>"
   ]
  },
  {
   "cell_type": "code",
   "execution_count": 14,
   "id": "e24c7897",
   "metadata": {},
   "outputs": [],
   "source": [
    "#Try base line correction at the beginning of the epoch only, and each 250 trial as well\n",
    "epoch_cor = np.zeros((epoch.shape))\n",
    "\n",
    "for k in range(len(onset)):\n",
    "    \n",
    "    for j in range(eeg_b.shape[0]):\n",
    "        \n",
    "        for i in range((b_onset+a_onset)//250):\n",
    "            \n",
    "            epoch_cor[k, (250*i):250+(250*i), j] = epoch[k, (250*i):250+(250*i), j] - epoch[k, 250*i, j]"
   ]
  },
  {
   "cell_type": "markdown",
   "id": "dabf6385",
   "metadata": {},
   "source": [
    "<font size=\"3\" color='red'>    <b>EEG Feature extraction</b>"
   ]
  },
  {
   "cell_type": "code",
   "execution_count": 15,
   "id": "37f269ac",
   "metadata": {
    "scrolled": false
   },
   "outputs": [],
   "source": [
    "# (i and j) Extract the feature of size win_eeg 10 times per window on each channel. Each window is 250 samples.\n",
    "# (l) Slide the window by x samples and repeat the extraction.\n",
    "# (k) Switch to the next onset and repeat the process\n",
    "# Output 'feat' with dim1 = onsets, dim2 = features, dim3 = number of windows\n",
    "\n",
    "fs = 250\n",
    "nb_feat = fs//win_eeg\n",
    "sld_size = 1\n",
    "\n",
    "feat = np.zeros((len(epoch_cor), nb_feat*epoch_cor.shape[2], (epoch_cor.shape[1]//sld_size) - fs + sld_size))\n",
    "\n",
    "for k in range(len(epoch_cor)):             # Onset index\n",
    "    for l in range(feat.shape[2]):          # Window index\n",
    "        for j in range(epoch_cor.shape[2]): # Channel index\n",
    "            for i in range(nb_feat):        # Feature index\n",
    "                feat[k, i+10*j, l] = np.mean(epoch_cor[k, (win_eeg*i)+(sld_size*l):win_eeg+(win_eeg*i)+(sld_size*l), j])"
   ]
  },
  {
   "cell_type": "code",
   "execution_count": 16,
   "id": "3ff96462",
   "metadata": {},
   "outputs": [
    {
     "data": {
      "text/plain": [
       "(178, 200, 2751)"
      ]
     },
     "execution_count": 16,
     "metadata": {},
     "output_type": "execute_result"
    }
   ],
   "source": [
    "feat.shape"
   ]
  },
  {
   "cell_type": "markdown",
   "id": "8da61dc0",
   "metadata": {},
   "source": [
    "<font size=\"3\" color='red'>    <b>Probability extraction</b>"
   ]
  },
  {
   "cell_type": "code",
   "execution_count": 17,
   "id": "dd31c55f",
   "metadata": {},
   "outputs": [],
   "source": [
    "# Calculate the probability of predicting an RP based on the EEG classifier previously trained.\n",
    "# Let's output a matrix with Dim1 = onset and Dim2 = number of windows\n",
    "\n",
    "proba = np.zeros((feat.shape[0], feat.shape[2]))\n",
    "\n",
    "for k in range(len(epoch_cor)):\n",
    "    \n",
    "    for l in range(feat.shape[2]):\n",
    "        \n",
    "        proba[k, l] = clf_eeg.predict_proba(feat[k, :, l].reshape(1, -1))[0][1]"
   ]
  },
  {
   "cell_type": "markdown",
   "id": "38b49add",
   "metadata": {},
   "source": [
    "<font size=\"3\" color='red'>    <b>Final DataFrame and representation</b>"
   ]
  },
  {
   "cell_type": "code",
   "execution_count": 18,
   "id": "e506444f",
   "metadata": {
    "scrolled": true
   },
   "outputs": [
    {
     "data": {
      "text/html": [
       "<div>\n",
       "<style scoped>\n",
       "    .dataframe tbody tr th:only-of-type {\n",
       "        vertical-align: middle;\n",
       "    }\n",
       "\n",
       "    .dataframe tbody tr th {\n",
       "        vertical-align: top;\n",
       "    }\n",
       "\n",
       "    .dataframe thead th {\n",
       "        text-align: right;\n",
       "    }\n",
       "</style>\n",
       "<table border=\"1\" class=\"dataframe\">\n",
       "  <thead>\n",
       "    <tr style=\"text-align: right;\">\n",
       "      <th></th>\n",
       "      <th>Time</th>\n",
       "      <th>Velocity</th>\n",
       "      <th>Probability</th>\n",
       "    </tr>\n",
       "  </thead>\n",
       "  <tbody>\n",
       "    <tr>\n",
       "      <th>0</th>\n",
       "      <td>-2.000</td>\n",
       "      <td>0.122760</td>\n",
       "      <td>0.993163</td>\n",
       "    </tr>\n",
       "    <tr>\n",
       "      <th>1</th>\n",
       "      <td>-1.999</td>\n",
       "      <td>0.125185</td>\n",
       "      <td>0.993703</td>\n",
       "    </tr>\n",
       "    <tr>\n",
       "      <th>2</th>\n",
       "      <td>-1.998</td>\n",
       "      <td>0.127291</td>\n",
       "      <td>0.993465</td>\n",
       "    </tr>\n",
       "    <tr>\n",
       "      <th>3</th>\n",
       "      <td>-1.997</td>\n",
       "      <td>0.128936</td>\n",
       "      <td>0.993013</td>\n",
       "    </tr>\n",
       "    <tr>\n",
       "      <th>4</th>\n",
       "      <td>-1.996</td>\n",
       "      <td>0.129975</td>\n",
       "      <td>0.991822</td>\n",
       "    </tr>\n",
       "    <tr>\n",
       "      <th>...</th>\n",
       "      <td>...</td>\n",
       "      <td>...</td>\n",
       "      <td>...</td>\n",
       "    </tr>\n",
       "    <tr>\n",
       "      <th>489673</th>\n",
       "      <td>0.746</td>\n",
       "      <td>0.015537</td>\n",
       "      <td>0.911570</td>\n",
       "    </tr>\n",
       "    <tr>\n",
       "      <th>489674</th>\n",
       "      <td>0.747</td>\n",
       "      <td>0.015919</td>\n",
       "      <td>0.917806</td>\n",
       "    </tr>\n",
       "    <tr>\n",
       "      <th>489675</th>\n",
       "      <td>0.748</td>\n",
       "      <td>0.016351</td>\n",
       "      <td>0.921455</td>\n",
       "    </tr>\n",
       "    <tr>\n",
       "      <th>489676</th>\n",
       "      <td>0.749</td>\n",
       "      <td>0.016591</td>\n",
       "      <td>0.922231</td>\n",
       "    </tr>\n",
       "    <tr>\n",
       "      <th>489677</th>\n",
       "      <td>0.750</td>\n",
       "      <td>0.016743</td>\n",
       "      <td>0.925935</td>\n",
       "    </tr>\n",
       "  </tbody>\n",
       "</table>\n",
       "<p>489678 rows × 3 columns</p>\n",
       "</div>"
      ],
      "text/plain": [
       "         Time  Velocity  Probability\n",
       "0      -2.000  0.122760     0.993163\n",
       "1      -1.999  0.125185     0.993703\n",
       "2      -1.998  0.127291     0.993465\n",
       "3      -1.997  0.128936     0.993013\n",
       "4      -1.996  0.129975     0.991822\n",
       "...       ...       ...          ...\n",
       "489673  0.746  0.015537     0.911570\n",
       "489674  0.747  0.015919     0.917806\n",
       "489675  0.748  0.016351     0.921455\n",
       "489676  0.749  0.016591     0.922231\n",
       "489677  0.750  0.016743     0.925935\n",
       "\n",
       "[489678 rows x 3 columns]"
      ]
     },
     "execution_count": 18,
     "metadata": {},
     "output_type": "execute_result"
    }
   ],
   "source": [
    "# The objective is to represent the probability of RP prediction on the a certain interval of time around the movement onset.\n",
    "# So let's build a data frame with the following columns: ['Time', 'Velocity', 'Probability']\n",
    "time = np.arange(-b_onset, proba.shape[1] - b_onset)/1000\n",
    "m_time = np.tile(time, (1, len(epoch_cor))).transpose()\n",
    "f_time = np.reshape(m_time, len(m_time))\n",
    "\n",
    "f_proba = np.reshape(proba, len(f_time))\n",
    "\n",
    "m_velocity = actual_velocity[:, :proba.shape[1]]\n",
    "f_velocity = np.reshape(m_velocity, len(f_time))\n",
    "\n",
    "f_data = np.zeros((len(f_time), 3))\n",
    "f_data[:,0] = f_time\n",
    "f_data[:,1] = f_velocity * 1000\n",
    "f_data[:,2] = f_proba\n",
    "final = pd.DataFrame(f_data, columns=['Time', 'Velocity', 'Probability'])\n",
    "final"
   ]
  },
  {
   "cell_type": "code",
   "execution_count": 21,
   "id": "0799011c",
   "metadata": {},
   "outputs": [
    {
     "data": {
      "text/plain": [
       "<matplotlib.legend.Legend at 0x2b7a164adc0>"
      ]
     },
     "execution_count": 21,
     "metadata": {},
     "output_type": "execute_result"
    },
    {
     "data": {
      "image/png": "[encoded data removed]",
      "text/plain": [
       "<Figure size 864x432 with 2 Axes>"
      ]
     },
     "metadata": {},
     "output_type": "display_data"
    }
   ],
   "source": [
    "figure(figsize=(12, 6))\n",
    "\n",
    "# Velocity\n",
    "sns.set_theme(context='talk', style='ticks')\n",
    "ep_move = sns.lineplot(data=final, x='Time', y='Velocity', color='k', legend=False)\n",
    "\n",
    "ep_move.set(xlabel='seconds (s)', ylabel=\"Velocity ($m.s^{-1}$)\")\n",
    "\n",
    "# Movement onset\n",
    "plt.axvline(0, color='black', label = 'onset', linestyle ='--')\n",
    "\n",
    "# Probability\n",
    "ax2 = plt.twinx()\n",
    "ax2.set_ylabel('Probability', color='r')\n",
    "ax2.spines['right'].set_color('r')\n",
    "ax2.tick_params(axis='y', colors='r')\n",
    "ep_prob = sns.lineplot(data=final, x='Time', y='Probability', ax=ax2, color='r', legend=False)\n",
    "plt.ylim((0,1))\n",
    "# legend\n",
    "ep_prob.legend(loc='upper left', handles=[Line2D([], [], marker='_', color=\"k\", label='Velocity'), \n",
    "                                          Line2D([], [], marker='_', color=\"r\", label='Probability')])"
   ]
  },
  {
   "cell_type": "code",
   "execution_count": 20,
   "id": "da998acb",
   "metadata": {},
   "outputs": [
    {
     "data": {
      "text/plain": [
       "-0.25"
      ]
     },
     "execution_count": 20,
     "metadata": {},
     "output_type": "execute_result"
    }
   ],
   "source": [
    "final['Time'][np.argmin(final.groupby(['Time'])['Probability'].mean())]"
   ]
  }
 ],
 "metadata": {
  "kernelspec": {
   "display_name": "Python 3 (ipykernel)",
   "language": "python",
   "name": "python3"
  },
  "language_info": {
   "codemirror_mode": {
    "name": "ipython",
    "version": 3
   },
   "file_extension": ".py",
   "mimetype": "text/x-python",
   "name": "python",
   "nbconvert_exporter": "python",
   "pygments_lexer": "ipython3",
   "version": "3.9.7"
  }
 },
 "nbformat": 4,
 "nbformat_minor": 5
}
