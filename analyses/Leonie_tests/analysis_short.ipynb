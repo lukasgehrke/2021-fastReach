{
 "cells": [
  {
   "attachments": {},
   "cell_type": "markdown",
   "metadata": {},
   "source": [
    "# analysis fastReach "
   ]
  },
  {
   "attachments": {},
   "cell_type": "markdown",
   "metadata": {},
   "source": [
    "# 1. general prep\n"
   ]
  },
  {
   "cell_type": "code",
   "execution_count": null,
   "metadata": {},
   "outputs": [],
   "source": [
    "\n",
    "# load packages\n",
    "import numpy as np\n",
    "import pandas as pd\n",
    "import seaborn as sns\n",
    "import statsmodels.formula.api as smf\n",
    "from scipy import stats\n",
    "import seaborn as sns\n",
    "import matplotlib.pyplot as plt\n",
    "from statannotations.Annotator import Annotator\n",
    "# %load_ext rpy2.ipython # currently not needed\n",
    "import glob\n",
    "\n",
    "from wordcloud import WordCloud, STOPWORDS\n",
    "#from nltk.corpus import stopwords\n",
    "from vaderSentiment.vaderSentiment import SentimentIntensityAnalyzer\n",
    "\n",
    "import pymer4 as pymer4\n",
    "\n",
    "#for anova\n",
    "from statsmodels.stats.multicomp import pairwise_tukeyhsd\n",
    "from statsmodels.stats.anova import AnovaRM\n",
    "from statannot import add_stat_annotation\n"
   ]
  },
  {
   "cell_type": "code",
   "execution_count": null,
   "metadata": {},
   "outputs": [],
   "source": [
    "# set repository\n",
    "# p= \"C://Users/terfu/Desktop/2021-fastReach/data/study/\" #repository for output\n",
    "p = '/Volumes/Lukas_Gehrke/fastReach/data/'"
   ]
  },
  {
   "attachments": {},
   "cell_type": "markdown",
   "metadata": {},
   "source": [
    "# 2. temporal binding\n"
   ]
  },
  {
   "attachments": {},
   "cell_type": "markdown",
   "metadata": {},
   "source": [
    "\n",
    "## prep\n",
    "### load data"
   ]
  },
  {
   "cell_type": "code",
   "execution_count": null,
   "metadata": {},
   "outputs": [],
   "source": [
    "# load data\n",
    "behavior_raw= pd.read_csv( p + 'PI_results_design.csv')\n",
    "\n",
    "\n",
    "\n",
    "# set data types\n",
    "behavior_raw[['ed','rt']] = behavior_raw[['ed','rt']].apply(pd.to_numeric, axis=1)\n",
    "\n",
    "behavior_raw['rd'] = behavior_raw['rd'].astype(\"string\")  # needs to be string before category for R conversion\n",
    "\n",
    "behavior_raw[['rd','condition']] = behavior_raw[['rd','condition']].astype(\"category\")\n",
    "\n",
    "\n",
    "# delete VP 18 (did not follow instructions in block 3)\n",
    "\n",
    "behavior_raw =  behavior_raw.loc[behavior_raw[\"id\"] !=18]\n",
    "\n"
   ]
  },
  {
   "cell_type": "markdown",
   "metadata": {},
   "source": [
    "### check raw data (rection times and estimated times)\n"
   ]
  },
  {
   "cell_type": "code",
   "execution_count": null,
   "metadata": {},
   "outputs": [],
   "source": [
    "fig, ax = plt.subplots()\n",
    "hist = sns.histplot(behavior_raw, x = 'rt',ax =ax, hue = 'id')\n",
    "#ax.set_xlim(0,5) # remove outliers for visualization\n",
    "\n",
    "fig, ax = plt.subplots()\n",
    "hist = sns.histplot(behavior_raw, x = 'ed',ax =ax, hue = 'id')\n",
    "\n",
    "\n",
    "fig, ax = plt.subplots()\n",
    "hist = sns.histplot(behavior_raw, x = 'delta_tap_ems',ax =ax, hue = 'id')\n",
    "ax.set_xlim(0,5) # remove outliers for visualization"
   ]
  },
  {
   "cell_type": "markdown",
   "metadata": {},
   "source": [
    "### clean data"
   ]
  },
  {
   "cell_type": "code",
   "execution_count": null,
   "metadata": {},
   "outputs": [],
   "source": [
    "# removes outliers trials that have outliers either in rt or ed\n",
    "#@Lukas: do we want to remove only extreme or all outliers?\n",
    "\n",
    "cols = ['rt', 'ed','delta_tap_ems'] # relevant cols\n",
    "\n",
    "# calculate quantiles and IQR\n",
    "Q1 = behavior_raw[cols].quantile(0.25) # Same as np.percentile but maps (0,1) and not (0,100)\n",
    "Q3 = behavior_raw[cols].quantile(0.75)\n",
    "IQR = Q3 - Q1\n",
    "\n",
    "# return a boolean array of the rows with (any) non-outlier column values\n",
    "condition = ~((behavior_raw[cols] < (Q1 - 3 * IQR)) | (behavior_raw[cols] > (Q3 + 3 * IQR))).any(axis=1)\n",
    "\n",
    "# filter our dataframe based on condition\n",
    "behavior = behavior_raw[condition]\n",
    "behavior_del = behavior_raw[-condition]"
   ]
  },
  {
   "cell_type": "code",
   "execution_count": null,
   "metadata": {},
   "outputs": [],
   "source": [
    "# check outlier removel\n",
    "\n",
    "#count deleted trials\n",
    "print('Deleted trials:',len(behavior_del))\n",
    "\n",
    "#per pID\n",
    "print('Deleted trials per pID')\n",
    "print(behavior_del['id'].value_counts())\n",
    "\n",
    "print('mean')\n",
    "print(behavior_del['id'].value_counts().mean())\n",
    "print('sd')\n",
    "print(behavior_del['id'].value_counts().std())\n",
    "\n",
    "#per condition\n",
    "print('Deleted trials per condition')\n",
    "print(behavior_del['condition'].value_counts())\n",
    "print('mean')\n",
    "print(behavior_del['condition'].value_counts().mean())\n",
    "print('sd')\n",
    "print(behavior_del['condition'].value_counts().std())\n",
    "\n",
    "print(len(behavior))\n"
   ]
  },
  {
   "cell_type": "code",
   "execution_count": null,
   "metadata": {},
   "outputs": [],
   "source": [
    "#check new data\n",
    "\n",
    "fig, ax = plt.subplots()\n",
    "hist = sns.histplot(behavior, x = 'rt',ax =ax, hue = 'id')\n",
    "#ax.set_xlim(0,5) # remove outliers for visualization\n",
    "\n",
    "fig, ax = plt.subplots()\n",
    "hist = sns.histplot(behavior, x = 'ed',ax =ax, hue = 'id')\n",
    "\n",
    "fig, ax = plt.subplots()\n",
    "hist = sns.histplot(behavior, x = 'delta_tap_ems',ax =ax, hue = 'id')\n"
   ]
  },
  {
   "cell_type": "code",
   "execution_count": null,
   "metadata": {},
   "outputs": [],
   "source": []
  },
  {
   "cell_type": "markdown",
   "metadata": {},
   "source": [
    "## plot\n",
    "### prep plot"
   ]
  },
  {
   "cell_type": "code",
   "execution_count": null,
   "metadata": {},
   "outputs": [],
   "source": [
    "# with stimulation condition + time condition+ rd as y\n",
    "\n",
    "behavior[['rd']] = behavior[['rd']].apply(pd.to_numeric, axis=1)\n",
    "behavior[['ed']] = behavior[['ed']].apply(pd.to_numeric, axis=1)\n",
    "# diff = ed - 350 because 350 is the mean of the different time intervals; maybe add *-1  to adapt direction of the plot\n",
    "behavior[\"diff\"]= behavior['ed']\n",
    "behavior[['rd']] = behavior[['rd']].astype(\"category\")\n",
    "\n",
    "\n",
    "####tbd - change diff to rd-ed to get positive value for understimation\n",
    "#behavior[\"diff\"] = behavior[\"diff\"]*-1\n",
    "\n",
    "behavior_means = behavior.groupby(['id','condition'],as_index=False)['diff'].mean()\n",
    "\n",
    "palette = ['#576683', '#E4f392', '#337775']\n",
    "\n",
    "cats= ['baseline','ems_random','ems_bci'] \n",
    "ylabel = 'ed -350'\n",
    "xlabel = 'condition'\n",
    "title = 'temporal_binding'\n",
    "data = behavior\n",
    "data_means = behavior_means\n",
    "y = 'diff'\n",
    "x = \"condition\"\n",
    "hue = \"id\"\n",
    "hue2 = 'rd'\n",
    "\n"
   ]
  },
  {
   "cell_type": "markdown",
   "metadata": {},
   "source": [
    "### plot\n"
   ]
  },
  {
   "cell_type": "markdown",
   "metadata": {},
   "source": [
    "@ Lukas: double check; does this make sense to you?\n",
    "\n",
    " I used diff (ed-rd) as the depent measure. This basically describes the underestimation of the duration between touch and tone. Larger negative values describe larger underestimation, i.e., interval was 200 ms (rd)  but was estimated 100ms (ed), the dependet measure would be -100 ms. A value of 0 depicts a matching estimate. \n",
    "\n",
    "We assume that high agency leads to increased underestimation (temporal binding), therewith the baseline should have the lowest vaule, passive the highest (around 0) and agency should be somewhere inbetween. "
   ]
  },
  {
   "cell_type": "markdown",
   "metadata": {},
   "source": [
    "Would it make sense to invert the graphic/diff (*-1) - because high in underestimation is connected to high agency = both graphics would go the same direction.\n"
   ]
  },
  {
   "cell_type": "code",
   "execution_count": null,
   "metadata": {},
   "outputs": [],
   "source": [
    "# runs plot but needs post processing in affinty desiger\n",
    "cats_0 = data[data[x]==cats[0]]\n",
    "cats_1 = data[data[x]==cats[1]]\n",
    "cats_2 = data[data[x]==cats[2]]\n",
    "\n",
    "pairs = [(cats[0], cats[1],cats[2])]\n",
    "\n",
    "\n",
    "with sns.plotting_context('paper', font_scale = 1.8):\n",
    "\n",
    "    ### Create new plot\n",
    "    fig, ax = plt.subplots(1, 1, figsize=(4,4))\n",
    "    fig.patch.set_alpha(1)\n",
    "\n",
    "    sns.despine() #bottom=True, left=True\n",
    "\n",
    "        # show boxplots\n",
    "    ax = sns.boxplot(data = data,x = x, y = y,  order= ['baseline','ems_random','ems_bci'] ,  palette= palette )\n",
    "    for patch in ax.patches: # adapt alpha\n",
    "            r, g, b, a = patch.get_facecolor()\n",
    "            patch.set_facecolor((r, g, b, .9))\n",
    "\n",
    "    # show line connecting means\n",
    "    ax =  sns.pointplot(data = data,x = x, y = y, markers=\"s\" ,color = 'black', order = cats)\n",
    "    \n",
    "     #  show lines connecting pid means observations    \n",
    "    ax = sns.lineplot(data = data_means, x = x, y = y,hue = hue, palette = sns.color_palette(['black'],8),legend = False,alpha=0.4)\n",
    "    \n",
    "    ax = sns.scatterplot(data=data_means, x=x, y=y,s=10, legend= True, marker=\"s\",color = 'black',edgecolor = 'black',alpha=0.4)\n",
    "        \n",
    "    # ax.invert_yaxis()\n",
    "    # add_stat_annotation(ax, data=data, x=x, y=y, box_pairs=[(\"baseline\", \"ems_random\"), (\"baseline\", \"ems_bci\"), ('ems_random', 'ems_bci')], test='t-test_paired', text_format='star', loc='outside', verbose=2)\n",
    "\n",
    "    handles, labels = ax.get_legend_handles_labels()  \n",
    "    \n",
    "    #plt.legend(handles[3:6],labels[3:6],frameon=True,loc = 'upper left',labelspacing =0.3)\n",
    "    \n",
    "    # label_plot_for_subcats(ax)\n",
    "    ax.set_title(title)\n",
    "    ax.set_ylabel(ylabel)\n",
    "    ax.set_xlabel(xlabel)\n",
    "    \n",
    "    plt.show()\n",
    "\n",
    "fig.savefig('results/'+title + '_'+'.eps', format='eps', transparent=True, bbox_inches='tight', dpi=300)\n",
    "fig.savefig('results/'+title + '_'+'.svg', format='svg', transparent=True, bbox_inches='tight', dpi=300)\n",
    "fig.savefig('results/'+title + '_' +'.png', format='png', transparent=True, bbox_inches='tight', dpi=300)"
   ]
  },
  {
   "attachments": {},
   "cell_type": "markdown",
   "metadata": {},
   "source": [
    "## anaysis\n"
   ]
  },
  {
   "cell_type": "markdown",
   "metadata": {},
   "source": [
    "### descriptive"
   ]
  },
  {
   "cell_type": "code",
   "execution_count": null,
   "metadata": {},
   "outputs": [],
   "source": [
    "# descreptive\n",
    "print(behavior.groupby('condition')['ed'].agg(['mean','std']))\n",
    "\n",
    "#print(behavior.groupby('rd')['diff'].agg(['mean','std']))\n",
    "\n"
   ]
  },
  {
   "cell_type": "markdown",
   "metadata": {},
   "source": [
    "### LMM"
   ]
  },
  {
   "attachments": {},
   "cell_type": "markdown",
   "metadata": {},
   "source": [
    "#### prep\n",
    "- witched from rpy2 to pymer4, because it is less annoying with importing / exporting from python to R\n",
    "- not sure if of this is still necessary, but since pymer4 is based on rpy2, this might be the case"
   ]
  },
  {
   "cell_type": "code",
   "execution_count": null,
   "metadata": {},
   "outputs": [],
   "source": [
    "# packnames = ('lme4', 'lmerTest', 'emmeans', 'geepack', 'sjPlot')\n",
    "# from rpy2.robjects.packages import importr\n",
    "# from rpy2.robjects.vectors import StrVector\n",
    "# utils = importr(\"utils\")\n",
    "# utils.chooseCRANmirror(ind=1)"
   ]
  },
  {
   "cell_type": "code",
   "execution_count": null,
   "metadata": {},
   "outputs": [],
   "source": [
    "# packnames = ('lme4', 'lmerTest', 'emmeans', 'geepack', 'sjPlot', 'Matrix')\n",
    "# from rpy2.robjects.vectors import StrVector\n",
    "# utils.install_packages(StrVector(packnames))\n"
   ]
  },
  {
   "cell_type": "markdown",
   "metadata": {},
   "source": [
    "#### built models"
   ]
  },
  {
   "cell_type": "code",
   "execution_count": null,
   "metadata": {},
   "outputs": [],
   "source": [
    "from pymer4.models import Lmer"
   ]
  },
  {
   "cell_type": "code",
   "execution_count": null,
   "metadata": {},
   "outputs": [],
   "source": [
    "# full model\n",
    "\n",
    "full_model = Lmer(\"diff ~ condition + (1|id)\", data = behavior)\n",
    "display(full_model.fit(REML = False, factors={\"condition\": [\"baseline\", \"ems_random\", \"ems_bci\"]}))\n",
    "#full_model.plot_summary()"
   ]
  },
  {
   "attachments": {},
   "cell_type": "markdown",
   "metadata": {},
   "source": [
    "\n",
    "#### define null models"
   ]
  },
  {
   "cell_type": "code",
   "execution_count": null,
   "metadata": {},
   "outputs": [],
   "source": [
    "\n",
    "# null model without stimulation condition \n",
    "null_model = Lmer(\"diff ~ (1|id)\", data = behavior)\n",
    "null_model.fit(REML = False, summarize=False)\n"
   ]
  },
  {
   "attachments": {},
   "cell_type": "markdown",
   "metadata": {},
   "source": [
    "#### liklyhood ratio tests\n",
    "\n"
   ]
  },
  {
   "attachments": {},
   "cell_type": "markdown",
   "metadata": {},
   "source": [
    "stimulation condition"
   ]
  },
  {
   "cell_type": "code",
   "execution_count": null,
   "metadata": {},
   "outputs": [],
   "source": [
    "pymer4.stats.lrt([null_model,full_model])"
   ]
  },
  {
   "attachments": {},
   "cell_type": "markdown",
   "metadata": {},
   "source": [
    "temp condition"
   ]
  },
  {
   "attachments": {},
   "cell_type": "markdown",
   "metadata": {},
   "source": [
    "#### post hoc test"
   ]
  },
  {
   "attachments": {},
   "cell_type": "markdown",
   "metadata": {},
   "source": [
    "TODO check wether this post_hoc test is correct"
   ]
  },
  {
   "cell_type": "markdown",
   "metadata": {},
   "source": [
    "\n",
    " @Lukas: Hier bin ich mir nicht sicher, ob man d as einfach so machen kann. Bzw. Also pairwise t-test mit dem full model. \n",
    "- in dem 2019 CPS Paper wird die Quelle verwendet für post-hoc test\n",
    " check - Wilcoxon, F.: Individual comparisons by ranking methods. Biom. Bull. 1(6), 80\n",
    "(1945) \n",
    "- der code kommt von hier:  http://eshinjolly.com/pymer4/auto_examples/example_03_posthoc.html\n",
    "\n"
   ]
  },
  {
   "cell_type": "code",
   "execution_count": null,
   "metadata": {},
   "outputs": [],
   "source": [
    "# post hoc test condition\n",
    "marginal_estimates, comparisons = full_model.post_hoc(\n",
    "    marginal_vars=\"condition\",p_adjust = \"bonf\")\n",
    "\n",
    "print(comparisons)\n"
   ]
  },
  {
   "attachments": {},
   "cell_type": "markdown",
   "metadata": {},
   "source": [
    "# 3. subjective data\n",
    "\n"
   ]
  },
  {
   "cell_type": "code",
   "execution_count": null,
   "metadata": {},
   "outputs": [],
   "source": [
    "questionaire= pd.read_excel(p + 'questionaire.xlsx') \n",
    "\n",
    "good_pid = ['12', '14', '15', '16', '17', '19', '20', '21']\n",
    "questionaire['pID'] = questionaire['pID'].astype(str)\n",
    "questionaire = questionaire.loc[questionaire['pID'].isin(good_pid)]\n",
    "\n",
    "\n",
    "questionaire_long = questionaire.melt(id_vars= ['pID'],value_vars=['baseline','passive','agency'])"
   ]
  },
  {
   "attachments": {},
   "cell_type": "markdown",
   "metadata": {},
   "source": [
    "### plot control"
   ]
  },
  {
   "cell_type": "code",
   "execution_count": null,
   "metadata": {},
   "outputs": [],
   "source": [
    "palette = ['#576683', '#E4f392', '#337775']\n",
    "cats= ['item_baseline', 'item_passive', 'item_agency']\n",
    "ylabel = 'level of control'\n",
    "xlabel = 'condition'\n",
    "title = 'subjective control rating'\n",
    "data = questionaire_long\n",
    "y = 'value'\n",
    "x = 'variable'\n",
    "hue = 'pID'\n",
    "\n",
    "#cohend(data,x,y, cats)"
   ]
  },
  {
   "cell_type": "code",
   "execution_count": null,
   "metadata": {},
   "outputs": [],
   "source": [
    "#adapt\n",
    "\n",
    "with sns.plotting_context('paper', font_scale = 1.8):\n",
    "\n",
    "        ### Create new plot\n",
    "        fig, ax = plt.subplots(1, 1, figsize=(4,4))\n",
    "        fig.patch.set_alpha(1)\n",
    "\n",
    "        sns.despine() #bottom=True, left=True\n",
    "         # show boxplots\n",
    "        ax = sns.boxplot(data = data, x = x, y = y,  palette= palette)\n",
    "        for patch in ax.patches: # adapt alpha\n",
    "             r, g, b, a = patch.get_facecolor()\n",
    "             patch.set_facecolor((r, g, b, .9))\n",
    "\n",
    "                   \n",
    "        # show line connecting means\n",
    "        sns.pointplot(\n",
    "            data = data,x = x, y = y, markers=\"s\", color = 'black')\n",
    "        \n",
    "        # pId means\n",
    "        \n",
    "        ax = sns.lineplot(data = data, x = x, y = y,hue = hue, palette = sns.color_palette(['black'],8),legend = False,alpha=0.4)\n",
    "    \n",
    "        ax = sns.scatterplot(data=data, x=x, y=y,s=10, legend= True, marker=\"s\",color = 'black',edgecolor = 'black',alpha=0.4)\n",
    "\n",
    "        #sns.scatterplot(data = data,x = x, y = y, markers=\"^\",color = 'black')\n",
    "        add_stat_annotation(ax, data=data, x=x, y=y, box_pairs=[(\"baseline\", \"passive\"), (\"baseline\", \"agency\"), ('passive', 'agency')], test='t-test_ind', text_format='star', loc='outside', verbose=2)\n",
    "\n",
    "        \n",
    "        # Label and show\n",
    "        # label_plot_for_subcats(ax)\n",
    "        ax.set_title(title)\n",
    "        ax.set_ylabel(ylabel)\n",
    "        ax.set_xlabel(xlabel)\n",
    "\n",
    "      \n",
    "\n",
    "        plt.show()\n",
    "        fig.savefig('results/'+title + '_' +'.svg', format='svg', transparent=True, bbox_inches='tight', dpi=300)\n",
    "        fig.savefig('results/'+title + '_' +'.png', format='png', transparent=True, bbox_inches='tight', dpi=300)\n",
    "        fig.savefig('results/'+title + '_'+'.eps', format='eps', transparent=True, bbox_inches='tight', dpi=300)"
   ]
  },
  {
   "cell_type": "markdown",
   "metadata": {},
   "source": [
    "#### LME\n"
   ]
  },
  {
   "cell_type": "code",
   "execution_count": null,
   "metadata": {},
   "outputs": [],
   "source": [
    "#full model\n",
    "full_model = Lmer('value ~ variable + (1|pID)', data = questionaire_long)\n",
    "display(full_model.fit(REML = False,factors={\"variable\": [\"baseline\", \"passive\", \"agency\"]}))\n"
   ]
  },
  {
   "cell_type": "code",
   "execution_count": null,
   "metadata": {},
   "outputs": [],
   "source": [
    "#null model\n",
    "null_model = Lmer('value ~ (1|pID)', data = questionaire_long)\n",
    "null_model.fit(REML = False, summarize=False)"
   ]
  },
  {
   "cell_type": "code",
   "execution_count": null,
   "metadata": {},
   "outputs": [],
   "source": [
    "# liklyhood ratio test\n",
    "pymer4.stats.lrt([null_model,full_model])"
   ]
  },
  {
   "cell_type": "code",
   "execution_count": null,
   "metadata": {},
   "outputs": [],
   "source": [
    "\n",
    "# post hoc test condition\n",
    "marginal_estimates, comparisons = full_model.post_hoc(\n",
    "    marginal_vars=\"variable\",p_adjust = \"bonf\")\n",
    "\n",
    "print(comparisons)"
   ]
  },
  {
   "cell_type": "code",
   "execution_count": null,
   "metadata": {},
   "outputs": [],
   "source": [
    "# participants\n",
    "print(questionaire.age.mean())\n",
    "print(questionaire.age.std())"
   ]
  },
  {
   "cell_type": "markdown",
   "metadata": {},
   "source": [
    "# Plot EEG"
   ]
  },
  {
   "cell_type": "code",
   "execution_count": null,
   "metadata": {},
   "outputs": [],
   "source": [
    "\n",
    "slope= pd.read_csv( p + 'PI_results_design_slope_processed.csv')\n",
    "#data cleaning happend somewhere else\n",
    "\n",
    "\n"
   ]
  },
  {
   "cell_type": "code",
   "execution_count": null,
   "metadata": {},
   "outputs": [],
   "source": [
    "palette = ['#576683', '#337775']\n",
    "cats= ['idle', 'pre_move']\n",
    "ylabel = 'slope'\n",
    "xlabel = 'condition'\n",
    "title = 'slope'\n",
    "data = slope\n",
    "y = 'slopes'\n",
    "x = 'condition'\n",
    "hue = 'id'"
   ]
  },
  {
   "cell_type": "code",
   "execution_count": null,
   "metadata": {},
   "outputs": [],
   "source": [
    "# plot a box plot of the slope values by condition\n",
    "#slope.boxplot(column=['slopes'], by=['condition'], figsize=(12,8))\n",
    "\n",
    "\n",
    "with sns.plotting_context('paper', font_scale = 1.8):\n",
    "\n",
    "        ### Create new plot\n",
    "        fig, ax = plt.subplots(1, 1, figsize=(3,4))\n",
    "        fig.patch.set_alpha(1)\n",
    "\n",
    "        sns.despine() #bottom=True, left=True\n",
    "         # show boxplots\n",
    "        ax = sns.boxplot(data = data, x = x, y = y,  palette= palette)\n",
    "        for patch in ax.patches: # adapt alpha\n",
    "             r, g, b, a = patch.get_facecolor()\n",
    "             patch.set_facecolor((r, g, b, .9))\n",
    "\n",
    "                   \n",
    "        # show line connecting means\n",
    "        sns.pointplot(data = data,x = x, y = y, markers=\"s\" ,color = 'black')\n",
    "        \n",
    "        # pId means\n",
    "        \n",
    "        ax = sns.lineplot(data = data, x = x, y = y,hue = hue, palette = sns.color_palette(['black'],8),legend = False,alpha=0.4)\n",
    "    \n",
    "        ax = sns.scatterplot(data=data, x=x, y=y,s=10, legend= True, marker=\"s\",color = 'black',edgecolor = 'black',alpha=0.4)\n",
    "\n",
    "        #sns.scatterplot(data = data,x = x, y = y, markers=\"^\",color = 'black')\n",
    "\n",
    "        plt.gca().invert_yaxis()\n",
    "\n",
    "        # add statannotation for the pair 'idle' and 'pre_move'\n",
    "        add_stat_annotation(ax, data=data, x=x, y=y, box_pairs=[(\"idle\", \"pre_move\")], test='t-test_ind', text_format='star', loc='outside', verbose=2)\n",
    "        \n",
    "\n",
    "        # Label and show\n",
    "        # label_plot_for_subcats(ax)\n",
    "        # ax.set_title(title)\n",
    "        ax.set_ylabel(ylabel)\n",
    "        ax.set_xlabel(xlabel)\n",
    "\n",
    "      \n",
    "\n",
    "        plt.show()\n",
    "        fig.savefig('results/'+title + '_' +'.svg', format='svg', transparent=True, bbox_inches='tight', dpi=300)\n",
    "        fig.savefig('results/'+title + '_' +'.eps', format='eps', transparent=True, bbox_inches='tight', dpi=300)\n",
    "        fig.savefig('results/'+title + '_' +'.png', format='png', transparent=True, bbox_inches='tight', dpi=300)\n",
    "\n",
    "\n",
    "\n"
   ]
  },
  {
   "cell_type": "code",
   "execution_count": null,
   "metadata": {},
   "outputs": [],
   "source": [
    "stats.ttest_ind(slope['slopes'][slope['condition'] == 'idle'], slope['slopes'][slope['condition'] == 'pre_move'])"
   ]
  },
  {
   "attachments": {},
   "cell_type": "markdown",
   "metadata": {},
   "source": [
    "# 3. Content Analysis\n",
    "--> not yet adapted to new file format\n",
    "- built to world clouds for each block\n",
    "- define stopwords\n",
    "- maybe check sentiment analysis -> pareid t-test?\n",
    "-TODO: try word cloud german\n"
   ]
  },
  {
   "cell_type": "code",
   "execution_count": null,
   "metadata": {},
   "outputs": [],
   "source": [
    "interview_baseline = questionaire['text_baseline'].dropna().to_json(force_ascii = False)\n",
    "\n",
    "interview_passive = questionaire['text_passive'].dropna().to_json(force_ascii = False)\n",
    "\n",
    "interview_agency = questionaire['text_agency'].dropna().to_json(force_ascii = False)\n",
    "\n",
    "stopwords = STOPWORDS # extend by domaine specific words if necessary\n",
    "\n",
    "interview_baseline2 = questionaire['text_baseline'].dropna().to_string(force_ascii = False)"
   ]
  },
  {
   "cell_type": "code",
   "execution_count": null,
   "metadata": {},
   "outputs": [],
   "source": [
    "#todo check the difference to this code\n",
    "\n",
    "interview_baseline2 = questionaire['text_baseline'].dropna().to_string()"
   ]
  },
  {
   "cell_type": "code",
   "execution_count": null,
   "metadata": {},
   "outputs": [],
   "source": [
    "print(interview_baseline2)"
   ]
  },
  {
   "cell_type": "code",
   "execution_count": null,
   "metadata": {},
   "outputs": [],
   "source": [
    "wc_formate = WordCloud(background_color='black', max_words=500, width=3000,\n",
    "                    height=1500, stopwords=stopwords, min_font_size=2,\n",
    "                    contour_width=3, contour_color='white')\n",
    "\n",
    "wc_formate.generate(interview_baseline2)\n",
    "wc_formate.to_file((\"results/wordcloud_baseline.png\"))\n",
    "\n",
    "wc_formate.generate(interview_passive)\n",
    "wc_formate.to_file((\"results/wordcloud_passive.png\"))\n",
    "\n",
    "wc_formate.generate(interview_passive)\n",
    "wc_formate.to_file((\"results/wordcloud_agency.png\"))\n"
   ]
  },
  {
   "attachments": {},
   "cell_type": "markdown",
   "metadata": {},
   "source": [
    "# 4. Sentiment Analysis"
   ]
  },
  {
   "cell_type": "code",
   "execution_count": null,
   "metadata": {},
   "outputs": [],
   "source": [
    "\n",
    "analyzer=SentimentIntensityAnalyzer()  \n",
    "\n",
    "print(analyzer.polarity_scores(interview_baseline))\n",
    "print(analyzer.polarity_scores(interview_passive))\n",
    "print(analyzer.polarity_scores(interview_agency))\n",
    "\n",
    "\n"
   ]
  }
 ],
 "metadata": {
  "kernelspec": {
   "display_name": "Python 3",
   "language": "python",
   "name": "python3"
  },
  "language_info": {
   "codemirror_mode": {
    "name": "ipython",
    "version": 3
   },
   "file_extension": ".py",
   "mimetype": "text/x-python",
   "name": "python",
   "nbconvert_exporter": "python",
   "pygments_lexer": "ipython3",
   "version": "3.9.18"
  },
  "orig_nbformat": 4,
  "vscode": {
   "interpreter": {
    "hash": "3c8b1dbe8e2868d4c1ba5519ab4ebf16602ee2921cdd29268d4bb1c20ff3ce8a"
   }
  }
 },
 "nbformat": 4,
 "nbformat_minor": 2
}
