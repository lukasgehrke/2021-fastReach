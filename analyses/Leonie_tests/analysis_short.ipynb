{
 "cells": [
  {
   "attachments": {},
   "cell_type": "markdown",
   "metadata": {},
   "source": [
    "# analysis fastReach "
   ]
  },
  {
   "attachments": {},
   "cell_type": "markdown",
   "metadata": {},
   "source": [
    "# 1. general prep\n"
   ]
  },
  {
   "cell_type": "code",
   "execution_count": 111,
   "metadata": {},
   "outputs": [],
   "source": [
    "\n",
    "# load packages\n",
    "import numpy as np\n",
    "import pandas as pd\n",
    "import seaborn as sns\n",
    "import statsmodels.formula.api as smf\n",
    "from scipy import stats\n",
    "import seaborn as sns\n",
    "import matplotlib.pyplot as plt\n",
    "from statannotations.Annotator import Annotator\n",
    "# %load_ext rpy2.ipython # currently not needed\n",
    "import glob\n",
    "\n",
    "from wordcloud import WordCloud, STOPWORDS\n",
    "#from nltk.corpus import stopwords\n",
    "from vaderSentiment.vaderSentiment import SentimentIntensityAnalyzer\n",
    "\n",
    "import pymer4 as pymer4\n",
    "\n",
    "#for anova\n",
    "from statsmodels.stats.multicomp import pairwise_tukeyhsd\n",
    "from statsmodels.stats.anova import AnovaRM\n"
   ]
  },
  {
   "cell_type": "code",
   "execution_count": 4,
   "metadata": {},
   "outputs": [],
   "source": [
    "# set repository\n",
    "p= \"C://Users/terfu/Desktop/2021-fastReach/data/study/\" #repository for output"
   ]
  },
  {
   "attachments": {},
   "cell_type": "markdown",
   "metadata": {},
   "source": [
    "# 2. temporal binding\n"
   ]
  },
  {
   "attachments": {},
   "cell_type": "markdown",
   "metadata": {},
   "source": [
    "\n",
    "## prep\n",
    "### load data"
   ]
  },
  {
   "cell_type": "code",
   "execution_count": 13,
   "metadata": {},
   "outputs": [],
   "source": [
    "# load data\n",
    "behavior_raw= pd.read_csv( p + 'PI_results_test_data.csv')\n",
    "\n",
    "# set data types\n",
    "behavior_raw[['ed','rt']] = behavior_raw[['ed','rt']].apply(pd.to_numeric, axis=1)\n",
    "\n",
    "behavior_raw['rd'] = behavior_raw['rd'].astype(\"string\")  # needs to be string before category for R conversion\n",
    "\n",
    "behavior_raw[['rd','condition']] = behavior_raw[['rd','condition']].astype(\"category\")\n"
   ]
  },
  {
   "cell_type": "markdown",
   "metadata": {},
   "source": [
    "### check raw data (rection times and estimated times)\n"
   ]
  },
  {
   "cell_type": "code",
   "execution_count": 14,
   "metadata": {},
   "outputs": [
    {
     "data": {
      "image/png": "[encoded data removed]",
      "text/plain": [
       "<Figure size 432x288 with 1 Axes>"
      ]
     },
     "metadata": {
      "needs_background": "light"
     },
     "output_type": "display_data"
    },
    {
     "data": {
      "image/png": "[encoded data removed]",
      "text/plain": [
       "<Figure size 432x288 with 1 Axes>"
      ]
     },
     "metadata": {
      "needs_background": "light"
     },
     "output_type": "display_data"
    }
   ],
   "source": [
    "c\n",
    "hist = sns.histplot(behavior_raw, x = 'rt',ax =ax, hue = 'id')\n",
    "#ax.set_xlim(0,5) # remove outliers for visualization\n",
    "\n",
    "fig, ax = plt.subplots()\n",
    "hist = sns.histplot(behavior_raw, x = 'ed',ax =ax, hue = 'id')\n"
   ]
  },
  {
   "cell_type": "markdown",
   "metadata": {},
   "source": [
    "### clean data"
   ]
  },
  {
   "cell_type": "code",
   "execution_count": 52,
   "metadata": {},
   "outputs": [],
   "source": [
    "# removes outliers trials that have outliers either in rt or ed\n",
    "#@Lukas: do we want to remove only extreme or all outliers?\n",
    "\n",
    "cols = ['rt', 'ed'] # relevant cols\n",
    "\n",
    "# calculate quantiles and IQR\n",
    "Q1 = behavior_raw[cols].quantile(0.25) # Same as np.percentile but maps (0,1) and not (0,100)\n",
    "Q3 = behavior_raw[cols].quantile(0.75)\n",
    "IQR = Q3 - Q1\n",
    "\n",
    "# return a boolean array of the rows with (any) non-outlier column values\n",
    "condition = ~((behavior_raw[cols] < (Q1 - 3 * IQR)) | (behavior_raw[cols] > (Q3 + 3 * IQR))).any(axis=1)\n",
    "\n",
    "# filter our dataframe based on condition\n",
    "behavior = behavior_raw[condition]\n",
    "behavior_del = behavior_raw[-condition]"
   ]
  },
  {
   "cell_type": "code",
   "execution_count": 53,
   "metadata": {},
   "outputs": [
    {
     "name": "stdout",
     "output_type": "stream",
     "text": [
      "Deleted trials: 4\n",
      "Deleted trials per pID\n",
      "2    3\n",
      "3    1\n",
      "Name: id, dtype: int64\n",
      "mean\n",
      "2.0\n",
      "sd\n",
      "1.4142135623730951\n",
      "Deleted trials per condition\n",
      "mean\n",
      "1.3333333333333333\n",
      "sd\n",
      "1.5275252316519468\n"
     ]
    }
   ],
   "source": [
    "# check outlier removel\n",
    "\n",
    "#count deleted trials\n",
    "print('Deleted trials:',len(behavior_del))\n",
    "\n",
    "#per pID\n",
    "print('Deleted trials per pID')\n",
    "print(behavior_del['id'].value_counts())\n",
    "\n",
    "print('mean')\n",
    "print(behavior_del['id'].value_counts().mean())\n",
    "print('sd')\n",
    "print(behavior_del['id'].value_counts().std())\n",
    "\n",
    "#per condition\n",
    "print('Deleted trials per condition')\n",
    "print(behavior_del['condition'].value_counts())\n",
    "print('mean')\n",
    "print(behavior_del['condition'].value_counts().mean())\n",
    "print('sd')\n",
    "print(behavior_del['condition'].value_counts().std())\n"
   ]
  },
  {
   "cell_type": "code",
   "execution_count": 50,
   "metadata": {},
   "outputs": [
    {
     "data": {
      "image/png": "[encoded data removed]",
      "text/plain": [
       "<Figure size 432x288 with 1 Axes>"
      ]
     },
     "metadata": {
      "needs_background": "light"
     },
     "output_type": "display_data"
    },
    {
     "data": {
      "image/png": "[encoded data removed]",
      "text/plain": [
       "<Figure size 432x288 with 1 Axes>"
      ]
     },
     "metadata": {
      "needs_background": "light"
     },
     "output_type": "display_data"
    }
   ],
   "source": [
    "#check new data\n",
    "\n",
    "fig, ax = plt.subplots()\n",
    "hist = sns.histplot(behavior, x = 'rt',ax =ax, hue = 'id')\n",
    "#ax.set_xlim(0,5) # remove outliers for visualization\n",
    "\n",
    "fig, ax = plt.subplots()\n",
    "hist = sns.histplot(behavior, x = 'ed',ax =ax, hue = 'id')\n",
    "\n"
   ]
  },
  {
   "cell_type": "markdown",
   "metadata": {},
   "source": [
    "## plot\n",
    "### prep plot"
   ]
  },
  {
   "cell_type": "code",
   "execution_count": 122,
   "metadata": {},
   "outputs": [
    {
     "name": "stderr",
     "output_type": "stream",
     "text": [
      "C:\\Users\\terfu\\AppData\\Local\\Temp\\ipykernel_20060\\2817152027.py:3: SettingWithCopyWarning: \n",
      "A value is trying to be set on a copy of a slice from a DataFrame.\n",
      "Try using .loc[row_indexer,col_indexer] = value instead\n",
      "\n",
      "See the caveats in the documentation: https://pandas.pydata.org/pandas-docs/stable/user_guide/indexing.html#returning-a-view-versus-a-copy\n",
      "  behavior[['rd']] = behavior[['rd']].apply(pd.to_numeric, axis=1)\n",
      "C:\\Users\\terfu\\AppData\\Local\\Temp\\ipykernel_20060\\2817152027.py:4: SettingWithCopyWarning: \n",
      "A value is trying to be set on a copy of a slice from a DataFrame.\n",
      "Try using .loc[row_indexer,col_indexer] = value instead\n",
      "\n",
      "See the caveats in the documentation: https://pandas.pydata.org/pandas-docs/stable/user_guide/indexing.html#returning-a-view-versus-a-copy\n",
      "  behavior[\"diff\"]= behavior[\"ed\"]-behavior[\"rd\"]\n",
      "C:\\Users\\terfu\\AppData\\Local\\Temp\\ipykernel_20060\\2817152027.py:5: SettingWithCopyWarning: \n",
      "A value is trying to be set on a copy of a slice from a DataFrame.\n",
      "Try using .loc[row_indexer,col_indexer] = value instead\n",
      "\n",
      "See the caveats in the documentation: https://pandas.pydata.org/pandas-docs/stable/user_guide/indexing.html#returning-a-view-versus-a-copy\n",
      "  behavior[['rd']] = behavior[['rd']].astype(\"category\")\n",
      "C:\\Users\\terfu\\AppData\\Local\\Temp\\ipykernel_20060\\2817152027.py:7: SettingWithCopyWarning: \n",
      "A value is trying to be set on a copy of a slice from a DataFrame.\n",
      "Try using .loc[row_indexer,col_indexer] = value instead\n",
      "\n",
      "See the caveats in the documentation: https://pandas.pydata.org/pandas-docs/stable/user_guide/indexing.html#returning-a-view-versus-a-copy\n",
      "  behavior[\"diff\"] = behavior[\"diff\"]*-1\n"
     ]
    }
   ],
   "source": [
    "# with stimulation condition + time condition+ rd as y\n",
    "\n",
    "behavior[['rd']] = behavior[['rd']].apply(pd.to_numeric, axis=1)\n",
    "behavior[\"diff\"]= behavior[\"ed\"]-behavior[\"rd\"]\n",
    "behavior[['rd']] = behavior[['rd']].astype(\"category\")\n",
    "\n",
    "\n",
    "####tbd - change diff to rd-ed to get positive value for understimation\n",
    "behavior[\"diff\"] = behavior[\"diff\"]*-1\n",
    "\n",
    "behavior_means = behavior.groupby(['id','condition','rd'],as_index=False)['diff'].mean()\n",
    "\n",
    "palette = ['#365c8d','#E5E4E2','#899499','#4ac16d', '#277f8e','#440154'] \n",
    "cats= ['baseline','ems1','ems2'] \n",
    "ylabel = 'ed-rd'\n",
    "xlabel = 'condition'\n",
    "title = 'condition + rd'\n",
    "data = behavior\n",
    "data_means = behavior_means\n",
    "y = 'diff'\n",
    "x = \"condition\"\n",
    "hue = \"id\"\n",
    "hue2 = 'rd'\n",
    "\n"
   ]
  },
  {
   "cell_type": "markdown",
   "metadata": {},
   "source": [
    "### plot\n"
   ]
  },
  {
   "cell_type": "markdown",
   "metadata": {},
   "source": [
    "@ Lukas: double check; does this make sense to you?\n",
    "\n",
    " I used diff (ed-rd) as the depent measure. This basically describes the underestimation of the duration between touch and tone. Larger negative values describe larger underestimation, i.e., interval was 200 ms (rd)  but was estimated 100ms (ed), the dependet measure would be -100 ms. A value of 0 depicts a matching estimate. \n",
    "\n",
    "We assume that high agency leads to increased underestimation (temporal binding), therewith the baseline should have the lowest vaule, passive the highest (around 0) and agency should be somewhere inbetween. "
   ]
  },
  {
   "cell_type": "markdown",
   "metadata": {},
   "source": [
    "Would it make sense to invert the graphic/diff (*-1) - because high in underestimation is connected to high agency = both graphics would go the same direction.\n"
   ]
  },
  {
   "cell_type": "code",
   "execution_count": 123,
   "metadata": {},
   "outputs": [
    {
     "data": {
      "image/png": "[encoded data removed]",
      "text/plain": [
       "<Figure size 432x360 with 1 Axes>"
      ]
     },
     "metadata": {},
     "output_type": "display_data"
    },
    {
     "name": "stderr",
     "output_type": "stream",
     "text": [
      "The PostScript backend does not support transparency; partially transparent artists will be rendered opaque.\n",
      "The PostScript backend does not support transparency; partially transparent artists will be rendered opaque.\n"
     ]
    }
   ],
   "source": [
    "# runs plot but needs post processing in affinty desiger\n",
    "cats_0 = data[data[x]==cats[0]]\n",
    "cats_1 = data[data[x]==cats[1]]\n",
    "cats_2 = data[data[x]==cats[2]]\n",
    "\n",
    "pairs = [(cats[0], cats[1],cats[1])]\n",
    "\n",
    "\n",
    "with sns.plotting_context('paper', font_scale = 1.8):\n",
    "\n",
    "    ### Create new plot\n",
    "    fig, ax = plt.subplots(1, 1, figsize=(6,5))\n",
    "    fig.patch.set_alpha(1)\n",
    "\n",
    "    sns.despine() #bottom=True, left=True\n",
    "\n",
    "        # show boxplots\n",
    "    ax = sns.boxplot(data = data,x = x, y = y, hue = hue2,  palette= [palette[3],palette[3],palette[3]])\n",
    "    for patch in ax.patches: # adapt alpha\n",
    "            r, g, b, a = patch.get_facecolor()\n",
    "            patch.set_facecolor((r, g, b, .6))\n",
    "\n",
    "        # show line connecting menas\n",
    "    ax = sns.pointplot(\n",
    "        data = data,x = x, y = y, dodge=.8 - .8 / 3,\n",
    "        markers=['s','o','^'],linestyles = ['solid','dotted','dashed'],hue = hue2, size = 6, ci =None,palette= ['black','black','black'], labels = True)\n",
    "    \n",
    "\n",
    "    handles, labels = ax.get_legend_handles_labels()  \n",
    "    \n",
    "    plt.legend(handles[3:6],labels[3:6],frameon=True,loc = 'upper left',labelspacing =0.3)\n",
    "    \n",
    "    # label_plot_for_subcats(ax)\n",
    "    ax.set_title(title)\n",
    "    ax.set_ylabel(ylabel)\n",
    "    ax.set_xlabel(xlabel)\n",
    "    \n",
    "    plt.show()\n",
    "fig.savefig('results/'+title + '_' + ylabel + '_' + xlabel + '.svg', format='eps', transparent=True, bbox_inches='tight', dpi=300)\n",
    "fig.savefig('results/'+title + '_' + ylabel + '_' + xlabel + '.png', format='eps', transparent=True, bbox_inches='tight', dpi=300)"
   ]
  },
  {
   "attachments": {},
   "cell_type": "markdown",
   "metadata": {},
   "source": [
    "## anaysis\n"
   ]
  },
  {
   "cell_type": "markdown",
   "metadata": {},
   "source": [
    "### descriptive"
   ]
  },
  {
   "cell_type": "code",
   "execution_count": 115,
   "metadata": {},
   "outputs": [
    {
     "name": "stdout",
     "output_type": "stream",
     "text": [
      "                 mean         std\n",
      "condition                        \n",
      "baseline  -214.740741  108.552756\n",
      "ems1      -191.030534  117.016957\n",
      "ems2      -234.216418  115.124735\n",
      "           mean         std\n",
      "rd                         \n",
      "200 -113.901515   61.219522\n",
      "350 -218.582090   71.817469\n",
      "500 -306.529851  109.550050\n"
     ]
    }
   ],
   "source": [
    "# descreptive\n",
    "print(behavior.groupby('condition')['diff'].agg(['mean','std']))\n",
    "\n",
    "print(behavior.groupby('rd')['diff'].agg(['mean','std']))\n",
    "\n"
   ]
  },
  {
   "cell_type": "markdown",
   "metadata": {},
   "source": [
    "### LMM"
   ]
  },
  {
   "attachments": {},
   "cell_type": "markdown",
   "metadata": {},
   "source": [
    "#### prep\n",
    "- witched from rpy2 to pymer4, because it is less annoying with importing / exporting from python to R\n",
    "- not sure if of this is still necessary, but since pymer4 is based on rpy2, this might be the case"
   ]
  },
  {
   "cell_type": "code",
   "execution_count": 57,
   "metadata": {},
   "outputs": [
    {
     "data": {
      "text/plain": [
       "<rpy2.rinterface_lib.sexp.NULLType object at 0x0000026F7EA08900> [RTYPES.NILSXP]"
      ]
     },
     "execution_count": 57,
     "metadata": {},
     "output_type": "execute_result"
    }
   ],
   "source": [
    "packnames = ('lme4', 'lmerTest', 'emmeans', 'geepack', 'sjPlot')\n",
    "from rpy2.robjects.packages import importr\n",
    "from rpy2.robjects.vectors import StrVector\n",
    "utils = importr(\"utils\")\n",
    "utils.chooseCRANmirror(ind=1)"
   ]
  },
  {
   "cell_type": "code",
   "execution_count": 59,
   "metadata": {},
   "outputs": [
    {
     "name": "stderr",
     "output_type": "stream",
     "text": [
      "R[write to console]: Installiere Pakete nach 'C:/Users/terfu/AppData/Local/R/win-library/4.2'\n",
      "(da 'lib' nicht spezifiziert)\n",
      "\n",
      "R[write to console]: trying URL 'https://cloud.r-project.org/bin/windows/contrib/4.2/lme4_1.1-34.zip'\n",
      "\n",
      "R[write to console]: Content type 'application/zip'\n",
      "R[write to console]:  length 4525962 bytes (4.3 MB)\n",
      "\n",
      "R[write to console]: downloaded 4.3 MB\n",
      "\n",
      "\n",
      "R[write to console]: trying URL 'https://cloud.r-project.org/bin/windows/contrib/4.2/lmerTest_3.1-3.zip'\n",
      "\n",
      "R[write to console]: Content type 'application/zip'\n",
      "R[write to console]:  length 530070 bytes (517 KB)\n",
      "\n",
      "R[write to console]: downloaded 517 KB\n",
      "\n",
      "\n",
      "R[write to console]: trying URL 'https://cloud.r-project.org/bin/windows/contrib/4.2/emmeans_1.8.7.zip'\n",
      "\n",
      "R[write to console]: Content type 'application/zip'\n",
      "R[write to console]:  length 2173254 bytes (2.1 MB)\n",
      "\n",
      "R[write to console]: downloaded 2.1 MB\n",
      "\n",
      "\n",
      "R[write to console]: trying URL 'https://cloud.r-project.org/bin/windows/contrib/4.2/geepack_1.3.9.zip'\n",
      "\n",
      "R[write to console]: Content type 'application/zip'\n",
      "R[write to console]:  length 900041 bytes (878 KB)\n",
      "\n",
      "R[write to console]: downloaded 878 KB\n",
      "\n",
      "\n",
      "R[write to console]: trying URL 'https://cloud.r-project.org/bin/windows/contrib/4.2/sjPlot_2.8.14.zip'\n",
      "\n",
      "R[write to console]: Content type 'application/zip'\n",
      "R[write to console]:  length 1498677 bytes (1.4 MB)\n",
      "\n",
      "R[write to console]: downloaded 1.4 MB\n",
      "\n",
      "\n"
     ]
    },
    {
     "name": "stdout",
     "output_type": "stream",
     "text": [
      "Paket 'lme4' erfolgreich ausgepackt und MD5 Summen abgeglichen\n",
      "Paket 'lmerTest' erfolgreich ausgepackt und MD5 Summen abgeglichen\n",
      "Paket 'emmeans' erfolgreich ausgepackt und MD5 Summen abgeglichen\n",
      "Paket 'geepack' erfolgreich ausgepackt und MD5 Summen abgeglichen\n",
      "Paket 'sjPlot' erfolgreich ausgepackt und MD5 Summen abgeglichen\n",
      "\n"
     ]
    },
    {
     "name": "stderr",
     "output_type": "stream",
     "text": [
      "Exception ignored from cffi callback <function _consolewrite_ex at 0x0000026F7E9CA680>:\n",
      "Traceback (most recent call last):\n",
      "  File \"c:\\Users\\terfu\\AppData\\Local\\Programs\\Python\\Python310\\lib\\site-packages\\rpy2\\rinterface_lib\\callbacks.py\", line 133, in _consolewrite_ex\n",
      "    s = conversion._cchar_to_str_with_maxlen(buf, n, _CCHAR_ENCODING)\n",
      "  File \"c:\\Users\\terfu\\AppData\\Local\\Programs\\Python\\Python310\\lib\\site-packages\\rpy2\\rinterface_lib\\conversion.py\", line 138, in _cchar_to_str_with_maxlen\n",
      "    s = ffi.string(c, maxlen).decode(encoding)\n",
      "UnicodeDecodeError: 'utf-8' codec can't decode byte 0xe4 in position 25: invalid continuation byte\n"
     ]
    },
    {
     "name": "stdout",
     "output_type": "stream",
     "text": [
      "\n"
     ]
    }
   ],
   "source": [
    "packnames = ('lme4', 'lmerTest', 'emmeans', 'geepack', 'sjPlot')\n",
    "from rpy2.robjects.vectors import StrVector\n",
    "utils.install_packages(StrVector(packnames))\n",
    "from pymer4.models import Lmer"
   ]
  },
  {
   "cell_type": "markdown",
   "metadata": {},
   "source": [
    "#### built models"
   ]
  },
  {
   "cell_type": "code",
   "execution_count": 89,
   "metadata": {},
   "outputs": [
    {
     "name": "stdout",
     "output_type": "stream",
     "text": [
      "Linear mixed model fit by maximum likelihood  ['lmerMod']\n",
      "Formula: diff~condition+rd+(1|id)\n",
      "\n",
      "Family: gaussian\t Inference: parametric\n",
      "\n",
      "Number of observations: 400\t Groups: {'id': 2.0}\n",
      "\n",
      "Log-likelihood: -2305.862 \t AIC: 4625.723\n",
      "\n",
      "Random effects:\n",
      "\n",
      "                 Name       Var     Std\n",
      "id        (Intercept)   778.511  27.902\n",
      "Residual               5853.959  76.511\n",
      "\n",
      "No random effect correlations specified\n",
      "\n",
      "Fixed effects:\n",
      "\n"
     ]
    },
    {
     "data": {
      "text/html": [
       "<div>\n",
       "<style scoped>\n",
       "    .dataframe tbody tr th:only-of-type {\n",
       "        vertical-align: middle;\n",
       "    }\n",
       "\n",
       "    .dataframe tbody tr th {\n",
       "        vertical-align: top;\n",
       "    }\n",
       "\n",
       "    .dataframe thead th {\n",
       "        text-align: right;\n",
       "    }\n",
       "</style>\n",
       "<table border=\"1\" class=\"dataframe\">\n",
       "  <thead>\n",
       "    <tr style=\"text-align: right;\">\n",
       "      <th></th>\n",
       "      <th>Estimate</th>\n",
       "      <th>2.5_ci</th>\n",
       "      <th>97.5_ci</th>\n",
       "      <th>SE</th>\n",
       "      <th>DF</th>\n",
       "      <th>T-stat</th>\n",
       "      <th>P-val</th>\n",
       "      <th>Sig</th>\n",
       "    </tr>\n",
       "  </thead>\n",
       "  <tbody>\n",
       "    <tr>\n",
       "      <th>(Intercept)</th>\n",
       "      <td>-112.414</td>\n",
       "      <td>-154.552</td>\n",
       "      <td>-70.275</td>\n",
       "      <td>21.500</td>\n",
       "      <td>2.617</td>\n",
       "      <td>-5.229</td>\n",
       "      <td>0.019</td>\n",
       "      <td>*</td>\n",
       "    </tr>\n",
       "    <tr>\n",
       "      <th>condition1</th>\n",
       "      <td>24.561</td>\n",
       "      <td>6.170</td>\n",
       "      <td>42.952</td>\n",
       "      <td>9.384</td>\n",
       "      <td>398.000</td>\n",
       "      <td>2.617</td>\n",
       "      <td>0.009</td>\n",
       "      <td>**</td>\n",
       "    </tr>\n",
       "    <tr>\n",
       "      <th>condition2</th>\n",
       "      <td>-18.508</td>\n",
       "      <td>-36.794</td>\n",
       "      <td>-0.221</td>\n",
       "      <td>9.330</td>\n",
       "      <td>398.000</td>\n",
       "      <td>-1.984</td>\n",
       "      <td>0.048</td>\n",
       "      <td>*</td>\n",
       "    </tr>\n",
       "    <tr>\n",
       "      <th>rd1</th>\n",
       "      <td>-105.157</td>\n",
       "      <td>-123.547</td>\n",
       "      <td>-86.766</td>\n",
       "      <td>9.383</td>\n",
       "      <td>398.001</td>\n",
       "      <td>-11.207</td>\n",
       "      <td>0.000</td>\n",
       "      <td>***</td>\n",
       "    </tr>\n",
       "    <tr>\n",
       "      <th>rd2</th>\n",
       "      <td>-192.696</td>\n",
       "      <td>-211.086</td>\n",
       "      <td>-174.306</td>\n",
       "      <td>9.383</td>\n",
       "      <td>398.000</td>\n",
       "      <td>-20.537</td>\n",
       "      <td>0.000</td>\n",
       "      <td>***</td>\n",
       "    </tr>\n",
       "  </tbody>\n",
       "</table>\n",
       "</div>"
      ],
      "text/plain": [
       "             Estimate   2.5_ci  97.5_ci      SE       DF  T-stat  P-val  Sig\n",
       "(Intercept)  -112.414 -154.552  -70.275  21.500    2.617  -5.229  0.019    *\n",
       "condition1     24.561    6.170   42.952   9.384  398.000   2.617  0.009   **\n",
       "condition2    -18.508  -36.794   -0.221   9.330  398.000  -1.984  0.048    *\n",
       "rd1          -105.157 -123.547  -86.766   9.383  398.001 -11.207  0.000  ***\n",
       "rd2          -192.696 -211.086 -174.306   9.383  398.000 -20.537  0.000  ***"
      ]
     },
     "metadata": {},
     "output_type": "display_data"
    },
    {
     "data": {
      "text/plain": [
       "<AxesSubplot:xlabel='Estimate'>"
      ]
     },
     "execution_count": 89,
     "metadata": {},
     "output_type": "execute_result"
    },
    {
     "data": {
      "image/png": "[encoded data removed]",
      "text/plain": [
       "<Figure size 864x432 with 1 Axes>"
      ]
     },
     "metadata": {
      "needs_background": "light"
     },
     "output_type": "display_data"
    }
   ],
   "source": [
    "# full model\n",
    "\n",
    "full_model = Lmer('diff ~ condition + rd + (1|id)', data = behavior)\n",
    "display(full_model.fit(REML = False,factors={\"condition\": [\"baseline\", \"ems1\", \"ems2\"], \"rd\": [\"200\", \"350\", \"500\"]}))\n",
    "full_model.plot_summary()"
   ]
  },
  {
   "attachments": {},
   "cell_type": "markdown",
   "metadata": {},
   "source": [
    "\n",
    "#### define null models"
   ]
  },
  {
   "cell_type": "code",
   "execution_count": 63,
   "metadata": {},
   "outputs": [
    {
     "name": "stderr",
     "output_type": "stream",
     "text": [
      "c:\\Users\\terfu\\AppData\\Local\\Programs\\Python\\Python310\\lib\\site-packages\\rpy2\\robjects\\pandas2ri.py:65: UserWarning: Error while trying to convert the column \"rd\". Fall back to string conversion. The error is: Converting pandas \"Category\" series to R factor is only possible when categories are strings.\n",
      "  warnings.warn('Error while trying to convert '\n",
      "c:\\Users\\terfu\\AppData\\Local\\Programs\\Python\\Python310\\lib\\site-packages\\rpy2\\robjects\\pandas2ri.py:65: UserWarning: Error while trying to convert the column \"rd\". Fall back to string conversion. The error is: Converting pandas \"Category\" series to R factor is only possible when categories are strings.\n",
      "  warnings.warn('Error while trying to convert '\n"
     ]
    }
   ],
   "source": [
    "\n",
    "# null model without stimulation condition \n",
    "null_model_stim = Lmer('diff ~ rd + (1|id)', data = behavior)\n",
    "null_model_stim.fit(REML = False, summarize=False)\n",
    "\n",
    "# null model without temp condition \n",
    "null_model_temp = Lmer('ediff~ condition + (1|id)', data = behavior)\n",
    "null_model_temp.fit(REML = False, summarize=False)\n"
   ]
  },
  {
   "attachments": {},
   "cell_type": "markdown",
   "metadata": {},
   "source": [
    "#### liklyhood ratio tests\n",
    "\n"
   ]
  },
  {
   "attachments": {},
   "cell_type": "markdown",
   "metadata": {},
   "source": [
    "stimulation condition"
   ]
  },
  {
   "cell_type": "code",
   "execution_count": 66,
   "metadata": {},
   "outputs": [
    {
     "data": {
      "text/html": [
       "<div>\n",
       "<style scoped>\n",
       "    .dataframe tbody tr th:only-of-type {\n",
       "        vertical-align: middle;\n",
       "    }\n",
       "\n",
       "    .dataframe tbody tr th {\n",
       "        vertical-align: top;\n",
       "    }\n",
       "\n",
       "    .dataframe thead th {\n",
       "        text-align: right;\n",
       "    }\n",
       "</style>\n",
       "<table border=\"1\" class=\"dataframe\">\n",
       "  <thead>\n",
       "    <tr style=\"text-align: right;\">\n",
       "      <th></th>\n",
       "      <th>model</th>\n",
       "      <th>npar</th>\n",
       "      <th>AIC</th>\n",
       "      <th>BIC</th>\n",
       "      <th>log-likelihood</th>\n",
       "      <th>deviance</th>\n",
       "      <th>Chisq</th>\n",
       "      <th>Df</th>\n",
       "      <th>P-val</th>\n",
       "      <th>Sig</th>\n",
       "    </tr>\n",
       "  </thead>\n",
       "  <tbody>\n",
       "    <tr>\n",
       "      <th>0</th>\n",
       "      <td>ed~rd+(1|id)</td>\n",
       "      <td>5</td>\n",
       "      <td>4642.290708</td>\n",
       "      <td>4662.248031</td>\n",
       "      <td>-2316.145354</td>\n",
       "      <td>4632.290708</td>\n",
       "      <td></td>\n",
       "      <td></td>\n",
       "      <td></td>\n",
       "      <td></td>\n",
       "    </tr>\n",
       "    <tr>\n",
       "      <th>1</th>\n",
       "      <td>ed~condition+rd+(1|id)</td>\n",
       "      <td>7</td>\n",
       "      <td>4625.723347</td>\n",
       "      <td>4653.663599</td>\n",
       "      <td>-2305.861673</td>\n",
       "      <td>4611.723347</td>\n",
       "      <td>20.567361</td>\n",
       "      <td>2.0</td>\n",
       "      <td>0.000034</td>\n",
       "      <td>***</td>\n",
       "    </tr>\n",
       "  </tbody>\n",
       "</table>\n",
       "</div>"
      ],
      "text/plain": [
       "                    model  npar          AIC          BIC  log-likelihood  \\\n",
       "0            ed~rd+(1|id)     5  4642.290708  4662.248031    -2316.145354   \n",
       "1  ed~condition+rd+(1|id)     7  4625.723347  4653.663599    -2305.861673   \n",
       "\n",
       "      deviance      Chisq   Df     P-val  Sig  \n",
       "0  4632.290708                                 \n",
       "1  4611.723347  20.567361  2.0  0.000034  ***  "
      ]
     },
     "execution_count": 66,
     "metadata": {},
     "output_type": "execute_result"
    }
   ],
   "source": [
    "pymer4.stats.lrt([null_model_stim,full_model])"
   ]
  },
  {
   "attachments": {},
   "cell_type": "markdown",
   "metadata": {},
   "source": [
    "temp condition"
   ]
  },
  {
   "cell_type": "code",
   "execution_count": 67,
   "metadata": {},
   "outputs": [
    {
     "data": {
      "text/html": [
       "<div>\n",
       "<style scoped>\n",
       "    .dataframe tbody tr th:only-of-type {\n",
       "        vertical-align: middle;\n",
       "    }\n",
       "\n",
       "    .dataframe tbody tr th {\n",
       "        vertical-align: top;\n",
       "    }\n",
       "\n",
       "    .dataframe thead th {\n",
       "        text-align: right;\n",
       "    }\n",
       "</style>\n",
       "<table border=\"1\" class=\"dataframe\">\n",
       "  <thead>\n",
       "    <tr style=\"text-align: right;\">\n",
       "      <th></th>\n",
       "      <th>model</th>\n",
       "      <th>npar</th>\n",
       "      <th>AIC</th>\n",
       "      <th>BIC</th>\n",
       "      <th>log-likelihood</th>\n",
       "      <th>deviance</th>\n",
       "      <th>Chisq</th>\n",
       "      <th>Df</th>\n",
       "      <th>P-val</th>\n",
       "      <th>Sig</th>\n",
       "    </tr>\n",
       "  </thead>\n",
       "  <tbody>\n",
       "    <tr>\n",
       "      <th>0</th>\n",
       "      <td>ed~condition+(1|id)</td>\n",
       "      <td>5</td>\n",
       "      <td>4735.781847</td>\n",
       "      <td>4755.739170</td>\n",
       "      <td>-2362.890924</td>\n",
       "      <td>4725.781847</td>\n",
       "      <td></td>\n",
       "      <td></td>\n",
       "      <td></td>\n",
       "      <td></td>\n",
       "    </tr>\n",
       "    <tr>\n",
       "      <th>1</th>\n",
       "      <td>ed~condition+rd+(1|id)</td>\n",
       "      <td>7</td>\n",
       "      <td>4625.723347</td>\n",
       "      <td>4653.663599</td>\n",
       "      <td>-2305.861673</td>\n",
       "      <td>4611.723347</td>\n",
       "      <td>114.058501</td>\n",
       "      <td>2.0</td>\n",
       "      <td>0.0</td>\n",
       "      <td>***</td>\n",
       "    </tr>\n",
       "  </tbody>\n",
       "</table>\n",
       "</div>"
      ],
      "text/plain": [
       "                    model  npar          AIC          BIC  log-likelihood  \\\n",
       "0     ed~condition+(1|id)     5  4735.781847  4755.739170    -2362.890924   \n",
       "1  ed~condition+rd+(1|id)     7  4625.723347  4653.663599    -2305.861673   \n",
       "\n",
       "      deviance       Chisq   Df P-val  Sig  \n",
       "0  4725.781847                              \n",
       "1  4611.723347  114.058501  2.0   0.0  ***  "
      ]
     },
     "execution_count": 67,
     "metadata": {},
     "output_type": "execute_result"
    }
   ],
   "source": [
    "pymer4.stats.lrt([null_model_temp,full_model])"
   ]
  },
  {
   "attachments": {},
   "cell_type": "markdown",
   "metadata": {},
   "source": [
    "#### post hoc test"
   ]
  },
  {
   "attachments": {},
   "cell_type": "markdown",
   "metadata": {},
   "source": [
    "TODO check wether this post_hoc test is correct"
   ]
  },
  {
   "cell_type": "markdown",
   "metadata": {},
   "source": [
    "\n",
    " @Lukas: Hier bin ich mir nicht sicher, ob man d as einfach so machen kann. Bzw. Also pairwise t-test mit dem full model. \n",
    "- in dem 2019 CPS Paper wird die Quelle verwendet für post-hoc test\n",
    " check - Wilcoxon, F.: Individual comparisons by ranking methods. Biom. Bull. 1(6), 80\n",
    "(1945) \n",
    "- der code kommt von hier:  http://eshinjolly.com/pymer4/auto_examples/example_03_posthoc.html\n",
    "\n"
   ]
  },
  {
   "cell_type": "code",
   "execution_count": 110,
   "metadata": {},
   "outputs": [
    {
     "name": "stdout",
     "output_type": "stream",
     "text": [
      "P-values adjusted by bonf method for 3 comparisons\n",
      "          Contrast  Estimate  2.5_ci  97.5_ci     SE     DF  T-stat  P-val  \\\n",
      "1  baseline - ems1   -24.561 -47.120   -2.002  9.384  398.0  -2.617  0.028   \n",
      "2  baseline - ems2    18.508  -3.923   40.939  9.330  398.0   1.984  0.144   \n",
      "3      ems1 - ems2    43.069  20.468   65.669  9.401  398.0   4.581  0.000   \n",
      "\n",
      "   Sig  \n",
      "1    *  \n",
      "2       \n",
      "3  ***  \n"
     ]
    }
   ],
   "source": [
    "# post hoc test stimulation condition\n",
    "marginal_estimates, comparisons = full_model.post_hoc(\n",
    "    marginal_vars=\"condition\",p_adjust = \"bonf\")\n",
    "\n",
    "print(comparisons)\n"
   ]
  },
  {
   "cell_type": "code",
   "execution_count": 21,
   "metadata": {},
   "outputs": [
    {
     "name": "stdout",
     "output_type": "stream",
     "text": [
      "P-values adjusted by bonf method for 3 comparisons\n",
      "        Contrast  Estimate   2.5_ci  97.5_ci     SE     DF  T-stat  P-val  Sig\n",
      "1  rd200 - rd350   -46.104  -68.578  -23.630  9.348  402.0  -4.932    0.0  ***\n",
      "2  rd200 - rd500  -107.481 -129.913  -85.050  9.331  402.0 -11.519    0.0  ***\n",
      "3  rd350 - rd500   -61.378  -83.851  -38.904  9.348  402.0  -6.566    0.0  ***\n"
     ]
    }
   ],
   "source": [
    "# post hoc test interval\n",
    "marginal_estimates, comparisons = full_model.post_hoc(\n",
    "    marginal_vars=\"rd\",p_adjust = \"bonf\")\n",
    "\n",
    "print(comparisons)"
   ]
  },
  {
   "attachments": {},
   "cell_type": "markdown",
   "metadata": {},
   "source": [
    "# 3. subjective data\n",
    "\n"
   ]
  },
  {
   "cell_type": "code",
   "execution_count": 125,
   "metadata": {},
   "outputs": [
    {
     "name": "stderr",
     "output_type": "stream",
     "text": [
      "c:\\Users\\terfu\\AppData\\Local\\Programs\\Python\\Python310\\lib\\site-packages\\openpyxl\\worksheet\\_reader.py:312: UserWarning: Data Validation extension is not supported and will be removed\n",
      "  warn(msg)\n"
     ]
    }
   ],
   "source": [
    "questionaire= pd.read_excel(p + 'questionaire _test_data.xlsx') #read from repository 'remove test_data \n",
    "\n",
    "questionaire_long = questionaire.melt(id_vars= ['pID'],value_vars=['baseline','passive','agency'])"
   ]
  },
  {
   "attachments": {},
   "cell_type": "markdown",
   "metadata": {},
   "source": [
    "### plot control"
   ]
  },
  {
   "cell_type": "code",
   "execution_count": 126,
   "metadata": {},
   "outputs": [],
   "source": [
    "palette = ['#365c8d','#E5E4E2','#899499','#4ac16d', '#277f8e','#440154'] \n",
    "cats= ['item_baseline', 'item_passive', 'item_agency']\n",
    "ylabel = 'level of control'\n",
    "xlabel = 'condition'\n",
    "title = 'fake'\n",
    "data = questionaire_long\n",
    "y = 'value'\n",
    "x = 'variable'\n",
    "hue = 'pID'\n",
    "\n",
    "#cohend(data,x,y, cats)"
   ]
  },
  {
   "cell_type": "code",
   "execution_count": 127,
   "metadata": {},
   "outputs": [
    {
     "data": {
      "image/png": "[encoded data removed]",
      "text/plain": [
       "<Figure size 432x216 with 1 Axes>"
      ]
     },
     "metadata": {},
     "output_type": "display_data"
    },
    {
     "name": "stderr",
     "output_type": "stream",
     "text": [
      "The PostScript backend does not support transparency; partially transparent artists will be rendered opaque.\n"
     ]
    }
   ],
   "source": [
    "#test-- > to be integrated into plot_3_cats?\n",
    "\n",
    "cats_0 = data[data[x]==cats[0]]\n",
    "cats_1 = data[data[x]==cats[1]]\n",
    "cats_2 = data[data[x]==cats[2]]\n",
    "\n",
    "pairs = [(cats[0], cats[1],cats[1])]\n",
    "\n",
    "with sns.plotting_context('paper', font_scale = 1.8):\n",
    "\n",
    "        ### Create new plot\n",
    "        fig, ax = plt.subplots(1, 1, figsize=(6,3))\n",
    "        fig.patch.set_alpha(1)\n",
    "\n",
    "        sns.despine() #bottom=True, left=True\n",
    "         # show boxplots\n",
    "        ax = sns.boxplot(data = data, x = x, y = y,  palette= palette[3:6])\n",
    "        for patch in ax.patches: # adapt alpha\n",
    "             r, g, b, a = patch.get_facecolor()\n",
    "             patch.set_facecolor((r, g, b, .6))\n",
    "\n",
    "        # show lines connecting pid means observations    \n",
    "        #sns.lineplot(data = data, x = x, y = y, hue = hue,\n",
    "        #            legend = False, linewidth = 0.5, linestyle = '-',ci =None,color = 'grey', alpha=0.8)\n",
    "        \n",
    "\n",
    "            \n",
    "        # show line connecting means\n",
    "        sns.pointplot(\n",
    "            data = data,x = x, y = y,\n",
    "            markers=\"s\",linewidth = 1, size = 6, ci =None,color = 'black',legend = False)\n",
    "\n",
    "        #sns.scatterplot(data = data,x = x, y = y, markers=\"^\",color = 'black')\n",
    "\n",
    "\n",
    "        \n",
    "        # Label and show\n",
    "        # label_plot_for_subcats(ax)\n",
    "        ax.set_title(title)\n",
    "        ax.set_ylabel(ylabel)\n",
    "        ax.set_xlabel(xlabel)\n",
    "\n",
    "      \n",
    "\n",
    "        plt.show()\n",
    "        fig.savefig('results/'+title + '_' + ylabel + '_' + xlabel + '.svg', format='eps', transparent=True, bbox_inches='tight', dpi=300)"
   ]
  },
  {
   "cell_type": "markdown",
   "metadata": {},
   "source": [
    "#### ANOVA"
   ]
  },
  {
   "cell_type": "code",
   "execution_count": 102,
   "metadata": {},
   "outputs": [
    {
     "name": "stdout",
     "output_type": "stream",
     "text": [
      "                Anova\n",
      "======================================\n",
      "         F Value Num DF  Den DF Pr > F\n",
      "--------------------------------------\n",
      "variable 39.2465 2.0000 22.0000 0.0000\n",
      "======================================\n",
      "\n"
     ]
    }
   ],
   "source": [
    "\n",
    "print(AnovaRM(data=questionaire_long, depvar='value',\n",
    "              subject='pID', within=['variable']).fit())\n",
    "\n",
    "\n",
    "\n"
   ]
  },
  {
   "cell_type": "code",
   "execution_count": 106,
   "metadata": {},
   "outputs": [
    {
     "name": "stdout",
     "output_type": "stream",
     "text": [
      "  Multiple Comparison of Means - Tukey HSD, FWER=0.05   \n",
      "========================================================\n",
      " group1   group2  meandiff p-adj   lower   upper  reject\n",
      "--------------------------------------------------------\n",
      "  agency baseline   3.0833    0.0  1.8268  4.3398   True\n",
      "  agency  passive  -1.4167 0.0243 -2.6732 -0.1602   True\n",
      "baseline  passive     -4.5    0.0 -5.7565 -3.2435   True\n",
      "--------------------------------------------------------\n"
     ]
    }
   ],
   "source": [
    "#POSTHOC TESTS\n",
    "tukey = pairwise_tukeyhsd(endog=questionaire_long['value'],\n",
    "                          groups=questionaire_long['variable'],\n",
    "                          alpha=0.05)\n",
    "\n",
    "print(tukey)"
   ]
  },
  {
   "cell_type": "code",
   "execution_count": 109,
   "metadata": {},
   "outputs": [
    {
     "data": {
      "text/html": [
       "<div>\n",
       "<style scoped>\n",
       "    .dataframe tbody tr th:only-of-type {\n",
       "        vertical-align: middle;\n",
       "    }\n",
       "\n",
       "    .dataframe tbody tr th {\n",
       "        vertical-align: top;\n",
       "    }\n",
       "\n",
       "    .dataframe thead th {\n",
       "        text-align: right;\n",
       "    }\n",
       "</style>\n",
       "<table border=\"1\" class=\"dataframe\">\n",
       "  <thead>\n",
       "    <tr style=\"text-align: right;\">\n",
       "      <th></th>\n",
       "      <th>mean</th>\n",
       "      <th>std</th>\n",
       "    </tr>\n",
       "    <tr>\n",
       "      <th>variable</th>\n",
       "      <th></th>\n",
       "      <th></th>\n",
       "    </tr>\n",
       "  </thead>\n",
       "  <tbody>\n",
       "    <tr>\n",
       "      <th>agency</th>\n",
       "      <td>-0.583333</td>\n",
       "      <td>1.880925</td>\n",
       "    </tr>\n",
       "    <tr>\n",
       "      <th>baseline</th>\n",
       "      <td>2.500000</td>\n",
       "      <td>0.522233</td>\n",
       "    </tr>\n",
       "    <tr>\n",
       "      <th>passive</th>\n",
       "      <td>-2.000000</td>\n",
       "      <td>0.953463</td>\n",
       "    </tr>\n",
       "  </tbody>\n",
       "</table>\n",
       "</div>"
      ],
      "text/plain": [
       "              mean       std\n",
       "variable                    \n",
       "agency   -0.583333  1.880925\n",
       "baseline  2.500000  0.522233\n",
       "passive  -2.000000  0.953463"
      ]
     },
     "execution_count": 109,
     "metadata": {},
     "output_type": "execute_result"
    }
   ],
   "source": [
    "\n"
   ]
  },
  {
   "attachments": {},
   "cell_type": "markdown",
   "metadata": {},
   "source": [
    "# 3. Content Analysis\n",
    "--> not yet adapted to new file format\n",
    "- built to world clouds for each block\n",
    "- define stopwords\n",
    "- maybe check sentiment analysis -> pareid t-test?\n",
    "-TODO: try word cloud german\n"
   ]
  },
  {
   "cell_type": "code",
   "execution_count": 164,
   "metadata": {},
   "outputs": [],
   "source": [
    "interview_baseline = questionaire['text_baseline'].dropna().to_json(force_ascii = False)\n",
    "\n",
    "interview_passive = questionaire['text_passive'].dropna().to_json(force_ascii = False)\n",
    "\n",
    "interview_agency = questionaire['text_agency'].dropna().to_json(force_ascii = False)\n",
    "\n",
    "stopwords = STOPWORDS # extend by domaine specific words if necessary\n",
    "\n",
    "interview_baseline2 = questionaire['text_baseline'].dropna().to_string(force_ascii = False)"
   ]
  },
  {
   "cell_type": "code",
   "execution_count": 166,
   "metadata": {},
   "outputs": [],
   "source": [
    "#todo check the difference to this code\n",
    "\n",
    "interview_baseline2 = questionaire['text_baseline'].dropna().to_string()"
   ]
  },
  {
   "cell_type": "code",
   "execution_count": 167,
   "metadata": {},
   "outputs": [
    {
     "name": "stdout",
     "output_type": "stream",
     "text": [
      "0    I chose to press the screen; I was using my fr...\n",
      "1    Ich hatte kein Strom Gefühl; Hätte ich nicht g...\n",
      "2    Es war  nicht manipuliert; ich habe ausgewählt...\n"
     ]
    }
   ],
   "source": [
    "print(interview_baseline2)"
   ]
  },
  {
   "cell_type": "code",
   "execution_count": 168,
   "metadata": {},
   "outputs": [
    {
     "data": {
      "text/plain": [
       "<wordcloud.wordcloud.WordCloud at 0x26f2e785b70>"
      ]
     },
     "execution_count": 168,
     "metadata": {},
     "output_type": "execute_result"
    }
   ],
   "source": [
    "wc_formate = WordCloud(background_color='black', max_words=500, width=3000,\n",
    "                    height=1500, stopwords=stopwords, min_font_size=2,\n",
    "                    contour_width=3, contour_color='white')\n",
    "\n",
    "wc_formate.generate(interview_baseline2)\n",
    "wc_formate.to_file((\"results/wordcloud_baseline.png\"))\n",
    "\n",
    "wc_formate.generate(interview_passive)\n",
    "wc_formate.to_file((\"results/wordcloud_passive.png\"))\n",
    "\n",
    "wc_formate.generate(interview_passive)\n",
    "wc_formate.to_file((\"results/wordcloud_agency.png\"))\n"
   ]
  },
  {
   "attachments": {},
   "cell_type": "markdown",
   "metadata": {},
   "source": [
    "# 4. Sentiment Analysis"
   ]
  },
  {
   "cell_type": "code",
   "execution_count": 159,
   "metadata": {},
   "outputs": [
    {
     "name": "stdout",
     "output_type": "stream",
     "text": [
      "{'neg': 0.166, 'neu': 0.764, 'pos': 0.07, 'compound': -0.6705}\n",
      "{'neg': 0.0, 'neu': 1.0, 'pos': 0.0, 'compound': 0.0}\n",
      "{'neg': 0.323, 'neu': 0.677, 'pos': 0.0, 'compound': -0.9815}\n"
     ]
    }
   ],
   "source": [
    "\n",
    "analyzer=SentimentIntensityAnalyzer()  \n",
    "\n",
    "print(analyzer.polarity_scores(interview_baseline))\n",
    "print(analyzer.polarity_scores(interview_passive))\n",
    "print(analyzer.polarity_scores(interview_agency))\n",
    "\n",
    "\n"
   ]
  }
 ],
 "metadata": {
  "kernelspec": {
   "display_name": "Python 3",
   "language": "python",
   "name": "python3"
  },
  "language_info": {
   "codemirror_mode": {
    "name": "ipython",
    "version": 3
   },
   "file_extension": ".py",
   "mimetype": "text/x-python",
   "name": "python",
   "nbconvert_exporter": "python",
   "pygments_lexer": "ipython3",
   "version": "3.10.7"
  },
  "orig_nbformat": 4,
  "vscode": {
   "interpreter": {
    "hash": "3c8b1dbe8e2868d4c1ba5519ab4ebf16602ee2921cdd29268d4bb1c20ff3ce8a"
   }
  }
 },
 "nbformat": 4,
 "nbformat_minor": 2
}
