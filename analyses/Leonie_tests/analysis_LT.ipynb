{
 "cells": [
  {
   "attachments": {},
   "cell_type": "markdown",
   "metadata": {},
   "source": [
    "# Analysis fastReach "
   ]
  },
  {
   "attachments": {},
   "cell_type": "markdown",
   "metadata": {},
   "source": [
    "## general prep"
   ]
  },
  {
   "cell_type": "code",
   "execution_count": 1,
   "metadata": {},
   "outputs": [],
   "source": [
    "\n",
    "# load packages\n",
    "import numpy as np\n",
    "import pandas as pd\n",
    "import seaborn as sns\n",
    "import statsmodels.formula.api as smf\n",
    "from scipy import stats\n",
    "import seaborn as sns\n",
    "import matplotlib.pyplot as plt\n",
    "from statannotations.Annotator import Annotator\n",
    "# %load_ext rpy2.ipython # currently not needed\n",
    "import glob\n",
    "\n",
    "from wordcloud import WordCloud, STOPWORDS\n",
    "from nltk.corpus import stopwords\n",
    "from vaderSentiment.vaderSentiment import SentimentIntensityAnalyzer\n",
    "   \n"
   ]
  },
  {
   "cell_type": "code",
   "execution_count": 2,
   "metadata": {},
   "outputs": [],
   "source": [
    "# set path\n",
    "d = \"C://Users/terfu/Desktop/2021-fastReach/analyses/Leonie_tests/\""
   ]
  },
  {
   "attachments": {},
   "cell_type": "markdown",
   "metadata": {},
   "source": [
    "## load functions"
   ]
  },
  {
   "cell_type": "code",
   "execution_count": 3,
   "metadata": {},
   "outputs": [],
   "source": [
    "# plot with two cats\n",
    "def plot_2_cats(data, x, y, hue, ylabel, xlabel,cats,palette):\n",
    "    \n",
    "    cats_0 = data[data[x]==cats[0]]\n",
    "    cats_1 = data[data[x]==cats[1]]\n",
    "\n",
    "    pairs = [(cats[0], cats[1])]\n",
    "\n",
    "    ###  get p values for paired t test between two conditions\n",
    "\n",
    "    pvalues = [\n",
    "        stats.ttest_rel( cats_0[y], cats_1[y]).pvalue\n",
    "        #stats.ranksums(cat_0[dv], cat_1[dv]).pvalue\n",
    "    ]\n",
    "    \n",
    "    # Transform each p-value to \"p=\" in scientific notation\n",
    "    formatted_pvalues = [f'p={pvalue:.2e}' for pvalue in pvalues]\n",
    "\n",
    "    with sns.plotting_context('paper', font_scale = 1.8):\n",
    "\n",
    "        ### Create new plot\n",
    "        fig, ax = plt.subplots(1, 1, figsize=(3,5))\n",
    "        fig.patch.set_alpha(1)\n",
    "\n",
    "        sns.despine() #bottom=True, left=True\n",
    "\n",
    "        #  show lines connecting single observations    \n",
    "        sns.lineplot(data = data, x = x, y = y, hue = data.pID, legend = False, palette = sns.color_palette(['grey'], len(data.pID.unique())), linewidth = 0.5, linestyle = '--', alpha = 0.5,ci =None)\n",
    "        \n",
    "\n",
    "        #Show each observation with a scatterplot\n",
    "        sns.stripplot(data = data,x = x, y = y, hue = None,size=10, dodge=True, alpha=.5, label=None, jitter = 0.04,palette= palette)\n",
    "\n",
    "        # show boxplots\n",
    "        #sns.boxplot(data = data,x = x, y = y,  palette= palette)\n",
    "\n",
    "        # show line connecting menas\n",
    "        sns.pointplot(\n",
    "            data = data,x = x, y = y, dodge=.8 - .8 / 3,\n",
    "            markers=\"d\", scale=.75, ci =None)\n",
    "\n",
    "\n",
    "        # Add annotations\n",
    "        annotator = Annotator(ax, pairs = [(cats[0], cats[1])], data = data,x = x, y = y)\n",
    "        annotator.configure(text_format=\"simple\")\n",
    "        annotator.set_pvalues(pvalues)\n",
    "        annotator.annotate()\n",
    "\n",
    "        # Label and show\n",
    "        # label_plot_for_subcats(ax)\n",
    "        ax.set_title(title)\n",
    "        ax.set_ylabel(ylabel)\n",
    "        ax.set_xlabel(xlabel)\n",
    "\n",
    "        plt.show()\n",
    "\n",
    "        fig.savefig('results/'+ title + '_' + ylabel + '_' + xlabel + '.png', format='png', transparent=False, bbox_inches='tight', dpi=300)\n",
    "        fig.savefig('results/'+title + '_' + ylabel + '_' + xlabel + '.eps', format='eps', transparent=True, bbox_inches='tight', dpi=300)"
   ]
  },
  {
   "cell_type": "code",
   "execution_count": 4,
   "metadata": {},
   "outputs": [],
   "source": [
    "# plot with three condition \n",
    "\n",
    "def plot_3_cats(data, x, y, hue, ylabel, xlabel,cats,palette,data_means):\n",
    "    \n",
    "    cats_0 = data[data[x]==cats[0]]\n",
    "    cats_1 = data[data[x]==cats[1]]\n",
    "    cats_2 = data[data[x]==cats[2]]\n",
    "\n",
    "    pairs = [(cats[0], cats[1],cats[1])]\n",
    "\n",
    "    ###  get p values for paired t test between two conditions\n",
    "\n",
    "    #pvalues = [\n",
    "     #   stats.ttest_rel( cats_0[y], cats_1[y],cats_2[y]).pvalue\n",
    "        #stats.ranksums(cat_0[dv], cat_1[dv]).pvalue\n",
    "    #]\n",
    "    \n",
    "    # Transform each p-value to \"p=\" in scientific notation\n",
    "    #formatted_pvalues = [f'p={pvalue:.2e}' for pvalue in pvalues]\n",
    "\n",
    "    with sns.plotting_context('paper', font_scale = 1.8):\n",
    "\n",
    "        ### Create new plot\n",
    "        fig, ax = plt.subplots(1, 1, figsize=(3,5))\n",
    "        fig.patch.set_alpha(1)\n",
    "\n",
    "        sns.despine() #bottom=True, left=True\n",
    "         # show boxplots\n",
    "        #sns.boxplot(data = data,x = x, y = y,  palette= palette)\n",
    "\n",
    "        #  show lines connecting single observations    \n",
    "        sns.lineplot(data = data_means, x = x, y = y, hue = hue, legend = False, palette = sns.color_palette(['grey'], len(data.pID.unique())), linewidth = 0.5, linestyle = '--', alpha = 0.5,ci =None)\n",
    "        \n",
    "\n",
    "        #Show each observation with a scatterplot\n",
    "        sns.stripplot(data = data_means,x = x, y = y, hue = None,size=10, dodge=True, alpha=.5, label=None,palette= palette)\n",
    "\n",
    "       \n",
    "\n",
    "        # show line connecting menas\n",
    "        sns.pointplot(\n",
    "            data = data,x = x, y = y, dodge=.8 - .8 / 3,\n",
    "            markers=\"d\", scale=.75, ci =None)\n",
    "\n",
    "\n",
    "        # Add annotations\n",
    "        #annotator = Annotator(ax, pairs = [(cats[0], cats[1])], data = data,x = x, y = y)\n",
    "        #annotator.configure(text_format=\"simple\")\n",
    "        #annotator.set_pvalues(pvalues)\n",
    "        #annotator.annotate()\n",
    "\n",
    "        # Label and show\n",
    "        # label_plot_for_subcats(ax)\n",
    "        ax.set_title(title)\n",
    "        ax.set_ylabel(ylabel)\n",
    "        ax.set_xlabel(xlabel)\n",
    "\n",
    "        plt.show()\n",
    "\n",
    "        fig.savefig('results/'+ title + '_' + ylabel + '_' + xlabel + '.png', format='png', transparent=False, bbox_inches='tight', dpi=300)\n",
    "        fig.savefig('results/'+title + '_' + ylabel + '_' + xlabel + '.eps', format='eps', transparent=True, bbox_inches='tight', dpi=300)"
   ]
  },
  {
   "cell_type": "code",
   "execution_count": 5,
   "metadata": {},
   "outputs": [],
   "source": [
    "# plot with three condition \n",
    "\n",
    "def plot_3_cats_hue(data, x, y, hue, ylabel, xlabel,cats,palette,data_means,hue2):\n",
    "    \n",
    "    cats_0 = data[data[x]==cats[0]]\n",
    "    cats_1 = data[data[x]==cats[1]]\n",
    "    cats_2 = data[data[x]==cats[2]]\n",
    "\n",
    "    pairs = [(cats[0], cats[1],cats[1])]\n",
    "\n",
    "    ###  get p values for paired t test between two conditions\n",
    "\n",
    "    #pvalues = [\n",
    "     #   stats.ttest_rel( cats_0[y], cats_1[y],cats_2[y]).pvalue\n",
    "        #stats.ranksums(cat_0[dv], cat_1[dv]).pvalue\n",
    "    #]\n",
    "    \n",
    "    # Transform each p-value to \"p=\" in scientific notation\n",
    "    #formatted_pvalues = [f'p={pvalue:.2e}' for pvalue in pvalues]\n",
    "\n",
    "    with sns.plotting_context('paper', font_scale = 1.8):\n",
    "\n",
    "        ### Create new plot\n",
    "        fig, ax = plt.subplots(1, 1, figsize=(3,5))\n",
    "        fig.patch.set_alpha(1)\n",
    "\n",
    "        sns.despine() #bottom=True, left=True\n",
    "         # show boxplots\n",
    "        sns.boxplot(data = data,x = x, y = y, hue = hue2, palette= palette)\n",
    "\n",
    "        #  show lines connecting single observations    \n",
    "        sns.lineplot(data = data_means, x = x, y = y, hue = hue, legend = False, palette = sns.color_palette(['grey'], len(data.pID.unique())), linewidth = 0.5, linestyle = '--', alpha = 0.5,ci =None)\n",
    "        \n",
    "\n",
    "        #Show each observation with a scatterplot\n",
    "        sns.stripplot(data = data_means,x = x, y = y, hue = None,size=10, dodge=True, alpha=.5, label=None,palette= palette)\n",
    "\n",
    "       \n",
    "\n",
    "        # show line connecting menas\n",
    "        sns.pointplot(\n",
    "            data = data,x = x, y = y, dodge=.8 - .8 / 3,\n",
    "            markers=\"d\", scale=.75, ci =None)\n",
    "\n",
    "\n",
    "        # Add annotations\n",
    "        #annotator = Annotator(ax, pairs = [(cats[0], cats[1])], data = data,x = x, y = y)\n",
    "        #annotator.configure(text_format=\"simple\")\n",
    "        #annotator.set_pvalues(pvalues)\n",
    "        #annotator.annotate()\n",
    "\n",
    "        # Label and show\n",
    "        # label_plot_for_subcats(ax)\n",
    "        ax.set_title(title)\n",
    "        ax.set_ylabel(ylabel)\n",
    "        ax.set_xlabel(xlabel)\n",
    "\n",
    "        plt.show()\n",
    "\n",
    "        fig.savefig('results/'+ title + '_' + ylabel + '_' + xlabel + '.png', format='png', transparent=False, bbox_inches='tight', dpi=300)\n",
    "        fig.savefig('results/'+title + '_' + ylabel + '_' + xlabel + '.eps', format='eps', transparent=True, bbox_inches='tight', dpi=300)"
   ]
  },
  {
   "attachments": {},
   "cell_type": "markdown",
   "metadata": {},
   "source": [
    "# 1. Intentional Binding\n",
    "- input: 3 tabels for each pID: pID | stim_cond (basline vs. random vs. EEG)| temp_cond (200|350|500??) | IB_estimate\n",
    "\n",
    "- think about defintion of IB_estimate\n",
    "- linear-mixed-model mit  IB_estimate ~ stim_cond * temp_cond + (1|pID)\n",
    "- liklyhood ratio test to check for significant influences\n",
    "- if the case: post-hoc test = read up which ones\n",
    "- Visualization: Boxpolts with 3 boxes (stim_conditions), or 9 boxes (both, x = temp_condition) --> depending on significance of temp_condition\n",
    "- connect means, show points for participands\n",
    "- maybe grey out basline (since not analyzed in the other data)"
   ]
  },
  {
   "attachments": {},
   "cell_type": "markdown",
   "metadata": {},
   "source": [
    "missing:\n",
    "- make pretty\n",
    "- add time as catgory\n",
    "- add statistical test\n",
    "- \n",
    "\n",
    "\n",
    "- "
   ]
  },
  {
   "cell_type": "code",
   "execution_count": 3,
   "metadata": {},
   "outputs": [],
   "source": [
    "# merge data\n",
    "filenames = glob.glob(d + 'fake_data/ib_estimate' + \"/*.csv\")\n",
    "\n",
    "data_list =[]\n",
    "for filename in filenames:\n",
    "    data = pd.read_csv(filename, index_col=None, header=0, sep = \";\",decimal=\",\")\n",
    "    data_list.append(data)\n",
    "\n",
    "ib = pd.concat(data_list, axis=0, ignore_index=True)\n",
    "ib.ib_estimate = pd.to_numeric(ib.ib_estimate)\n",
    "ib[['stimulation_condition','temp_condition']] = ib[['stimulation_condition','temp_condition']].astype(\"category\")\n"
   ]
  },
  {
   "cell_type": "code",
   "execution_count": 56,
   "metadata": {},
   "outputs": [],
   "source": [
    "\n"
   ]
  },
  {
   "cell_type": "code",
   "execution_count": 7,
   "metadata": {},
   "outputs": [
    {
     "data": {
      "image/png": "[encoded data removed]",
      "text/plain": [
       "<Figure size 216x360 with 1 Axes>"
      ]
     },
     "metadata": {},
     "output_type": "display_data"
    },
    {
     "name": "stderr",
     "output_type": "stream",
     "text": [
      "The PostScript backend does not support transparency; partially transparent artists will be rendered opaque.\n"
     ]
    }
   ],
   "source": [
    "# with only stimulation condition\n",
    "ib_means = ib.groupby(['pID','stimulation_condition'],as_index=False)['ib_estimate'].mean()\n",
    "\n",
    "palette = sns.color_palette(palette=None, n_colors=1)\n",
    "cats= ['baseline','random','EEG'] \n",
    "ylabel = 'ib estimate'\n",
    "xlabel = 'condition'\n",
    "title = 'fake'\n",
    "data = ib\n",
    "data_means = ib_means\n",
    "y = \"ib_estimate\"\n",
    "x = \"stimulation_condition\"\n",
    "hue = \"pID\"\n",
    "\n",
    "\n",
    "plot_3_cats(data, x, y, hue, ylabel, xlabel,cats,palette,data_means)"
   ]
  },
  {
   "cell_type": "code",
   "execution_count": 8,
   "metadata": {},
   "outputs": [
    {
     "data": {
      "image/png": "[encoded data removed]",
      "text/plain": [
       "<Figure size 216x360 with 1 Axes>"
      ]
     },
     "metadata": {},
     "output_type": "display_data"
    },
    {
     "name": "stderr",
     "output_type": "stream",
     "text": [
      "The PostScript backend does not support transparency; partially transparent artists will be rendered opaque.\n"
     ]
    }
   ],
   "source": [
    "# with only stimulation condition + time contions\n",
    "ib_means = ib.groupby(['pID','stimulation_condition','temp_condition'],as_index=False)['ib_estimate'].mean()\n",
    "\n",
    "palette = sns.color_palette(palette=None, n_colors=3)\n",
    "cats= ['baseline','random','EEG'] \n",
    "ylabel = 'ib estimate'\n",
    "xlabel = 'condition'\n",
    "title = 'fake'\n",
    "data = ib\n",
    "data_means = ib_means\n",
    "y = \"ib_estimate\"\n",
    "x = \"stimulation_condition\"\n",
    "hue = \"pID\"\n",
    "hue2 = 'temp_condition'\n",
    "\n",
    "\n",
    "\n",
    "plot_3_cats_hue(data, x, y, hue, ylabel, xlabel,cats,palette,data_means,hue2)"
   ]
  },
  {
   "attachments": {},
   "cell_type": "markdown",
   "metadata": {},
   "source": [
    "### linear mixed model"
   ]
  },
  {
   "cell_type": "code",
   "execution_count": 31,
   "metadata": {},
   "outputs": [
    {
     "name": "stderr",
     "output_type": "stream",
     "text": [
      "\n",
      "[notice] A new release of pip available: 22.2.2 -> 23.0.1\n",
      "[notice] To update, run: python.exe -m pip install --upgrade pip\n",
      "R[write to console]: Warning:\n",
      "R[write to console]:  Pakete 'lme4', 'lmerTest' werden gerade benutzt und deshalb nicht installiert\n",
      "\n",
      "R[write to console]: Installiere Pakete nach 'C:/Users/terfu/AppData/Local/R/win-library/4.2'\n",
      "(da 'lib' nicht spezifiziert)\n",
      "\n",
      "R[write to console]: trying URL 'https://cloud.r-project.org/bin/windows/contrib/4.2/emmeans_1.8.4-1.zip'\n",
      "\n",
      "R[write to console]: Content type 'application/zip'\n",
      "R[write to console]:  length 2133259 bytes (2.0 MB)\n",
      "\n",
      "R[write to console]: downloaded 2.0 MB\n",
      "\n",
      "\n",
      "R[write to console]: trying URL 'https://cloud.r-project.org/bin/windows/contrib/4.2/geepack_1.3.9.zip'\n",
      "\n",
      "R[write to console]: Content type 'application/zip'\n",
      "R[write to console]:  length 899044 bytes (877 KB)\n",
      "\n",
      "R[write to console]: downloaded 877 KB\n",
      "\n",
      "\n",
      "R[write to console]: trying URL 'https://cloud.r-project.org/bin/windows/contrib/4.2/sjPlot_2.8.12.zip'\n",
      "\n",
      "R[write to console]: Content type 'application/zip'\n",
      "R[write to console]:  length 1536361 bytes (1.5 MB)\n",
      "\n",
      "R[write to console]: downloaded 1.5 MB\n",
      "\n",
      "\n"
     ]
    },
    {
     "name": "stdout",
     "output_type": "stream",
     "text": [
      "Paket 'emmeans' erfolgreich ausgepackt und MD5 Summen abgeglichen\n",
      "Paket 'geepack' erfolgreich ausgepackt und MD5 Summen abgeglichen\n",
      "Paket 'sjPlot' erfolgreich ausgepackt und MD5 Summen abgeglichen\n",
      "\n"
     ]
    },
    {
     "name": "stderr",
     "output_type": "stream",
     "text": [
      "Exception ignored from cffi callback <function _consolewrite_ex at 0x0000017DC0112CB0>:\n",
      "Traceback (most recent call last):\n",
      "  File \"c:\\Users\\terfu\\AppData\\Local\\Programs\\Python\\Python310\\lib\\site-packages\\rpy2\\rinterface_lib\\callbacks.py\", line 133, in _consolewrite_ex\n",
      "    s = conversion._cchar_to_str_with_maxlen(buf, n, _CCHAR_ENCODING)\n",
      "  File \"c:\\Users\\terfu\\AppData\\Local\\Programs\\Python\\Python310\\lib\\site-packages\\rpy2\\rinterface_lib\\conversion.py\", line 138, in _cchar_to_str_with_maxlen\n",
      "    s = ffi.string(c, maxlen).decode(encoding)\n",
      "UnicodeDecodeError: 'utf-8' codec can't decode byte 0xe4 in position 25: invalid continuation byte\n"
     ]
    },
    {
     "name": "stdout",
     "output_type": "stream",
     "text": [
      "\n"
     ]
    },
    {
     "data": {
      "text/plain": [
       "<rpy2.rinterface_lib.sexp.NULLType object at 0x0000017DC112B040> [RTYPES.NILSXP]"
      ]
     },
     "execution_count": 31,
     "metadata": {},
     "output_type": "execute_result"
    }
   ],
   "source": [
    "!pip install -q rpy2\n",
    "packnames = ('lme4', 'lmerTest', 'emmeans', 'geepack', 'sjPlot')\n",
    "from rpy2.robjects.packages import importr\n",
    "from rpy2.robjects.vectors import StrVector\n",
    "utils = importr(\"utils\")\n",
    "utils.chooseCRANmirror(ind=1)\n",
    "utils.install_packages(StrVector(packnames))"
   ]
  },
  {
   "cell_type": "code",
   "execution_count": 29,
   "metadata": {},
   "outputs": [
    {
     "name": "stdout",
     "output_type": "stream",
     "text": [
      "The rpy2.ipython extension is already loaded. To reload it, use:\n",
      "  %reload_ext rpy2.ipython\n"
     ]
    }
   ],
   "source": [
    "%load_ext rpy2.ipython"
   ]
  },
  {
   "cell_type": "code",
   "execution_count": 38,
   "metadata": {},
   "outputs": [
    {
     "name": "stderr",
     "output_type": "stream",
     "text": [
      "c:\\Users\\terfu\\AppData\\Local\\Programs\\Python\\Python310\\lib\\site-packages\\rpy2\\robjects\\pandas2ri.py:65: UserWarning: Error while trying to convert the column \"temp_condition\". Fall back to string conversion. The error is: Converting pandas \"Category\" series to R factor is only possible when categories are strings.\n",
      "  warnings.warn('Error while trying to convert '\n"
     ]
    },
    {
     "name": "stdout",
     "output_type": "stream",
     "text": [
      "           Chisq Df Pr(>Chisq)    \n",
      "full_model 90.83  2  < 2.2e-16 ***\n",
      "---\n",
      "Signif. codes:  0 '***' 0.001 '**' 0.01 '*' 0.05 '.' 0.1 ' ' 1\n"
     ]
    }
   ],
   "source": [
    "%%R -i ib\n",
    "#\n",
    "library(\"sjPlot\")\n",
    "#built models\n",
    "full_model <-lmer(ib_estimate ~ stimulation_condition + temp_condition + (1|pID), data = ib ,REML = F)\n",
    "tab_model(full_model,file = \"C://Users/terfu/Desktop/2021-fastReach/analyses/Leonie_tests/a\")\n",
    "null_model_stim <-lmer(ib_estimate ~  temp_condition + (1|pID), data = ib ,REML = F)\n",
    "null_model_temp<-lmer(ib_estimate ~ stimulation_condition + (1|pID), data = ib ,REML = F)\n",
    "\n",
    "\n",
    "anova_stim <-anova(full_model,null_model_stim)[2, c(\"Chisq\", \"Df\",\"Pr(>Chisq)\")]\n",
    "anova_temp <-anova(full_model,null_model_temp)[2, c(\"Chisq\", \"Df\",\"Pr(>Chisq)\")]\n",
    "\n",
    "anova_stim "
   ]
  },
  {
   "cell_type": "code",
   "execution_count": 39,
   "metadata": {},
   "outputs": [
    {
     "ename": "SyntaxError",
     "evalue": "invalid syntax. Perhaps you forgot a comma? (2604966179.py, line 1)",
     "output_type": "error",
     "traceback": [
      "\u001b[1;36m  Input \u001b[1;32mIn [39]\u001b[1;36m\u001b[0m\n\u001b[1;33m    lmer(ib_estimate ~  temp_condition + (1|pID), data = ib ,REML = F)\u001b[0m\n\u001b[1;37m         ^\u001b[0m\n\u001b[1;31mSyntaxError\u001b[0m\u001b[1;31m:\u001b[0m invalid syntax. Perhaps you forgot a comma?\n"
     ]
    }
   ],
   "source": [
    "lmer(ib_estimate ~  temp_condition + (1|pID), data = ib ,REML = F)"
   ]
  },
  {
   "cell_type": "code",
   "execution_count": 36,
   "metadata": {},
   "outputs": [
    {
     "name": "stdout",
     "output_type": "stream",
     "text": [
      "[1] 20\n"
     ]
    }
   ],
   "source": []
  },
  {
   "attachments": {},
   "cell_type": "markdown",
   "metadata": {},
   "source": [
    "# 2. Questionaire results\n",
    "- items per block \"„Während der Aufgabe hat es sich angefühlt, als hätte ich die Kontrolle über die Bewegungen.“\n",
    "- input pid|first_block|control_random|control_EEG|expectation_fit|embodiment\n",
    "- paired t-testsf\n",
    "- box plots\n",
    "- SD,M,effect size\n",
    "\n",
    "@ Lukas? Significance test mit 5 values ist wirklich etwas shady, oder?"
   ]
  },
  {
   "cell_type": "code",
   "execution_count": 9,
   "metadata": {},
   "outputs": [],
   "source": [
    "#propably makes sense to integrate all subjective data\n",
    "# load  / merge qustionaire data\n",
    "\n",
    "questionaire= pd.read_csv('fake_data/subjective_fastReach.csv', sep = ';')"
   ]
  },
  {
   "attachments": {},
   "cell_type": "markdown",
   "metadata": {},
   "source": [
    "### plot control"
   ]
  },
  {
   "cell_type": "code",
   "execution_count": 10,
   "metadata": {},
   "outputs": [
    {
     "name": "stdout",
     "output_type": "stream",
     "text": [
      "control_EEG vs. control_random: Custom statistical test, P_val:1.923e-01\n"
     ]
    },
    {
     "name": "stderr",
     "output_type": "stream",
     "text": [
      "c:\\Users\\terfu\\AppData\\Local\\Programs\\Python\\Python310\\lib\\site-packages\\statannotations\\_Plotter.py:337: UserWarning: Invalid x-position found. Are the same parameters passed to seaborn and statannotations calls? or are there few data points?\n",
      "  warnings.warn(\n"
     ]
    },
    {
     "data": {
      "image/png": "[encoded data removed]",
      "text/plain": [
       "<Figure size 216x360 with 1 Axes>"
      ]
     },
     "metadata": {},
     "output_type": "display_data"
    },
    {
     "name": "stderr",
     "output_type": "stream",
     "text": [
      "The PostScript backend does not support transparency; partially transparent artists will be rendered opaque.\n"
     ]
    }
   ],
   "source": [
    "questionaire_long = questionaire.melt(id_vars= ['pID'],value_vars=['control_EEG','control_random'])\n",
    "\n",
    "palette = sns.color_palette(palette=None, n_colors=1)\n",
    "cats= ['control_random', 'control_EEG']\n",
    "ylabel = 'level of control'\n",
    "xlabel = 'condition'\n",
    "title = 'fake'\n",
    "data = questionaire_long\n",
    "y = \"value\"\n",
    "x = \"variable\"\n",
    "hue = \"pID\"\n",
    "\n",
    "plot_2_cats(data, x, y, hue, ylabel, xlabel,cats,palette)\n",
    "\n",
    "#cohend(data,x,y, cats)"
   ]
  },
  {
   "attachments": {},
   "cell_type": "markdown",
   "metadata": {},
   "source": [
    "### numbers control"
   ]
  },
  {
   "cell_type": "code",
   "execution_count": 11,
   "metadata": {},
   "outputs": [
    {
     "data": {
      "text/html": [
       "<div>\n",
       "<style scoped>\n",
       "    .dataframe tbody tr th:only-of-type {\n",
       "        vertical-align: middle;\n",
       "    }\n",
       "\n",
       "    .dataframe tbody tr th {\n",
       "        vertical-align: top;\n",
       "    }\n",
       "\n",
       "    .dataframe thead th {\n",
       "        text-align: right;\n",
       "    }\n",
       "</style>\n",
       "<table border=\"1\" class=\"dataframe\">\n",
       "  <thead>\n",
       "    <tr style=\"text-align: right;\">\n",
       "      <th></th>\n",
       "      <th>mean</th>\n",
       "      <th>std</th>\n",
       "    </tr>\n",
       "    <tr>\n",
       "      <th>variable</th>\n",
       "      <th></th>\n",
       "      <th></th>\n",
       "    </tr>\n",
       "  </thead>\n",
       "  <tbody>\n",
       "    <tr>\n",
       "      <th>control_EEG</th>\n",
       "      <td>1.772727</td>\n",
       "      <td>1.477830</td>\n",
       "    </tr>\n",
       "    <tr>\n",
       "      <th>control_random</th>\n",
       "      <td>1.136364</td>\n",
       "      <td>1.909761</td>\n",
       "    </tr>\n",
       "  </tbody>\n",
       "</table>\n",
       "</div>"
      ],
      "text/plain": [
       "                    mean       std\n",
       "variable                          \n",
       "control_EEG     1.772727  1.477830\n",
       "control_random  1.136364  1.909761"
      ]
     },
     "execution_count": 11,
     "metadata": {},
     "output_type": "execute_result"
    }
   ],
   "source": [
    "questionaire_long.groupby('variable')['value'].agg([\"mean\", \"std\"])\n"
   ]
  },
  {
   "attachments": {},
   "cell_type": "markdown",
   "metadata": {},
   "source": [
    "### count expectation"
   ]
  },
  {
   "cell_type": "code",
   "execution_count": 12,
   "metadata": {},
   "outputs": [
    {
     "data": {
      "text/plain": [
       "eeg       13\n",
       "random     9\n",
       "Name: expectation_fit, dtype: int64"
      ]
     },
     "execution_count": 12,
     "metadata": {},
     "output_type": "execute_result"
    }
   ],
   "source": [
    "questionaire['expectation_fit'].value_counts()"
   ]
  },
  {
   "attachments": {},
   "cell_type": "markdown",
   "metadata": {},
   "source": [
    "### count embodiment"
   ]
  },
  {
   "cell_type": "code",
   "execution_count": 108,
   "metadata": {},
   "outputs": [
    {
     "data": {
      "text/plain": [
       "nein    11\n",
       "ja      11\n",
       "Name: embodiment, dtype: int64"
      ]
     },
     "execution_count": 108,
     "metadata": {},
     "output_type": "execute_result"
    }
   ],
   "source": [
    "questionaire['embodiment'].value_counts()"
   ]
  },
  {
   "attachments": {},
   "cell_type": "markdown",
   "metadata": {},
   "source": [
    "# 3. Content Analysis\n",
    "- built to world clouds for each block\n",
    "- define stopwords\n",
    "- maybe check sentiment analysis -> pareid t-test?\n"
   ]
  },
  {
   "cell_type": "code",
   "execution_count": 13,
   "metadata": {},
   "outputs": [],
   "source": [
    "interview_random_text = questionaire['interview_random'].to_json()\n",
    "\n",
    "interview_eeg_text = questionaire['interview_EEG'].to_json()\n",
    "\n",
    "stopwords = STOPWORDS # extend by domaine specific words if necessary\n",
    "\n"
   ]
  },
  {
   "cell_type": "code",
   "execution_count": 14,
   "metadata": {},
   "outputs": [
    {
     "data": {
      "text/plain": [
       "<wordcloud.wordcloud.WordCloud at 0x1ca83c42d40>"
      ]
     },
     "execution_count": 14,
     "metadata": {},
     "output_type": "execute_result"
    }
   ],
   "source": [
    "wc_formate = WordCloud(background_color='black', max_words=500, width=3000,\n",
    "                    height=1500, stopwords=stopwords, min_font_size=2,\n",
    "                    contour_width=3, contour_color='black')\n",
    "\n",
    "wc_formate.generate(interview_random_text)\n",
    "wc_formate.to_file((d+\"results/wordcloud_random.png\"))\n",
    "\n",
    "wc_formate.generate(interview_eeg_text)\n",
    "wc_formate.to_file((d+\"results/wordcloud_eeg.png\"))\n"
   ]
  },
  {
   "attachments": {},
   "cell_type": "markdown",
   "metadata": {},
   "source": [
    "# 4. Sentiment Analysis"
   ]
  },
  {
   "cell_type": "code",
   "execution_count": 15,
   "metadata": {},
   "outputs": [
    {
     "data": {
      "text/plain": [
       "{'neg': 0.104, 'neu': 0.735, 'pos': 0.161, 'compound': 0.9879}"
      ]
     },
     "execution_count": 15,
     "metadata": {},
     "output_type": "execute_result"
    }
   ],
   "source": [
    "# for whole text\n",
    "\n",
    "analyzer=SentimentIntensityAnalyzer()  \n",
    "\n",
    "analyzer.polarity_scores(interview_random_text)\n",
    "analyzer.polarity_scores(interview_eeg_text)\n",
    "\n"
   ]
  },
  {
   "cell_type": "code",
   "execution_count": null,
   "metadata": {},
   "outputs": [],
   "source": []
  }
 ],
 "metadata": {
  "kernelspec": {
   "display_name": "Python 3",
   "language": "python",
   "name": "python3"
  },
  "language_info": {
   "codemirror_mode": {
    "name": "ipython",
    "version": 3
   },
   "file_extension": ".py",
   "mimetype": "text/x-python",
   "name": "python",
   "nbconvert_exporter": "python",
   "pygments_lexer": "ipython3",
   "version": "3.10.7"
  },
  "orig_nbformat": 4,
  "vscode": {
   "interpreter": {
    "hash": "3c8b1dbe8e2868d4c1ba5519ab4ebf16602ee2921cdd29268d4bb1c20ff3ce8a"
   }
  }
 },
 "nbformat": 4,
 "nbformat_minor": 2
}
