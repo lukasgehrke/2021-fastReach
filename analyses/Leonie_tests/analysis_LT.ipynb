{
 "cells": [
  {
   "attachments": {},
   "cell_type": "markdown",
   "metadata": {},
   "source": [
    "# Analysis fastReach "
   ]
  },
  {
   "attachments": {},
   "cell_type": "markdown",
   "metadata": {},
   "source": [
    "### general prep"
   ]
  },
  {
   "cell_type": "code",
   "execution_count": null,
   "metadata": {},
   "outputs": [],
   "source": [
    "# load packages\n",
    "\n",
    "\n",
    "# set path"
   ]
  },
  {
   "attachments": {},
   "cell_type": "markdown",
   "metadata": {},
   "source": [
    "# 1. Intentional Binding\n",
    "- input:  pID | stim_cond (basline vs. random vs. EEG)| temp_cond (200|350|500??) | IB_estimate\n",
    "- think about defintion of IB_estimate\n",
    "- linear-mixed-model mit  IB_estimate ~ stim_cond * temp_cond + (1|pID)\n",
    "- liklyhood ratio test to check for significant influences\n",
    "- if the case: post-hoc test = read up which ones\n",
    "- Visualization: Boxpolts with 3 boxes (stim_conditions), or 9 boxes (both, x = temp_condition) --> depending on significance of temp_condition\n",
    "- connect means, show points for participands\n",
    "- maybe grey out basline (since not analyzed in the other data)"
   ]
  },
  {
   "cell_type": "code",
   "execution_count": null,
   "metadata": {},
   "outputs": [],
   "source": [
    "# load /merge attentional binding datadata "
   ]
  },
  {
   "cell_type": "code",
   "execution_count": null,
   "metadata": {},
   "outputs": [],
   "source": []
  },
  {
   "attachments": {},
   "cell_type": "markdown",
   "metadata": {},
   "source": [
    "# 2. Questionaire results\n",
    "- 3 items per block \n",
    "- paired t-tests\n",
    "- box plots\n",
    "- SD,M,effect size"
   ]
  },
  {
   "cell_type": "code",
   "execution_count": null,
   "metadata": {},
   "outputs": [],
   "source": [
    "# load  / merge qustionaire data"
   ]
  },
  {
   "attachments": {},
   "cell_type": "markdown",
   "metadata": {},
   "source": [
    "# 3. Content Analysis\n",
    "- built to world clouds for each block\n",
    "- define stopwords\n",
    "- maybe check sentiment analysis -> pareid t-test?\n"
   ]
  },
  {
   "cell_type": "code",
   "execution_count": null,
   "metadata": {},
   "outputs": [],
   "source": [
    "# load data (see test script)"
   ]
  }
 ],
 "metadata": {
  "kernelspec": {
   "display_name": "Python 3",
   "language": "python",
   "name": "python3"
  },
  "language_info": {
   "name": "python",
   "version": "3.10.7"
  },
  "orig_nbformat": 4,
  "vscode": {
   "interpreter": {
    "hash": "3c8b1dbe8e2868d4c1ba5519ab4ebf16602ee2921cdd29268d4bb1c20ff3ce8a"
   }
  }
 },
 "nbformat": 4,
 "nbformat_minor": 2
}
