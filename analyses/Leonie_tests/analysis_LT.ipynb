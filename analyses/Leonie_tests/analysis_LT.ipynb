{
 "cells": [
  {
   "attachments": {},
   "cell_type": "markdown",
   "metadata": {},
   "source": [
    "# Analysis fastReach "
   ]
  },
  {
   "attachments": {},
   "cell_type": "markdown",
   "metadata": {},
   "source": [
    "## general prep"
   ]
  },
  {
   "cell_type": "code",
   "execution_count": 92,
   "metadata": {},
   "outputs": [],
   "source": [
    "\n",
    "# load packages\n",
    "import numpy as np\n",
    "import pandas as pd\n",
    "import seaborn as sns\n",
    "import statsmodels.formula.api as smf\n",
    "from scipy import stats\n",
    "import seaborn as sns\n",
    "import matplotlib.pyplot as plt\n",
    "from statannotations.Annotator import Annotator\n",
    "# %load_ext rpy2.ipython # currently not needed\n",
    "import glob\n",
    "\n"
   ]
  },
  {
   "cell_type": "code",
   "execution_count": null,
   "metadata": {},
   "outputs": [],
   "source": [
    "# set path\n",
    "d = \"C://Users/terfu/Desktop/2021-fastReach/analyses/Leonie_tests/\""
   ]
  },
  {
   "attachments": {},
   "cell_type": "markdown",
   "metadata": {},
   "source": [
    "## load functions"
   ]
  },
  {
   "cell_type": "code",
   "execution_count": 71,
   "metadata": {},
   "outputs": [],
   "source": [
    "# plot with two cats\n",
    "def plot_2_cats(data, x, y, hue, ylabel, xlabel,cats,palette):\n",
    "    \n",
    "    cats_0 = data[data[x]==cats[0]]\n",
    "    cats_1 = data[data[x]==cats[1]]\n",
    "\n",
    "    pairs = [(cats[0], cats[1])]\n",
    "\n",
    "    ###  get p values for paired t test between two conditions\n",
    "\n",
    "    pvalues = [\n",
    "        stats.ttest_rel( cats_0[y], cats_1[y]).pvalue\n",
    "        #stats.ranksums(cat_0[dv], cat_1[dv]).pvalue\n",
    "    ]\n",
    "    \n",
    "    # Transform each p-value to \"p=\" in scientific notation\n",
    "    formatted_pvalues = [f'p={pvalue:.2e}' for pvalue in pvalues]\n",
    "\n",
    "    with sns.plotting_context('paper', font_scale = 1.8):\n",
    "\n",
    "        ### Create new plot\n",
    "        fig, ax = plt.subplots(1, 1, figsize=(3,5))\n",
    "        fig.patch.set_alpha(1)\n",
    "\n",
    "        sns.despine() #bottom=True, left=True\n",
    "\n",
    "        #  show lines connecting single observations    \n",
    "        sns.lineplot(data = data, x = x, y = y, hue = data.pID, legend = False, palette = sns.color_palette(['grey'], len(data.pID.unique())), linewidth = 0.5, linestyle = '--', alpha = 0.5,ci =None)\n",
    "        \n",
    "\n",
    "        #Show each observation with a scatterplot\n",
    "        sns.stripplot(data = data,x = x, y = y, hue = None,size=10, dodge=True, alpha=.5, label=None, jitter = 0.04,palette= palette)\n",
    "\n",
    "        # show boxplots\n",
    "        #sns.boxplot(data = data,x = x, y = y,  palette= palette)\n",
    "\n",
    "        # show line connecting menas\n",
    "        sns.pointplot(\n",
    "            data = data,x = x, y = y, dodge=.8 - .8 / 3,\n",
    "            markers=\"d\", scale=.75, ci =None)\n",
    "\n",
    "\n",
    "        # Add annotations\n",
    "        annotator = Annotator(ax, pairs = [(cats[0], cats[1])], data = data,x = x, y = y)\n",
    "        annotator.configure(text_format=\"simple\")\n",
    "        annotator.set_pvalues(pvalues)\n",
    "        annotator.annotate()\n",
    "\n",
    "        # Label and show\n",
    "        # label_plot_for_subcats(ax)\n",
    "        ax.set_title(title)\n",
    "        ax.set_ylabel(ylabel)\n",
    "        ax.set_xlabel(xlabel)\n",
    "\n",
    "        plt.show()\n",
    "\n",
    "        fig.savefig('results/'+ title + '_' + ylabel + '_' + xlabel + '.png', format='png', transparent=False, bbox_inches='tight', dpi=300)\n",
    "        fig.savefig('results/'+title + '_' + ylabel + '_' + xlabel + '.eps', format='eps', transparent=True, bbox_inches='tight', dpi=300)"
   ]
  },
  {
   "cell_type": "code",
   "execution_count": null,
   "metadata": {},
   "outputs": [],
   "source": [
    "# plot with three"
   ]
  },
  {
   "attachments": {},
   "cell_type": "markdown",
   "metadata": {},
   "source": [
    "# 1. Intentional Binding\n",
    "- input: 3 tabels for each pID: pID | stim_cond (basline vs. random vs. EEG)| temp_cond (200|350|500??) | IB_estimate\n",
    "\n",
    "- think about defintion of IB_estimate\n",
    "- linear-mixed-model mit  IB_estimate ~ stim_cond * temp_cond + (1|pID)\n",
    "- liklyhood ratio test to check for significant influences\n",
    "- if the case: post-hoc test = read up which ones\n",
    "- Visualization: Boxpolts with 3 boxes (stim_conditions), or 9 boxes (both, x = temp_condition) --> depending on significance of temp_condition\n",
    "- connect means, show points for participands\n",
    "- maybe grey out basline (since not analyzed in the other data)"
   ]
  },
  {
   "cell_type": "code",
   "execution_count": 117,
   "metadata": {},
   "outputs": [],
   "source": [
    "# merge data\n",
    "filenames = glob.glob(d + 'fake_data/ib_estimate' + \"/*.csv\")\n",
    "\n",
    "data_list =[]\n",
    "for filename in filenames:\n",
    "    data = pd.read_csv(filename, index_col=None, header=0, sep = \";\")\n",
    "    data_list.append(data)\n",
    "\n",
    "ib = pd.concat(data_list, axis=0, ignore_index=True)\n"
   ]
  },
  {
   "cell_type": "code",
   "execution_count": null,
   "metadata": {},
   "outputs": [],
   "source": []
  },
  {
   "attachments": {},
   "cell_type": "markdown",
   "metadata": {},
   "source": [
    "# 2. Questionaire results\n",
    "- items per block \"„Während der Aufgabe hat es sich angefühlt, als hätte ich die Kontrolle über die Bewegungen.“\n",
    "- input pid|first_block|control_random|control_EEG|expectation_fit|embodiment\n",
    "- paired t-testsf\n",
    "- box plots\n",
    "- SD,M,effect size\n",
    "\n",
    "@ Lukas? Significance test mit 5 values ist wirklich etwas shady, oder?"
   ]
  },
  {
   "cell_type": "code",
   "execution_count": 53,
   "metadata": {},
   "outputs": [],
   "source": [
    "#propably makes sense to integrate all subjective data\n",
    "# load  / merge qustionaire data\n",
    "questionaire_fname = d + 'fake_data/subjective_fastReach.csv'\n",
    "questionaire= pd.read_csv(questionaire_fname, sep = ';')"
   ]
  },
  {
   "attachments": {},
   "cell_type": "markdown",
   "metadata": {},
   "source": [
    "### plot control"
   ]
  },
  {
   "cell_type": "code",
   "execution_count": 72,
   "metadata": {},
   "outputs": [
    {
     "name": "stdout",
     "output_type": "stream",
     "text": [
      "control_EEG vs. control_random: Custom statistical test, P_val:1.923e-01\n"
     ]
    },
    {
     "name": "stderr",
     "output_type": "stream",
     "text": [
      "c:\\Users\\terfu\\AppData\\Local\\Programs\\Python\\Python310\\lib\\site-packages\\statannotations\\_Plotter.py:337: UserWarning: Invalid x-position found. Are the same parameters passed to seaborn and statannotations calls? or are there few data points?\n",
      "  warnings.warn(\n"
     ]
    },
    {
     "data": {
      "image/png": "[encoded data removed]",
      "text/plain": [
       "<Figure size 216x360 with 1 Axes>"
      ]
     },
     "metadata": {},
     "output_type": "display_data"
    },
    {
     "name": "stderr",
     "output_type": "stream",
     "text": [
      "The PostScript backend does not support transparency; partially transparent artists will be rendered opaque.\n"
     ]
    }
   ],
   "source": [
    "questionaire_long = questionaire.melt(id_vars= ['pID'],value_vars=['control_EEG','control_random'])\n",
    "\n",
    "palette = sns.color_palette(palette=None, n_colors=1)\n",
    "cats= ['control_random', 'control_EEG']\n",
    "ylabel = 'level of control'\n",
    "xlabel = 'condition'\n",
    "title = 'fake'\n",
    "data = questionaire_long\n",
    "y = \"value\"\n",
    "x = \"variable\"\n",
    "hue = \"pID\"\n",
    "\n",
    "plot_2_cats(data, x, y, hue, ylabel, xlabel,cats,palette)\n",
    "\n",
    "#cohend(data,x,y, cats)"
   ]
  },
  {
   "attachments": {},
   "cell_type": "markdown",
   "metadata": {},
   "source": [
    "### numbers control"
   ]
  },
  {
   "cell_type": "code",
   "execution_count": 82,
   "metadata": {},
   "outputs": [
    {
     "data": {
      "text/html": [
       "<div>\n",
       "<style scoped>\n",
       "    .dataframe tbody tr th:only-of-type {\n",
       "        vertical-align: middle;\n",
       "    }\n",
       "\n",
       "    .dataframe tbody tr th {\n",
       "        vertical-align: top;\n",
       "    }\n",
       "\n",
       "    .dataframe thead th {\n",
       "        text-align: right;\n",
       "    }\n",
       "</style>\n",
       "<table border=\"1\" class=\"dataframe\">\n",
       "  <thead>\n",
       "    <tr style=\"text-align: right;\">\n",
       "      <th></th>\n",
       "      <th>mean</th>\n",
       "      <th>std</th>\n",
       "    </tr>\n",
       "    <tr>\n",
       "      <th>variable</th>\n",
       "      <th></th>\n",
       "      <th></th>\n",
       "    </tr>\n",
       "  </thead>\n",
       "  <tbody>\n",
       "    <tr>\n",
       "      <th>control_EEG</th>\n",
       "      <td>1.772727</td>\n",
       "      <td>1.477830</td>\n",
       "    </tr>\n",
       "    <tr>\n",
       "      <th>control_random</th>\n",
       "      <td>1.136364</td>\n",
       "      <td>1.909761</td>\n",
       "    </tr>\n",
       "  </tbody>\n",
       "</table>\n",
       "</div>"
      ],
      "text/plain": [
       "                    mean       std\n",
       "variable                          \n",
       "control_EEG     1.772727  1.477830\n",
       "control_random  1.136364  1.909761"
      ]
     },
     "execution_count": 82,
     "metadata": {},
     "output_type": "execute_result"
    }
   ],
   "source": [
    "questionaire_long.groupby('variable')['value'].agg([\"mean\", \"std\"])\n"
   ]
  },
  {
   "attachments": {},
   "cell_type": "markdown",
   "metadata": {},
   "source": [
    "### count expectation"
   ]
  },
  {
   "cell_type": "code",
   "execution_count": 89,
   "metadata": {},
   "outputs": [
    {
     "data": {
      "text/plain": [
       "eeg       13\n",
       "random     9\n",
       "Name: expectation_fit, dtype: int64"
      ]
     },
     "execution_count": 89,
     "metadata": {},
     "output_type": "execute_result"
    }
   ],
   "source": [
    "questionaire['expectation_fit'].value_counts()"
   ]
  },
  {
   "attachments": {},
   "cell_type": "markdown",
   "metadata": {},
   "source": [
    "### count embodiment"
   ]
  },
  {
   "cell_type": "code",
   "execution_count": 90,
   "metadata": {},
   "outputs": [
    {
     "data": {
      "text/plain": [
       "nein    11\n",
       "ja      11\n",
       "Name: embodiment, dtype: int64"
      ]
     },
     "execution_count": 90,
     "metadata": {},
     "output_type": "execute_result"
    }
   ],
   "source": [
    "questionaire['embodiment'].value_counts()"
   ]
  },
  {
   "attachments": {},
   "cell_type": "markdown",
   "metadata": {},
   "source": [
    "# 3. Content Analysis\n",
    "- built to world clouds for each block\n",
    "- define stopwords\n",
    "- maybe check sentiment analysis -> pareid t-test?\n"
   ]
  },
  {
   "cell_type": "code",
   "execution_count": null,
   "metadata": {},
   "outputs": [],
   "source": [
    "# load data (see test script)\n"
   ]
  }
 ],
 "metadata": {
  "kernelspec": {
   "display_name": "Python 3",
   "language": "python",
   "name": "python3"
  },
  "language_info": {
   "codemirror_mode": {
    "name": "ipython",
    "version": 3
   },
   "file_extension": ".py",
   "mimetype": "text/x-python",
   "name": "python",
   "nbconvert_exporter": "python",
   "pygments_lexer": "ipython3",
   "version": "3.10.7"
  },
  "orig_nbformat": 4,
  "vscode": {
   "interpreter": {
    "hash": "3c8b1dbe8e2868d4c1ba5519ab4ebf16602ee2921cdd29268d4bb1c20ff3ce8a"
   }
  }
 },
 "nbformat": 4,
 "nbformat_minor": 2
}
