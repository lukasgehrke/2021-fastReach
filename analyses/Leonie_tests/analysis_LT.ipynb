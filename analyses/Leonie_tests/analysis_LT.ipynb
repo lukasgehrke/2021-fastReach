{
 "cells": [
  {
   "attachments": {},
   "cell_type": "markdown",
   "metadata": {},
   "source": [
    "# Analysis fastReach "
   ]
  },
  {
   "attachments": {},
   "cell_type": "markdown",
   "metadata": {},
   "source": [
    "## general prep"
   ]
  },
  {
   "cell_type": "code",
   "execution_count": 1,
   "metadata": {},
   "outputs": [],
   "source": [
    "\n",
    "# load packages\n",
    "import numpy as np\n",
    "import pandas as pd\n",
    "import seaborn as sns\n",
    "import statsmodels.formula.api as smf\n",
    "from scipy import stats\n",
    "import seaborn as sns\n",
    "import matplotlib.pyplot as plt\n",
    "from statannotations.Annotator import Annotator\n",
    "# %load_ext rpy2.ipython # currently not needed\n",
    "import glob\n",
    "\n",
    "from wordcloud import WordCloud, STOPWORDS\n",
    "#from nltk.corpus import stopwords\n",
    "from vaderSentiment.vaderSentiment import SentimentIntensityAnalyzer\n",
    "\n",
    "import pymer4 as pymer4\n",
    "   \n"
   ]
  },
  {
   "cell_type": "code",
   "execution_count": 22,
   "metadata": {},
   "outputs": [],
   "source": [
    "# set path\n",
    "d = \"C://Users/terfu/Desktop/2021-fastReach/analyses/Leonie_tests/\" # for test data\n",
    "\n",
    "p = \"//stor1.bpn.tu-berlin.de/projects/Lukas_Gehrke/2021-fastReach/data/study/\" #server for data access\n",
    "pp = \"C://Users/terfu/Desktop/2021-fastReach/data/study/\" #repository for output"
   ]
  },
  {
   "attachments": {},
   "cell_type": "markdown",
   "metadata": {},
   "source": [
    "## load functions"
   ]
  },
  {
   "attachments": {},
   "cell_type": "markdown",
   "metadata": {},
   "source": [
    "plot with 2 categories"
   ]
  },
  {
   "cell_type": "code",
   "execution_count": 10,
   "metadata": {},
   "outputs": [],
   "source": [
    "# plot with two cats\n",
    "def plot_2_cats(data, x, y, hue, ylabel, xlabel,cats,palette):\n",
    "    \n",
    "    cats_0 = data[data[x]==cats[0]]\n",
    "    cats_1 = data[data[x]==cats[1]]\n",
    "\n",
    "    pairs = [(cats[0], cats[1])]\n",
    "\n",
    "    ###  get p values for paired t test between two conditions\n",
    "\n",
    "    pvalues = [\n",
    "        stats.ttest_rel( cats_0[y], cats_1[y]).pvalue\n",
    "        #stats.ranksums(cat_0[dv], cat_1[dv]).pvalue\n",
    "    ]\n",
    "    \n",
    "    # Transform each p-value to \"p=\" in scientific notation\n",
    "    formatted_pvalues = [f'p={pvalue:.2e}' for pvalue in pvalues]\n",
    "\n",
    "    with sns.plotting_context('paper', font_scale = 1.8):\n",
    "\n",
    "        ### Create new plot\n",
    "        fig, ax = plt.subplots(1, 1, figsize=(3,5))\n",
    "        fig.patch.set_alpha(1)\n",
    "\n",
    "        \n",
    "\n",
    "        sns.despine() #bottom=True, left=True\n",
    "        # show boxplots\n",
    "        ax = sns.boxplot(data = data,x = x, y = y,  palette= [palette[0]*len(pairs)])\n",
    "        for patch in ax.patches: # adapt alpha\n",
    "            r, g, b, a = patch.get_facecolor()\n",
    "            patch.set_facecolor((r, g, b, .6))\n",
    "\n",
    "        #  show lines connecting pid means observations    \n",
    "        sns.lineplot(data = data, x = x, y = y, \n",
    "                    legend = False, linewidth = 0.5, linestyle = '-',ci =None,color = palette[2], alpha=0.8)\n",
    "        2\n",
    "\n",
    "        #Show mean observation with a scatterplot\n",
    "        sns.stripplot(data = data,x = x, y = y, hue = None,size=8,\n",
    "                    label=None, marker=\"s\",s = 6, color = palette[2], alpha=0.8)\n",
    "\n",
    "    \n",
    "        # show line connecting means\n",
    "        sns.pointplot(\n",
    "            data = data,x = x, y = y,\n",
    "            markers=\"s\", size = 6, ci =None,color = palette[0])\n",
    "\n",
    "\n",
    "        # Add annotations\n",
    "        annotator = Annotator(ax, pairs = [(cats[0], cats[1])], data = data,x = x, y = y)\n",
    "        annotator.configure(text_format=\"simple\")\n",
    "        annotator.set_pvalues(pvalues)\n",
    "        annotator.annotate()\n",
    "\n",
    "        # Label and show\n",
    "        # label_plot_for_subcats(ax)\n",
    "        ax.set_title(title)\n",
    "        ax.set_ylabel(ylabel)\n",
    "        ax.set_xlabel(xlabel)\n",
    "\n",
    "        plt.show()\n",
    "\n",
    "        fig.savefig('results/'+ title + '_' + ylabel + '_' + xlabel + '.png', format='png', transparent=False, bbox_inches='tight', dpi=300)\n",
    "        fig.savefig('results/'+ title + '_' + ylabel + '_' + xlabel + '.eps', format='eps', transparent=True, bbox_inches='tight', dpi=300)"
   ]
  },
  {
   "attachments": {},
   "cell_type": "markdown",
   "metadata": {},
   "source": [
    "plot with three categories"
   ]
  },
  {
   "cell_type": "code",
   "execution_count": 6,
   "metadata": {},
   "outputs": [],
   "source": [
    "# plot with three condition \n",
    "\n",
    "def plot_3_cats(data, x, y, hue, ylabel, xlabel,cats,palette,data_means):\n",
    "    \n",
    "    cats_0 = data[data[x]==cats[0]]\n",
    "    cats_1 = data[data[x]==cats[1]]\n",
    "    cats_2 = data[data[x]==cats[2]]\n",
    "\n",
    "    pairs = [(cats[0], cats[1],cats[1])]\n",
    "\n",
    "    \n",
    "\n",
    "    with sns.plotting_context('paper', font_scale = 1.8):\n",
    "\n",
    "        ### Create new plot\n",
    "        fig, ax = plt.subplots(1, 1, figsize=(3,5))\n",
    "        fig.patch.set_alpha(1)\n",
    "\n",
    "        sns.despine() #bottom=True, left=True\n",
    "         # show boxplots\n",
    "        ax = sns.boxplot(data = data,x = x, y = y,  palette= [palette[0]*len(pairs)])\n",
    "        for patch in ax.patches: # adapt alpha\n",
    "             r, g, b, a = patch.get_facecolor()\n",
    "             patch.set_facecolor((r, g, b, .6))\n",
    "\n",
    "        #  show lines connecting pid means observations    \n",
    "        sns.lineplot(data = data_means, x = x, y = y, hue = hue,\n",
    "                      legend = False, linewidth = 0.5, linestyle = '-',ci =None,color = palette[2], alpha=0.8)\n",
    "        2\n",
    "\n",
    "            \n",
    "        # show line connecting means\n",
    "        sns.pointplot(\n",
    "            data = data,x = x, y = y,\n",
    "            markers=\"s\", size = 6, ci =None,color = palette[0],legend = True)\n",
    "\n",
    "\n",
    "        \n",
    "        # Label and show\n",
    "        # label_plot_for_subcats(ax)\n",
    "        ax.set_title(title)\n",
    "        ax.set_ylabel(ylabel)\n",
    "        ax.set_xlabel(xlabel)\n",
    "\n",
    "        plt.show()\n",
    "\n",
    "        fig.savefig('results/'+ title + '_' + ylabel + '_' + xlabel + '.png', format='png', transparent=False, bbox_inches='tight', dpi=300)\n",
    "        fig.savefig('results/'+title + '_' + ylabel + '_' + xlabel + '.eps', format='eps', transparent=True, bbox_inches='tight', dpi=300)"
   ]
  },
  {
   "attachments": {},
   "cell_type": "markdown",
   "metadata": {},
   "source": [
    "plot with 3 categories and hue"
   ]
  },
  {
   "cell_type": "code",
   "execution_count": 7,
   "metadata": {},
   "outputs": [],
   "source": [
    "# plot with three condition \n",
    "\n",
    "def plot_3_cats_hue(data, x, y, hue, ylabel, xlabel,cats,palette,data_means,hue2):\n",
    "    \n",
    "    cats_0 = data[data[x]==cats[0]]\n",
    "    cats_1 = data[data[x]==cats[1]]\n",
    "    cats_2 = data[data[x]==cats[2]]\n",
    "\n",
    "    pairs = [(cats[0], cats[1],cats[1])]\n",
    "\n",
    "   \n",
    "    with sns.plotting_context('paper', font_scale = 1.8):\n",
    "\n",
    "        ### Create new plot\n",
    "        fig, ax = plt.subplots(1, 1, figsize=(6,5))\n",
    "        fig.patch.set_alpha(1)\n",
    "\n",
    "        sns.despine() #bottom=True, left=True\n",
    "\n",
    "         # show boxplots\n",
    "        ax = sns.boxplot(data = data,x = x, y = y, hue = hue2,  palette= palette[3:6])\n",
    "        for patch in ax.patches: # adapt alpha\n",
    "             r, g, b, a = patch.get_facecolor()\n",
    "             patch.set_facecolor((r, g, b, .6))\n",
    "    \n",
    "         # show line connecting menas\n",
    "        ax = sns.pointplot(\n",
    "            data = data,x = x, y = y, dodge=.8 - .8 / 3,\n",
    "            markers=['s','o','^'],linestyles = ['solid','dotted','dashed'],hue = hue2, size = 6, ci =None,palette= palette[3:6], labels = True)\n",
    "        \n",
    "\n",
    "        handles, labels = ax.get_legend_handles_labels()  \n",
    "       \n",
    "        plt.legend(handles[3:6],labels[3:6],frameon=True,loc = 'upper left',labelspacing =0.3)\n",
    "        \n",
    "        # label_plot_for_subcats(ax)\n",
    "        ax.set_title(title)\n",
    "        ax.set_ylabel(ylabel)\n",
    "        ax.set_xlabel(xlabel)\n",
    "        \n",
    "        plt.show()\n",
    "\n",
    "        fig.savefig('results/'+ title + '_' + ylabel + '_' + xlabel + '.png', format='png', transparent=False, bbox_inches='tight', dpi=300)\n",
    "        fig.savefig('results/'+title + '_' + ylabel + '_' + xlabel + '.eps', format='eps', transparent=True, bbox_inches='tight', dpi=300)"
   ]
  },
  {
   "attachments": {},
   "cell_type": "markdown",
   "metadata": {},
   "source": [
    "plot eeg timeline"
   ]
  },
  {
   "cell_type": "code",
   "execution_count": 8,
   "metadata": {},
   "outputs": [],
   "source": [
    "# plot eeg data with in timeline with 3 conditions\n",
    "\n",
    "def plot_erp_timeline(data,id_vars, delete_vars, sample_rate,window_start,hue,palette,title):\n",
    "\n",
    "     with sns.plotting_context('paper', font_scale = 1.8):\n",
    "\n",
    "        ### Create new plot\n",
    "        fig, ax = plt.subplots(1, 1, figsize=(9,5))\n",
    "        fig.patch.set_alpha(1)\n",
    "\n",
    "        sns.despine() #bottom=True, left=True \n",
    "        # prep data\n",
    "        # remove unnesseary columns \n",
    "        data = data.loc[:,data.columns!= delete_vars]\n",
    "\n",
    "         # to long format\n",
    "\n",
    "        data_long = pd.melt(data, id_vars= id_vars, var_name='timepoint', value_name='µV', col_level=None, ignore_index=True)\n",
    "\n",
    "        # adjust time axis\n",
    "        data_long['timepoint'] = (((1/sample_rate) * (data_long[\"timepoint\"].str.replace(\"erp\",\"\").astype(int)))*1000) +window_start\n",
    "\n",
    "        # plot\n",
    "        ax = sns.lineplot(data = data_long, x = 'timepoint', y = 'µV',hue =hue,palette = palette[3:6],style = hue)\n",
    "\n",
    "        ax.axhline(0,color = 'black' )\n",
    "\n",
    "        # Label and show\n",
    "\n",
    "        ax.set_title(title)\n",
    "\n",
    "\n",
    "        plt.show()\n",
    "\n",
    "        fig.savefig(d+'results/'+ title + '.png', format='png', transparent=False, bbox_inches='tight', dpi=300)\n",
    "        fig.savefig(d+'results/'+title + '.eps', format='eps', transparent=True, bbox_inches='tight', dpi=300)"
   ]
  },
  {
   "attachments": {},
   "cell_type": "markdown",
   "metadata": {},
   "source": [
    "# 1. Intentional Binding\n"
   ]
  },
  {
   "attachments": {},
   "cell_type": "markdown",
   "metadata": {},
   "source": [
    "### load data"
   ]
  },
  {
   "cell_type": "code",
   "execution_count": 11,
   "metadata": {},
   "outputs": [
    {
     "ename": "ValueError",
     "evalue": "No objects to concatenate",
     "output_type": "error",
     "traceback": [
      "\u001b[1;31m---------------------------------------------------------------------------\u001b[0m",
      "\u001b[1;31mValueError\u001b[0m                                Traceback (most recent call last)",
      "\u001b[1;32mc:\\Users\\terfu\\Desktop\\2021-fastReach\\analyses\\Leonie_tests\\analysis_LT.ipynb Cell 16\u001b[0m in \u001b[0;36m<cell line: 11>\u001b[1;34m()\u001b[0m\n\u001b[0;32m      <a href='vscode-notebook-cell:/c%3A/Users/terfu/Desktop/2021-fastReach/analyses/Leonie_tests/analysis_LT.ipynb#X21sZmlsZQ%3D%3D?line=7'>8</a>\u001b[0m     data \u001b[39m=\u001b[39m pd\u001b[39m.\u001b[39mread_csv(filename, index_col\u001b[39m=\u001b[39m\u001b[39mNone\u001b[39;00m, header\u001b[39m=\u001b[39m\u001b[39m0\u001b[39m, sep \u001b[39m=\u001b[39m \u001b[39m\"\u001b[39m\u001b[39m;\u001b[39m\u001b[39m\"\u001b[39m,decimal\u001b[39m=\u001b[39m\u001b[39m\"\u001b[39m\u001b[39m,\u001b[39m\u001b[39m\"\u001b[39m)\n\u001b[0;32m      <a href='vscode-notebook-cell:/c%3A/Users/terfu/Desktop/2021-fastReach/analyses/Leonie_tests/analysis_LT.ipynb#X21sZmlsZQ%3D%3D?line=8'>9</a>\u001b[0m     data_list\u001b[39m.\u001b[39mappend(data)\n\u001b[1;32m---> <a href='vscode-notebook-cell:/c%3A/Users/terfu/Desktop/2021-fastReach/analyses/Leonie_tests/analysis_LT.ipynb#X21sZmlsZQ%3D%3D?line=10'>11</a>\u001b[0m behavior \u001b[39m=\u001b[39m pd\u001b[39m.\u001b[39;49mconcat(data_list, axis\u001b[39m=\u001b[39;49m\u001b[39m0\u001b[39;49m, ignore_index\u001b[39m=\u001b[39;49m\u001b[39mTrue\u001b[39;49;00m)\n\u001b[0;32m     <a href='vscode-notebook-cell:/c%3A/Users/terfu/Desktop/2021-fastReach/analyses/Leonie_tests/analysis_LT.ipynb#X21sZmlsZQ%3D%3D?line=12'>13</a>\u001b[0m \u001b[39m# rename data (delete once real data is available, this is only here because I dont want to edit my fake csvs)\u001b[39;00m\n\u001b[0;32m     <a href='vscode-notebook-cell:/c%3A/Users/terfu/Desktop/2021-fastReach/analyses/Leonie_tests/analysis_LT.ipynb#X21sZmlsZQ%3D%3D?line=13'>14</a>\u001b[0m behavior\u001b[39m.\u001b[39mrename(columns\u001b[39m=\u001b[39m{\u001b[39m'\u001b[39m\u001b[39mpID\u001b[39m\u001b[39m'\u001b[39m: \u001b[39m'\u001b[39m\u001b[39mid\u001b[39m\u001b[39m'\u001b[39m, \u001b[39m'\u001b[39m\u001b[39mtrial_nr\u001b[39m\u001b[39m'\u001b[39m:\u001b[39m'\u001b[39m\u001b[39mtr_nr\u001b[39m\u001b[39m'\u001b[39m,\u001b[39m'\u001b[39m\u001b[39mtemp_condition\u001b[39m\u001b[39m'\u001b[39m: \u001b[39m'\u001b[39m\u001b[39mrd\u001b[39m\u001b[39m'\u001b[39m,\u001b[39m'\u001b[39m\u001b[39mstimulation_condition\u001b[39m\u001b[39m'\u001b[39m:\u001b[39m'\u001b[39m\u001b[39mcond\u001b[39m\u001b[39m'\u001b[39m,\u001b[39m'\u001b[39m\u001b[39mib_estimate\u001b[39m\u001b[39m'\u001b[39m:\u001b[39m'\u001b[39m\u001b[39med\u001b[39m\u001b[39m'\u001b[39m}, inplace\u001b[39m=\u001b[39m\u001b[39mTrue\u001b[39;00m)\n",
      "File \u001b[1;32mc:\\Users\\terfu\\AppData\\Local\\Programs\\Python\\Python310\\lib\\site-packages\\pandas\\util\\_decorators.py:311\u001b[0m, in \u001b[0;36mdeprecate_nonkeyword_arguments.<locals>.decorate.<locals>.wrapper\u001b[1;34m(*args, **kwargs)\u001b[0m\n\u001b[0;32m    305\u001b[0m \u001b[39mif\u001b[39;00m \u001b[39mlen\u001b[39m(args) \u001b[39m>\u001b[39m num_allow_args:\n\u001b[0;32m    306\u001b[0m     warnings\u001b[39m.\u001b[39mwarn(\n\u001b[0;32m    307\u001b[0m         msg\u001b[39m.\u001b[39mformat(arguments\u001b[39m=\u001b[39marguments),\n\u001b[0;32m    308\u001b[0m         \u001b[39mFutureWarning\u001b[39;00m,\n\u001b[0;32m    309\u001b[0m         stacklevel\u001b[39m=\u001b[39mstacklevel,\n\u001b[0;32m    310\u001b[0m     )\n\u001b[1;32m--> 311\u001b[0m \u001b[39mreturn\u001b[39;00m func(\u001b[39m*\u001b[39margs, \u001b[39m*\u001b[39m\u001b[39m*\u001b[39mkwargs)\n",
      "File \u001b[1;32mc:\\Users\\terfu\\AppData\\Local\\Programs\\Python\\Python310\\lib\\site-packages\\pandas\\core\\reshape\\concat.py:347\u001b[0m, in \u001b[0;36mconcat\u001b[1;34m(objs, axis, join, ignore_index, keys, levels, names, verify_integrity, sort, copy)\u001b[0m\n\u001b[0;32m    143\u001b[0m \u001b[39m@deprecate_nonkeyword_arguments\u001b[39m(version\u001b[39m=\u001b[39m\u001b[39mNone\u001b[39;00m, allowed_args\u001b[39m=\u001b[39m[\u001b[39m\"\u001b[39m\u001b[39mobjs\u001b[39m\u001b[39m\"\u001b[39m])\n\u001b[0;32m    144\u001b[0m \u001b[39mdef\u001b[39;00m \u001b[39mconcat\u001b[39m(\n\u001b[0;32m    145\u001b[0m     objs: Iterable[NDFrame] \u001b[39m|\u001b[39m Mapping[Hashable, NDFrame],\n\u001b[1;32m   (...)\u001b[0m\n\u001b[0;32m    154\u001b[0m     copy: \u001b[39mbool\u001b[39m \u001b[39m=\u001b[39m \u001b[39mTrue\u001b[39;00m,\n\u001b[0;32m    155\u001b[0m ) \u001b[39m-\u001b[39m\u001b[39m>\u001b[39m DataFrame \u001b[39m|\u001b[39m Series:\n\u001b[0;32m    156\u001b[0m     \u001b[39m\"\"\"\u001b[39;00m\n\u001b[0;32m    157\u001b[0m \u001b[39m    Concatenate pandas objects along a particular axis with optional set logic\u001b[39;00m\n\u001b[0;32m    158\u001b[0m \u001b[39m    along the other axes.\u001b[39;00m\n\u001b[1;32m   (...)\u001b[0m\n\u001b[0;32m    345\u001b[0m \u001b[39m    ValueError: Indexes have overlapping values: ['a']\u001b[39;00m\n\u001b[0;32m    346\u001b[0m \u001b[39m    \"\"\"\u001b[39;00m\n\u001b[1;32m--> 347\u001b[0m     op \u001b[39m=\u001b[39m _Concatenator(\n\u001b[0;32m    348\u001b[0m         objs,\n\u001b[0;32m    349\u001b[0m         axis\u001b[39m=\u001b[39;49maxis,\n\u001b[0;32m    350\u001b[0m         ignore_index\u001b[39m=\u001b[39;49mignore_index,\n\u001b[0;32m    351\u001b[0m         join\u001b[39m=\u001b[39;49mjoin,\n\u001b[0;32m    352\u001b[0m         keys\u001b[39m=\u001b[39;49mkeys,\n\u001b[0;32m    353\u001b[0m         levels\u001b[39m=\u001b[39;49mlevels,\n\u001b[0;32m    354\u001b[0m         names\u001b[39m=\u001b[39;49mnames,\n\u001b[0;32m    355\u001b[0m         verify_integrity\u001b[39m=\u001b[39;49mverify_integrity,\n\u001b[0;32m    356\u001b[0m         copy\u001b[39m=\u001b[39;49mcopy,\n\u001b[0;32m    357\u001b[0m         sort\u001b[39m=\u001b[39;49msort,\n\u001b[0;32m    358\u001b[0m     )\n\u001b[0;32m    360\u001b[0m     \u001b[39mreturn\u001b[39;00m op\u001b[39m.\u001b[39mget_result()\n",
      "File \u001b[1;32mc:\\Users\\terfu\\AppData\\Local\\Programs\\Python\\Python310\\lib\\site-packages\\pandas\\core\\reshape\\concat.py:404\u001b[0m, in \u001b[0;36m_Concatenator.__init__\u001b[1;34m(self, objs, axis, join, keys, levels, names, ignore_index, verify_integrity, copy, sort)\u001b[0m\n\u001b[0;32m    401\u001b[0m     objs \u001b[39m=\u001b[39m \u001b[39mlist\u001b[39m(objs)\n\u001b[0;32m    403\u001b[0m \u001b[39mif\u001b[39;00m \u001b[39mlen\u001b[39m(objs) \u001b[39m==\u001b[39m \u001b[39m0\u001b[39m:\n\u001b[1;32m--> 404\u001b[0m     \u001b[39mraise\u001b[39;00m \u001b[39mValueError\u001b[39;00m(\u001b[39m\"\u001b[39m\u001b[39mNo objects to concatenate\u001b[39m\u001b[39m\"\u001b[39m)\n\u001b[0;32m    406\u001b[0m \u001b[39mif\u001b[39;00m keys \u001b[39mis\u001b[39;00m \u001b[39mNone\u001b[39;00m:\n\u001b[0;32m    407\u001b[0m     objs \u001b[39m=\u001b[39m \u001b[39mlist\u001b[39m(com\u001b[39m.\u001b[39mnot_none(\u001b[39m*\u001b[39mobjs))\n",
      "\u001b[1;31mValueError\u001b[0m: No objects to concatenate"
     ]
    }
   ],
   "source": [
    "\n",
    "\n",
    "#old for fake data\n",
    "# merge data\n",
    "\n",
    "filenames = glob.glob(d + 'fake_data/ib_estimate' + \"/*.csv\")\n",
    "\n",
    "data_list =[]\n",
    "for filename in filenames:\n",
    "    data = pd.read_csv(filename, index_col=None, header=0, sep = \";\",decimal=\",\")\n",
    "    data_list.append(data)\n",
    "\n",
    "behavior = pd.concat(data_list, axis=0, ignore_index=True)\n",
    "\n",
    "\n"
   ]
  },
  {
   "cell_type": "code",
   "execution_count": 14,
   "metadata": {},
   "outputs": [],
   "source": [
    "# load data\n",
    "behavior = pd.read_csv( p + 'PI_results.csv')\n",
    "\n",
    "# set data types\n",
    "behavior[['ed','rt']] = behavior[['ed','rt']].apply(pd.to_numeric, axis=1)\n",
    "\n",
    "behavior['rd'] = behavior['rd'].astype(\"string\")  # needs to be string before category for R conversion\n",
    "\n",
    "behavior[['rd','condition']] = behavior[['rd','condition']].astype(\"category\")\n"
   ]
  },
  {
   "attachments": {},
   "cell_type": "markdown",
   "metadata": {},
   "source": [
    "### plot only one condition"
   ]
  },
  {
   "cell_type": "code",
   "execution_count": 11,
   "metadata": {},
   "outputs": [
    {
     "data": {
      "image/png": "[encoded data removed]",
      "text/plain": [
       "<Figure size 216x360 with 1 Axes>"
      ]
     },
     "metadata": {},
     "output_type": "display_data"
    },
    {
     "name": "stderr",
     "output_type": "stream",
     "text": [
      "The PostScript backend does not support transparency; partially transparent artists will be rendered opaque.\n"
     ]
    }
   ],
   "source": [
    "# with only stimulation condition\n",
    "behavior_means = behavior.groupby(['id','condition'],as_index=False)['ed'].mean()\n",
    "\n",
    "palette = ['#365c8d','#E5E4E2','#899499','#4ac16d', '#277f8e','#440154'] \n",
    "cats= ['baseline','random','EEG'] \n",
    "ylabel = 'ib estimate'\n",
    "xlabel = 'condition'\n",
    "title = 'condition'\n",
    "data = behavior\n",
    "data_means = behavior_means\n",
    "y = \"ed\"\n",
    "x = \"condition\"\n",
    "hue = \"id\"\n",
    "\n",
    "\n",
    "plot_3_cats(data, x, y, hue, ylabel, xlabel,cats,palette,data_means)"
   ]
  },
  {
   "attachments": {},
   "cell_type": "markdown",
   "metadata": {},
   "source": [
    "### plot both conditions"
   ]
  },
  {
   "cell_type": "code",
   "execution_count": 12,
   "metadata": {},
   "outputs": [
    {
     "data": {
      "image/png": "[encoded data removed]",
      "text/plain": [
       "<Figure size 432x360 with 1 Axes>"
      ]
     },
     "metadata": {},
     "output_type": "display_data"
    },
    {
     "name": "stderr",
     "output_type": "stream",
     "text": [
      "The PostScript backend does not support transparency; partially transparent artists will be rendered opaque.\n"
     ]
    }
   ],
   "source": [
    "# with stimulation condition + time condition+ rd as y\n",
    "behavior_means = behavior.groupby(['id','condition','rd'],as_index=False)['ed'].mean()\n",
    "\n",
    "\n",
    "palette = ['#365c8d','#E5E4E2','#899499','#4ac16d', '#277f8e','#440154'] \n",
    "cats= ['baseline','ems1','ems2'] \n",
    "ylabel = 'ed'\n",
    "xlabel = 'condition'\n",
    "title = 'cond'\n",
    "data = behavior\n",
    "data_means = behavior_means\n",
    "y = \"ed\"\n",
    "x = \"condition\"\n",
    "hue = \"id\"\n",
    "hue2 = 'rd'\n",
    "\n",
    "\n",
    "plot_3_cats_hue(data, x, y, hue, ylabel, xlabel,cats,palette,data_means,hue2)"
   ]
  },
  {
   "cell_type": "code",
   "execution_count": 309,
   "metadata": {},
   "outputs": [
    {
     "data": {
      "image/png": "[encoded data removed]",
      "text/plain": [
       "<Figure size 432x360 with 1 Axes>"
      ]
     },
     "metadata": {},
     "output_type": "display_data"
    },
    {
     "name": "stderr",
     "output_type": "stream",
     "text": [
      "The PostScript backend does not support transparency; partially transparent artists will be rendered opaque.\n"
     ]
    }
   ],
   "source": [
    "# with stimulation condition + time condition+ rd as y\n",
    "\n",
    "behavior[['rd']] = behavior[['rd']].apply(pd.to_numeric, axis=1)\n",
    "behavior[\"diff\"]= behavior[\"ed\"]-behavior[\"rd\"]\n",
    "behavior[['rd']] = behavior[['rd']].astype(\"category\")\n",
    "\n",
    "\n",
    "behavior_means = behavior.groupby(['id','condition','rd'],as_index=False)['diff'].mean()\n",
    "\n",
    "palette = ['#365c8d','#E5E4E2','#899499','#4ac16d', '#277f8e','#440154'] \n",
    "cats= ['baseline','ems1','ems2'] \n",
    "ylabel = 'ed-rd'\n",
    "xlabel = 'condition'\n",
    "title = 'condition + rd'\n",
    "data = behavior\n",
    "data_means = behavior_means\n",
    "y = \"diff\"\n",
    "x = \"condition\"\n",
    "hue = \"id\"\n",
    "hue2 = 'rd'\n",
    "\n",
    "\n",
    "plot_3_cats_hue(data, x, y, hue, ylabel, xlabel,cats,palette,data_means,hue2)"
   ]
  },
  {
   "attachments": {},
   "cell_type": "markdown",
   "metadata": {},
   "source": [
    "histogramm rt"
   ]
  },
  {
   "cell_type": "code",
   "execution_count": 13,
   "metadata": {},
   "outputs": [
    {
     "name": "stderr",
     "output_type": "stream",
     "text": [
      "The PostScript backend does not support transparency; partially transparent artists will be rendered opaque.\n"
     ]
    },
    {
     "data": {
      "image/png": "[encoded data removed]",
      "text/plain": [
       "<Figure size 432x288 with 1 Axes>"
      ]
     },
     "metadata": {
      "needs_background": "light"
     },
     "output_type": "display_data"
    }
   ],
   "source": [
    "\n",
    "fig, ax = plt.subplots()\n",
    "hist = sns.histplot(behavior, x = 'rt',color= 'grey',ax =ax)\n",
    "ax.set_xlim(0,5) # remove outliers for visualization\n",
    "\n",
    "hist.figure.savefig(d+'results/hist_rt.png', format='png', transparent=False, bbox_inches='tight', dpi=300)\n",
    "hist.figure.savefig(d+'results/hist_rt.eps', format='eps', transparent=True, bbox_inches='tight', dpi=300)"
   ]
  },
  {
   "attachments": {},
   "cell_type": "markdown",
   "metadata": {},
   "source": [
    "### linear mixed model"
   ]
  },
  {
   "attachments": {},
   "cell_type": "markdown",
   "metadata": {},
   "source": [
    "#### prep\n",
    "- witched from rpy2 to pymer4, because it is less annoying with importing / exporting from python to R\n",
    "- not sure if of this is still necessary, but since pymer4 is based on rpy2, this might be the case"
   ]
  },
  {
   "cell_type": "code",
   "execution_count": 21,
   "metadata": {},
   "outputs": [
    {
     "data": {
      "text/plain": [
       "<rpy2.rinterface_lib.sexp.NULLType object at 0x000001FB135ED800> [RTYPES.NILSXP]"
      ]
     },
     "execution_count": 21,
     "metadata": {},
     "output_type": "execute_result"
    }
   ],
   "source": [
    "packnames = ('lme4', 'lmerTest', 'emmeans', 'geepack', 'sjPlot')\n",
    "from rpy2.robjects.packages import importr\n",
    "from rpy2.robjects.vectors import StrVector\n",
    "utils = importr(\"utils\")\n",
    "utils.chooseCRANmirror(ind=1)"
   ]
  },
  {
   "cell_type": "code",
   "execution_count": 25,
   "metadata": {},
   "outputs": [
    {
     "name": "stderr",
     "output_type": "stream",
     "text": [
      "R[write to console]: Installiere Pakete nach 'C:/Users/terfu/AppData/Local/R/win-library/4.2'\n",
      "(da 'lib' nicht spezifiziert)\n",
      "\n"
     ]
    },
    {
     "name": "stdout",
     "output_type": "stream",
     "text": [
      "\n"
     ]
    },
    {
     "name": "stderr",
     "output_type": "stream",
     "text": [
      "Exception ignored from cffi callback <function _consolewrite_ex at 0x000001FB13583D90>:\n",
      "Traceback (most recent call last):\n",
      "  File \"c:\\Users\\terfu\\AppData\\Local\\Programs\\Python\\Python310\\lib\\site-packages\\rpy2\\rinterface_lib\\callbacks.py\", line 133, in _consolewrite_ex\n",
      "    s = conversion._cchar_to_str_with_maxlen(buf, n, _CCHAR_ENCODING)\n",
      "  File \"c:\\Users\\terfu\\AppData\\Local\\Programs\\Python\\Python310\\lib\\site-packages\\rpy2\\rinterface_lib\\conversion.py\", line 138, in _cchar_to_str_with_maxlen\n",
      "    s = ffi.string(c, maxlen).decode(encoding)\n",
      "UnicodeDecodeError: 'utf-8' codec can't decode byte 0xe4 in position 18: invalid continuation byte\n"
     ]
    },
    {
     "name": "stdout",
     "output_type": "stream",
     "text": [
      ":\n",
      "     binary source needs_compilation\n",
      "lme4 1.1-31 1.1-32              TRUE\n",
      "\n",
      "  Binaries will be installed\n"
     ]
    },
    {
     "name": "stderr",
     "output_type": "stream",
     "text": [
      "R[write to console]: trying URL 'https://cloud.r-project.org/bin/windows/contrib/4.2/lme4_1.1-31.zip'\n",
      "\n",
      "R[write to console]: Content type 'application/zip'\n",
      "R[write to console]:  length 4525485 bytes (4.3 MB)\n",
      "\n",
      "R[write to console]: downloaded 4.3 MB\n",
      "\n",
      "\n",
      "R[write to console]: trying URL 'https://cloud.r-project.org/bin/windows/contrib/4.2/lmerTest_3.1-3.zip'\n",
      "\n",
      "R[write to console]: Content type 'application/zip'\n",
      "R[write to console]:  length 531041 bytes (518 KB)\n",
      "\n",
      "R[write to console]: downloaded 518 KB\n",
      "\n",
      "\n",
      "R[write to console]: trying URL 'https://cloud.r-project.org/bin/windows/contrib/4.2/emmeans_1.8.5.zip'\n",
      "\n",
      "R[write to console]: Content type 'application/zip'\n",
      "R[write to console]:  length 2160596 bytes (2.1 MB)\n",
      "\n",
      "R[write to console]: downloaded 2.1 MB\n",
      "\n",
      "\n",
      "R[write to console]: trying URL 'https://cloud.r-project.org/bin/windows/contrib/4.2/geepack_1.3.9.zip'\n",
      "\n",
      "R[write to console]: Content type 'application/zip'\n",
      "R[write to console]:  length 899170 bytes (878 KB)\n",
      "\n",
      "R[write to console]: downloaded 878 KB\n",
      "\n",
      "\n",
      "R[write to console]: trying URL 'https://cloud.r-project.org/bin/windows/contrib/4.2/sjPlot_2.8.13.zip'\n",
      "\n",
      "R[write to console]: Content type 'application/zip'\n",
      "R[write to console]:  length 1516958 bytes (1.4 MB)\n",
      "\n",
      "R[write to console]: downloaded 1.4 MB\n",
      "\n",
      "\n"
     ]
    },
    {
     "name": "stdout",
     "output_type": "stream",
     "text": [
      "Paket 'lme4' erfolgreich ausgepackt und MD5 Summen abgeglichen\n",
      "Paket 'lmerTest' erfolgreich ausgepackt und MD5 Summen abgeglichen\n",
      "Paket 'emmeans' erfolgreich ausgepackt und MD5 Summen abgeglichen\n",
      "Paket 'geepack' erfolgreich ausgepackt und MD5 Summen abgeglichen\n",
      "Paket 'sjPlot' erfolgreich ausgepackt und MD5 Summen abgeglichen\n",
      "\n"
     ]
    },
    {
     "name": "stderr",
     "output_type": "stream",
     "text": [
      "Exception ignored from cffi callback <function _consolewrite_ex at 0x000001FB13583D90>:\n",
      "Traceback (most recent call last):\n",
      "  File \"c:\\Users\\terfu\\AppData\\Local\\Programs\\Python\\Python310\\lib\\site-packages\\rpy2\\rinterface_lib\\callbacks.py\", line 133, in _consolewrite_ex\n",
      "    s = conversion._cchar_to_str_with_maxlen(buf, n, _CCHAR_ENCODING)\n",
      "  File \"c:\\Users\\terfu\\AppData\\Local\\Programs\\Python\\Python310\\lib\\site-packages\\rpy2\\rinterface_lib\\conversion.py\", line 138, in _cchar_to_str_with_maxlen\n",
      "    s = ffi.string(c, maxlen).decode(encoding)\n",
      "UnicodeDecodeError: 'utf-8' codec can't decode byte 0xe4 in position 25: invalid continuation byte\n"
     ]
    },
    {
     "name": "stdout",
     "output_type": "stream",
     "text": [
      "\n"
     ]
    }
   ],
   "source": [
    "packnames = ('lme4', 'lmerTest', 'emmeans', 'geepack', 'sjPlot')\n",
    "from rpy2.robjects.vectors import StrVector\n",
    "utils.install_packages(StrVector(packnames))\n",
    "from pymer4.models import Lmer"
   ]
  },
  {
   "cell_type": "code",
   "execution_count": 34,
   "metadata": {},
   "outputs": [
    {
     "ename": "RRuntimeError",
     "evalue": "Error: No random effects terms specified in formula\n",
     "output_type": "error",
     "traceback": [
      "\u001b[1;31m---------------------------------------------------------------------------\u001b[0m",
      "\u001b[1;31mRRuntimeError\u001b[0m                             Traceback (most recent call last)",
      "\u001b[1;32mc:\\Users\\terfu\\Desktop\\2021-fastReach\\analyses\\Leonie_tests\\analysis_LT.ipynb Cell 31\u001b[0m in \u001b[0;36m<cell line: 4>\u001b[1;34m()\u001b[0m\n\u001b[0;32m      <a href='vscode-notebook-cell:/c%3A/Users/terfu/Desktop/2021-fastReach/analyses/Leonie_tests/analysis_LT.ipynb#X41sZmlsZQ%3D%3D?line=0'>1</a>\u001b[0m \u001b[39m# does not run with one pID (RRuntimeError: Error: grouping factors must have > 1 sampled level)\u001b[39;00m\n\u001b[0;32m      <a href='vscode-notebook-cell:/c%3A/Users/terfu/Desktop/2021-fastReach/analyses/Leonie_tests/analysis_LT.ipynb#X41sZmlsZQ%3D%3D?line=2'>3</a>\u001b[0m full_model \u001b[39m=\u001b[39m Lmer(\u001b[39m'\u001b[39m\u001b[39med ~ condition * rd \u001b[39m\u001b[39m'\u001b[39m, data \u001b[39m=\u001b[39m behavior)\n\u001b[1;32m----> <a href='vscode-notebook-cell:/c%3A/Users/terfu/Desktop/2021-fastReach/analyses/Leonie_tests/analysis_LT.ipynb#X41sZmlsZQ%3D%3D?line=3'>4</a>\u001b[0m display(full_model\u001b[39m.\u001b[39;49mfit(REML \u001b[39m=\u001b[39;49m \u001b[39mFalse\u001b[39;49;00m,factors\u001b[39m=\u001b[39;49m{\u001b[39m\"\u001b[39;49m\u001b[39mcondition\u001b[39;49m\u001b[39m\"\u001b[39;49m: [\u001b[39m\"\u001b[39;49m\u001b[39mbaseline\u001b[39;49m\u001b[39m\"\u001b[39;49m, \u001b[39m\"\u001b[39;49m\u001b[39mems1\u001b[39;49m\u001b[39m\"\u001b[39;49m, \u001b[39m\"\u001b[39;49m\u001b[39mems2\u001b[39;49m\u001b[39m\"\u001b[39;49m], \u001b[39m\"\u001b[39;49m\u001b[39mrd\u001b[39;49m\u001b[39m\"\u001b[39;49m: [\u001b[39m\"\u001b[39;49m\u001b[39m200\u001b[39;49m\u001b[39m\"\u001b[39;49m, \u001b[39m\"\u001b[39;49m\u001b[39m350\u001b[39;49m\u001b[39m\"\u001b[39;49m, \u001b[39m\"\u001b[39;49m\u001b[39m500\u001b[39;49m\u001b[39m\"\u001b[39;49m]}))\n\u001b[0;32m      <a href='vscode-notebook-cell:/c%3A/Users/terfu/Desktop/2021-fastReach/analyses/Leonie_tests/analysis_LT.ipynb#X41sZmlsZQ%3D%3D?line=4'>5</a>\u001b[0m full_model\u001b[39m.\u001b[39mplot_summary()\n",
      "File \u001b[1;32mc:\\Users\\terfu\\AppData\\Local\\Programs\\Python\\Python310\\lib\\site-packages\\pymer4\\models\\Lmer.py:424\u001b[0m, in \u001b[0;36mLmer.fit\u001b[1;34m(self, conf_int, n_boot, factors, permute, ordered, verbose, REML, rank, rank_group, rank_exclude_cols, no_warnings, control, old_optimizer, **kwargs)\u001b[0m\n\u001b[0;32m    422\u001b[0m     lmer \u001b[39m=\u001b[39m importr(\u001b[39m\"\u001b[39m\u001b[39mlmerTest\u001b[39m\u001b[39m\"\u001b[39m)\n\u001b[0;32m    423\u001b[0m     lmc \u001b[39m=\u001b[39m robjects\u001b[39m.\u001b[39mr(\u001b[39mf\u001b[39m\u001b[39m\"\u001b[39m\u001b[39mlmerControl(\u001b[39m\u001b[39m{\u001b[39;00mcontrol\u001b[39m}\u001b[39;00m\u001b[39m)\u001b[39m\u001b[39m\"\u001b[39m)\n\u001b[1;32m--> 424\u001b[0m     \u001b[39mself\u001b[39m\u001b[39m.\u001b[39mmodel_obj \u001b[39m=\u001b[39m lmer\u001b[39m.\u001b[39;49mlmer(\n\u001b[0;32m    425\u001b[0m         \u001b[39mself\u001b[39;49m\u001b[39m.\u001b[39;49mformula, data\u001b[39m=\u001b[39;49mdata, REML\u001b[39m=\u001b[39;49mREML, control\u001b[39m=\u001b[39;49mlmc, contrasts\u001b[39m=\u001b[39;49mcontrasts\n\u001b[0;32m    426\u001b[0m     )\n\u001b[0;32m    427\u001b[0m \u001b[39melse\u001b[39;00m:\n\u001b[0;32m    428\u001b[0m     \u001b[39mif\u001b[39;00m verbose:\n",
      "File \u001b[1;32mc:\\Users\\terfu\\AppData\\Local\\Programs\\Python\\Python310\\lib\\site-packages\\rpy2\\robjects\\functions.py:207\u001b[0m, in \u001b[0;36mSignatureTranslatedFunction.__call__\u001b[1;34m(self, *args, **kwargs)\u001b[0m\n\u001b[0;32m    205\u001b[0m         v \u001b[39m=\u001b[39m kwargs\u001b[39m.\u001b[39mpop(k)\n\u001b[0;32m    206\u001b[0m         kwargs[r_k] \u001b[39m=\u001b[39m v\n\u001b[1;32m--> 207\u001b[0m \u001b[39mreturn\u001b[39;00m (\u001b[39msuper\u001b[39m(SignatureTranslatedFunction, \u001b[39mself\u001b[39m)\n\u001b[0;32m    208\u001b[0m         \u001b[39m.\u001b[39m\u001b[39m__call__\u001b[39m(\u001b[39m*\u001b[39margs, \u001b[39m*\u001b[39m\u001b[39m*\u001b[39mkwargs))\n",
      "File \u001b[1;32mc:\\Users\\terfu\\AppData\\Local\\Programs\\Python\\Python310\\lib\\site-packages\\rpy2\\robjects\\functions.py:130\u001b[0m, in \u001b[0;36mFunction.__call__\u001b[1;34m(self, *args, **kwargs)\u001b[0m\n\u001b[0;32m    128\u001b[0m     \u001b[39melse\u001b[39;00m:\n\u001b[0;32m    129\u001b[0m         new_kwargs[k] \u001b[39m=\u001b[39m cv\u001b[39m.\u001b[39mpy2rpy(v)\n\u001b[1;32m--> 130\u001b[0m res \u001b[39m=\u001b[39m \u001b[39msuper\u001b[39m(Function, \u001b[39mself\u001b[39m)\u001b[39m.\u001b[39m\u001b[39m__call__\u001b[39m(\u001b[39m*\u001b[39mnew_args, \u001b[39m*\u001b[39m\u001b[39m*\u001b[39mnew_kwargs)\n\u001b[0;32m    131\u001b[0m res \u001b[39m=\u001b[39m cv\u001b[39m.\u001b[39mrpy2py(res)\n\u001b[0;32m    132\u001b[0m \u001b[39mreturn\u001b[39;00m res\n",
      "File \u001b[1;32mc:\\Users\\terfu\\AppData\\Local\\Programs\\Python\\Python310\\lib\\site-packages\\rpy2\\rinterface_lib\\conversion.py:45\u001b[0m, in \u001b[0;36m_cdata_res_to_rinterface.<locals>._\u001b[1;34m(*args, **kwargs)\u001b[0m\n\u001b[0;32m     44\u001b[0m \u001b[39mdef\u001b[39;00m \u001b[39m_\u001b[39m(\u001b[39m*\u001b[39margs, \u001b[39m*\u001b[39m\u001b[39m*\u001b[39mkwargs):\n\u001b[1;32m---> 45\u001b[0m     cdata \u001b[39m=\u001b[39m function(\u001b[39m*\u001b[39margs, \u001b[39m*\u001b[39m\u001b[39m*\u001b[39mkwargs)\n\u001b[0;32m     46\u001b[0m     \u001b[39m# TODO: test cdata is of the expected CType\u001b[39;00m\n\u001b[0;32m     47\u001b[0m     \u001b[39mreturn\u001b[39;00m _cdata_to_rinterface(cdata)\n",
      "File \u001b[1;32mc:\\Users\\terfu\\AppData\\Local\\Programs\\Python\\Python310\\lib\\site-packages\\rpy2\\rinterface.py:817\u001b[0m, in \u001b[0;36mSexpClosure.__call__\u001b[1;34m(self, *args, **kwargs)\u001b[0m\n\u001b[0;32m    810\u001b[0m     res \u001b[39m=\u001b[39m rmemory\u001b[39m.\u001b[39mprotect(\n\u001b[0;32m    811\u001b[0m         openrlib\u001b[39m.\u001b[39mrlib\u001b[39m.\u001b[39mR_tryEval(\n\u001b[0;32m    812\u001b[0m             call_r,\n\u001b[0;32m    813\u001b[0m             call_context\u001b[39m.\u001b[39m__sexp__\u001b[39m.\u001b[39m_cdata,\n\u001b[0;32m    814\u001b[0m             error_occured)\n\u001b[0;32m    815\u001b[0m     )\n\u001b[0;32m    816\u001b[0m     \u001b[39mif\u001b[39;00m error_occured[\u001b[39m0\u001b[39m]:\n\u001b[1;32m--> 817\u001b[0m         \u001b[39mraise\u001b[39;00m embedded\u001b[39m.\u001b[39mRRuntimeError(_rinterface\u001b[39m.\u001b[39m_geterrmessage())\n\u001b[0;32m    818\u001b[0m \u001b[39mreturn\u001b[39;00m res\n",
      "\u001b[1;31mRRuntimeError\u001b[0m: Error: No random effects terms specified in formula\n"
     ]
    }
   ],
   "source": [
    "# does not run with one pID (RRuntimeError: Error: grouping factors must have > 1 sampled level)\n",
    "\n",
    "full_model = Lmer('ed ~ condition * rd + (1|id)', data = behavior)\n",
    "display(full_model.fit(REML = False,factors={\"condition\": [\"baseline\", \"ems1\", \"ems2\"], \"rd\": [\"200\", \"350\", \"500\"]}))\n",
    "full_model.plot_summary()"
   ]
  },
  {
   "attachments": {},
   "cell_type": "markdown",
   "metadata": {},
   "source": [
    "#### define null models"
   ]
  },
  {
   "cell_type": "code",
   "execution_count": 179,
   "metadata": {},
   "outputs": [],
   "source": [
    "# null without interaction\n",
    "null_model_int = Lmer('ed ~ condition + rd + (1|id)', data = behavior)\n",
    "null_model_int.fit(REML = False, summarize=False)\n",
    "\n",
    "# null model without stimulation condition \n",
    "null_model_stim = Lmer('ed ~ rd + (1|id)', data = behavior)\n",
    "null_model_stim.fit(REML = False, summarize=False)\n",
    "\n",
    "# null model without temp condition \n",
    "null_model_temp = Lmer('ed ~ condition + (1|id)', data = behavior)\n",
    "null_model_temp.fit(REML = False, summarize=False)\n"
   ]
  },
  {
   "attachments": {},
   "cell_type": "markdown",
   "metadata": {},
   "source": [
    "#### liklyhood ratio tests\n",
    "To DO: discussed before but: when we have a full model with interaction, \n",
    "what do we use as null models for liklyhood ration test? When we leave the interaction out compleatly,\n",
    " we can not use the ß estimates from the full model (Ithink)\n"
   ]
  },
  {
   "attachments": {},
   "cell_type": "markdown",
   "metadata": {},
   "source": [
    "interaction"
   ]
  },
  {
   "cell_type": "code",
   "execution_count": 88,
   "metadata": {},
   "outputs": [
    {
     "data": {
      "text/html": [
       "<div>\n",
       "<style scoped>\n",
       "    .dataframe tbody tr th:only-of-type {\n",
       "        vertical-align: middle;\n",
       "    }\n",
       "\n",
       "    .dataframe tbody tr th {\n",
       "        vertical-align: top;\n",
       "    }\n",
       "\n",
       "    .dataframe thead th {\n",
       "        text-align: right;\n",
       "    }\n",
       "</style>\n",
       "<table border=\"1\" class=\"dataframe\">\n",
       "  <thead>\n",
       "    <tr style=\"text-align: right;\">\n",
       "      <th></th>\n",
       "      <th>model</th>\n",
       "      <th>npar</th>\n",
       "      <th>AIC</th>\n",
       "      <th>BIC</th>\n",
       "      <th>log-likelihood</th>\n",
       "      <th>deviance</th>\n",
       "      <th>Chisq</th>\n",
       "      <th>Df</th>\n",
       "      <th>P-val</th>\n",
       "      <th>Sig</th>\n",
       "    </tr>\n",
       "  </thead>\n",
       "  <tbody>\n",
       "    <tr>\n",
       "      <th>0</th>\n",
       "      <td>ib_estimate~stimulation_condition+temp_conditi...</td>\n",
       "      <td>7</td>\n",
       "      <td>600.552312</td>\n",
       "      <td>620.064754</td>\n",
       "      <td>-293.276156</td>\n",
       "      <td>586.552312</td>\n",
       "      <td></td>\n",
       "      <td></td>\n",
       "      <td></td>\n",
       "      <td></td>\n",
       "    </tr>\n",
       "    <tr>\n",
       "      <th>1</th>\n",
       "      <td>ib_estimate~stimulation_condition*temp_conditi...</td>\n",
       "      <td>11</td>\n",
       "      <td>608.041035</td>\n",
       "      <td>638.703444</td>\n",
       "      <td>-293.020517</td>\n",
       "      <td>586.041035</td>\n",
       "      <td>0.511277</td>\n",
       "      <td>4.0</td>\n",
       "      <td>0.972394</td>\n",
       "      <td></td>\n",
       "    </tr>\n",
       "  </tbody>\n",
       "</table>\n",
       "</div>"
      ],
      "text/plain": [
       "                                               model  npar         AIC  \\\n",
       "0  ib_estimate~stimulation_condition+temp_conditi...     7  600.552312   \n",
       "1  ib_estimate~stimulation_condition*temp_conditi...    11  608.041035   \n",
       "\n",
       "          BIC  log-likelihood    deviance     Chisq   Df     P-val Sig  \n",
       "0  620.064754     -293.276156  586.552312                               \n",
       "1  638.703444     -293.020517  586.041035  0.511277  4.0  0.972394      "
      ]
     },
     "execution_count": 88,
     "metadata": {},
     "output_type": "execute_result"
    }
   ],
   "source": [
    "pymer4.stats.lrt([null_model_int,full_model])\n"
   ]
  },
  {
   "attachments": {},
   "cell_type": "markdown",
   "metadata": {},
   "source": [
    "stimulation condition"
   ]
  },
  {
   "cell_type": "code",
   "execution_count": 89,
   "metadata": {},
   "outputs": [
    {
     "data": {
      "text/html": [
       "<div>\n",
       "<style scoped>\n",
       "    .dataframe tbody tr th:only-of-type {\n",
       "        vertical-align: middle;\n",
       "    }\n",
       "\n",
       "    .dataframe tbody tr th {\n",
       "        vertical-align: top;\n",
       "    }\n",
       "\n",
       "    .dataframe thead th {\n",
       "        text-align: right;\n",
       "    }\n",
       "</style>\n",
       "<table border=\"1\" class=\"dataframe\">\n",
       "  <thead>\n",
       "    <tr style=\"text-align: right;\">\n",
       "      <th></th>\n",
       "      <th>model</th>\n",
       "      <th>npar</th>\n",
       "      <th>AIC</th>\n",
       "      <th>BIC</th>\n",
       "      <th>log-likelihood</th>\n",
       "      <th>deviance</th>\n",
       "      <th>Chisq</th>\n",
       "      <th>Df</th>\n",
       "      <th>P-val</th>\n",
       "      <th>Sig</th>\n",
       "    </tr>\n",
       "  </thead>\n",
       "  <tbody>\n",
       "    <tr>\n",
       "      <th>0</th>\n",
       "      <td>ib_estimate~temp_condition+(1|pID)</td>\n",
       "      <td>5</td>\n",
       "      <td>687.382420</td>\n",
       "      <td>701.319879</td>\n",
       "      <td>-338.691210</td>\n",
       "      <td>677.382420</td>\n",
       "      <td></td>\n",
       "      <td></td>\n",
       "      <td></td>\n",
       "      <td></td>\n",
       "    </tr>\n",
       "    <tr>\n",
       "      <th>1</th>\n",
       "      <td>ib_estimate~stimulation_condition*temp_conditi...</td>\n",
       "      <td>11</td>\n",
       "      <td>608.041035</td>\n",
       "      <td>638.703444</td>\n",
       "      <td>-293.020517</td>\n",
       "      <td>586.041035</td>\n",
       "      <td>91.341385</td>\n",
       "      <td>6.0</td>\n",
       "      <td>0.0</td>\n",
       "      <td>***</td>\n",
       "    </tr>\n",
       "  </tbody>\n",
       "</table>\n",
       "</div>"
      ],
      "text/plain": [
       "                                               model  npar         AIC  \\\n",
       "0                 ib_estimate~temp_condition+(1|pID)     5  687.382420   \n",
       "1  ib_estimate~stimulation_condition*temp_conditi...    11  608.041035   \n",
       "\n",
       "          BIC  log-likelihood    deviance      Chisq   Df P-val  Sig  \n",
       "0  701.319879     -338.691210  677.382420                             \n",
       "1  638.703444     -293.020517  586.041035  91.341385  6.0   0.0  ***  "
      ]
     },
     "execution_count": 89,
     "metadata": {},
     "output_type": "execute_result"
    }
   ],
   "source": [
    "pymer4.stats.lrt([null_model_stim,full_model])"
   ]
  },
  {
   "attachments": {},
   "cell_type": "markdown",
   "metadata": {},
   "source": [
    "temp condition"
   ]
  },
  {
   "cell_type": "code",
   "execution_count": 90,
   "metadata": {},
   "outputs": [
    {
     "data": {
      "text/html": [
       "<div>\n",
       "<style scoped>\n",
       "    .dataframe tbody tr th:only-of-type {\n",
       "        vertical-align: middle;\n",
       "    }\n",
       "\n",
       "    .dataframe tbody tr th {\n",
       "        vertical-align: top;\n",
       "    }\n",
       "\n",
       "    .dataframe thead th {\n",
       "        text-align: right;\n",
       "    }\n",
       "</style>\n",
       "<table border=\"1\" class=\"dataframe\">\n",
       "  <thead>\n",
       "    <tr style=\"text-align: right;\">\n",
       "      <th></th>\n",
       "      <th>model</th>\n",
       "      <th>npar</th>\n",
       "      <th>AIC</th>\n",
       "      <th>BIC</th>\n",
       "      <th>log-likelihood</th>\n",
       "      <th>deviance</th>\n",
       "      <th>Chisq</th>\n",
       "      <th>Df</th>\n",
       "      <th>P-val</th>\n",
       "      <th>Sig</th>\n",
       "    </tr>\n",
       "  </thead>\n",
       "  <tbody>\n",
       "    <tr>\n",
       "      <th>0</th>\n",
       "      <td>ib_estimate~temp_condition+(1|pID)</td>\n",
       "      <td>5</td>\n",
       "      <td>687.382420</td>\n",
       "      <td>701.319879</td>\n",
       "      <td>-338.691210</td>\n",
       "      <td>677.382420</td>\n",
       "      <td></td>\n",
       "      <td></td>\n",
       "      <td></td>\n",
       "      <td></td>\n",
       "    </tr>\n",
       "    <tr>\n",
       "      <th>1</th>\n",
       "      <td>ib_estimate~stimulation_condition*temp_conditi...</td>\n",
       "      <td>11</td>\n",
       "      <td>608.041035</td>\n",
       "      <td>638.703444</td>\n",
       "      <td>-293.020517</td>\n",
       "      <td>586.041035</td>\n",
       "      <td>91.341385</td>\n",
       "      <td>6.0</td>\n",
       "      <td>0.0</td>\n",
       "      <td>***</td>\n",
       "    </tr>\n",
       "  </tbody>\n",
       "</table>\n",
       "</div>"
      ],
      "text/plain": [
       "                                               model  npar         AIC  \\\n",
       "0                 ib_estimate~temp_condition+(1|pID)     5  687.382420   \n",
       "1  ib_estimate~stimulation_condition*temp_conditi...    11  608.041035   \n",
       "\n",
       "          BIC  log-likelihood    deviance      Chisq   Df P-val  Sig  \n",
       "0  701.319879     -338.691210  677.382420                             \n",
       "1  638.703444     -293.020517  586.041035  91.341385  6.0   0.0  ***  "
      ]
     },
     "execution_count": 90,
     "metadata": {},
     "output_type": "execute_result"
    }
   ],
   "source": [
    "pymer4.stats.lrt([null_model_temp,full_model])"
   ]
  },
  {
   "attachments": {},
   "cell_type": "markdown",
   "metadata": {},
   "source": [
    "#### post hoc test"
   ]
  },
  {
   "attachments": {},
   "cell_type": "markdown",
   "metadata": {},
   "source": [
    "TODO check wether this post_hoc test is correct"
   ]
  },
  {
   "cell_type": "code",
   "execution_count": 186,
   "metadata": {},
   "outputs": [
    {
     "name": "stdout",
     "output_type": "stream",
     "text": [
      "P-values adjusted by bonf method for 3 comparisons\n",
      "            Contrast  Estimate  2.5_ci  97.5_ci     SE     DF  T-stat  P-val  \\\n",
      "1     baseline - eeg     4.208   2.736    5.680  0.606  118.0   6.944    0.0   \n",
      "2  baseline - random     7.009   5.537    8.481  0.606  118.0  11.565    0.0   \n",
      "3       eeg - random     2.801   1.329    4.273  0.606  118.0   4.622    0.0   \n",
      "\n",
      "   Sig  \n",
      "1  ***  \n",
      "2  ***  \n",
      "3  ***  \n"
     ]
    }
   ],
   "source": [
    "# post hoc test stimulation condition\n",
    "marginal_estimates, comparisons = full_model.post_hoc(\n",
    "    marginal_vars=\"condition\",p_adjust = \"bonf\")\n",
    "\n",
    "print(comparisons)\n"
   ]
  },
  {
   "cell_type": "code",
   "execution_count": 187,
   "metadata": {},
   "outputs": [
    {
     "name": "stdout",
     "output_type": "stream",
     "text": [
      "P-values adjusted by bonf method for 3 comparisons\n",
      "        Contrast  Estimate  2.5_ci  97.5_ci     SE     DF  T-stat  P-val Sig\n",
      "1  rd200 - rd250    -0.086  -1.524    1.352  0.592  118.0  -0.145    1.0    \n",
      "2  rd200 - rd500     0.220  -1.218    1.658  0.592  118.0   0.371    1.0    \n",
      "3  rd250 - rd500     0.306  -1.232    1.843  0.633  118.0   0.483    1.0    \n"
     ]
    }
   ],
   "source": [
    "# post hoc test stimulation condition\n",
    "marginal_estimates, comparisons = full_model.post_hoc(\n",
    "    marginal_vars=\"rd\",p_adjust = \"bonf\")\n",
    "\n",
    "print(comparisons)"
   ]
  },
  {
   "attachments": {},
   "cell_type": "markdown",
   "metadata": {},
   "source": [
    "# 2. EEG Data"
   ]
  },
  {
   "cell_type": "code",
   "execution_count": 16,
   "metadata": {},
   "outputs": [
    {
     "data": {
      "image/png": "[encoded data removed]",
      "text/plain": [
       "<Figure size 648x360 with 1 Axes>"
      ]
     },
     "metadata": {},
     "output_type": "display_data"
    },
    {
     "name": "stderr",
     "output_type": "stream",
     "text": [
      "The PostScript backend does not support transparency; partially transparent artists will be rendered opaque.\n"
     ]
    }
   ],
   "source": [
    "eeg_data = pd.read_csv( p +'PI_results.csv')\n",
    "\n",
    "data = eeg_data\n",
    "id_vars = ['id','condition','tr_nr','rd','ed']\n",
    "delete_vars = 'rt' # metrics that are not erp\n",
    "sample_rate = 250\n",
    "window_start = -1000 \n",
    "hue = 'condition'\n",
    "palette = ['#365c8d','#E5E4E2','#899499','#4ac16d', '#277f8e','#440154'] \n",
    "title = 'erp_plot'\n",
    "\n",
    "plot_erp_timeline(data,id_vars,delete_vars,sample_rate,window_start,hue,palette,title)\n",
    "\n"
   ]
  },
  {
   "attachments": {},
   "cell_type": "markdown",
   "metadata": {},
   "source": [
    "# 2. Questionaire results\n",
    "- items per block \"„Während der Aufgabe hat es sich angefühlt, als hätte ich die Kontrolle über die Bewegungen.“\n",
    "- input pid|first_block|control_random|control_EEG|expectation_fit|embodiment\n",
    "- paired t-testsf\n",
    "- box plots\n",
    "- SD,M,effect size\n",
    "\n",
    "@ Lukas? Significance test mit 5 values ist wirklich etwas shady, oder?"
   ]
  },
  {
   "cell_type": "code",
   "execution_count": 26,
   "metadata": {},
   "outputs": [
    {
     "data": {
      "text/plain": [
       "'C://Users/terfu/Desktop/2021-fastReach/data/study/'"
      ]
     },
     "execution_count": 26,
     "metadata": {},
     "output_type": "execute_result"
    }
   ],
   "source": [
    "pp"
   ]
  },
  {
   "cell_type": "code",
   "execution_count": 23,
   "metadata": {},
   "outputs": [],
   "source": [
    "#laod fake data\n",
    "questionaire= pd.read_csv('fake_data/subjective_fastReach.csv', sep = ';')"
   ]
  },
  {
   "cell_type": "code",
   "execution_count": 30,
   "metadata": {},
   "outputs": [
    {
     "name": "stderr",
     "output_type": "stream",
     "text": [
      "c:\\Users\\terfu\\AppData\\Local\\Programs\\Python\\Python310\\lib\\site-packages\\openpyxl\\worksheet\\_reader.py:312: UserWarning: Data Validation extension is not supported and will be removed\n",
      "  warn(msg)\n"
     ]
    }
   ],
   "source": [
    "questionaire= pd.read_excel(pp + 'questionaire.xlsx') #read from repository\n"
   ]
  },
  {
   "attachments": {},
   "cell_type": "markdown",
   "metadata": {},
   "source": [
    "### plot control"
   ]
  },
  {
   "cell_type": "code",
   "execution_count": 33,
   "metadata": {},
   "outputs": [
    {
     "name": "stdout",
     "output_type": "stream",
     "text": [
      "control_agency vs. control_random: Custom statistical test, P_val:nan\n"
     ]
    },
    {
     "name": "stderr",
     "output_type": "stream",
     "text": [
      "c:\\Users\\terfu\\AppData\\Local\\Programs\\Python\\Python310\\lib\\site-packages\\statannotations\\_Plotter.py:337: UserWarning: Invalid x-position found. Are the same parameters passed to seaborn and statannotations calls? or are there few data points?\n",
      "  warnings.warn(\n",
      "c:\\Users\\terfu\\AppData\\Local\\Programs\\Python\\Python310\\lib\\site-packages\\statannotations\\_Plotter.py:337: UserWarning: Invalid x-position found. Are the same parameters passed to seaborn and statannotations calls? or are there few data points?\n",
      "  warnings.warn(\n"
     ]
    },
    {
     "data": {
      "image/png": "[encoded data removed]",
      "text/plain": [
       "<Figure size 216x360 with 1 Axes>"
      ]
     },
     "metadata": {},
     "output_type": "display_data"
    },
    {
     "name": "stderr",
     "output_type": "stream",
     "text": [
      "The PostScript backend does not support transparency; partially transparent artists will be rendered opaque.\n"
     ]
    }
   ],
   "source": [
    "questionaire_long = questionaire.melt(id_vars= ['pID'],value_vars=['control_agency','control_random'])\n",
    "\n",
    "palette = ['#365c8d','#E5E4E2','#899499','#4ac16d', '#277f8e','#440154'] \n",
    "cats= ['control_random', 'control_agency']\n",
    "ylabel = 'level of control'\n",
    "xlabel = 'condition'\n",
    "title = 'fake'\n",
    "data = questionaire_long\n",
    "y = \"value\"\n",
    "x = \"variable\"\n",
    "hue = \"pID\"\n",
    "\n",
    "plot_2_cats(data, x, y, hue, ylabel, xlabel,cats,palette)\n",
    "\n",
    "#cohend(data,x,y, cats)"
   ]
  },
  {
   "attachments": {},
   "cell_type": "markdown",
   "metadata": {},
   "source": [
    "### numbers control"
   ]
  },
  {
   "cell_type": "code",
   "execution_count": 34,
   "metadata": {},
   "outputs": [
    {
     "data": {
      "text/html": [
       "<div>\n",
       "<style scoped>\n",
       "    .dataframe tbody tr th:only-of-type {\n",
       "        vertical-align: middle;\n",
       "    }\n",
       "\n",
       "    .dataframe tbody tr th {\n",
       "        vertical-align: top;\n",
       "    }\n",
       "\n",
       "    .dataframe thead th {\n",
       "        text-align: right;\n",
       "    }\n",
       "</style>\n",
       "<table border=\"1\" class=\"dataframe\">\n",
       "  <thead>\n",
       "    <tr style=\"text-align: right;\">\n",
       "      <th></th>\n",
       "      <th>mean</th>\n",
       "      <th>std</th>\n",
       "    </tr>\n",
       "    <tr>\n",
       "      <th>variable</th>\n",
       "      <th></th>\n",
       "      <th></th>\n",
       "    </tr>\n",
       "  </thead>\n",
       "  <tbody>\n",
       "    <tr>\n",
       "      <th>control_agency</th>\n",
       "      <td>3.0</td>\n",
       "      <td>NaN</td>\n",
       "    </tr>\n",
       "    <tr>\n",
       "      <th>control_random</th>\n",
       "      <td>3.0</td>\n",
       "      <td>NaN</td>\n",
       "    </tr>\n",
       "  </tbody>\n",
       "</table>\n",
       "</div>"
      ],
      "text/plain": [
       "                mean  std\n",
       "variable                 \n",
       "control_agency   3.0  NaN\n",
       "control_random   3.0  NaN"
      ]
     },
     "execution_count": 34,
     "metadata": {},
     "output_type": "execute_result"
    }
   ],
   "source": [
    "questionaire_long.groupby('variable')['value'].agg([\"mean\", \"std\"])\n"
   ]
  },
  {
   "attachments": {},
   "cell_type": "markdown",
   "metadata": {},
   "source": [
    "### count expectation"
   ]
  },
  {
   "cell_type": "code",
   "execution_count": 35,
   "metadata": {},
   "outputs": [
    {
     "ename": "KeyError",
     "evalue": "'expectation_fit'",
     "output_type": "error",
     "traceback": [
      "\u001b[1;31m---------------------------------------------------------------------------\u001b[0m",
      "\u001b[1;31mKeyError\u001b[0m                                  Traceback (most recent call last)",
      "File \u001b[1;32mc:\\Users\\terfu\\AppData\\Local\\Programs\\Python\\Python310\\lib\\site-packages\\pandas\\core\\indexes\\base.py:3621\u001b[0m, in \u001b[0;36mIndex.get_loc\u001b[1;34m(self, key, method, tolerance)\u001b[0m\n\u001b[0;32m   3620\u001b[0m \u001b[39mtry\u001b[39;00m:\n\u001b[1;32m-> 3621\u001b[0m     \u001b[39mreturn\u001b[39;00m \u001b[39mself\u001b[39;49m\u001b[39m.\u001b[39;49m_engine\u001b[39m.\u001b[39;49mget_loc(casted_key)\n\u001b[0;32m   3622\u001b[0m \u001b[39mexcept\u001b[39;00m \u001b[39mKeyError\u001b[39;00m \u001b[39mas\u001b[39;00m err:\n",
      "File \u001b[1;32mc:\\Users\\terfu\\AppData\\Local\\Programs\\Python\\Python310\\lib\\site-packages\\pandas\\_libs\\index.pyx:136\u001b[0m, in \u001b[0;36mpandas._libs.index.IndexEngine.get_loc\u001b[1;34m()\u001b[0m\n",
      "File \u001b[1;32mc:\\Users\\terfu\\AppData\\Local\\Programs\\Python\\Python310\\lib\\site-packages\\pandas\\_libs\\index.pyx:163\u001b[0m, in \u001b[0;36mpandas._libs.index.IndexEngine.get_loc\u001b[1;34m()\u001b[0m\n",
      "File \u001b[1;32mpandas\\_libs\\hashtable_class_helper.pxi:5198\u001b[0m, in \u001b[0;36mpandas._libs.hashtable.PyObjectHashTable.get_item\u001b[1;34m()\u001b[0m\n",
      "File \u001b[1;32mpandas\\_libs\\hashtable_class_helper.pxi:5206\u001b[0m, in \u001b[0;36mpandas._libs.hashtable.PyObjectHashTable.get_item\u001b[1;34m()\u001b[0m\n",
      "\u001b[1;31mKeyError\u001b[0m: 'expectation_fit'",
      "\nThe above exception was the direct cause of the following exception:\n",
      "\u001b[1;31mKeyError\u001b[0m                                  Traceback (most recent call last)",
      "\u001b[1;32mc:\\Users\\terfu\\Desktop\\2021-fastReach\\analyses\\Leonie_tests\\analysis_LT.ipynb Cell 54\u001b[0m in \u001b[0;36m<cell line: 1>\u001b[1;34m()\u001b[0m\n\u001b[1;32m----> <a href='vscode-notebook-cell:/c%3A/Users/terfu/Desktop/2021-fastReach/analyses/Leonie_tests/analysis_LT.ipynb#Y104sZmlsZQ%3D%3D?line=0'>1</a>\u001b[0m questionaire[\u001b[39m'\u001b[39;49m\u001b[39mexpectation_fit\u001b[39;49m\u001b[39m'\u001b[39;49m]\u001b[39m.\u001b[39mvalue_counts()\n",
      "File \u001b[1;32mc:\\Users\\terfu\\AppData\\Local\\Programs\\Python\\Python310\\lib\\site-packages\\pandas\\core\\frame.py:3505\u001b[0m, in \u001b[0;36mDataFrame.__getitem__\u001b[1;34m(self, key)\u001b[0m\n\u001b[0;32m   3503\u001b[0m \u001b[39mif\u001b[39;00m \u001b[39mself\u001b[39m\u001b[39m.\u001b[39mcolumns\u001b[39m.\u001b[39mnlevels \u001b[39m>\u001b[39m \u001b[39m1\u001b[39m:\n\u001b[0;32m   3504\u001b[0m     \u001b[39mreturn\u001b[39;00m \u001b[39mself\u001b[39m\u001b[39m.\u001b[39m_getitem_multilevel(key)\n\u001b[1;32m-> 3505\u001b[0m indexer \u001b[39m=\u001b[39m \u001b[39mself\u001b[39;49m\u001b[39m.\u001b[39;49mcolumns\u001b[39m.\u001b[39;49mget_loc(key)\n\u001b[0;32m   3506\u001b[0m \u001b[39mif\u001b[39;00m is_integer(indexer):\n\u001b[0;32m   3507\u001b[0m     indexer \u001b[39m=\u001b[39m [indexer]\n",
      "File \u001b[1;32mc:\\Users\\terfu\\AppData\\Local\\Programs\\Python\\Python310\\lib\\site-packages\\pandas\\core\\indexes\\base.py:3623\u001b[0m, in \u001b[0;36mIndex.get_loc\u001b[1;34m(self, key, method, tolerance)\u001b[0m\n\u001b[0;32m   3621\u001b[0m     \u001b[39mreturn\u001b[39;00m \u001b[39mself\u001b[39m\u001b[39m.\u001b[39m_engine\u001b[39m.\u001b[39mget_loc(casted_key)\n\u001b[0;32m   3622\u001b[0m \u001b[39mexcept\u001b[39;00m \u001b[39mKeyError\u001b[39;00m \u001b[39mas\u001b[39;00m err:\n\u001b[1;32m-> 3623\u001b[0m     \u001b[39mraise\u001b[39;00m \u001b[39mKeyError\u001b[39;00m(key) \u001b[39mfrom\u001b[39;00m \u001b[39merr\u001b[39;00m\n\u001b[0;32m   3624\u001b[0m \u001b[39mexcept\u001b[39;00m \u001b[39mTypeError\u001b[39;00m:\n\u001b[0;32m   3625\u001b[0m     \u001b[39m# If we have a listlike key, _check_indexing_error will raise\u001b[39;00m\n\u001b[0;32m   3626\u001b[0m     \u001b[39m#  InvalidIndexError. Otherwise we fall through and re-raise\u001b[39;00m\n\u001b[0;32m   3627\u001b[0m     \u001b[39m#  the TypeError.\u001b[39;00m\n\u001b[0;32m   3628\u001b[0m     \u001b[39mself\u001b[39m\u001b[39m.\u001b[39m_check_indexing_error(key)\n",
      "\u001b[1;31mKeyError\u001b[0m: 'expectation_fit'"
     ]
    }
   ],
   "source": [
    "questionaire['expectation_fit'].value_counts()"
   ]
  },
  {
   "attachments": {},
   "cell_type": "markdown",
   "metadata": {},
   "source": [
    "### count embodiment"
   ]
  },
  {
   "cell_type": "code",
   "execution_count": 108,
   "metadata": {},
   "outputs": [
    {
     "data": {
      "text/plain": [
       "nein    11\n",
       "ja      11\n",
       "Name: embodiment, dtype: int64"
      ]
     },
     "execution_count": 108,
     "metadata": {},
     "output_type": "execute_result"
    }
   ],
   "source": [
    "questionaire['embodiment'].value_counts()"
   ]
  },
  {
   "attachments": {},
   "cell_type": "markdown",
   "metadata": {},
   "source": [
    "# 3. Content Analysis\n",
    "- built to world clouds for each block\n",
    "- define stopwords\n",
    "- maybe check sentiment analysis -> pareid t-test?\n",
    "-TODO: try word cloud german\n"
   ]
  },
  {
   "cell_type": "code",
   "execution_count": 459,
   "metadata": {},
   "outputs": [],
   "source": [
    "interview_random_text = questionaire['interview_random'].to_json()\n",
    "\n",
    "interview_eeg_text = questionaire['interview_EEG'].to_json()\n",
    "\n",
    "stopwords = STOPWORDS # extend by domaine specific words if necessary\n",
    "\n"
   ]
  },
  {
   "cell_type": "code",
   "execution_count": 460,
   "metadata": {},
   "outputs": [
    {
     "data": {
      "text/plain": [
       "<wordcloud.wordcloud.WordCloud at 0x17df39aecb0>"
      ]
     },
     "execution_count": 460,
     "metadata": {},
     "output_type": "execute_result"
    }
   ],
   "source": [
    "wc_formate = WordCloud(background_color='black', max_words=500, width=3000,\n",
    "                    height=1500, stopwords=stopwords, min_font_size=2,\n",
    "                    contour_width=3, contour_color='white')\n",
    "\n",
    "wc_formate.generate(interview_random_text)\n",
    "wc_formate.to_file((d+\"results/wordcloud_random.png\"))\n",
    "\n",
    "wc_formate.generate(interview_eeg_text)\n",
    "wc_formate.to_file((d+\"results/wordcloud_eeg.png\"))\n"
   ]
  },
  {
   "attachments": {},
   "cell_type": "markdown",
   "metadata": {},
   "source": [
    "# 4. Sentiment Analysis"
   ]
  },
  {
   "cell_type": "code",
   "execution_count": 463,
   "metadata": {},
   "outputs": [
    {
     "name": "stdout",
     "output_type": "stream",
     "text": [
      "{'neg': 0.049, 'neu': 0.809, 'pos': 0.142, 'compound': 0.9846}\n",
      "{'neg': 0.104, 'neu': 0.735, 'pos': 0.161, 'compound': 0.9879}\n"
     ]
    }
   ],
   "source": [
    "# for whole text\n",
    "\n",
    "analyzer=SentimentIntensityAnalyzer()  \n",
    "\n",
    "print(analyzer.polarity_scores(interview_random_text))\n",
    "print(analyzer.polarity_scores(interview_eeg_text))\n",
    "\n"
   ]
  },
  {
   "cell_type": "code",
   "execution_count": null,
   "metadata": {},
   "outputs": [],
   "source": []
  }
 ],
 "metadata": {
  "kernelspec": {
   "display_name": "Python 3",
   "language": "python",
   "name": "python3"
  },
  "language_info": {
   "codemirror_mode": {
    "name": "ipython",
    "version": 3
   },
   "file_extension": ".py",
   "mimetype": "text/x-python",
   "name": "python",
   "nbconvert_exporter": "python",
   "pygments_lexer": "ipython3",
   "version": "3.10.7"
  },
  "orig_nbformat": 4,
  "vscode": {
   "interpreter": {
    "hash": "3c8b1dbe8e2868d4c1ba5519ab4ebf16602ee2921cdd29268d4bb1c20ff3ce8a"
   }
  }
 },
 "nbformat": 4,
 "nbformat_minor": 2
}
