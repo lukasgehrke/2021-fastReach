{
 "cells": [
  {
   "attachments": {},
   "cell_type": "markdown",
   "metadata": {},
   "source": [
    "# Analysis fastReach "
   ]
  },
  {
   "attachments": {},
   "cell_type": "markdown",
   "metadata": {},
   "source": [
    "## general prep"
   ]
  },
  {
   "cell_type": "code",
   "execution_count": 1,
   "metadata": {},
   "outputs": [],
   "source": [
    "\n",
    "# load packages\n",
    "import numpy as np\n",
    "import pandas as pd\n",
    "import seaborn as sns\n",
    "import statsmodels.formula.api as smf\n",
    "from scipy import stats\n",
    "import seaborn as sns\n",
    "import matplotlib.pyplot as plt\n",
    "from statannotations.Annotator import Annotator\n",
    "# %load_ext rpy2.ipython # currently not needed\n",
    "import glob\n",
    "\n",
    "from wordcloud import WordCloud, STOPWORDS\n",
    "from nltk.corpus import stopwords\n",
    "from vaderSentiment.vaderSentiment import SentimentIntensityAnalyzer\n",
    "\n",
    "import pymer4 as pymer4\n",
    "   \n"
   ]
  },
  {
   "cell_type": "code",
   "execution_count": 12,
   "metadata": {},
   "outputs": [],
   "source": [
    "# set path\n",
    "d = \"C://Users/terfu/Desktop/2021-fastReach/analyses/Leonie_tests/\" # for test data\n",
    "\n",
    "dd = \"//stor1.bpn.tu-berlin.de/projects/Lukas_Gehrke/\""
   ]
  },
  {
   "attachments": {},
   "cell_type": "markdown",
   "metadata": {},
   "source": [
    "## load functions"
   ]
  },
  {
   "attachments": {},
   "cell_type": "markdown",
   "metadata": {},
   "source": [
    "plot with 2 categories"
   ]
  },
  {
   "cell_type": "code",
   "execution_count": 475,
   "metadata": {},
   "outputs": [],
   "source": [
    "# plot with two cats\n",
    "def plot_2_cats(data, x, y, hue, ylabel, xlabel,cats,palette):\n",
    "    \n",
    "    cats_0 = data[data[x]==cats[0]]\n",
    "    cats_1 = data[data[x]==cats[1]]\n",
    "\n",
    "    pairs = [(cats[0], cats[1])]\n",
    "\n",
    "    ###  get p values for paired t test between two conditions\n",
    "\n",
    "    pvalues = [\n",
    "        stats.ttest_rel( cats_0[y], cats_1[y]).pvalue\n",
    "        #stats.ranksums(cat_0[dv], cat_1[dv]).pvalue\n",
    "    ]\n",
    "    \n",
    "    # Transform each p-value to \"p=\" in scientific notation\n",
    "    formatted_pvalues = [f'p={pvalue:.2e}' for pvalue in pvalues]\n",
    "\n",
    "    with sns.plotting_context('paper', font_scale = 1.8):\n",
    "\n",
    "        ### Create new plot\n",
    "        fig, ax = plt.subplots(1, 1, figsize=(3,5))\n",
    "        fig.patch.set_alpha(1)\n",
    "\n",
    "        \n",
    "\n",
    "        sns.despine() #bottom=True, left=True\n",
    "        # show boxplots\n",
    "        ax = sns.boxplot(data = data,x = x, y = y,  palette= [palette[0]*len(pairs)])\n",
    "        for patch in ax.patches: # adapt alpha\n",
    "            r, g, b, a = patch.get_facecolor()\n",
    "            patch.set_facecolor((r, g, b, .6))\n",
    "\n",
    "        #  show lines connecting pid means observations    \n",
    "        sns.lineplot(data = data, x = x, y = y, \n",
    "                    legend = False, linewidth = 0.5, linestyle = '-',ci =None,color = palette[2], alpha=0.8)\n",
    "        2\n",
    "\n",
    "        #Show mean observation with a scatterplot\n",
    "        sns.stripplot(data = data,x = x, y = y, hue = None,size=8,\n",
    "                    label=None, marker=\"s\",s = 6, color = palette[2], alpha=0.8)\n",
    "\n",
    "    \n",
    "        # show line connecting means\n",
    "        sns.pointplot(\n",
    "            data = data,x = x, y = y,\n",
    "            markers=\"s\", size = 6, ci =None,color = palette[0])\n",
    "\n",
    "\n",
    "        # Add annotations\n",
    "        annotator = Annotator(ax, pairs = [(cats[0], cats[1])], data = data,x = x, y = y)\n",
    "        annotator.configure(text_format=\"simple\")\n",
    "        annotator.set_pvalues(pvalues)\n",
    "        annotator.annotate()\n",
    "\n",
    "        # Label and show\n",
    "        # label_plot_for_subcats(ax)\n",
    "        ax.set_title(title)\n",
    "        ax.set_ylabel(ylabel)\n",
    "        ax.set_xlabel(xlabel)\n",
    "\n",
    "        plt.show()\n",
    "\n",
    "        fig.savefig('results/'+ title + '_' + ylabel + '_' + xlabel + '.png', format='png', transparent=False, bbox_inches='tight', dpi=300)\n",
    "        fig.savefig('results/'+title + '_' + ylabel + '_' + xlabel + '.eps', format='eps', transparent=True, bbox_inches='tight', dpi=300)"
   ]
  },
  {
   "attachments": {},
   "cell_type": "markdown",
   "metadata": {},
   "source": [
    "plot with three categories"
   ]
  },
  {
   "cell_type": "code",
   "execution_count": 135,
   "metadata": {},
   "outputs": [],
   "source": [
    "# plot with three condition \n",
    "\n",
    "def plot_3_cats(data, x, y, hue, ylabel, xlabel,cats,palette,data_means):\n",
    "    \n",
    "    cats_0 = data[data[x]==cats[0]]\n",
    "    cats_1 = data[data[x]==cats[1]]\n",
    "    cats_2 = data[data[x]==cats[2]]\n",
    "\n",
    "    pairs = [(cats[0], cats[1],cats[1])]\n",
    "\n",
    "    \n",
    "\n",
    "    with sns.plotting_context('paper', font_scale = 1.8):\n",
    "\n",
    "        ### Create new plot\n",
    "        fig, ax = plt.subplots(1, 1, figsize=(3,5))\n",
    "        fig.patch.set_alpha(1)\n",
    "\n",
    "        sns.despine() #bottom=True, left=True\n",
    "         # show boxplots\n",
    "        ax = sns.boxplot(data = data,x = x, y = y,  palette= [palette[0]*len(pairs)])\n",
    "        for patch in ax.patches: # adapt alpha\n",
    "             r, g, b, a = patch.get_facecolor()\n",
    "             patch.set_facecolor((r, g, b, .6))\n",
    "\n",
    "        #  show lines connecting pid means observations    \n",
    "        sns.lineplot(data = data_means, x = x, y = y, hue = hue,\n",
    "                      legend = False, linewidth = 0.5, linestyle = '-',ci =None,color = palette[2], alpha=0.8)\n",
    "        2\n",
    "\n",
    "            \n",
    "        # show line connecting means\n",
    "        sns.pointplot(\n",
    "            data = data,x = x, y = y,\n",
    "            markers=\"s\", size = 6, ci =None,color = palette[0],legend = True)\n",
    "\n",
    "\n",
    "        \n",
    "        # Label and show\n",
    "        # label_plot_for_subcats(ax)\n",
    "        ax.set_title(title)\n",
    "        ax.set_ylabel(ylabel)\n",
    "        ax.set_xlabel(xlabel)\n",
    "\n",
    "        plt.show()\n",
    "\n",
    "        fig.savefig('results/'+ title + '_' + ylabel + '_' + xlabel + '.png', format='png', transparent=False, bbox_inches='tight', dpi=300)\n",
    "        fig.savefig('results/'+title + '_' + ylabel + '_' + xlabel + '.eps', format='eps', transparent=True, bbox_inches='tight', dpi=300)"
   ]
  },
  {
   "attachments": {},
   "cell_type": "markdown",
   "metadata": {},
   "source": [
    "plot with 3 categories and hue"
   ]
  },
  {
   "cell_type": "code",
   "execution_count": 216,
   "metadata": {},
   "outputs": [],
   "source": [
    "# plot with three condition \n",
    "\n",
    "def plot_3_cats_hue(data, x, y, hue, ylabel, xlabel,cats,palette,data_means,hue2):\n",
    "    \n",
    "    cats_0 = data[data[x]==cats[0]]\n",
    "    cats_1 = data[data[x]==cats[1]]\n",
    "    cats_2 = data[data[x]==cats[2]]\n",
    "\n",
    "    pairs = [(cats[0], cats[1],cats[1])]\n",
    "\n",
    "   \n",
    "    with sns.plotting_context('paper', font_scale = 1.8):\n",
    "\n",
    "        ### Create new plot\n",
    "        fig, ax = plt.subplots(1, 1, figsize=(6,5))\n",
    "        fig.patch.set_alpha(1)\n",
    "\n",
    "        sns.despine() #bottom=True, left=True\n",
    "\n",
    "         # show boxplots\n",
    "        ax = sns.boxplot(data = data,x = x, y = y, hue = hue2,  palette= palette[3:6])\n",
    "        for patch in ax.patches: # adapt alpha\n",
    "             r, g, b, a = patch.get_facecolor()\n",
    "             patch.set_facecolor((r, g, b, .6))\n",
    "    \n",
    "         # show line connecting menas\n",
    "        ax = sns.pointplot(\n",
    "            data = data,x = x, y = y, dodge=.8 - .8 / 3,\n",
    "            markers=['s','o','^'],linestyles = ['solid','dotted','dashed'],hue = hue2, size = 6, ci =None,palette= palette[3:6], labels = True)\n",
    "        \n",
    "\n",
    "        handles, labels = ax.get_legend_handles_labels()  \n",
    "       \n",
    "        plt.legend(handles[3:6],labels[3:6],frameon=True,loc = 'upper left',labelspacing =0.3)\n",
    "        \n",
    "        # label_plot_for_subcats(ax)\n",
    "        ax.set_title(title)\n",
    "        ax.set_ylabel(ylabel)\n",
    "        ax.set_xlabel(xlabel)\n",
    "        \n",
    "        plt.show()\n",
    "\n",
    "        fig.savefig('results/'+ title + '_' + ylabel + '_' + xlabel + '.png', format='png', transparent=False, bbox_inches='tight', dpi=300)\n",
    "        fig.savefig('results/'+title + '_' + ylabel + '_' + xlabel + '.eps', format='eps', transparent=True, bbox_inches='tight', dpi=300)"
   ]
  },
  {
   "attachments": {},
   "cell_type": "markdown",
   "metadata": {},
   "source": [
    "plot eeg timeline"
   ]
  },
  {
   "cell_type": "code",
   "execution_count": null,
   "metadata": {},
   "outputs": [],
   "source": [
    "# plot eeg data with in timeline with 3 conditions\n",
    "\n",
    "def plot_erp_timeline(data,id_vars, delete_vars, sample_rate,window_start,hue,palette,title):\n",
    "\n",
    "     with sns.plotting_context('paper', font_scale = 1.8):\n",
    "\n",
    "        ### Create new plot\n",
    "        fig, ax = plt.subplots(1, 1, figsize=(9,5))\n",
    "        fig.patch.set_alpha(1)\n",
    "\n",
    "        sns.despine() #bottom=True, left=True \n",
    "        # prep data\n",
    "        # remove unnesseary columns \n",
    "        data = data.loc[:,data.columns!= delete_vars]\n",
    "\n",
    "         # to long format\n",
    "\n",
    "        data_long = pd.melt(data, id_vars= id_vars, var_name='timepoint', value_name='µV', col_level=None, ignore_index=True)\n",
    "\n",
    "        # adjust time axis\n",
    "        data_long['timepoint'] = (((1/sample_rate) * (data_long[\"timepoint\"].str.replace(\"erp\",\"\").astype(int)))*1000) +window_start\n",
    "\n",
    "        # plot\n",
    "        ax = sns.lineplot(data = data_long, x = 'timepoint', y = 'µV',hue =hue,palette = palette[3:6],style = hue)\n",
    "\n",
    "        ax.axhline(0,color = 'black' )\n",
    "\n",
    "        # Label and show\n",
    "\n",
    "        ax.set_title(title)\n",
    "\n",
    "\n",
    "        plt.show()\n",
    "\n",
    "        fig.savefig(d+'results/'+ title + '.png', format='png', transparent=False, bbox_inches='tight', dpi=300)\n",
    "        fig.savefig(d+'results/'+title + '.eps', format='eps', transparent=True, bbox_inches='tight', dpi=300)"
   ]
  },
  {
   "attachments": {},
   "cell_type": "markdown",
   "metadata": {},
   "source": [
    "# 1. Intentional Binding\n",
    "- input: 3 tabels for each pID: pID | stim_cond (basline vs. random vs. EEG)| temp_cond (200|350|500??) | behavior_estimate\n",
    "\n",
    "- think about defintion of IB_estimate\n",
    "- linear-mixed-model mit  IB_estimate ~ stim_cond * temp_cond + (1|pID)\n",
    "- liklyhood ratio test to check for significant influences\n",
    "- if the case: post-hoc test = read up which ones\n",
    "- Visualization: Boxpolts with 3 boxes (stim_conditions), or 9 boxes (both, x = temp_condition) --> depending on significance of temp_condition\n",
    "- connect means, show points for participands\n",
    "- maybe grey out basline (since not analyzed in the other data)\n",
    "\n",
    "missing:\n",
    "- make pretty\n",
    "- add time as catgory\n",
    "- add statistical test\n",
    "- \n",
    "\n",
    "\n",
    "- plot histogramm of rt im baseline condition\n",
    "\n",
    "- adapt script to behavior.csv in data"
   ]
  },
  {
   "attachments": {},
   "cell_type": "markdown",
   "metadata": {},
   "source": [
    "### load data"
   ]
  },
  {
   "cell_type": "code",
   "execution_count": 163,
   "metadata": {},
   "outputs": [],
   "source": [
    "\n",
    "\n",
    "#old\n",
    "# merge data\n",
    "#####adapt\n",
    "filenames = glob.glob(d + 'fake_data/ib_estimate' + \"/*.csv\")\n",
    "\n",
    "data_list =[]\n",
    "for filename in filenames:\n",
    "    data = pd.read_csv(filename, index_col=None, header=0, sep = \";\",decimal=\",\")\n",
    "    data_list.append(data)\n",
    "\n",
    "behavior = pd.concat(data_list, axis=0, ignore_index=True)\n",
    "\n",
    "\n"
   ]
  },
  {
   "cell_type": "code",
   "execution_count": 164,
   "metadata": {},
   "outputs": [],
   "source": [
    "# old\n",
    "# rename data (delete once real data is available, this is only here because I dont want to edit my fake csvs)\n",
    "behavior.rename(columns={'pID': 'id', 'trial_nr':'tr_nr','temp_condition': 'rd','stimulation_condition':'cond','ib_estimate':'ed'}, inplace=True)\n",
    "# add rt (delete with real data)\n",
    "behavior['rt'] = np.random.randint(1, 6, ib.shape[0])\n",
    "\n"
   ]
  },
  {
   "cell_type": "code",
   "execution_count": 143,
   "metadata": {},
   "outputs": [],
   "source": [
    "behavior = pd.read_csv( '//stor1.bpn.tu-berlin.de/projects/Lukas_Gehrke/2021-fastReach/data/study/PI_results.csv')\n"
   ]
  },
  {
   "cell_type": "code",
   "execution_count": 152,
   "metadata": {},
   "outputs": [],
   "source": [
    "# set data types\n",
    "behavior[['ed','rt']] = behavior[['ed','rt']].apply(pd.to_numeric, axis=1)\n",
    "\n",
    "behavior['rd'] = behavior['rd'].astype(\"string\")  # needs to be string before category for R conversion\n",
    "\n",
    "behavior[['rd','condition']] = behavior[['rd','condition']].astype(\"category\")"
   ]
  },
  {
   "attachments": {},
   "cell_type": "markdown",
   "metadata": {},
   "source": [
    "### plot only one condition"
   ]
  },
  {
   "cell_type": "code",
   "execution_count": 311,
   "metadata": {},
   "outputs": [
    {
     "data": {
      "image/png": "[encoded data removed]",
      "text/plain": [
       "<Figure size 216x360 with 1 Axes>"
      ]
     },
     "metadata": {},
     "output_type": "display_data"
    },
    {
     "name": "stderr",
     "output_type": "stream",
     "text": [
      "The PostScript backend does not support transparency; partially transparent artists will be rendered opaque.\n"
     ]
    }
   ],
   "source": [
    "# with only stimulation condition\n",
    "behavior_means = behavior.groupby(['id','condition'],as_index=False)['ed'].mean()\n",
    "\n",
    "palette = ['#365c8d','#E5E4E2','#899499','#4ac16d', '#277f8e','#440154'] \n",
    "cats= ['baseline','random','EEG'] \n",
    "ylabel = 'ib estimate'\n",
    "xlabel = 'condition'\n",
    "title = 'condition'\n",
    "data = behavior\n",
    "data_means = behavior_means\n",
    "y = \"ed\"\n",
    "x = \"condition\"\n",
    "hue = \"id\"\n",
    "\n",
    "\n",
    "plot_3_cats(data, x, y, hue, ylabel, xlabel,cats,palette,data_means)"
   ]
  },
  {
   "attachments": {},
   "cell_type": "markdown",
   "metadata": {},
   "source": [
    "### plot both conditions"
   ]
  },
  {
   "cell_type": "code",
   "execution_count": 310,
   "metadata": {},
   "outputs": [
    {
     "data": {
      "image/png": "[encoded data removed]",
      "text/plain": [
       "<Figure size 432x360 with 1 Axes>"
      ]
     },
     "metadata": {},
     "output_type": "display_data"
    },
    {
     "name": "stderr",
     "output_type": "stream",
     "text": [
      "The PostScript backend does not support transparency; partially transparent artists will be rendered opaque.\n"
     ]
    }
   ],
   "source": [
    "# with stimulation condition + time condition+ rd as y\n",
    "behavior_means = behavior.groupby(['id','condition','rd'],as_index=False)['ed'].mean()\n",
    "\n",
    "\n",
    "palette = ['#365c8d','#E5E4E2','#899499','#4ac16d', '#277f8e','#440154'] \n",
    "cats= ['baseline','ems1','ems2'] \n",
    "ylabel = 'ed'\n",
    "xlabel = 'condition'\n",
    "title = 'cond'\n",
    "data = behavior\n",
    "data_means = behavior_means\n",
    "y = \"ed\"\n",
    "x = \"condition\"\n",
    "hue = \"id\"\n",
    "hue2 = 'rd'\n",
    "\n",
    "\n",
    "plot_3_cats_hue(data, x, y, hue, ylabel, xlabel,cats,palette,data_means,hue2)"
   ]
  },
  {
   "cell_type": "code",
   "execution_count": 309,
   "metadata": {},
   "outputs": [
    {
     "data": {
      "image/png": "[encoded data removed]",
      "text/plain": [
       "<Figure size 432x360 with 1 Axes>"
      ]
     },
     "metadata": {},
     "output_type": "display_data"
    },
    {
     "name": "stderr",
     "output_type": "stream",
     "text": [
      "The PostScript backend does not support transparency; partially transparent artists will be rendered opaque.\n"
     ]
    }
   ],
   "source": [
    "# with stimulation condition + time condition+ rd as y\n",
    "\n",
    "behavior[['rd']] = behavior[['rd']].apply(pd.to_numeric, axis=1)\n",
    "behavior[\"diff\"]= behavior[\"ed\"]-behavior[\"rd\"]\n",
    "behavior[['rd']] = behavior[['rd']].astype(\"category\")\n",
    "\n",
    "\n",
    "behavior_means = behavior.groupby(['id','condition','rd'],as_index=False)['diff'].mean()\n",
    "\n",
    "palette = ['#365c8d','#E5E4E2','#899499','#4ac16d', '#277f8e','#440154'] \n",
    "cats= ['baseline','ems1','ems2'] \n",
    "ylabel = 'ed-rd'\n",
    "xlabel = 'condition'\n",
    "title = 'condition + rd'\n",
    "data = behavior\n",
    "data_means = behavior_means\n",
    "y = \"diff\"\n",
    "x = \"condition\"\n",
    "hue = \"id\"\n",
    "hue2 = 'rd'\n",
    "\n",
    "\n",
    "plot_3_cats_hue(data, x, y, hue, ylabel, xlabel,cats,palette,data_means,hue2)"
   ]
  },
  {
   "attachments": {},
   "cell_type": "markdown",
   "metadata": {},
   "source": [
    "histogramm rt"
   ]
  },
  {
   "cell_type": "code",
   "execution_count": 48,
   "metadata": {},
   "outputs": [
    {
     "name": "stderr",
     "output_type": "stream",
     "text": [
      "The PostScript backend does not support transparency; partially transparent artists will be rendered opaque.\n"
     ]
    },
    {
     "data": {
      "image/png": "[encoded data removed]",
      "text/plain": [
       "<Figure size 432x288 with 1 Axes>"
      ]
     },
     "metadata": {
      "needs_background": "light"
     },
     "output_type": "display_data"
    }
   ],
   "source": [
    "\n",
    "fig, ax = plt.subplots()\n",
    "hist = sns.histplot(behavior, x = 'rt',color= 'grey',ax =ax)\n",
    "ax.set_xlim(0,5) # remove outliers for visualization\n",
    "\n",
    "hist.figure.savefig(d+'results/hist_rt.png', format='png', transparent=False, bbox_inches='tight', dpi=300)\n",
    "hist.figure.savefig(d+'results/hist_rt.eps', format='eps', transparent=True, bbox_inches='tight', dpi=300)"
   ]
  },
  {
   "attachments": {},
   "cell_type": "markdown",
   "metadata": {},
   "source": [
    "### linear mixed model"
   ]
  },
  {
   "attachments": {},
   "cell_type": "markdown",
   "metadata": {},
   "source": [
    "#### prep\n",
    "- witched from rpy2 to pymer4, because it is less annoying with importing / exporting from python to R\n",
    "- not sure if of this is still necessary, but since pymer4 is based on rpy2, this might be the case"
   ]
  },
  {
   "cell_type": "code",
   "execution_count": 52,
   "metadata": {},
   "outputs": [
    {
     "ename": "SyntaxError",
     "evalue": "invalid syntax (255735237.py, line 7)",
     "output_type": "error",
     "traceback": [
      "\u001b[1;36m  Input \u001b[1;32mIn [52]\u001b[1;36m\u001b[0m\n\u001b[1;33m    load_ext rpy2.ipython\u001b[0m\n\u001b[1;37m             ^\u001b[0m\n\u001b[1;31mSyntaxError\u001b[0m\u001b[1;31m:\u001b[0m invalid syntax\n"
     ]
    }
   ],
   "source": [
    "packnames = ('lme4', 'lmerTest', 'emmeans', 'geepack', 'sjPlot')\n",
    "from rpy2.robjects.packages import importr\n",
    "from rpy2.robjects.vectors import StrVector\n",
    "utils = importr(\"utils\")\n",
    "utils.chooseCRANmirror(ind=1)\n",
    "utils.install_packages(StrVector(packnames))\n",
    "load_ext rpy2.ipython"
   ]
  },
  {
   "cell_type": "code",
   "execution_count": 51,
   "metadata": {},
   "outputs": [
    {
     "ename": "NameError",
     "evalue": "name 'Lmer' is not defined",
     "output_type": "error",
     "traceback": [
      "\u001b[1;31m---------------------------------------------------------------------------\u001b[0m",
      "\u001b[1;31mNameError\u001b[0m                                 Traceback (most recent call last)",
      "\u001b[1;32mc:\\Users\\terfu\\Desktop\\2021-fastReach\\analyses\\Leonie_tests\\analysis_LT.ipynb Cell 27\u001b[0m in \u001b[0;36m<cell line: 1>\u001b[1;34m()\u001b[0m\n\u001b[1;32m----> <a href='vscode-notebook-cell:/c%3A/Users/terfu/Desktop/2021-fastReach/analyses/Leonie_tests/analysis_LT.ipynb#X34sZmlsZQ%3D%3D?line=0'>1</a>\u001b[0m full_model \u001b[39m=\u001b[39m Lmer(\u001b[39m'\u001b[39m\u001b[39med ~ cond * rd + (1|id)\u001b[39m\u001b[39m'\u001b[39m, data \u001b[39m=\u001b[39m behavior)\n\u001b[0;32m      <a href='vscode-notebook-cell:/c%3A/Users/terfu/Desktop/2021-fastReach/analyses/Leonie_tests/analysis_LT.ipynb#X34sZmlsZQ%3D%3D?line=1'>2</a>\u001b[0m display(full_model\u001b[39m.\u001b[39mfit(REML \u001b[39m=\u001b[39m \u001b[39mFalse\u001b[39;00m,factors\u001b[39m=\u001b[39m{\u001b[39m\"\u001b[39m\u001b[39mcond\u001b[39m\u001b[39m\"\u001b[39m: [\u001b[39m\"\u001b[39m\u001b[39mbaseline\u001b[39m\u001b[39m\"\u001b[39m, \u001b[39m\"\u001b[39m\u001b[39mrandom\u001b[39m\u001b[39m\"\u001b[39m, \u001b[39m\"\u001b[39m\u001b[39meeg\u001b[39m\u001b[39m\"\u001b[39m], \u001b[39m\"\u001b[39m\u001b[39mrd\u001b[39m\u001b[39m\"\u001b[39m: [\u001b[39m\"\u001b[39m\u001b[39m200\u001b[39m\u001b[39m\"\u001b[39m, \u001b[39m\"\u001b[39m\u001b[39m250\u001b[39m\u001b[39m\"\u001b[39m, \u001b[39m\"\u001b[39m\u001b[39m500\u001b[39m\u001b[39m\"\u001b[39m]}))\n\u001b[0;32m      <a href='vscode-notebook-cell:/c%3A/Users/terfu/Desktop/2021-fastReach/analyses/Leonie_tests/analysis_LT.ipynb#X34sZmlsZQ%3D%3D?line=2'>3</a>\u001b[0m full_model\u001b[39m.\u001b[39mplot_summary()\n",
      "\u001b[1;31mNameError\u001b[0m: name 'Lmer' is not defined"
     ]
    }
   ],
   "source": [
    "\n",
    "full_model = Lmer('ed ~ cond * rd + (1|id)', data = behavior)\n",
    "display(full_model.fit(REML = False,factors={\"cond\": [\"baseline\", \"random\", \"eeg\"], \"rd\": [\"200\", \"250\", \"500\"]}))\n",
    "full_model.plot_summary()"
   ]
  },
  {
   "attachments": {},
   "cell_type": "markdown",
   "metadata": {},
   "source": [
    "#### define null models"
   ]
  },
  {
   "cell_type": "code",
   "execution_count": 179,
   "metadata": {},
   "outputs": [],
   "source": [
    "# null without interaction\n",
    "null_model_int = Lmer('ed ~ cond + rd + (1|id)', data = behavior)\n",
    "null_model_int.fit(REML = False, summarize=False)\n",
    "\n",
    "# null model without stimulation condition \n",
    "null_model_stim = Lmer('ed ~ rd + (1|id)', data = behavior)\n",
    "null_model_stim.fit(REML = False, summarize=False)\n",
    "\n",
    "# null model without temp condition \n",
    "null_model_temp = Lmer('ed ~ cond + (1|id)', data = behavior)\n",
    "null_model_temp.fit(REML = False, summarize=False)\n"
   ]
  },
  {
   "attachments": {},
   "cell_type": "markdown",
   "metadata": {},
   "source": [
    "#### liklyhood ratio tests\n",
    "To DO: discussed before but: when we have a full model with interaction, \n",
    "what do we use as null models for liklyhood ration test? When we leave the interaction out compleatly,\n",
    " we can not use the ß estimates from the full model (Ithink)\n"
   ]
  },
  {
   "attachments": {},
   "cell_type": "markdown",
   "metadata": {},
   "source": [
    "interaction"
   ]
  },
  {
   "cell_type": "code",
   "execution_count": 88,
   "metadata": {},
   "outputs": [
    {
     "data": {
      "text/html": [
       "<div>\n",
       "<style scoped>\n",
       "    .dataframe tbody tr th:only-of-type {\n",
       "        vertical-align: middle;\n",
       "    }\n",
       "\n",
       "    .dataframe tbody tr th {\n",
       "        vertical-align: top;\n",
       "    }\n",
       "\n",
       "    .dataframe thead th {\n",
       "        text-align: right;\n",
       "    }\n",
       "</style>\n",
       "<table border=\"1\" class=\"dataframe\">\n",
       "  <thead>\n",
       "    <tr style=\"text-align: right;\">\n",
       "      <th></th>\n",
       "      <th>model</th>\n",
       "      <th>npar</th>\n",
       "      <th>AIC</th>\n",
       "      <th>BIC</th>\n",
       "      <th>log-likelihood</th>\n",
       "      <th>deviance</th>\n",
       "      <th>Chisq</th>\n",
       "      <th>Df</th>\n",
       "      <th>P-val</th>\n",
       "      <th>Sig</th>\n",
       "    </tr>\n",
       "  </thead>\n",
       "  <tbody>\n",
       "    <tr>\n",
       "      <th>0</th>\n",
       "      <td>ib_estimate~stimulation_condition+temp_conditi...</td>\n",
       "      <td>7</td>\n",
       "      <td>600.552312</td>\n",
       "      <td>620.064754</td>\n",
       "      <td>-293.276156</td>\n",
       "      <td>586.552312</td>\n",
       "      <td></td>\n",
       "      <td></td>\n",
       "      <td></td>\n",
       "      <td></td>\n",
       "    </tr>\n",
       "    <tr>\n",
       "      <th>1</th>\n",
       "      <td>ib_estimate~stimulation_condition*temp_conditi...</td>\n",
       "      <td>11</td>\n",
       "      <td>608.041035</td>\n",
       "      <td>638.703444</td>\n",
       "      <td>-293.020517</td>\n",
       "      <td>586.041035</td>\n",
       "      <td>0.511277</td>\n",
       "      <td>4.0</td>\n",
       "      <td>0.972394</td>\n",
       "      <td></td>\n",
       "    </tr>\n",
       "  </tbody>\n",
       "</table>\n",
       "</div>"
      ],
      "text/plain": [
       "                                               model  npar         AIC  \\\n",
       "0  ib_estimate~stimulation_condition+temp_conditi...     7  600.552312   \n",
       "1  ib_estimate~stimulation_condition*temp_conditi...    11  608.041035   \n",
       "\n",
       "          BIC  log-likelihood    deviance     Chisq   Df     P-val Sig  \n",
       "0  620.064754     -293.276156  586.552312                               \n",
       "1  638.703444     -293.020517  586.041035  0.511277  4.0  0.972394      "
      ]
     },
     "execution_count": 88,
     "metadata": {},
     "output_type": "execute_result"
    }
   ],
   "source": [
    "pymer4.stats.lrt([null_model_int,full_model])\n"
   ]
  },
  {
   "attachments": {},
   "cell_type": "markdown",
   "metadata": {},
   "source": [
    "stimulation condition"
   ]
  },
  {
   "cell_type": "code",
   "execution_count": 89,
   "metadata": {},
   "outputs": [
    {
     "data": {
      "text/html": [
       "<div>\n",
       "<style scoped>\n",
       "    .dataframe tbody tr th:only-of-type {\n",
       "        vertical-align: middle;\n",
       "    }\n",
       "\n",
       "    .dataframe tbody tr th {\n",
       "        vertical-align: top;\n",
       "    }\n",
       "\n",
       "    .dataframe thead th {\n",
       "        text-align: right;\n",
       "    }\n",
       "</style>\n",
       "<table border=\"1\" class=\"dataframe\">\n",
       "  <thead>\n",
       "    <tr style=\"text-align: right;\">\n",
       "      <th></th>\n",
       "      <th>model</th>\n",
       "      <th>npar</th>\n",
       "      <th>AIC</th>\n",
       "      <th>BIC</th>\n",
       "      <th>log-likelihood</th>\n",
       "      <th>deviance</th>\n",
       "      <th>Chisq</th>\n",
       "      <th>Df</th>\n",
       "      <th>P-val</th>\n",
       "      <th>Sig</th>\n",
       "    </tr>\n",
       "  </thead>\n",
       "  <tbody>\n",
       "    <tr>\n",
       "      <th>0</th>\n",
       "      <td>ib_estimate~temp_condition+(1|pID)</td>\n",
       "      <td>5</td>\n",
       "      <td>687.382420</td>\n",
       "      <td>701.319879</td>\n",
       "      <td>-338.691210</td>\n",
       "      <td>677.382420</td>\n",
       "      <td></td>\n",
       "      <td></td>\n",
       "      <td></td>\n",
       "      <td></td>\n",
       "    </tr>\n",
       "    <tr>\n",
       "      <th>1</th>\n",
       "      <td>ib_estimate~stimulation_condition*temp_conditi...</td>\n",
       "      <td>11</td>\n",
       "      <td>608.041035</td>\n",
       "      <td>638.703444</td>\n",
       "      <td>-293.020517</td>\n",
       "      <td>586.041035</td>\n",
       "      <td>91.341385</td>\n",
       "      <td>6.0</td>\n",
       "      <td>0.0</td>\n",
       "      <td>***</td>\n",
       "    </tr>\n",
       "  </tbody>\n",
       "</table>\n",
       "</div>"
      ],
      "text/plain": [
       "                                               model  npar         AIC  \\\n",
       "0                 ib_estimate~temp_condition+(1|pID)     5  687.382420   \n",
       "1  ib_estimate~stimulation_condition*temp_conditi...    11  608.041035   \n",
       "\n",
       "          BIC  log-likelihood    deviance      Chisq   Df P-val  Sig  \n",
       "0  701.319879     -338.691210  677.382420                             \n",
       "1  638.703444     -293.020517  586.041035  91.341385  6.0   0.0  ***  "
      ]
     },
     "execution_count": 89,
     "metadata": {},
     "output_type": "execute_result"
    }
   ],
   "source": [
    "pymer4.stats.lrt([null_model_stim,full_model])"
   ]
  },
  {
   "attachments": {},
   "cell_type": "markdown",
   "metadata": {},
   "source": [
    "temp condition"
   ]
  },
  {
   "cell_type": "code",
   "execution_count": 90,
   "metadata": {},
   "outputs": [
    {
     "data": {
      "text/html": [
       "<div>\n",
       "<style scoped>\n",
       "    .dataframe tbody tr th:only-of-type {\n",
       "        vertical-align: middle;\n",
       "    }\n",
       "\n",
       "    .dataframe tbody tr th {\n",
       "        vertical-align: top;\n",
       "    }\n",
       "\n",
       "    .dataframe thead th {\n",
       "        text-align: right;\n",
       "    }\n",
       "</style>\n",
       "<table border=\"1\" class=\"dataframe\">\n",
       "  <thead>\n",
       "    <tr style=\"text-align: right;\">\n",
       "      <th></th>\n",
       "      <th>model</th>\n",
       "      <th>npar</th>\n",
       "      <th>AIC</th>\n",
       "      <th>BIC</th>\n",
       "      <th>log-likelihood</th>\n",
       "      <th>deviance</th>\n",
       "      <th>Chisq</th>\n",
       "      <th>Df</th>\n",
       "      <th>P-val</th>\n",
       "      <th>Sig</th>\n",
       "    </tr>\n",
       "  </thead>\n",
       "  <tbody>\n",
       "    <tr>\n",
       "      <th>0</th>\n",
       "      <td>ib_estimate~temp_condition+(1|pID)</td>\n",
       "      <td>5</td>\n",
       "      <td>687.382420</td>\n",
       "      <td>701.319879</td>\n",
       "      <td>-338.691210</td>\n",
       "      <td>677.382420</td>\n",
       "      <td></td>\n",
       "      <td></td>\n",
       "      <td></td>\n",
       "      <td></td>\n",
       "    </tr>\n",
       "    <tr>\n",
       "      <th>1</th>\n",
       "      <td>ib_estimate~stimulation_condition*temp_conditi...</td>\n",
       "      <td>11</td>\n",
       "      <td>608.041035</td>\n",
       "      <td>638.703444</td>\n",
       "      <td>-293.020517</td>\n",
       "      <td>586.041035</td>\n",
       "      <td>91.341385</td>\n",
       "      <td>6.0</td>\n",
       "      <td>0.0</td>\n",
       "      <td>***</td>\n",
       "    </tr>\n",
       "  </tbody>\n",
       "</table>\n",
       "</div>"
      ],
      "text/plain": [
       "                                               model  npar         AIC  \\\n",
       "0                 ib_estimate~temp_condition+(1|pID)     5  687.382420   \n",
       "1  ib_estimate~stimulation_condition*temp_conditi...    11  608.041035   \n",
       "\n",
       "          BIC  log-likelihood    deviance      Chisq   Df P-val  Sig  \n",
       "0  701.319879     -338.691210  677.382420                             \n",
       "1  638.703444     -293.020517  586.041035  91.341385  6.0   0.0  ***  "
      ]
     },
     "execution_count": 90,
     "metadata": {},
     "output_type": "execute_result"
    }
   ],
   "source": [
    "pymer4.stats.lrt([null_model_temp,full_model])"
   ]
  },
  {
   "attachments": {},
   "cell_type": "markdown",
   "metadata": {},
   "source": [
    "#### post hoc test"
   ]
  },
  {
   "attachments": {},
   "cell_type": "markdown",
   "metadata": {},
   "source": [
    "TODO check wether this post_hoc test is correct"
   ]
  },
  {
   "cell_type": "code",
   "execution_count": 186,
   "metadata": {},
   "outputs": [
    {
     "name": "stdout",
     "output_type": "stream",
     "text": [
      "P-values adjusted by bonf method for 3 comparisons\n",
      "            Contrast  Estimate  2.5_ci  97.5_ci     SE     DF  T-stat  P-val  \\\n",
      "1     baseline - eeg     4.208   2.736    5.680  0.606  118.0   6.944    0.0   \n",
      "2  baseline - random     7.009   5.537    8.481  0.606  118.0  11.565    0.0   \n",
      "3       eeg - random     2.801   1.329    4.273  0.606  118.0   4.622    0.0   \n",
      "\n",
      "   Sig  \n",
      "1  ***  \n",
      "2  ***  \n",
      "3  ***  \n"
     ]
    }
   ],
   "source": [
    "# post hoc test stimulation condition\n",
    "marginal_estimates, comparisons = full_model.post_hoc(\n",
    "    marginal_vars=\"cond\",p_adjust = \"bonf\")\n",
    "\n",
    "print(comparisons)\n"
   ]
  },
  {
   "cell_type": "code",
   "execution_count": 187,
   "metadata": {},
   "outputs": [
    {
     "name": "stdout",
     "output_type": "stream",
     "text": [
      "P-values adjusted by bonf method for 3 comparisons\n",
      "        Contrast  Estimate  2.5_ci  97.5_ci     SE     DF  T-stat  P-val Sig\n",
      "1  rd200 - rd250    -0.086  -1.524    1.352  0.592  118.0  -0.145    1.0    \n",
      "2  rd200 - rd500     0.220  -1.218    1.658  0.592  118.0   0.371    1.0    \n",
      "3  rd250 - rd500     0.306  -1.232    1.843  0.633  118.0   0.483    1.0    \n"
     ]
    }
   ],
   "source": [
    "# post hoc test stimulation condition\n",
    "marginal_estimates, comparisons = full_model.post_hoc(\n",
    "    marginal_vars=\"rd\",p_adjust = \"bonf\")\n",
    "\n",
    "print(comparisons)"
   ]
  },
  {
   "attachments": {},
   "cell_type": "markdown",
   "metadata": {},
   "source": [
    "# 2. EEG Data"
   ]
  },
  {
   "cell_type": "code",
   "execution_count": 308,
   "metadata": {},
   "outputs": [
    {
     "data": {
      "image/png": "[encoded data removed]",
      "text/plain": [
       "<Figure size 648x360 with 1 Axes>"
      ]
     },
     "metadata": {},
     "output_type": "display_data"
    },
    {
     "name": "stderr",
     "output_type": "stream",
     "text": [
      "The PostScript backend does not support transparency; partially transparent artists will be rendered opaque.\n"
     ]
    }
   ],
   "source": [
    "eeg_data = pd.read_csv( '//stor1.bpn.tu-berlin.de/projects/Lukas_Gehrke/2021-fastReach/data/study/PI_results.csv')\n",
    "\n",
    "data = eeg_data\n",
    "id_vars = ['id','condition','tr_nr','rd','ed']\n",
    "delete_vars = 'rt' # metrics that are not erp\n",
    "sample_rate = 250\n",
    "window_start = -1000 \n",
    "hue = 'condition'\n",
    "palette = ['#365c8d','#E5E4E2','#899499','#4ac16d', '#277f8e','#440154'] \n",
    "title = 'erp_plot'\n",
    "\n",
    "plot_erp_timeline(data,id_vars,delete_vars,sample_rate,window_start,hue,palette,title)\n",
    "\n"
   ]
  },
  {
   "attachments": {},
   "cell_type": "markdown",
   "metadata": {},
   "source": [
    "# 2. Questionaire results\n",
    "- items per block \"„Während der Aufgabe hat es sich angefühlt, als hätte ich die Kontrolle über die Bewegungen.“\n",
    "- input pid|first_block|control_random|control_EEG|expectation_fit|embodiment\n",
    "- paired t-testsf\n",
    "- box plots\n",
    "- SD,M,effect size\n",
    "\n",
    "@ Lukas? Significance test mit 5 values ist wirklich etwas shady, oder?"
   ]
  },
  {
   "cell_type": "code",
   "execution_count": 451,
   "metadata": {},
   "outputs": [],
   "source": [
    "#propably makes sense to integrate all subjective data\n",
    "# load  / merge qustionaire data\n",
    "\n",
    "questionaire= pd.read_csv('fake_data/subjective_fastReach.csv', sep = ';')"
   ]
  },
  {
   "attachments": {},
   "cell_type": "markdown",
   "metadata": {},
   "source": [
    "### plot control"
   ]
  },
  {
   "cell_type": "code",
   "execution_count": 476,
   "metadata": {},
   "outputs": [
    {
     "name": "stdout",
     "output_type": "stream",
     "text": [
      "control_EEG vs. control_random: Custom statistical test, P_val:1.923e-01\n"
     ]
    },
    {
     "name": "stderr",
     "output_type": "stream",
     "text": [
      "c:\\Users\\terfu\\AppData\\Local\\Programs\\Python\\Python310\\lib\\site-packages\\statannotations\\_Plotter.py:337: UserWarning: Invalid x-position found. Are the same parameters passed to seaborn and statannotations calls? or are there few data points?\n",
      "  warnings.warn(\n"
     ]
    },
    {
     "data": {
      "image/png": "[encoded data removed]",
      "text/plain": [
       "<Figure size 216x360 with 1 Axes>"
      ]
     },
     "metadata": {},
     "output_type": "display_data"
    },
    {
     "name": "stderr",
     "output_type": "stream",
     "text": [
      "The PostScript backend does not support transparency; partially transparent artists will be rendered opaque.\n"
     ]
    }
   ],
   "source": [
    "questionaire_long = questionaire.melt(id_vars= ['pID'],value_vars=['control_EEG','control_random'])\n",
    "\n",
    "palette = ['#365c8d','#E5E4E2','#899499','#4ac16d', '#277f8e','#440154'] \n",
    "cats= ['control_random', 'control_EEG']\n",
    "ylabel = 'level of control'\n",
    "xlabel = 'condition'\n",
    "title = 'fake'\n",
    "data = questionaire_long\n",
    "y = \"value\"\n",
    "x = \"variable\"\n",
    "hue = \"pID\"\n",
    "\n",
    "plot_2_cats(data, x, y, hue, ylabel, xlabel,cats,palette)\n",
    "\n",
    "#cohend(data,x,y, cats)"
   ]
  },
  {
   "attachments": {},
   "cell_type": "markdown",
   "metadata": {},
   "source": [
    "### numbers control"
   ]
  },
  {
   "cell_type": "code",
   "execution_count": 11,
   "metadata": {},
   "outputs": [
    {
     "data": {
      "text/html": [
       "<div>\n",
       "<style scoped>\n",
       "    .dataframe tbody tr th:only-of-type {\n",
       "        vertical-align: middle;\n",
       "    }\n",
       "\n",
       "    .dataframe tbody tr th {\n",
       "        vertical-align: top;\n",
       "    }\n",
       "\n",
       "    .dataframe thead th {\n",
       "        text-align: right;\n",
       "    }\n",
       "</style>\n",
       "<table border=\"1\" class=\"dataframe\">\n",
       "  <thead>\n",
       "    <tr style=\"text-align: right;\">\n",
       "      <th></th>\n",
       "      <th>mean</th>\n",
       "      <th>std</th>\n",
       "    </tr>\n",
       "    <tr>\n",
       "      <th>variable</th>\n",
       "      <th></th>\n",
       "      <th></th>\n",
       "    </tr>\n",
       "  </thead>\n",
       "  <tbody>\n",
       "    <tr>\n",
       "      <th>control_EEG</th>\n",
       "      <td>1.772727</td>\n",
       "      <td>1.477830</td>\n",
       "    </tr>\n",
       "    <tr>\n",
       "      <th>control_random</th>\n",
       "      <td>1.136364</td>\n",
       "      <td>1.909761</td>\n",
       "    </tr>\n",
       "  </tbody>\n",
       "</table>\n",
       "</div>"
      ],
      "text/plain": [
       "                    mean       std\n",
       "variable                          \n",
       "control_EEG     1.772727  1.477830\n",
       "control_random  1.136364  1.909761"
      ]
     },
     "execution_count": 11,
     "metadata": {},
     "output_type": "execute_result"
    }
   ],
   "source": [
    "questionaire_long.groupby('variable')['value'].agg([\"mean\", \"std\"])\n"
   ]
  },
  {
   "attachments": {},
   "cell_type": "markdown",
   "metadata": {},
   "source": [
    "### count expectation"
   ]
  },
  {
   "cell_type": "code",
   "execution_count": 12,
   "metadata": {},
   "outputs": [
    {
     "data": {
      "text/plain": [
       "eeg       13\n",
       "random     9\n",
       "Name: expectation_fit, dtype: int64"
      ]
     },
     "execution_count": 12,
     "metadata": {},
     "output_type": "execute_result"
    }
   ],
   "source": [
    "questionaire['expectation_fit'].value_counts()"
   ]
  },
  {
   "attachments": {},
   "cell_type": "markdown",
   "metadata": {},
   "source": [
    "### count embodiment"
   ]
  },
  {
   "cell_type": "code",
   "execution_count": 108,
   "metadata": {},
   "outputs": [
    {
     "data": {
      "text/plain": [
       "nein    11\n",
       "ja      11\n",
       "Name: embodiment, dtype: int64"
      ]
     },
     "execution_count": 108,
     "metadata": {},
     "output_type": "execute_result"
    }
   ],
   "source": [
    "questionaire['embodiment'].value_counts()"
   ]
  },
  {
   "attachments": {},
   "cell_type": "markdown",
   "metadata": {},
   "source": [
    "# 3. Content Analysis\n",
    "- built to world clouds for each block\n",
    "- define stopwords\n",
    "- maybe check sentiment analysis -> pareid t-test?\n",
    "-TODO: try word cloud german\n"
   ]
  },
  {
   "cell_type": "code",
   "execution_count": 459,
   "metadata": {},
   "outputs": [],
   "source": [
    "interview_random_text = questionaire['interview_random'].to_json()\n",
    "\n",
    "interview_eeg_text = questionaire['interview_EEG'].to_json()\n",
    "\n",
    "stopwords = STOPWORDS # extend by domaine specific words if necessary\n",
    "\n"
   ]
  },
  {
   "cell_type": "code",
   "execution_count": 460,
   "metadata": {},
   "outputs": [
    {
     "data": {
      "text/plain": [
       "<wordcloud.wordcloud.WordCloud at 0x17df39aecb0>"
      ]
     },
     "execution_count": 460,
     "metadata": {},
     "output_type": "execute_result"
    }
   ],
   "source": [
    "wc_formate = WordCloud(background_color='black', max_words=500, width=3000,\n",
    "                    height=1500, stopwords=stopwords, min_font_size=2,\n",
    "                    contour_width=3, contour_color='white')\n",
    "\n",
    "wc_formate.generate(interview_random_text)\n",
    "wc_formate.to_file((d+\"results/wordcloud_random.png\"))\n",
    "\n",
    "wc_formate.generate(interview_eeg_text)\n",
    "wc_formate.to_file((d+\"results/wordcloud_eeg.png\"))\n"
   ]
  },
  {
   "attachments": {},
   "cell_type": "markdown",
   "metadata": {},
   "source": [
    "# 4. Sentiment Analysis"
   ]
  },
  {
   "cell_type": "code",
   "execution_count": 463,
   "metadata": {},
   "outputs": [
    {
     "name": "stdout",
     "output_type": "stream",
     "text": [
      "{'neg': 0.049, 'neu': 0.809, 'pos': 0.142, 'compound': 0.9846}\n",
      "{'neg': 0.104, 'neu': 0.735, 'pos': 0.161, 'compound': 0.9879}\n"
     ]
    }
   ],
   "source": [
    "# for whole text\n",
    "\n",
    "analyzer=SentimentIntensityAnalyzer()  \n",
    "\n",
    "print(analyzer.polarity_scores(interview_random_text))\n",
    "print(analyzer.polarity_scores(interview_eeg_text))\n",
    "\n"
   ]
  },
  {
   "cell_type": "code",
   "execution_count": null,
   "metadata": {},
   "outputs": [],
   "source": []
  }
 ],
 "metadata": {
  "kernelspec": {
   "display_name": "Python 3",
   "language": "python",
   "name": "python3"
  },
  "language_info": {
   "codemirror_mode": {
    "name": "ipython",
    "version": 3
   },
   "file_extension": ".py",
   "mimetype": "text/x-python",
   "name": "python",
   "nbconvert_exporter": "python",
   "pygments_lexer": "ipython3",
   "version": "3.10.7"
  },
  "orig_nbformat": 4,
  "vscode": {
   "interpreter": {
    "hash": "3c8b1dbe8e2868d4c1ba5519ab4ebf16602ee2921cdd29268d4bb1c20ff3ce8a"
   }
  }
 },
 "nbformat": 4,
 "nbformat_minor": 2
}
