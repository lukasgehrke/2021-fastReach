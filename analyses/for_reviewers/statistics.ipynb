{
 "cells": [
  {
   "attachments": {},
   "cell_type": "markdown",
   "metadata": {},
   "source": [
    "# Preparing Data"
   ]
  },
  {
   "attachments": {},
   "cell_type": "markdown",
   "metadata": {},
   "source": [
    "## General\n"
   ]
  },
  {
   "cell_type": "code",
   "execution_count": null,
   "metadata": {},
   "outputs": [],
   "source": [
    "import pandas as pd\n",
    "import seaborn as sns\n",
    "from scipy import stats\n",
    "import seaborn as sns\n",
    "import matplotlib.pyplot as plt\n",
    "import numpy as np\n",
    "\n",
    "import pymer4 as pymer4\n",
    "from statannot import add_stat_annotation"
   ]
  },
  {
   "cell_type": "code",
   "execution_count": null,
   "metadata": {},
   "outputs": [],
   "source": [
    "p = 'data/'"
   ]
  },
  {
   "attachments": {},
   "cell_type": "markdown",
   "metadata": {},
   "source": [
    "# Temporal Binding\n"
   ]
  },
  {
   "attachments": {},
   "cell_type": "markdown",
   "metadata": {},
   "source": [
    "\n",
    "## prep\n",
    "### load data"
   ]
  },
  {
   "cell_type": "code",
   "execution_count": null,
   "metadata": {},
   "outputs": [],
   "source": [
    "# load data\n",
    "behavior_raw = pd.read_csv( p + 'PI_results_design.csv')\n",
    "# set data types\n",
    "behavior_raw[['ed','rt']] = behavior_raw[['ed','rt']].apply(pd.to_numeric, axis=1)\n",
    "behavior_raw['rd'] = behavior_raw['rd'].astype(\"string\")  # needs to be string before category for R conversion\n",
    "behavior_raw[['rd','condition']] = behavior_raw[['rd','condition']].astype(\"category\")\n",
    "\n",
    "# delete VP 18 (did not follow instructions in block 3)\n",
    "behavior_raw =  behavior_raw.loc[behavior_raw[\"id\"] !=18]"
   ]
  },
  {
   "cell_type": "markdown",
   "metadata": {},
   "source": [
    "### check raw data (rection times and estimated times)\n"
   ]
  },
  {
   "cell_type": "code",
   "execution_count": null,
   "metadata": {},
   "outputs": [],
   "source": [
    "fig, ax = plt.subplots()\n",
    "hist = sns.histplot(behavior_raw, x = 'rt',ax =ax, hue = 'id')\n",
    "#ax.set_xlim(0,5) # remove outliers for visualization\n",
    "\n",
    "fig, ax = plt.subplots()\n",
    "hist = sns.histplot(behavior_raw, x = 'ed',ax =ax, hue = 'id')\n",
    "\n",
    "fig, ax = plt.subplots()\n",
    "hist = sns.histplot(behavior_raw, x = 'delta_tap_ems',ax =ax, hue = 'id')\n",
    "ax.set_xlim(0,5) # remove outliers for visualization"
   ]
  },
  {
   "cell_type": "markdown",
   "metadata": {},
   "source": [
    "### clean data"
   ]
  },
  {
   "cell_type": "code",
   "execution_count": null,
   "metadata": {},
   "outputs": [],
   "source": [
    "# removes outliers trials that have outliers either in rt or ed\n",
    "cols = ['rt', 'ed', 'delta_tap_ems'] # relevant cols\n",
    "\n",
    "# calculate quantiles and IQR\n",
    "Q1 = behavior_raw[cols].quantile(0.25) # Same as np.percentile but maps (0,1) and not (0,100)\n",
    "Q3 = behavior_raw[cols].quantile(0.75)\n",
    "IQR = Q3 - Q1\n",
    "\n",
    "# return a boolean array of the rows with (any) non-outlier column values\n",
    "condition = ~((behavior_raw[cols] < (Q1 - 3 * IQR)) | (behavior_raw[cols] > (Q3 + 3 * IQR))).any(axis=1)\n",
    "\n",
    "# filter our dataframe based on condition\n",
    "behavior = behavior_raw[condition]\n",
    "behavior_del = behavior_raw[-condition]"
   ]
  },
  {
   "cell_type": "code",
   "execution_count": null,
   "metadata": {},
   "outputs": [],
   "source": [
    "# check outlier removel\n",
    "\n",
    "#count deleted trials\n",
    "print('Deleted trials:',len(behavior_del))\n",
    "\n",
    "#per pID\n",
    "print('Deleted trials per pID')\n",
    "print(behavior_del['id'].value_counts())\n",
    "\n",
    "print('mean')\n",
    "print(behavior_del['id'].value_counts().mean())\n",
    "print('sd')\n",
    "print(behavior_del['id'].value_counts().std())\n",
    "\n",
    "#per condition\n",
    "print('Deleted trials per condition')\n",
    "print(behavior_del['condition'].value_counts())\n",
    "print('mean')\n",
    "print(behavior_del['condition'].value_counts().mean())\n",
    "print('sd')\n",
    "print(behavior_del['condition'].value_counts().std())\n",
    "\n",
    "print(len(behavior))"
   ]
  },
  {
   "cell_type": "code",
   "execution_count": null,
   "metadata": {},
   "outputs": [],
   "source": [
    "#check cleaned data\n",
    "\n",
    "fig, ax = plt.subplots()\n",
    "hist = sns.histplot(behavior, x = 'rt',ax =ax, hue = 'id')\n",
    "#ax.set_xlim(0,5) # remove outliers for visualization\n",
    "\n",
    "fig, ax = plt.subplots()\n",
    "hist = sns.histplot(behavior, x = 'ed',ax =ax, hue = 'id')\n",
    "\n",
    "fig, ax = plt.subplots()\n",
    "hist = sns.histplot(behavior, x = 'delta_tap_ems',ax =ax, hue = 'id')\n"
   ]
  },
  {
   "cell_type": "markdown",
   "metadata": {},
   "source": [
    "## plot\n",
    "### prep plot"
   ]
  },
  {
   "cell_type": "code",
   "execution_count": null,
   "metadata": {},
   "outputs": [],
   "source": [
    "# with stimulation condition + time condition+ rd as y\n",
    "behavior[['rd']] = behavior[['rd']].apply(pd.to_numeric, axis=1)\n",
    "behavior[['ed']] = behavior[['ed']].apply(pd.to_numeric, axis=1)\n",
    "# diff = ed - 350 because 350 is the mean of the different time intervals; maybe add *-1  to adapt direction of the plot\n",
    "behavior[\"diff\"]= behavior['ed']\n",
    "behavior[['rd']] = behavior[['rd']].astype(\"category\")\n",
    "\n",
    "behavior_means = behavior.groupby(['id','condition'],as_index=False)['diff'].mean()\n",
    "\n",
    "palette = ['#576683', '#E4f392', '#337775']\n",
    "cats= ['baseline','ems_random','ems_bci'] \n",
    "ylabel = 'ed -350'\n",
    "xlabel = 'condition'\n",
    "title = 'temporal_binding'\n",
    "data = behavior\n",
    "data_means = behavior_means\n",
    "y = 'diff'\n",
    "x = \"condition\"\n",
    "hue = \"id\"\n",
    "hue2 = 'rd'"
   ]
  },
  {
   "cell_type": "markdown",
   "metadata": {},
   "source": [
    "### plot"
   ]
  },
  {
   "cell_type": "code",
   "execution_count": null,
   "metadata": {},
   "outputs": [],
   "source": [
    "# runs plot but needs post processing in affinty desiger\n",
    "cats_0 = data[data[x]==cats[0]]\n",
    "cats_1 = data[data[x]==cats[1]]\n",
    "cats_2 = data[data[x]==cats[2]]\n",
    "\n",
    "pairs = [(cats[0], cats[1],cats[2])]\n",
    "\n",
    "with sns.plotting_context('paper', font_scale = 1.8):\n",
    "\n",
    "    ### Create new plot\n",
    "    fig, ax = plt.subplots(1, 1, figsize=(4,4))\n",
    "    fig.patch.set_alpha(1)\n",
    "\n",
    "    sns.despine() #bottom=True, left=True\n",
    "\n",
    "        # show boxplots\n",
    "    ax = sns.boxplot(data = data,x = x, y = y,  order= ['baseline','ems_random','ems_bci'] ,  palette= palette )\n",
    "    for patch in ax.patches: # adapt alpha\n",
    "            r, g, b, a = patch.get_facecolor()\n",
    "            patch.set_facecolor((r, g, b, .9))\n",
    "\n",
    "    # show line connecting means\n",
    "    ax =  sns.pointplot(data = data,x = x, y = y, markers=\"s\" ,color = 'black', order = cats)\n",
    "    \n",
    "     #  show lines connecting pid means observations    \n",
    "    ax = sns.lineplot(data = data_means, x = x, y = y,hue = hue, palette = sns.color_palette(['black'],8),legend = False,alpha=0.4)\n",
    "    \n",
    "    ax = sns.scatterplot(data=data_means, x=x, y=y,s=10, legend= True, marker=\"s\",color = 'black',edgecolor = 'black',alpha=0.4)\n",
    "        \n",
    "    # ax.invert_yaxis()\n",
    "    # add_stat_annotation(ax, data=data_means, x=x, y=y, box_pairs=[(\"baseline\", \"ems_random\"), (\"baseline\", \"ems_bci\"), ('ems_random', 'ems_bci')], test='t-test_paired', text_format='star', loc='outside', verbose=2)\n",
    "\n",
    "    handles, labels = ax.get_legend_handles_labels()  \n",
    "    \n",
    "    #plt.legend(handles[3:6],labels[3:6],frameon=True,loc = 'upper left',labelspacing =0.3)\n",
    "    \n",
    "    # label_plot_for_subcats(ax)\n",
    "    ax.set_title(title)\n",
    "    ax.set_ylabel(ylabel)\n",
    "    ax.set_xlabel(xlabel)\n",
    "    \n",
    "    plt.show()\n",
    "\n",
    "fig.savefig('results/'+title + '_'+'.eps', format='eps', transparent=True, bbox_inches='tight', dpi=300)\n",
    "fig.savefig('results/'+title + '_'+'.svg', format='svg', transparent=True, bbox_inches='tight', dpi=300)\n",
    "fig.savefig('results/'+title + '_' +'.png', format='png', transparent=True, bbox_inches='tight', dpi=300)"
   ]
  },
  {
   "attachments": {},
   "cell_type": "markdown",
   "metadata": {},
   "source": [
    "## anaysis\n"
   ]
  },
  {
   "cell_type": "markdown",
   "metadata": {},
   "source": [
    "### descriptive"
   ]
  },
  {
   "cell_type": "code",
   "execution_count": null,
   "metadata": {},
   "outputs": [],
   "source": [
    "print(behavior.groupby('condition')['ed'].agg(['mean','std']))"
   ]
  },
  {
   "cell_type": "markdown",
   "metadata": {},
   "source": [
    "### LMM"
   ]
  },
  {
   "attachments": {},
   "cell_type": "markdown",
   "metadata": {},
   "source": [
    "#### prep\n",
    "- switched from rpy2 to pymer4, because it is less annoying with importing / exporting from python to R\n",
    "- not sure if of this is still necessary, but since pymer4 is based on rpy2, this might be the case"
   ]
  },
  {
   "cell_type": "code",
   "execution_count": null,
   "metadata": {},
   "outputs": [],
   "source": [
    "# packnames = ('lme4', 'lmerTest', 'emmeans', 'geepack', 'sjPlot')\n",
    "# from rpy2.robjects.packages import importr\n",
    "# from rpy2.robjects.vectors import StrVector\n",
    "# utils = importr(\"utils\")\n",
    "# utils.chooseCRANmirror(ind=1)"
   ]
  },
  {
   "cell_type": "code",
   "execution_count": null,
   "metadata": {},
   "outputs": [],
   "source": [
    "# packnames = ('lme4', 'lmerTest', 'emmeans', 'geepack', 'sjPlot', 'Matrix')\n",
    "# from rpy2.robjects.vectors import StrVector\n",
    "# utils.install_packages(StrVector(packnames))"
   ]
  },
  {
   "cell_type": "markdown",
   "metadata": {},
   "source": [
    "#### built models"
   ]
  },
  {
   "cell_type": "code",
   "execution_count": null,
   "metadata": {},
   "outputs": [],
   "source": [
    "from pymer4.models import Lmer"
   ]
  },
  {
   "cell_type": "code",
   "execution_count": null,
   "metadata": {},
   "outputs": [],
   "source": [
    "# full model\n",
    "full_model = Lmer(\"diff ~ condition + (condition|id)\", data = behavior)\n",
    "display(full_model.fit(REML = False, factors={\"condition\": [\"baseline\", \"ems_random\", \"ems_bci\"]}))\n",
    "# full_model.plot_summary()"
   ]
  },
  {
   "attachments": {},
   "cell_type": "markdown",
   "metadata": {},
   "source": [
    "\n",
    "#### define null models"
   ]
  },
  {
   "cell_type": "code",
   "execution_count": null,
   "metadata": {},
   "outputs": [],
   "source": [
    "# null model without stimulation condition \n",
    "null_model = Lmer(\"diff ~ (condition|id)\", data = behavior)\n",
    "null_model.fit(REML = False, summarize=False)"
   ]
  },
  {
   "attachments": {},
   "cell_type": "markdown",
   "metadata": {},
   "source": [
    "#### likelihood ratio tests"
   ]
  },
  {
   "attachments": {},
   "cell_type": "markdown",
   "metadata": {},
   "source": [
    "stimulation condition"
   ]
  },
  {
   "cell_type": "code",
   "execution_count": null,
   "metadata": {},
   "outputs": [],
   "source": [
    "pymer4.stats.lrt([null_model,full_model])"
   ]
  },
  {
   "attachments": {},
   "cell_type": "markdown",
   "metadata": {},
   "source": [
    "#### post hoc test"
   ]
  },
  {
   "cell_type": "code",
   "execution_count": null,
   "metadata": {},
   "outputs": [],
   "source": [
    "# post hoc test condition\n",
    "marginal_estimates, comparisons = full_model.post_hoc(\n",
    "    marginal_vars=\"condition\", p_adjust = \"bonf\")\n",
    "print(comparisons)"
   ]
  },
  {
   "attachments": {},
   "cell_type": "markdown",
   "metadata": {},
   "source": [
    "# 3. subjective data\n",
    "\n"
   ]
  },
  {
   "cell_type": "code",
   "execution_count": null,
   "metadata": {},
   "outputs": [],
   "source": [
    "questionaire = pd.read_excel(p + 'questionaire.xlsx') \n",
    "\n",
    "good_pid = ['12', '14', '15', '16', '17', '19', '20', '21', '22', '23']\n",
    "questionaire['pID'] = questionaire['pID'].astype(str)\n",
    "questionaire = questionaire.loc[questionaire['pID'].isin(good_pid)]\n",
    "questionaire_long = questionaire.melt(id_vars= ['pID'],value_vars=['baseline','passive','agency'])"
   ]
  },
  {
   "attachments": {},
   "cell_type": "markdown",
   "metadata": {},
   "source": [
    "### plot control"
   ]
  },
  {
   "cell_type": "code",
   "execution_count": null,
   "metadata": {},
   "outputs": [],
   "source": [
    "palette = ['#576683', '#E4f392', '#337775']\n",
    "cats= ['item_baseline', 'item_passive', 'item_agency']\n",
    "ylabel = 'level of control'\n",
    "xlabel = 'condition'\n",
    "title = 'subjective control rating'\n",
    "data = questionaire_long\n",
    "y = 'value'\n",
    "x = 'variable'\n",
    "hue = 'pID'"
   ]
  },
  {
   "cell_type": "code",
   "execution_count": null,
   "metadata": {},
   "outputs": [],
   "source": [
    "with sns.plotting_context('paper', font_scale = 1.8):\n",
    "\n",
    "        ### Create new plot\n",
    "        fig, ax = plt.subplots(1, 1, figsize=(4,4))\n",
    "        fig.patch.set_alpha(1)\n",
    "\n",
    "        sns.despine() #bottom=True, left=True\n",
    "         # show boxplots\n",
    "        ax = sns.boxplot(data = data, x = x, y = y,  palette= palette)\n",
    "        for patch in ax.patches: # adapt alpha\n",
    "             r, g, b, a = patch.get_facecolor()\n",
    "             patch.set_facecolor((r, g, b, .9))\n",
    "\n",
    "                   \n",
    "        # show line connecting means\n",
    "        sns.pointplot(\n",
    "            data = data,x = x, y = y, markers=\"s\", color = 'black')\n",
    "        \n",
    "        # pId means\n",
    "        \n",
    "        ax = sns.lineplot(data = data, x = x, y = y,hue = hue, palette = sns.color_palette(['black'],8),legend = False,alpha=0.4)\n",
    "    \n",
    "        ax = sns.scatterplot(data=data, x=x, y=y,s=10, legend= True, marker=\"s\",color = 'black',edgecolor = 'black',alpha=0.4)\n",
    "\n",
    "        #sns.scatterplot(data = data,x = x, y = y, markers=\"^\",color = 'black')\n",
    "        # add_stat_annotation(ax, data=data, x=x, y=y, box_pairs=[(\"baseline\", \"passive\"), (\"baseline\", \"agency\"), ('passive', 'agency')], test='t-test_ind', text_format='star', loc='outside', verbose=2)\n",
    "        \n",
    "        # Label and show\n",
    "        # label_plot_for_subcats(ax)\n",
    "        ax.set_title(title)\n",
    "        ax.set_ylabel(ylabel)\n",
    "        ax.set_xlabel(xlabel)\n",
    "\n",
    "        plt.show()\n",
    "        fig.savefig('results/'+title + '_' +'.svg', format='svg', transparent=True, bbox_inches='tight', dpi=300)\n",
    "        fig.savefig('results/'+title + '_' +'.png', format='png', transparent=True, bbox_inches='tight', dpi=300)\n",
    "        fig.savefig('results/'+title + '_'+'.eps', format='eps', transparent=True, bbox_inches='tight', dpi=300)"
   ]
  },
  {
   "cell_type": "markdown",
   "metadata": {},
   "source": [
    "#### LME\n"
   ]
  },
  {
   "cell_type": "code",
   "execution_count": null,
   "metadata": {},
   "outputs": [],
   "source": [
    "#full model\n",
    "full_model = Lmer('value ~ variable + (1|pID)', data = questionaire_long)\n",
    "display(full_model.fit(REML = False,factors={\"variable\": [\"baseline\", \"passive\", \"agency\"]}))"
   ]
  },
  {
   "cell_type": "code",
   "execution_count": null,
   "metadata": {},
   "outputs": [],
   "source": [
    "#null model\n",
    "null_model = Lmer('value ~ (1|pID)', data = questionaire_long)\n",
    "null_model.fit(REML = False, summarize=False)"
   ]
  },
  {
   "cell_type": "code",
   "execution_count": null,
   "metadata": {},
   "outputs": [],
   "source": [
    "# liklyhood ratio test\n",
    "pymer4.stats.lrt([null_model,full_model])"
   ]
  },
  {
   "cell_type": "code",
   "execution_count": null,
   "metadata": {},
   "outputs": [],
   "source": [
    "# post hoc test condition\n",
    "marginal_estimates, comparisons = full_model.post_hoc(\n",
    "    marginal_vars=\"variable\",p_adjust = \"bonf\")\n",
    "\n",
    "print(comparisons)"
   ]
  },
  {
   "cell_type": "code",
   "execution_count": null,
   "metadata": {},
   "outputs": [],
   "source": [
    "# participants\n",
    "print(questionaire.age.mean())\n",
    "print(questionaire.age.std())"
   ]
  },
  {
   "cell_type": "markdown",
   "metadata": {},
   "source": [
    "# Plot EEG"
   ]
  },
  {
   "cell_type": "code",
   "execution_count": null,
   "metadata": {},
   "outputs": [],
   "source": [
    "slope = pd.read_csv( p + 'PI_results_design_slope_processed.csv')\n",
    "#data cleaning happend somewhere else"
   ]
  },
  {
   "cell_type": "code",
   "execution_count": null,
   "metadata": {},
   "outputs": [],
   "source": [
    "palette = ['#576683', '#337775']\n",
    "cats= ['idle', 'pre_move']\n",
    "ylabel = 'slope'\n",
    "xlabel = 'condition'\n",
    "title = 'slope'\n",
    "data = slope\n",
    "y = 'slopes'\n",
    "x = 'condition'\n",
    "hue = 'id'"
   ]
  },
  {
   "cell_type": "code",
   "execution_count": null,
   "metadata": {},
   "outputs": [],
   "source": [
    "# plot a box plot of the slope values by condition\n",
    "#slope.boxplot(column=['slopes'], by=['condition'], figsize=(12,8))\n",
    "\n",
    "with sns.plotting_context('paper', font_scale = 1.8):\n",
    "\n",
    "        ### Create new plot\n",
    "        fig, ax = plt.subplots(1, 1, figsize=(3,4))\n",
    "        fig.patch.set_alpha(1)\n",
    "\n",
    "        sns.despine() #bottom=True, left=True\n",
    "         # show boxplots\n",
    "        ax = sns.boxplot(data = data, x = x, y = y,  palette= palette)\n",
    "        for patch in ax.patches: # adapt alpha\n",
    "             r, g, b, a = patch.get_facecolor()\n",
    "             patch.set_facecolor((r, g, b, .9))\n",
    "\n",
    "                   \n",
    "        # show line connecting means\n",
    "        sns.pointplot(data = data,x = x, y = y, markers=\"s\" ,color = 'black')\n",
    "        \n",
    "        # pId means\n",
    "        \n",
    "        ax = sns.lineplot(data = data, x = x, y = y,hue = hue, palette = sns.color_palette(['black'],8),legend = False,alpha=0.4)\n",
    "    \n",
    "        ax = sns.scatterplot(data=data, x=x, y=y,s=10, legend= True, marker=\"s\",color = 'black',edgecolor = 'black',alpha=0.4)\n",
    "\n",
    "        #sns.scatterplot(data = data,x = x, y = y, markers=\"^\",color = 'black')\n",
    "\n",
    "        plt.gca().invert_yaxis()\n",
    "\n",
    "        # add statannotation for the pair 'idle' and 'pre_move'\n",
    "        add_stat_annotation(ax, data=data, x=x, y=y, box_pairs=[(\"idle\", \"pre_move\")], test='t-test_ind', text_format='star', loc='outside', verbose=2)\n",
    "        \n",
    "\n",
    "        # Label and show\n",
    "        # label_plot_for_subcats(ax)\n",
    "        # ax.set_title(title)\n",
    "        ax.set_ylabel(ylabel)\n",
    "        ax.set_xlabel(xlabel)\n",
    "\n",
    "      \n",
    "\n",
    "        plt.show()\n",
    "        fig.savefig('results/'+title + '_' +'.svg', format='svg', transparent=True, bbox_inches='tight', dpi=300)\n",
    "        fig.savefig('results/'+title + '_' +'.eps', format='eps', transparent=True, bbox_inches='tight', dpi=300)\n",
    "        fig.savefig('results/'+title + '_' +'.png', format='png', transparent=True, bbox_inches='tight', dpi=300)"
   ]
  },
  {
   "cell_type": "code",
   "execution_count": null,
   "metadata": {},
   "outputs": [],
   "source": [
    "stats.ttest_ind(slope['slopes'][slope['condition'] == 'idle'], slope['slopes'][slope['condition'] == 'pre_move'])"
   ]
  }
 ],
 "metadata": {
  "kernelspec": {
   "display_name": "Python 3",
   "language": "python",
   "name": "python3"
  },
  "language_info": {
   "codemirror_mode": {
    "name": "ipython",
    "version": 3
   },
   "file_extension": ".py",
   "mimetype": "text/x-python",
   "name": "python",
   "nbconvert_exporter": "python",
   "pygments_lexer": "ipython3",
   "version": "3.9.18"
  },
  "orig_nbformat": 4,
  "vscode": {
   "interpreter": {
    "hash": "3c8b1dbe8e2868d4c1ba5519ab4ebf16602ee2921cdd29268d4bb1c20ff3ce8a"
   }
  }
 },
 "nbformat": 4,
 "nbformat_minor": 2
}
