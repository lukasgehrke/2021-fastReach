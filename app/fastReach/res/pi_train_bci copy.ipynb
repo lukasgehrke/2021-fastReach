{
 "cells": [
  {
   "cell_type": "code",
   "execution_count": 1,
   "metadata": {},
   "outputs": [],
   "source": [
    "pID = 6\n",
    "pID = 'sub-' + \"%03d\" % (pID)"
   ]
  },
  {
   "cell_type": "code",
   "execution_count": 2,
   "metadata": {},
   "outputs": [],
   "source": [
    "import os\n",
    "\n",
    "import pandas as pd\n",
    "import numpy as np\n",
    "\n",
    "from sklearn.discriminant_analysis import LinearDiscriminantAnalysis as LDA\n",
    "from sklearn.discriminant_analysis import QuadraticDiscriminantAnalysis as QDA\n",
    "from sklearn.ensemble import RandomForestClassifier as RFC\n",
    "from sklearn.ensemble import AdaBoostClassifier as ABC\n",
    "\n",
    "from sklearn.model_selection import cross_val_score, KFold\n",
    "\n",
    "import pickle, json, os\n",
    "import scipy.io\n",
    "from bci_funcs import windowed_mean, base_correct, select_mean, slope\n",
    "\n",
    "path = '/Volumes/Lukas_Gehrke/fastReach/data/eeglab2python'"
   ]
  },
  {
   "attachments": {},
   "cell_type": "markdown",
   "metadata": {},
   "source": [
    "# Preconscious Augmentation\n",
    "\n",
    "This script trains the classifier for a brain-computer interface that controls electrical muscle stimulation in the preconscious augmentation experiment.\n",
    "The functions used to build the feature vectors are the same that are used for the online application and are found in 'bci_funcs'\n",
    "\n",
    "A two class linear discriminant model is fitted to idle and pre-movement EEG training data. The model and a channel selection is saved."
   ]
  },
  {
   "cell_type": "code",
   "execution_count": 3,
   "metadata": {},
   "outputs": [],
   "source": [
    "# load data\n",
    "pre_move = scipy.io.loadmat(path+os.sep+pID+os.sep+'pre_move_Baseline.mat')\n",
    "idle = scipy.io.loadmat(path+os.sep+pID+os.sep+'idle_Baseline.mat')\n",
    "all_idle = idle['idle']\n",
    "all_pre_move = pre_move['pre_move']"
   ]
  },
  {
   "cell_type": "markdown",
   "metadata": {},
   "source": [
    "## Select Best Channels by Slope"
   ]
  },
  {
   "cell_type": "code",
   "execution_count": 4,
   "metadata": {},
   "outputs": [],
   "source": [
    "# slope_idle = np.zeros((idle.shape[2], idle.shape[0]))\n",
    "# slope_pre_move = np.zeros((pre_move.shape[2], pre_move.shape[0]))\n",
    "\n",
    "# for trial_ix in range(0, pre_move.shape[2]):\n",
    "#     slope_pre_move[trial_ix, :] = slope(pre_move[:,:,trial_ix], 'linear').flatten()\n",
    "\n",
    "# for trial_ix in range(0, idle.shape[2]):\n",
    "#     slope_idle[trial_ix, :] = slope(idle[:,:,trial_ix], 'linear').flatten()\n",
    "\n",
    "# crit1 = pd.DataFrame(slope_pre_move.mean(axis=0)).sort_values(by=0, ascending=False)\n",
    "# crit1['chans'] = crit1.index\n",
    "# crit1['crit1_ranks'] = crit1.reset_index().index\n",
    "# crit1.sort_values(by='chans', inplace=True)\n",
    "\n",
    "# crit2 = pd.DataFrame(slope_idle.mean(axis=0)).sort_values(by=0, ascending=True)\n",
    "# crit2['chans'] = crit2.index\n",
    "# crit2['crit2_ranks'] = crit2.reset_index().index\n",
    "# crit2.sort_values(by='chans', inplace=True)\n",
    "\n",
    "# crits = pd.concat([crit1.chans, crit1.crit1_ranks, crit2.crit2_ranks], axis=1)\n",
    "# crits['mean_ranks'] = crits[['crit1_ranks', 'crit2_ranks']].mean(axis=1)\n",
    "# crits.sort_values(by='mean_ranks', inplace=True)\n",
    "# chans = crits.chans.values\n",
    "\n",
    "# chans = chans[:nr_chans]\n",
    "# chan_names.Var1[chans]"
   ]
  },
  {
   "cell_type": "markdown",
   "metadata": {},
   "source": [
    "## Compute Features"
   ]
  },
  {
   "cell_type": "code",
   "execution_count": 5,
   "metadata": {},
   "outputs": [],
   "source": [
    "# data = slope\n",
    "\n",
    "# data_to_plot = pd.DataFrame(data)\n",
    "# data_to_plot['class'] = classes\n",
    "# data_to_plot = data_to_plot.melt(id_vars = 'class', value_name = 'amplitude')\n",
    "\n",
    "# import seaborn as sns\n",
    "# import matplotlib.pyplot as plt\n",
    "\n",
    "# sns.set_theme(style=\"ticks\")\n",
    "# sns.displot(x=\"amplitude\", hue=\"class\", data=data_to_plot, kde=True, fill=True, stat=\"density\")\n"
   ]
  },
  {
   "cell_type": "code",
   "execution_count": 6,
   "metadata": {},
   "outputs": [],
   "source": [
    "# from lazypredict.Supervised import LazyClassifier\n",
    "# from sklearn.model_selection import train_test_split\n",
    "\n",
    "# for i in range(1, 10):\n",
    "#     X_train, X_test, y_train, y_test = train_test_split(np.asarray(data), classes, test_size=.1)#,random_state =123)\n",
    "\n",
    "#     clf = LazyClassifier(verbose=0,ignore_warnings=True, custom_metric=None)\n",
    "#     models,predictions = clf.fit(X_train, X_test, y_train, y_test)\n",
    "#     print(models)"
   ]
  },
  {
   "cell_type": "markdown",
   "metadata": {},
   "source": [
    "# Compute Features & Model fitting"
   ]
  },
  {
   "cell_type": "code",
   "execution_count": 7,
   "metadata": {},
   "outputs": [
    {
     "name": "stdout",
     "output_type": "stream",
     "text": [
      "2 channels\n",
      "LDA accuracy: 0.6 +/- 0.07536891516255931\n",
      "4 channels\n",
      "LDA accuracy: 0.5999999999999999 +/- 0.0670599837467796\n",
      "6 channels\n",
      "LDA accuracy: 0.6846153846153846 +/- 0.05102499677469847\n",
      "8 channels\n",
      "LDA accuracy: 0.7 +/- 0.02878197989826107\n",
      "10 channels\n",
      "LDA accuracy: 0.6846153846153846 +/- 0.05102499677469846\n",
      "12 channels\n",
      "LDA accuracy: 0.7076923076923076 +/- 0.057563959796522166\n",
      "14 channels\n",
      "LDA accuracy: 0.7 +/- 0.07457969011409737\n",
      "16 channels\n",
      "LDA accuracy: 0.7307692307692306 +/- 0.0344010458076891\n",
      "18 channels\n",
      "LDA accuracy: 0.7538461538461539 +/- 0.0307692307692308\n",
      "20 channels\n",
      "LDA accuracy: 0.7538461538461538 +/- 0.0307692307692308\n"
     ]
    }
   ],
   "source": [
    "nr_chans_arr = np.arange(2,21,2) # select one and then save the model\n",
    "\n",
    "data_srate = 250\n",
    "windows = 10\n",
    "baseline = data_srate/windows\n",
    "target_class = 1.0\n",
    "classifier_update_rate = 5 # samples\n",
    "\n",
    "chan_names = pd.read_csv(path+os.sep+pID+os.sep+'sel_chans_names.csv')\n",
    "all_chans = pd.read_csv(path+os.sep+pID+os.sep+'sel_chans.csv', header=None)\n",
    "\n",
    "feat = 'slope' # slope or slope_2d\n",
    "\n",
    "for nr_chans in nr_chans_arr:\n",
    "    print(str(nr_chans) + ' channels')\n",
    "\n",
    "    chans = np.squeeze(np.array(all_chans[0:nr_chans]) - 1).tolist()\n",
    "    # print(chan_names.Var1[chans])\n",
    "\n",
    "    idle = all_idle[chans, :, :]\n",
    "    pre_move = all_pre_move[chans, :, :]\n",
    "\n",
    "    if feat == 'slope':\n",
    "        idle_feat = np.zeros((idle.shape[2], idle.shape[0]))\n",
    "        pre_move_feat = np.zeros((pre_move.shape[2], pre_move.shape[0]))\n",
    "\n",
    "    elif feat == 'slope2d':\n",
    "        idle_feat = np.zeros((idle.shape[2], idle.shape[0]*2))\n",
    "        pre_move_feat = np.zeros((pre_move.shape[2], pre_move.shape[0]*2))\n",
    "\n",
    "    elif feat == 'windowed_means':\n",
    "        idle_feat = np.zeros((idle.shape[2], idle.shape[0] * (windows)))\n",
    "        pre_move_feat = np.zeros((pre_move.shape[2], pre_move.shape[0] * (windows)))\n",
    "\n",
    "    for trial_ix in range(0, pre_move.shape[2]):\n",
    "        if feat == 'slope':\n",
    "            pre_move_feat[trial_ix, :] = slope(pre_move[:,:,trial_ix], 'linear').flatten()\n",
    "        \n",
    "        elif feat == 'slope2d':\n",
    "            pre_move_feat[trial_ix, :idle.shape[0]] = slope(pre_move[:,:150,trial_ix], 'linear').flatten()\n",
    "            pre_move_feat[trial_ix, idle.shape[0]:] = slope(pre_move[:,150:,trial_ix], 'linear').flatten()\n",
    "\n",
    "        elif feat == 'windowed_means':\n",
    "            tmp = base_correct(pre_move[:,:,trial_ix], baseline-1)\n",
    "            pre_move_feat[trial_ix, :] = windowed_mean(tmp, windows).flatten()\n",
    "\n",
    "    for trial_ix in range(0, idle.shape[2]):\n",
    "        if feat == 'slope':\n",
    "            idle_feat[trial_ix, :] = slope(idle[:,:,trial_ix], 'linear').flatten()    \n",
    "        \n",
    "        elif feat == 'slope2d':\n",
    "            idle_feat[trial_ix, :idle.shape[0]] = slope(idle[:,:150,trial_ix], 'linear').flatten()\n",
    "            idle_feat[trial_ix, idle.shape[0]:] = slope(idle[:,150:,trial_ix], 'linear').flatten()\n",
    "\n",
    "        elif feat == 'windowed_means':\n",
    "            tmp = base_correct(idle[:,:,trial_ix], baseline-1)\n",
    "            idle_feat[trial_ix, :] = windowed_mean(tmp, windows).flatten()\n",
    "\n",
    "    data = np.concatenate((pre_move_feat, idle_feat), axis = 0)\n",
    "    pre_move_class = np.ones((pre_move_feat.shape[0], 1))\n",
    "    idle_class = np.zeros((idle_feat.shape[0], 1))\n",
    "    classes = np.concatenate((pre_move_class, idle_class)).ravel()\n",
    "\n",
    "    clf = LDA(solver='eigen', shrinkage='auto')\n",
    "    clf.fit(data, classes)\n",
    "    kfolds = KFold(n_splits=5, random_state=1, shuffle=True) \n",
    "    cv_results = cross_val_score(clf, data, classes, cv=kfolds)\n",
    "    print(\"LDA accuracy: \" + str(cv_results.mean()) + \" +/- \" + str(cv_results.std()))\n",
    "\n",
    "    # clf = ABC()\n",
    "    # clf.fit(data, classes)\n",
    "    # kfolds = KFold(n_splits=5, random_state=1, shuffle=True) \n",
    "    # cv_results = cross_val_score(clf, data, classes, cv=kfolds)\n",
    "    # print(\"ABC accuracy: \" + str(cv_results.mean()) + \" +/- \" + str(cv_results.std()))\n",
    "\n",
    "    # clf = QDA()\n",
    "    # clf.fit(data, classes)\n",
    "    # kfolds = KFold(n_splits=5, random_state=1, shuffle=True) \n",
    "    # cv_results = cross_val_score(clf, data, classes, cv=kfolds)\n",
    "    # print(\"QDA accuracy: \" + str(cv_results.mean()) + \" +/- \" + str(cv_results.std()))\n",
    "\n",
    "    # clf = RFC()\n",
    "    # clf.fit(data, classes)\n",
    "    # kfolds = KFold(n_splits=5, random_state=1, shuffle=True) \n",
    "    # cv_results = cross_val_score(clf, data, classes, cv=kfolds)\n",
    "    # print(\"RFC accuracy: \" + str(cv_results.mean()) + \" +/- \" + str(cv_results.std()))"
   ]
  },
  {
   "cell_type": "markdown",
   "metadata": {},
   "source": [
    "# Real-time Detection"
   ]
  },
  {
   "cell_type": "code",
   "execution_count": 29,
   "metadata": {},
   "outputs": [
    {
     "name": "stdout",
     "output_type": "stream",
     "text": [
      "23     Cz\n",
      "24     C4\n",
      "7      C3\n",
      "49    PO8\n",
      "17     O2\n",
      "52    CPz\n",
      "50     P6\n",
      "4     FT9\n",
      "18     P4\n",
      "15     O1\n",
      "Name: Var1, dtype: object\n",
      "LDA accuracy: 0.5416666666666667 +/- 0.07453559924999299\n"
     ]
    }
   ],
   "source": [
    "nr_chans = 10\n",
    "\n",
    "chans = np.squeeze(np.array(all_chans[0:nr_chans]) - 1).tolist()\n",
    "print(chan_names.Var1[chans])\n",
    "idle = all_idle[chans, :, :]\n",
    "pre_move = all_pre_move[chans, :, :]\n",
    "\n",
    "feat = 'slope'\n",
    "if feat == 'slope':\n",
    "    idle_feat = np.zeros((idle.shape[2], idle.shape[0]))\n",
    "    pre_move_feat = np.zeros((pre_move.shape[2], pre_move.shape[0]))\n",
    "\n",
    "elif feat == 'slope2d':\n",
    "    idle_feat = np.zeros((idle.shape[2], idle.shape[0]*2))\n",
    "    pre_move_feat = np.zeros((pre_move.shape[2], pre_move.shape[0]*2))\n",
    "\n",
    "elif feat == 'windowed_means':\n",
    "    idle_feat = np.zeros((idle.shape[2], idle.shape[0] * (windows)))\n",
    "    pre_move_feat = np.zeros((pre_move.shape[2], pre_move.shape[0] * (windows)))\n",
    "\n",
    "for trial_ix in range(0, pre_move.shape[2]):\n",
    "    if feat == 'slope':\n",
    "        pre_move_feat[trial_ix, :] = slope(pre_move[:,:,trial_ix], 'linear').flatten()\n",
    "    \n",
    "    elif feat == 'slope2d':\n",
    "        pre_move_feat[trial_ix, :idle.shape[0]] = slope(pre_move[:,:150,trial_ix], 'linear').flatten()\n",
    "        pre_move_feat[trial_ix, idle.shape[0]:] = slope(pre_move[:,150:,trial_ix], 'linear').flatten()\n",
    "\n",
    "    elif feat == 'windowed_means':\n",
    "        tmp = base_correct(pre_move[:,:,trial_ix], baseline-1)\n",
    "        pre_move_feat[trial_ix, :] = windowed_mean(tmp, windows).flatten()\n",
    "\n",
    "for trial_ix in range(0, idle.shape[2]):\n",
    "    if feat == 'slope':\n",
    "        idle_feat[trial_ix, :] = slope(idle[:,:,trial_ix], 'linear').flatten()    \n",
    "    \n",
    "    elif feat == 'slope2d':\n",
    "        idle_feat[trial_ix, :idle.shape[0]] = slope(idle[:,:150,trial_ix], 'linear').flatten()\n",
    "        idle_feat[trial_ix, idle.shape[0]:] = slope(idle[:,150:,trial_ix], 'linear').flatten()\n",
    "\n",
    "    elif feat == 'windowed_means':\n",
    "        tmp = base_correct(idle[:,:,trial_ix], baseline-1)\n",
    "        idle_feat[trial_ix, :] = windowed_mean(tmp, windows).flatten()\n",
    "\n",
    "data = np.concatenate((pre_move_feat, idle_feat), axis = 0)\n",
    "pre_move_class = np.ones((pre_move_feat.shape[0], 1))\n",
    "idle_class = np.zeros((idle_feat.shape[0], 1))\n",
    "classes = np.concatenate((pre_move_class, idle_class)).ravel()\n",
    "\n",
    "### COPY IN WHERE BEST CLASSIFICATION PERFORMANCE WAS ACHIEVED ###\n",
    "\n",
    "clf = LDA(solver='eigen', shrinkage='auto')\n",
    "clf.fit(data, classes)\n",
    "kfolds = KFold(n_splits=5, random_state=1, shuffle=True) \n",
    "cv_results = cross_val_score(clf, data, classes, cv=kfolds)\n",
    "print(\"LDA accuracy: \" + str(cv_results.mean()) + \" +/- \" + str(cv_results.std()))\n",
    "\n",
    "### END ###\n",
    "filename = path+os.sep+pID+os.sep+'model_'+pID+'_eeg.sav'\n",
    "pickle.dump(clf, open(filename, 'wb'))\n",
    "\n",
    "threshold = cv_results.mean()\n",
    "bci_params = dict(((k, eval(k)) for k in ('chans', 'windows', 'baseline', 'target_class', 'threshold', 'data_srate', 'classifier_update_rate')))\n",
    "with open(path+os.sep+pID+os.sep+'bci_params.json', 'w') as f:\n",
    "    json.dump(bci_params, f)"
   ]
  },
  {
   "cell_type": "code",
   "execution_count": 33,
   "metadata": {},
   "outputs": [
    {
     "data": {
      "image/png": "[encoded data removed]",
      "text/plain": [
       "<Figure size 432x288 with 1 Axes>"
      ]
     },
     "metadata": {
      "needs_background": "light"
     },
     "output_type": "display_data"
    },
    {
     "name": "stdout",
     "output_type": "stream",
     "text": [
      "Threshold value is: 0.5382078037021576\n"
     ]
    },
    {
     "data": {
      "text/plain": [
       "0.6306306306306307"
      ]
     },
     "execution_count": 33,
     "metadata": {},
     "output_type": "execute_result"
    }
   ],
   "source": [
    "# import roc_curve\n",
    "from sklearn.metrics import roc_curve, auc\n",
    "import matplotlib.pyplot as plt\n",
    "\n",
    "def plot_roc_curve(fpr, tpr):\n",
    "    plt.plot(fpr, tpr, color='orange', label='ROC')\n",
    "    plt.plot([0, 1], [0, 1], color='darkblue', linestyle='--')\n",
    "    plt.xlabel('False Positive Rate')\n",
    "    plt.ylabel('True Positive Rate')\n",
    "    plt.title('Receiver Operating Characteristic (ROC) Curve')\n",
    "    plt.legend()\n",
    "    plt.show()\n",
    "\n",
    "predictions_prob = clf.predict_proba(data)\n",
    "pred_classes = clf.predict(data)\n",
    "false_positive_rate, recall, thresholds = roc_curve(classes, predictions_prob[:,1])\n",
    "roc_auc = auc(false_positive_rate, recall)\n",
    "plot_roc_curve(false_positive_rate, recall)\n",
    "\n",
    "# optimal_idx = np.argmax(recall - false_positive_rate)\n",
    "optimal_idx = np.argmax(recall - false_positive_rate)\n",
    "optimal_threshold = thresholds[optimal_idx]\n",
    "print(\"Threshold value is:\", optimal_threshold)\n",
    "# plot_roc_curve(false_positive_rate, recall)\n",
    "\n",
    "from sklearn.metrics import f1_score\n",
    "f1_score(classes, pred_classes)"
   ]
  },
  {
   "cell_type": "code",
   "execution_count": 11,
   "metadata": {},
   "outputs": [
    {
     "name": "stdout",
     "output_type": "stream",
     "text": [
      "23     Cz\n",
      "24     C4\n",
      "7      C3\n",
      "49    PO8\n",
      "17     O2\n",
      "52    CPz\n",
      "50     P6\n",
      "4     FT9\n",
      "18     P4\n",
      "15     O1\n",
      "Name: Var1, dtype: object\n"
     ]
    }
   ],
   "source": [
    "# nr_chans = 18\n",
    "\n",
    "# Epochen beider klassen extrahieren aus matlab \n",
    "# kontinuierliche daten laden um das event herum 5s vor dem event und .5s nach dem event\n",
    "long_pre_move = scipy.io.loadmat(path+os.sep+pID+os.sep+'long_pre_move_Baseline.mat')\n",
    "long_idle = scipy.io.loadmat(path+os.sep+pID+os.sep+'long_idle_Baseline.mat')\n",
    "all_idle = long_idle['long_idle']\n",
    "all_pre_move = long_pre_move['long_pre_move']\n",
    "\n",
    "# select channels\n",
    "chans = np.squeeze(np.array(all_chans[0:nr_chans]) - 1).tolist()\n",
    "print(chan_names.Var1[chans])\n",
    "\n",
    "idle = all_idle[chans, :, :]\n",
    "pre_move = all_pre_move[chans, :, :]\n",
    "\n",
    "# moving window applying classifier\n",
    "# TODO check where the windows in time actually are\n",
    "target_class = 1\n",
    "window_size = 250\n",
    "probs_idle = np.zeros((idle.shape[2], idle.shape[1] - window_size + 1))\n",
    "probs_pre_move = np.zeros((pre_move.shape[2], pre_move.shape[1] - window_size + 1))\n",
    "\n",
    "for i in range(idle.shape[2]):\n",
    "    for j in range(idle.shape[1] - window_size + 1):\n",
    "        idle_windowed = idle[:,j:j+window_size,i]\n",
    "        feats = slope(idle_windowed, 'linear').flatten().reshape(1,-1)\n",
    "        probs_idle[i,j] = clf.predict_proba(feats)[0][int(target_class)]\n",
    "        # probs_idle[i,j] = clf.transform(feats)[0][0]\n",
    "\n",
    "for i in range(pre_move.shape[2]):\n",
    "    for j in range(pre_move.shape[1] - window_size + 1):\n",
    "        pre_move_windowed = pre_move[:,j:j+window_size,i]\n",
    "        feats = slope(pre_move_windowed, 'linear').flatten().reshape(1,-1)\n",
    "        probs_pre_move[i,j] = clf.predict_proba(feats)[0][int(target_class)]\n",
    "        # probs_pre_move[i,j] = clf.transform(feats)[0][0]"
   ]
  },
  {
   "cell_type": "code",
   "execution_count": 12,
   "metadata": {},
   "outputs": [
    {
     "data": {
      "text/plain": [
       "[<matplotlib.lines.Line2D at 0x176b72670>]"
      ]
     },
     "execution_count": 12,
     "metadata": {},
     "output_type": "execute_result"
    },
    {
     "data": {
      "image/png": "[encoded data removed]",
      "text/plain": [
       "<Figure size 432x288 with 1 Axes>"
      ]
     },
     "metadata": {
      "needs_background": "light"
     },
     "output_type": "display_data"
    }
   ],
   "source": [
    "# plot mean curve of probs_idle using seaborn\n",
    "import seaborn as sns\n",
    "\n",
    "# with sns.plotting_context('paper', font_scale = 1.8):\n",
    "#     fig, ax = plt.subplots(1, 1, figsize=(9,5))\n",
    "#     fig.patch.set_alpha(1)\n",
    "#     sns.despine() #bottom=True, left=True 3\n",
    "    \n",
    "#     data_to_plot = data.groupby(['stimulation','pID']).mean().reset_index()\n",
    "#     data_to_plot.drop(columns=['pID', 'task_duration'], inplace=True)\n",
    "    \n",
    "#     data_long = pd.melt(data_to_plot, id_vars= 'stimulation', var_name='time (ms)', value_name='erp')\n",
    "#     data_long['time (ms)'] = (((1/250) * (data_long[\"time (ms)\"].str.replace(\"erp\",\"\").astype(int)))*1000) + -50\n",
    "\n",
    "#     ax = sns.lineplot(data = data_long, x = 'time (ms)', y = 'erp', hue = 'stimulation')\n",
    "#     ax.set_xlabel('Time (Hz)')\n",
    "#     ax.set_ylabel('µV')\n",
    "    \n",
    "#     for i in marker:\n",
    "#         ax.plot(i,-1.2, marker=\"s\", markersize=4, color=\"purple\")\n",
    "    \n",
    "#     plt.show()\n",
    "\n",
    "import matplotlib.pyplot as plt\n",
    "\n",
    "plt.plot(np.mean(probs_idle, axis=0))\n",
    "plt.plot(np.mean(probs_pre_move, axis=0))"
   ]
  },
  {
   "cell_type": "code",
   "execution_count": 13,
   "metadata": {},
   "outputs": [
    {
     "data": {
      "text/plain": [
       "0.347294746506698"
      ]
     },
     "execution_count": 13,
     "metadata": {},
     "output_type": "execute_result"
    }
   ],
   "source": [
    "np.percentile(np.mean(probs_idle[:,200:250], axis=1), 50)"
   ]
  },
  {
   "cell_type": "code",
   "execution_count": 14,
   "metadata": {},
   "outputs": [
    {
     "data": {
      "text/plain": [
       "0.5014547142102255"
      ]
     },
     "execution_count": 14,
     "metadata": {},
     "output_type": "execute_result"
    }
   ],
   "source": [
    "np.percentile(np.mean(probs_pre_move[:,200:250], axis=1), 50)"
   ]
  },
  {
   "cell_type": "code",
   "execution_count": 15,
   "metadata": {},
   "outputs": [
    {
     "data": {
      "text/plain": [
       "(array([ 4.,  8.,  6.,  9., 10., 11.,  6.,  9.,  7.,  5.]),\n",
       " array([0.09787878, 0.17812775, 0.25837672, 0.33862569, 0.41887465,\n",
       "        0.49912362, 0.57937259, 0.65962156, 0.73987053, 0.8201195 ,\n",
       "        0.90036847]),\n",
       " <BarContainer object of 10 artists>)"
      ]
     },
     "execution_count": 15,
     "metadata": {},
     "output_type": "execute_result"
    },
    {
     "data": {
      "image/png": "[encoded data removed]",
      "text/plain": [
       "<Figure size 432x288 with 1 Axes>"
      ]
     },
     "metadata": {
      "needs_background": "light"
     },
     "output_type": "display_data"
    }
   ],
   "source": [
    "plt.hist(np.mean(probs_idle[:,200:250], axis=1))\n",
    "plt.hist(np.mean(probs_pre_move[:,200:250], axis=1))"
   ]
  },
  {
   "cell_type": "code",
   "execution_count": 16,
   "metadata": {},
   "outputs": [],
   "source": [
    "template = np.mean(probs_pre_move, axis=0)\n",
    "corr_pre_move = np.corrcoef(template, probs_pre_move)[0][1:]\n",
    "corr_idle = np.corrcoef(template, probs_idle)[0][1:]\n",
    "\n",
    "# 50th percentile of correlation values\n",
    "corr_pre_move_thresh = np.percentile(corr_pre_move, 50)\n",
    "corr_idle_thresh = np.percentile(corr_idle, 80)"
   ]
  },
  {
   "cell_type": "code",
   "execution_count": 17,
   "metadata": {},
   "outputs": [
    {
     "data": {
      "text/plain": [
       "[<matplotlib.lines.Line2D at 0x177eb7ca0>]"
      ]
     },
     "execution_count": 17,
     "metadata": {},
     "output_type": "execute_result"
    },
    {
     "data": {
      "image/png": "[encoded data removed]",
      "text/plain": [
       "<Figure size 432x288 with 1 Axes>"
      ]
     },
     "metadata": {
      "needs_background": "light"
     },
     "output_type": "display_data"
    }
   ],
   "source": [
    "template = np.mean(probs_pre_move, axis=0)\n",
    "corr_pre_move = np.corrcoef(template, probs_pre_move)[0][1:]\n",
    "corr_idle = np.corrcoef(template, probs_idle)[0][1:]\n",
    "\n",
    "# 50th percentile of correlation values\n",
    "corr_pre_move_thresh = np.percentile(corr_pre_move, 50)\n",
    "corr_idle_thresh = np.percentile(corr_idle, 80)\n",
    "\n",
    "plt.plot(corr_pre_move, label='pre_move', color='blue')\n",
    "# draw a line at .5\n",
    "plt.plot([0, 90], [.5, .5], 'k--')\n",
    "\n",
    "plt.plot(corr_idle, label='idle', color='red')\n",
    "# draw a line at .5\n",
    "plt.plot([0, 90], [.5, .5], 'k--')"
   ]
  },
  {
   "cell_type": "code",
   "execution_count": 18,
   "metadata": {},
   "outputs": [],
   "source": [
    "# plot whole timeseries of windowed mean correlation coefficient with markers for events to determine a good threshold\n",
    "\n",
    "# testen wie es mit den tatsächlichen daten aussieht auf die nicht trainiert wurde, restreamen?\n",
    "long_pre_move = scipy.io.loadmat(path+os.sep+pID+os.sep+'long_pre_move_agency1.mat')\n",
    "long_idle = scipy.io.loadmat(path+os.sep+pID+os.sep+'long_idle_agency1.mat')\n",
    "all_idle = long_idle['long_idle']\n",
    "all_pre_move = long_pre_move['long_pre_move']"
   ]
  },
  {
   "cell_type": "code",
   "execution_count": 19,
   "metadata": {},
   "outputs": [
    {
     "name": "stdout",
     "output_type": "stream",
     "text": [
      "23     Cz\n",
      "24     C4\n",
      "7      C3\n",
      "49    PO8\n",
      "17     O2\n",
      "52    CPz\n",
      "50     P6\n",
      "4     FT9\n",
      "18     P4\n",
      "15     O1\n",
      "Name: Var1, dtype: object\n"
     ]
    }
   ],
   "source": [
    "# Epochen beider klassen extrahieren aus matlab \n",
    "# kontinuierliche daten laden um das event herum 5s vor dem event und .5s nach dem event\n",
    "\n",
    "# select channels\n",
    "chans = np.squeeze(np.array(all_chans[0:nr_chans]) - 1).tolist()\n",
    "print(chan_names.Var1[chans])\n",
    "\n",
    "idle = all_idle[chans, :, :]\n",
    "pre_move = all_pre_move[chans, :, :]\n",
    "\n",
    "# moving window applying classifier\n",
    "# TODO check where the windows in time actually are\n",
    "target_class = 1\n",
    "window_size = 250\n",
    "probs_idle = np.zeros((idle.shape[2], idle.shape[1] - window_size + 1))\n",
    "probs_pre_move = np.zeros((pre_move.shape[2], pre_move.shape[1] - window_size + 1))\n",
    "\n",
    "for i in range(idle.shape[2]):\n",
    "    for j in range(idle.shape[1] - window_size + 1):\n",
    "        idle_windowed = idle[:,j:j+window_size,i]\n",
    "        feats = slope(idle_windowed, 'linear').flatten().reshape(1,-1)\n",
    "        probs_idle[i,j] = clf.predict_proba(feats)[0][int(target_class)]\n",
    "        # probs_idle[i,j] = clf.transform(feats)[0][0]\n",
    "\n",
    "for i in range(pre_move.shape[2]):\n",
    "    for j in range(pre_move.shape[1] - window_size + 1):\n",
    "        pre_move_windowed = pre_move[:,j:j+window_size,i]\n",
    "        feats = slope(pre_move_windowed, 'linear').flatten().reshape(1,-1)\n",
    "        probs_pre_move[i,j] = clf.predict_proba(feats)[0][int(target_class)]\n",
    "        # probs_pre_move[i,j] = clf.transform(feats)[0][0]"
   ]
  },
  {
   "cell_type": "code",
   "execution_count": 20,
   "metadata": {},
   "outputs": [
    {
     "data": {
      "text/plain": [
       "[<matplotlib.lines.Line2D at 0x177f481c0>]"
      ]
     },
     "execution_count": 20,
     "metadata": {},
     "output_type": "execute_result"
    },
    {
     "data": {
      "image/png": "[encoded data removed]",
      "text/plain": [
       "<Figure size 432x288 with 1 Axes>"
      ]
     },
     "metadata": {
      "needs_background": "light"
     },
     "output_type": "display_data"
    }
   ],
   "source": [
    "plt.plot(np.mean(probs_idle, axis=0))\n",
    "plt.plot(np.mean(probs_pre_move, axis=0))"
   ]
  },
  {
   "cell_type": "code",
   "execution_count": 21,
   "metadata": {},
   "outputs": [
    {
     "data": {
      "text/plain": [
       "[<matplotlib.lines.Line2D at 0x177ee27c0>]"
      ]
     },
     "execution_count": 21,
     "metadata": {},
     "output_type": "execute_result"
    },
    {
     "data": {
      "image/png": "[encoded data removed]",
      "text/plain": [
       "<Figure size 432x288 with 1 Axes>"
      ]
     },
     "metadata": {
      "needs_background": "light"
     },
     "output_type": "display_data"
    }
   ],
   "source": [
    "template = np.mean(probs_pre_move, axis=0)\n",
    "corr_pre_move = np.corrcoef(template, probs_pre_move)[0][1:]\n",
    "corr_idle = np.corrcoef(template, probs_idle)[0][1:]\n",
    "\n",
    "# 50th percentile of correlation values\n",
    "corr_pre_move_thresh = np.percentile(corr_pre_move, 50)\n",
    "corr_idle_thresh = np.percentile(corr_idle, 80)\n",
    "\n",
    "plt.plot(corr_pre_move, label='pre_move', color='blue')\n",
    "# draw a line at .5\n",
    "plt.plot([0, 90], [.5, .5], 'k--')\n",
    "\n",
    "plt.plot(corr_idle, label='idle', color='red')\n",
    "# draw a line at .5\n",
    "plt.plot([0, 90], [.5, .5], 'k--')"
   ]
  },
  {
   "cell_type": "code",
   "execution_count": null,
   "metadata": {},
   "outputs": [],
   "source": []
  }
 ],
 "metadata": {
  "kernelspec": {
   "display_name": "Python 3",
   "language": "python",
   "name": "python3"
  },
  "language_info": {
   "codemirror_mode": {
    "name": "ipython",
    "version": 3
   },
   "file_extension": ".py",
   "mimetype": "text/x-python",
   "name": "python",
   "nbconvert_exporter": "python",
   "pygments_lexer": "ipython3",
   "version": "3.9.16"
  },
  "orig_nbformat": 4
 },
 "nbformat": 4,
 "nbformat_minor": 2
}
