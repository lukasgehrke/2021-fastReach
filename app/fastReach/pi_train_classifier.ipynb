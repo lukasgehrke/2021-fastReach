{
 "cells": [
  {
   "attachments": {},
   "cell_type": "markdown",
   "metadata": {},
   "source": [
    "# Preconscious Augmentation\n",
    "\n",
    "This script trains the classifier for a brain-computer interface that controls electrical muscle stimulation in the preconscious augmentation experiment.\n",
    "The functions used to build the feature vectors are the same that are used for the online application and are found in 'bci_funcs'\n",
    "\n",
    "A two class linear discriminant model is fitted to idle and pre-movement EEG training data. The model and a channel selection is saved.\n"
   ]
  },
  {
   "cell_type": "code",
   "execution_count": null,
   "metadata": {},
   "outputs": [],
   "source": [
    "pID = 3\n",
    "pID = 'sub-0' + \"%02d\" % (pID)"
   ]
  },
  {
   "cell_type": "code",
   "execution_count": null,
   "metadata": {},
   "outputs": [],
   "source": [
    "import pandas as pd\n",
    "import numpy as np\n",
    "import seaborn as sns\n",
    "import matplotlib.pyplot as plt\n",
    "\n",
    "from sklearn.discriminant_analysis import LinearDiscriminantAnalysis as LDA\n",
    "from sklearn.ensemble import RandomForestClassifier\n",
    "from sklearn.model_selection import cross_val_score, KFold, train_test_split\n",
    "from sklearn.metrics import accuracy_score\n",
    "\n",
    "import pickle\n",
    "import scipy.io\n",
    "from bci_funcs import windowed_mean, base_correct, drop_baseline\n",
    "import mne\n",
    "\n",
    "#path = '/Users/lukasgehrke/Documents/publications/2021-fastReach/data/study/eeglab2python/'\n",
    "# path = 'P:\\\\Lukas_Gehrke\\\\2021-fastReach\\\\data\\\\study\\\\eeglab2python\\\\'\n",
    "path = '/Volumes/projects/Lukas_Gehrke/2021-fastReach/data/study/eeglab2python/'"
   ]
  },
  {
   "attachments": {},
   "cell_type": "markdown",
   "metadata": {},
   "source": [
    "# Load Data"
   ]
  },
  {
   "cell_type": "code",
   "execution_count": null,
   "metadata": {},
   "outputs": [],
   "source": [
    "pre_move = scipy.io.loadmat(path+pID+'/pre_move.mat')\n",
    "idle = scipy.io.loadmat(path+pID+'/idle.mat')\n",
    "chans = np.array(pd.read_csv(path+pID+'/sel_chans.csv', header=None)).flatten()\n",
    "chans = chans - 1 # Matlab to python indexing\n",
    "\n",
    "filename = path+pID+'/chans_'+pID+'_eeg.sav'\n",
    "pickle.dump(chans, open(filename, 'wb'))\n",
    "\n",
    "windows = 11\n",
    "baseline_ix = 1\n",
    "\n",
    "idle = idle['idle'][chans,:,:]\n",
    "pre_move = pre_move['pre_move'][chans,:,:]\n",
    "\n",
    "idle_means = np.zeros((idle.shape[2], idle.shape[0] * (windows-baseline_ix)))\n",
    "pre_move_means = np.zeros((pre_move.shape[2], pre_move.shape[0] * (windows-baseline_ix)))\n",
    "\n",
    "for trial_ix in range(0, pre_move.shape[2]):\n",
    "    tmp = base_correct(windowed_mean(pre_move[:,:,trial_ix], windows = windows))\n",
    "    pre_move_means[trial_ix, :] = drop_baseline(tmp, baseline_ix).flatten()\n",
    "\n",
    "for trial_ix in range(0, idle.shape[2]):\n",
    "    tmp = base_correct(windowed_mean(idle[:,:,trial_ix], windows = windows))\n",
    "    idle_means[trial_ix, :] = drop_baseline(tmp, baseline_ix).flatten()\n",
    "\n",
    "data = np.concatenate((pre_move_means, idle_means), axis = 0)"
   ]
  },
  {
   "cell_type": "code",
   "execution_count": null,
   "metadata": {},
   "outputs": [],
   "source": [
    "pre_move_class = np.ones((pre_move_means.shape[0], 1))\n",
    "idle_class = np.zeros((idle_means.shape[0], 1))\n",
    "classes = np.concatenate((pre_move_class, idle_class)).ravel()"
   ]
  },
  {
   "attachments": {},
   "cell_type": "markdown",
   "metadata": {},
   "source": [
    "# Plotting ERPs and Scalp Maps"
   ]
  },
  {
   "cell_type": "code",
   "execution_count": null,
   "metadata": {},
   "outputs": [],
   "source": [
    "# save plots individual participants\n",
    "chans_names = pd.read_csv(path+pID+'/sel_chans_names.csv')\n",
    "\n",
    "# # erp\n",
    "# for c_ix in range(0, len(chans)):\n",
    "        \n",
    "#     idle_cz = idle[c_ix,:,:] - np.mean(idle[c_ix,:24,:], axis = 0)\n",
    "#     pre_move_cz = pre_move[c_ix,:,:] - np.mean(pre_move[c_ix,:24,:], axis = 0)\n",
    "\n",
    "#     pre_move_cz = pd.DataFrame(pre_move_cz[25:,:].T)\n",
    "#     idle_cz = pd.DataFrame(idle_cz[25:,:].T)\n",
    "#     condition = pd.DataFrame(classes, columns=['class']).astype('string')\n",
    "#     condition['class'].replace({'0.0': 'idle', '1.0': 'pre movement'}, inplace=True)\n",
    "\n",
    "#     erp = pd.concat([pre_move_cz, idle_cz], axis=0).reset_index(drop=True)\n",
    "#     erp_class_cz = pd.concat([condition['class'], erp], axis=1)\n",
    "\n",
    "#     with sns.plotting_context('paper', font_scale = 1.8):\n",
    "#         fig, ax = plt.subplots(1, 1, figsize=(9,5))\n",
    "#         fig.patch.set_alpha(1)\n",
    "#         sns.despine() #bottom=True, left=True \n",
    "\n",
    "#         data_long = pd.melt(erp_class_cz, id_vars='class', var_name='timepoint', value_name='µV', col_level=None, ignore_index=True)\n",
    "\n",
    "#         # adjust time axis\n",
    "#         data_long['timepoint'] = (((1/250) * (data_long[\"timepoint\"].astype(int)))*1000) - 1000\n",
    "\n",
    "#         # plot\n",
    "#         ax = sns.lineplot(data = data_long, x = 'timepoint', y = 'µV', hue = 'class')\n",
    "#         ax.set(xlabel='Time (ms)', ylabel='µV', title=chans_names.Var1[chans[c_ix]])\n",
    "\n",
    "#         fig.savefig(path + pID + '/erp/' + chans_names.Var1[chans[c_ix]] + '.png', format='png', transparent=False, bbox_inches='tight', dpi=300)\n",
    "#         fig.savefig(path + pID + '/erp/' + chans_names.Var1[chans[c_ix]] + '.eps', format='eps', transparent=True, bbox_inches='tight', dpi=300)\n",
    "\n",
    "# features, for one channel?\n",
    "\n",
    "# scalp topographies\n",
    "channel_labels = chans_names['Var1'].values.tolist()\n",
    "channel_labels = channel_labels[0:-1]\n",
    "eog_ix = channel_labels.index('VEOG')\n",
    "chans_types = ['eeg'] * channel_labels.__len__()\n",
    "chans_types[eog_ix] = 'eog'\n",
    "info = mne.create_info(channel_labels, ch_types=chans_types, sfreq=250)\n",
    "easycap_montage = mne.channels.make_standard_montage('easycap-M1')\n",
    "\n",
    "pre_move = scipy.io.loadmat(path+pID+'/pre_move.mat')\n",
    "pre_move = pre_move['pre_move'].mean(axis=2)\n",
    "pre_move = pre_move.T - pre_move[:,0:24].mean(axis=1)\n",
    "pre_move = pre_move[24:,:].T\n",
    "\n",
    "raw = mne.EvokedArray(pre_move, info, tmin=-1)\n",
    "raw.set_montage(easycap_montage)\n",
    "\n",
    "raw.pick_channels(chans_names.Var1[chans].values.tolist())\n",
    "\n",
    "times = np.arange(-1, 0, 0.1)\n",
    "fig = raw.plot_topomap(times, ch_type='eeg', time_unit='s', show_names=False)\n",
    "fig.savefig(path + pID + '/topomap_pre_move.png', format='png', transparent=False, bbox_inches='tight', dpi=300)\n",
    "fig.savefig(path + pID + '/topomap_pre_move.eps', format='eps', transparent=True, bbox_inches='tight', dpi=300)\n",
    "\n",
    "idle = scipy.io.loadmat(path+pID+'/idle.mat')\n",
    "idle = idle['idle'].mean(axis=2)\n",
    "idle = idle.T - idle[:,0:24].mean(axis=1)\n",
    "idle = idle[24:,:].T\n",
    "\n",
    "raw = mne.EvokedArray(idle, info, tmin=-1)\n",
    "raw.set_montage(easycap_montage)\n",
    "\n",
    "raw.pick_channels(chans_names.Var1[chans].values.tolist())\n",
    "\n",
    "times = np.arange(-1, 0, 0.1)\n",
    "fig = raw.plot_topomap(times) #, [.1], ch_type='eeg', time_unit='s', show_names=False)\n",
    "fig.savefig(path + pID + '/topomap_idle.png', format='png', transparent=False, bbox_inches='tight', dpi=300)\n",
    "fig.savefig(path + pID + '/topomap_idle.eps', format='eps', transparent=True, bbox_inches='tight', dpi=300)"
   ]
  },
  {
   "attachments": {},
   "cell_type": "markdown",
   "metadata": {},
   "source": [
    "# Train, Save and Evaluate Classifier"
   ]
  },
  {
   "cell_type": "code",
   "execution_count": null,
   "metadata": {},
   "outputs": [],
   "source": [
    "# load experiment data that the classifier has not seen\n",
    "\n",
    "pre_move_ems1 = scipy.io.loadmat(path+pID+'/pre_move_EMS1.mat')\n",
    "idle_ems1 = scipy.io.loadmat(path+pID+'/idle_EMS1.mat')\n",
    "\n",
    "idle_ems1 = idle_ems1['idle'][chans,:,:]\n",
    "pre_move_ems1 = pre_move_ems1['pre_move'][chans,:,:]\n",
    "\n",
    "pre_move_ems1_means = np.zeros((pre_move_ems1.shape[2], pre_move_ems1.shape[0] * (windows-baseline_ix)))\n",
    "pre_move_ems1_class = np.ones((pre_move_ems1_means.shape[0], 1))\n",
    "\n",
    "for trial_ix in range(0, pre_move_ems1.shape[2]):\n",
    "    tmp = base_correct(windowed_mean(pre_move_ems1[:,:,trial_ix], windows = windows))\n",
    "    pre_move_ems1_means[trial_ix, :] = drop_baseline(tmp, baseline_ix).flatten()\n",
    "\n",
    "idle_ems1_means = np.zeros((idle_ems1.shape[2], idle_ems1.shape[0] * (windows-baseline_ix)))\n",
    "idle_ems1_class = np.zeros((idle_ems1_means.shape[0], 1))\n",
    "\n",
    "for trial_ix in range(0, idle_ems1.shape[2]):\n",
    "    tmp = base_correct(windowed_mean(idle_ems1[:,:,trial_ix], windows = windows))\n",
    "    idle_ems1_means[trial_ix, :] = drop_baseline(tmp, baseline_ix).flatten()\n",
    "\n",
    "data_ems1 = np.concatenate((pre_move_ems1_means, idle_ems1_means), axis = 0)\n",
    "classes_ems1 = np.concatenate((pre_move_ems1_class, idle_ems1_class)).ravel()"
   ]
  },
  {
   "cell_type": "code",
   "execution_count": null,
   "metadata": {},
   "outputs": [],
   "source": [
    "plt.plot(idle_means.T)"
   ]
  },
  {
   "attachments": {},
   "cell_type": "markdown",
   "metadata": {},
   "source": [
    "## LDA"
   ]
  },
  {
   "cell_type": "code",
   "execution_count": null,
   "metadata": {},
   "outputs": [],
   "source": [
    "clf = LDA(solver='eigen', shrinkage='auto')\n",
    "\n",
    "kfolds = KFold(n_splits=5, random_state=1, shuffle=True) \n",
    "cv_results = cross_val_score(clf, data, classes, cv=kfolds)\n",
    "print(cv_results.mean())\n",
    "print(cv_results.std())\n",
    "\n",
    "filename = path+pID+'/model_'+pID+'_eeg.sav'\n",
    "pickle.dump(clf, open(filename, 'wb'))"
   ]
  },
  {
   "cell_type": "code",
   "execution_count": null,
   "metadata": {},
   "outputs": [],
   "source": [
    "# histogram LDA scores\n",
    "clf.fit(data, classes)\n",
    "\n",
    "lda_scores = clf.transform(data)\n",
    "\n",
    "df_to_plot = pd.DataFrame()\n",
    "df_to_plot['scores'] = pd.DataFrame(lda_scores)\n",
    "df_to_plot['classes'] = pd.DataFrame(classes)\n",
    "\n",
    "with sns.plotting_context('paper', font_scale = 1.8):\n",
    "    fig, ax = plt.subplots(1, 1, figsize=(9,5))\n",
    "    fig.patch.set_alpha(1)\n",
    "    sns.despine() #bottom=True, left=True \n",
    "\n",
    "    sns.histplot(data=df_to_plot, x='scores', hue=classes, kde=True)\n",
    "\n",
    "    ax.set(xlabel='LDA score', ylabel='Frequency', title='Histogram of LDA scores')\n",
    "    ax.legend(['pre movement', 'idle'])"
   ]
  },
  {
   "cell_type": "code",
   "execution_count": null,
   "metadata": {},
   "outputs": [],
   "source": [
    "clf.fit(data, classes)\n",
    "# probs = np.round(clf.predict_proba(idle_ems1_means)[:,0],2)\n",
    "probs = np.round(clf.predict_proba(pre_move_ems1_means)[:,1],2)\n",
    "# probs = np.round(clf.predict_proba(pre_move_means)[:,1],2)\n",
    "# xprobs = np.round(clf.predict_proba(idle_means)[:,0],2)\n",
    "\n",
    "with sns.plotting_context('paper', font_scale = 1.8):\n",
    "    fig, ax = plt.subplots(1, 1, figsize=(9,5))\n",
    "    fig.patch.set_alpha(1)\n",
    "    sns.despine() #bottom=True, left=True \n",
    "\n",
    "    sns.histplot(data=probs, kde=True)\n",
    "\n",
    "    ax.set(xlabel='Prediction Probability for Class Idle', ylabel='Frequency', title='Histogram of probabilities')\n",
    "\n",
    "probs.std()"
   ]
  },
  {
   "cell_type": "code",
   "execution_count": null,
   "metadata": {},
   "outputs": [],
   "source": [
    "clf.fit(data, classes)\n",
    "\n",
    "# clf.predict_proba(pre_move_ems1_means)\n",
    "\n",
    "print('Accuracy score : \\n' + str(accuracy_score(pre_move_ems1_class, clf.predict(pre_move_ems1_means))))\n",
    "print('Accuracy score : \\n' + str(accuracy_score(idle_ems1_class, clf.predict(idle_ems1_means))))"
   ]
  },
  {
   "attachments": {},
   "cell_type": "markdown",
   "metadata": {},
   "source": [
    "## LDA Dimensionality Reduction with Random Forest Classifier"
   ]
  },
  {
   "cell_type": "code",
   "execution_count": null,
   "metadata": {},
   "outputs": [],
   "source": [
    "rf = RandomForestClassifier(max_depth=2, random_state=0)\n",
    "lda_scores_training = clf.transform(data)\n",
    "rf.fit(lda_scores_training, classes)\n",
    "\n",
    "lda_scores_experiment = clf.transform(idle_ems1_means)\n",
    "y_pred = rf.predict(lda_scores_experiment)\n",
    "\n",
    "print('Accuracy score : \\n' + str(accuracy_score(idle_ems1_class, y_pred)))"
   ]
  }
 ],
 "metadata": {
  "kernelspec": {
   "display_name": "Python 3",
   "language": "python",
   "name": "python3"
  },
  "language_info": {
   "codemirror_mode": {
    "name": "ipython",
    "version": 3
   },
   "file_extension": ".py",
   "mimetype": "text/x-python",
   "name": "python",
   "nbconvert_exporter": "python",
   "pygments_lexer": "ipython3",
   "version": "3.9.16"
  },
  "orig_nbformat": 4,
  "vscode": {
   "interpreter": {
    "hash": "a665b5d41d17b532ea9890333293a1b812fa0b73c9c25c950b3cedf1bebd0438"
   }
  }
 },
 "nbformat": 4,
 "nbformat_minor": 2
}
