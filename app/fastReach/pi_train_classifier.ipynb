{
 "cells": [
  {
   "cell_type": "code",
   "execution_count": 22,
   "metadata": {},
   "outputs": [],
   "source": [
    "pID = 1\n",
    "pID = 'sub-0' + \"%02d\" % (pID)"
   ]
  },
  {
   "cell_type": "code",
   "execution_count": 23,
   "metadata": {},
   "outputs": [],
   "source": [
    "import pandas as pd\n",
    "import numpy as np\n",
    "import seaborn as sns\n",
    "import matplotlib.pyplot as plt\n",
    "from sklearn.discriminant_analysis import LinearDiscriminantAnalysis as LDA\n",
    "from sklearn.model_selection import cross_val_score, KFold\n",
    "import pickle\n",
    "import scipy.io\n",
    "from bci_funcs import windowed_mean, base_correct, drop_baseline\n",
    "\n",
    "#path = '/Users/lukasgehrke/Documents/publications/2021-fastReach/data/study/eeglab2python/'\n",
    "path = 'P:\\\\Lukas_Gehrke\\\\2021-fastReach\\\\data\\\\study\\\\eeglab2python\\\\'"
   ]
  },
  {
   "cell_type": "code",
   "execution_count": 24,
   "metadata": {},
   "outputs": [],
   "source": [
    "pre_move = scipy.io.loadmat(path+pID+'\\\\pre_move.mat')\n",
    "idle = scipy.io.loadmat(path+pID+'\\\\idle.mat')\n",
    "chans = np.array(pd.read_csv(path+pID+'\\\\sel_chans.csv')).flatten()\n",
    "chans = chans - 1 # Matlab to python indexing\n",
    "\n",
    "filename = path+pID+'\\\\chans_'+pID+'_eeg.sav'\n",
    "pickle.dump(chans, open(filename, 'wb'))\n",
    "\n",
    "windows = 11\n",
    "baseline_ix = 1\n",
    "\n",
    "idle = idle['idle'][chans,:,:]\n",
    "pre_move = pre_move['pre_move'][chans,:,:]\n",
    "\n",
    "idle_means = np.zeros((idle.shape[2], idle.shape[0] * (windows-baseline_ix)))\n",
    "pre_move_means = np.zeros((idle_means.shape))\n",
    "\n",
    "for trial_ix in range(0, idle.shape[2]-1):\n",
    "    tmp = base_correct(windowed_mean(pre_move[:,:,trial_ix], windows = windows))\n",
    "    pre_move_means[trial_ix, :] = drop_baseline(tmp, baseline_ix).flatten()\n",
    "    tmp = base_correct(windowed_mean(idle[:,:,trial_ix], windows = windows))\n",
    "    idle_means[trial_ix, :] = drop_baseline(tmp, baseline_ix).flatten()\n",
    "\n",
    "data = np.concatenate((pre_move_means, idle_means), axis = 0)"
   ]
  },
  {
   "cell_type": "code",
   "execution_count": 25,
   "metadata": {},
   "outputs": [],
   "source": [
    "pre_move_class = np.ones((pre_move_means.shape[0], 1))\n",
    "idle_class = np.zeros((idle_means.shape[0], 1))\n",
    "classes = np.concatenate((pre_move_class, idle_class)).ravel()"
   ]
  },
  {
   "cell_type": "code",
   "execution_count": 26,
   "metadata": {},
   "outputs": [
    {
     "name": "stdout",
     "output_type": "stream",
     "text": [
      "(1, 190)\n",
      "0.3333333333333333\n",
      "0.3333333333333333\n"
     ]
    },
    {
     "name": "stderr",
     "output_type": "stream",
     "text": [
      "C:\\Users\\Lukas\\AppData\\Local\\Packages\\PythonSoftwareFoundation.Python.3.10_qbz5n2kfra8p0\\LocalCache\\local-packages\\Python310\\site-packages\\sklearn\\covariance\\_shrunk_covariance.py:237: UserWarning: Only one sample available. You may want to reshape your data array\n",
      "  warnings.warn(\n",
      "C:\\Users\\Lukas\\AppData\\Local\\Packages\\PythonSoftwareFoundation.Python.3.10_qbz5n2kfra8p0\\LocalCache\\local-packages\\Python310\\site-packages\\sklearn\\covariance\\_empirical_covariance.py:86: UserWarning: Only one sample available. You may want to reshape your data array\n",
      "  warnings.warn(\n",
      "C:\\Users\\Lukas\\AppData\\Local\\Packages\\PythonSoftwareFoundation.Python.3.10_qbz5n2kfra8p0\\LocalCache\\local-packages\\Python310\\site-packages\\sklearn\\covariance\\_shrunk_covariance.py:237: UserWarning: Only one sample available. You may want to reshape your data array\n",
      "  warnings.warn(\n",
      "C:\\Users\\Lukas\\AppData\\Local\\Packages\\PythonSoftwareFoundation.Python.3.10_qbz5n2kfra8p0\\LocalCache\\local-packages\\Python310\\site-packages\\sklearn\\covariance\\_empirical_covariance.py:86: UserWarning: Only one sample available. You may want to reshape your data array\n",
      "  warnings.warn(\n"
     ]
    }
   ],
   "source": [
    "clf = LDA(solver='lsqr', shrinkage='auto')\n",
    "clf.fit(data, classes)\n",
    "print(clf.coef_.shape)\n",
    "\n",
    "kfolds = KFold(n_splits=10, random_state=1, shuffle=True) \n",
    "cv_results = cross_val_score(clf, data, classes, cv=kfolds)\n",
    "print(cv_results.mean())\n",
    "print(cv_results.std())\n",
    "\n",
    "filename = path+pID+'\\\\model_'+pID+'_eeg.sav'\n",
    "pickle.dump(clf, open(filename, 'wb'))"
   ]
  }
 ],
 "metadata": {
  "kernelspec": {
   "display_name": "Python 3",
   "language": "python",
   "name": "python3"
  },
  "language_info": {
   "codemirror_mode": {
    "name": "ipython",
    "version": 3
   },
   "file_extension": ".py",
   "mimetype": "text/x-python",
   "name": "python",
   "nbconvert_exporter": "python",
   "pygments_lexer": "ipython3",
   "version": "3.10.10"
  },
  "orig_nbformat": 4,
  "vscode": {
   "interpreter": {
    "hash": "a665b5d41d17b532ea9890333293a1b812fa0b73c9c25c950b3cedf1bebd0438"
   }
  }
 },
 "nbformat": 4,
 "nbformat_minor": 2
}
