{
 "cells": [
  {
   "cell_type": "code",
   "execution_count": 3,
   "metadata": {},
   "outputs": [],
   "source": [
    "pID = 2\n",
    "pID = 'sub-0' + \"%02d\" % (pID)"
   ]
  },
  {
   "cell_type": "code",
   "execution_count": 4,
   "metadata": {},
   "outputs": [],
   "source": [
    "import pandas as pd\n",
    "import numpy as np\n",
    "import seaborn as sns\n",
    "import matplotlib.pyplot as plt\n",
    "\n",
    "from sklearn.discriminant_analysis import LinearDiscriminantAnalysis as LDA\n",
    "from sklearn.ensemble import RandomForestClassifier\n",
    "from sklearn.model_selection import cross_val_score, KFold, train_test_split\n",
    "from sklearn.metrics import accuracy_score\n",
    "\n",
    "import pickle\n",
    "import scipy.io\n",
    "from bci_funcs import windowed_mean, base_correct, drop_baseline\n",
    "import mne\n",
    "\n",
    "#path = '/Users/lukasgehrke/Documents/publications/2021-fastReach/data/study/eeglab2python/'\n",
    "# path = 'P:\\\\Lukas_Gehrke\\\\2021-fastReach\\\\data\\\\study\\\\eeglab2python\\\\'\n",
    "path = '/Volumes/projects/Lukas_Gehrke/2021-fastReach/data/study/eeglab2python/'"
   ]
  },
  {
   "attachments": {},
   "cell_type": "markdown",
   "metadata": {},
   "source": [
    "# Preconscious Augmentation\n",
    "\n",
    "This script trains the classifier for a brain-computer interface that controls electrical muscle stimulation in the preconscious augmentation experiment.\n",
    "The functions used to build the feature vectors are the same that are used for the online application and are found in 'bci_funcs'\n",
    "\n",
    "A two class linear discriminant model is fitted to idle and pre-movement EEG training data. The model and a channel selection is saved."
   ]
  },
  {
   "attachments": {},
   "cell_type": "markdown",
   "metadata": {},
   "source": [
    "import pandas as pd\n",
    "import numpy as np\n",
    "import seaborn as sns\n",
    "import matplotlib.pyplot as plt\n",
    "\n",
    "from sklearn.discriminant_analysis import LinearDiscriminantAnalysis as LDA\n",
    "from sklearn.ensemble import RandomForestClassifier\n",
    "from sklearn.model_selection import cross_val_score, KFold, train_test_split\n",
    "from sklearn.metrics import accuracy_score\n",
    "\n",
    "import pickle\n",
    "import scipy.io\n",
    "from bci_funcs import windowed_mean, base_correct, drop_baseline\n",
    "import mne\n",
    "\n",
    "#path = '/Users/lukasgehrke/Documents/publications/2021-fastReach/data/study/eeglab2python/'\n",
    "# path = 'P:\\\\Lukas_Gehrke\\\\2021-fastReach\\\\data\\\\study\\\\eeglab2python\\\\'\n",
    "path = '/Volumes/projects/Lukas_Gehrke/2021-fastReach/data/study/eeglab2python/'"
   ]
  },
  {
   "cell_type": "code",
   "execution_count": 5,
   "metadata": {},
   "outputs": [],
   "source": [
    "pre_move = scipy.io.loadmat(path+pID+'/pre_move.mat')\n",
    "idle = scipy.io.loadmat(path+pID+'/idle.mat')\n",
    "chans = np.array(pd.read_csv(path+pID+'/sel_chans.csv', header=None)).flatten()\n",
    "chans = chans - 1 # Matlab to python indexing\n",
    "\n",
    "filename = path+pID+'/chans_'+pID+'_eeg.sav'\n",
    "pickle.dump(chans, open(filename, 'wb'))\n",
    "\n",
    "windows = 10\n",
    "baseline_ix = 1\n",
    "\n",
    "idle = idle['idle'][chans,:,:]\n",
    "pre_move = pre_move['pre_move'][chans,:,:]\n",
    "\n",
    "tmp_idle_means = np.zeros((idle.shape[2], len(chans), windows))\n",
    "tmp_pre_move_means = np.zeros((pre_move.shape[2], len(chans), windows))\n",
    "\n",
    "idle_means = np.zeros((idle.shape[2], idle.shape[0] * (windows)))\n",
    "pre_move_means = np.zeros((pre_move.shape[2], pre_move.shape[0] * (windows)))\n",
    "\n",
    "baseline = 250/10 # 100 ms baseline\n",
    "\n",
    "for trial_ix in range(0, pre_move.shape[2]):\n",
    "    tmp = base_correct(pre_move[:,:,trial_ix], baseline-1)\n",
    "    pre_move_means[trial_ix, :] = windowed_mean(tmp, windows = windows).flatten()\n",
    "\n",
    "for trial_ix in range(0, idle.shape[2]):\n",
    "    tmp = base_correct(idle[:,:,trial_ix], baseline-1)\n",
    "    idle_means[trial_ix, :] = windowed_mean(tmp, windows = windows).flatten()\n",
    "\n",
    "data = np.concatenate((pre_move_means, idle_means), axis = 0)"
   ]
  },
  {
   "cell_type": "code",
   "execution_count": 6,
   "metadata": {},
   "outputs": [],
   "source": [
    "pre_move_class = np.ones((pre_move_means.shape[0], 1))\n",
    "idle_class = np.zeros((idle_means.shape[0], 1))\n",
    "classes = np.concatenate((pre_move_class, idle_class)).ravel()"
   ]
  },
  {
   "cell_type": "code",
   "execution_count": 7,
   "metadata": {},
   "outputs": [
    {
     "name": "stdout",
     "output_type": "stream",
     "text": [
      "0.7764492753623189\n",
      "0.06092561256770983\n"
     ]
    }
   ],
   "source": [
    "clf = LDA(solver='eigen', shrinkage='auto')\n",
    "clf.fit(data, classes)\n",
    "\n",
    "kfolds = KFold(n_splits=5, random_state=1, shuffle=True) \n",
    "cv_results = cross_val_score(clf, data, classes, cv=kfolds)\n",
    "print(cv_results.mean())\n",
    "print(cv_results.std())\n",
    "\n",
    "filename = path+pID+'/model_'+pID+'_eeg.sav'\n",
    "pickle.dump(clf, open(filename, 'wb'))"
   ]
  }
 ],
 "metadata": {
  "kernelspec": {
   "display_name": "Python 3",
   "language": "python",
   "name": "python3"
  },
  "language_info": {
   "codemirror_mode": {
    "name": "ipython",
    "version": 3
   },
   "file_extension": ".py",
   "mimetype": "text/x-python",
   "name": "python",
   "nbconvert_exporter": "python",
   "pygments_lexer": "ipython3",
   "version": "3.9.16"
  },
  "orig_nbformat": 4
 },
 "nbformat": 4,
 "nbformat_minor": 2
}
