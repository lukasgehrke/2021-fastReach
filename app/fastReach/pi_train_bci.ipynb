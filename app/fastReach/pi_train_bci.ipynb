{
 "cells": [
  {
   "cell_type": "code",
   "execution_count": 42,
   "metadata": {},
   "outputs": [],
   "source": [
    "pID = 3\n",
    "pID = 'sub-' + \"%03d\" % (pID)"
   ]
  },
  {
   "cell_type": "code",
   "execution_count": 43,
   "metadata": {},
   "outputs": [],
   "source": [
    "import os\n",
    "\n",
    "import pandas as pd\n",
    "import numpy as np\n",
    "\n",
    "from sklearn.discriminant_analysis import LinearDiscriminantAnalysis as LDA\n",
    "from sklearn.discriminant_analysis import QuadraticDiscriminantAnalysis as QDA\n",
    "from sklearn.ensemble import RandomForestClassifier as RFC\n",
    "from sklearn.ensemble import AdaBoostClassifier as ABC\n",
    "\n",
    "from sklearn.model_selection import cross_val_score, KFold\n",
    "\n",
    "import pickle, json, os\n",
    "import scipy.io\n",
    "from bci_funcs import windowed_mean, base_correct, select_mean, slope\n",
    "\n",
    "path = '/Volumes/Lukas_Gehrke/fastReach/data/eeglab2python'"
   ]
  },
  {
   "attachments": {},
   "cell_type": "markdown",
   "metadata": {},
   "source": [
    "# Preconscious Augmentation\n",
    "\n",
    "This script trains the classifier for a brain-computer interface that controls electrical muscle stimulation in the preconscious augmentation experiment.\n",
    "The functions used to build the feature vectors are the same that are used for the online application and are found in 'bci_funcs'\n",
    "\n",
    "A two class linear discriminant model is fitted to idle and pre-movement EEG training data. The model and a channel selection is saved."
   ]
  },
  {
   "cell_type": "code",
   "execution_count": 44,
   "metadata": {},
   "outputs": [],
   "source": [
    "# load data\n",
    "pre_move = scipy.io.loadmat(path+os.sep+pID+os.sep+'pre_move_Baseline.mat')\n",
    "idle = scipy.io.loadmat(path+os.sep+pID+os.sep+'idle_Baseline.mat')\n",
    "all_idle = idle['idle']\n",
    "all_pre_move = pre_move['pre_move']"
   ]
  },
  {
   "cell_type": "markdown",
   "metadata": {},
   "source": [
    "# Compute Features & Model fitting"
   ]
  },
  {
   "cell_type": "code",
   "execution_count": 45,
   "metadata": {},
   "outputs": [
    {
     "name": "stdout",
     "output_type": "stream",
     "text": [
      "2 channels\n",
      "LDA accuracy: 0.7214285714285715 +/- 0.05714285714285711\n",
      "4 channels\n",
      "LDA accuracy: 0.7214285714285715 +/- 0.03499271061118824\n",
      "6 channels\n",
      "LDA accuracy: 0.7785714285714286 +/- 0.05714285714285712\n",
      "8 channels\n",
      "LDA accuracy: 0.7571428571428571 +/- 0.05248906591678237\n",
      "10 channels\n",
      "LDA accuracy: 0.7857142857142858 +/- 0.05050762722761051\n",
      "12 channels\n",
      "LDA accuracy: 0.75 +/- 0.04517539514526254\n",
      "14 channels\n",
      "LDA accuracy: 0.7785714285714286 +/- 0.07284313590846832\n",
      "16 channels\n",
      "LDA accuracy: 0.7928571428571429 +/- 0.06144518047887588\n",
      "18 channels\n",
      "LDA accuracy: 0.7928571428571428 +/- 0.08268454930564446\n",
      "20 channels\n",
      "LDA accuracy: 0.7785714285714286 +/- 0.07284313590846832\n"
     ]
    }
   ],
   "source": [
    "nr_chans_arr = np.arange(2,21,2) # select one and then save the model\n",
    "\n",
    "data_srate = 250\n",
    "windows = 10\n",
    "baseline = data_srate/windows\n",
    "\n",
    "chan_names = pd.read_csv(path+os.sep+pID+os.sep+'sel_chans_names.csv')\n",
    "all_chans = pd.read_csv(path+os.sep+pID+os.sep+'sel_chans.csv', header=None)\n",
    "\n",
    "feat = 'slope' # slope or slope_2d\n",
    "\n",
    "for nr_chans in nr_chans_arr:\n",
    "    print(str(nr_chans) + ' channels')\n",
    "\n",
    "    chans = np.squeeze(np.array(all_chans[0:nr_chans]) - 1).tolist()\n",
    "    # print(chan_names.Var1[chans])\n",
    "\n",
    "    idle = all_idle[chans, :, :]\n",
    "    pre_move = all_pre_move[chans, :, :]\n",
    "\n",
    "    if feat == 'slope':\n",
    "        idle_feat = np.zeros((idle.shape[2], idle.shape[0]))\n",
    "        pre_move_feat = np.zeros((pre_move.shape[2], pre_move.shape[0]))\n",
    "\n",
    "    elif feat == 'slope2d':\n",
    "        idle_feat = np.zeros((idle.shape[2], idle.shape[0]*2))\n",
    "        pre_move_feat = np.zeros((pre_move.shape[2], pre_move.shape[0]*2))\n",
    "\n",
    "    elif feat == 'windowed_means':\n",
    "        idle_feat = np.zeros((idle.shape[2], idle.shape[0] * (windows)))\n",
    "        pre_move_feat = np.zeros((pre_move.shape[2], pre_move.shape[0] * (windows)))\n",
    "\n",
    "    for trial_ix in range(0, pre_move.shape[2]):\n",
    "        if feat == 'slope':\n",
    "            pre_move_feat[trial_ix, :] = slope(pre_move[:,:,trial_ix], 'linear').flatten()\n",
    "        \n",
    "        elif feat == 'slope2d':\n",
    "            pre_move_feat[trial_ix, :idle.shape[0]] = slope(pre_move[:,:150,trial_ix], 'linear').flatten()\n",
    "            pre_move_feat[trial_ix, idle.shape[0]:] = slope(pre_move[:,150:,trial_ix], 'linear').flatten()\n",
    "\n",
    "        elif feat == 'windowed_means':\n",
    "            tmp = base_correct(pre_move[:,:,trial_ix], baseline-1)\n",
    "            pre_move_feat[trial_ix, :] = windowed_mean(tmp, windows).flatten()\n",
    "\n",
    "    for trial_ix in range(0, idle.shape[2]):\n",
    "        if feat == 'slope':\n",
    "            idle_feat[trial_ix, :] = slope(idle[:,:,trial_ix], 'linear').flatten()    \n",
    "        \n",
    "        elif feat == 'slope2d':\n",
    "            idle_feat[trial_ix, :idle.shape[0]] = slope(idle[:,:150,trial_ix], 'linear').flatten()\n",
    "            idle_feat[trial_ix, idle.shape[0]:] = slope(idle[:,150:,trial_ix], 'linear').flatten()\n",
    "\n",
    "        elif feat == 'windowed_means':\n",
    "            tmp = base_correct(idle[:,:,trial_ix], baseline-1)\n",
    "            idle_feat[trial_ix, :] = windowed_mean(tmp, windows).flatten()\n",
    "\n",
    "    data = np.concatenate((pre_move_feat, idle_feat), axis = 0)\n",
    "    pre_move_class = np.ones((pre_move_feat.shape[0], 1))\n",
    "    idle_class = np.zeros((idle_feat.shape[0], 1))\n",
    "    classes = np.concatenate((pre_move_class, idle_class)).ravel()\n",
    "\n",
    "    clf = LDA(solver='eigen', shrinkage='auto')\n",
    "    clf.fit(data, classes)\n",
    "    kfolds = KFold(n_splits=5, random_state=1, shuffle=True) \n",
    "    cv_results = cross_val_score(clf, data, classes, cv=kfolds)\n",
    "    print(\"LDA accuracy: \" + str(cv_results.mean()) + \" +/- \" + str(cv_results.std()))\n",
    "\n",
    "    # clf = ABC()\n",
    "    # clf.fit(data, classes)\n",
    "    # kfolds = KFold(n_splits=5, random_state=1, shuffle=True) \n",
    "    # cv_results = cross_val_score(clf, data, classes, cv=kfolds)\n",
    "    # print(\"ABC accuracy: \" + str(cv_results.mean()) + \" +/- \" + str(cv_results.std()))\n",
    "\n",
    "    # clf = QDA()\n",
    "    # clf.fit(data, classes)\n",
    "    # kfolds = KFold(n_splits=5, random_state=1, shuffle=True) \n",
    "    # cv_results = cross_val_score(clf, data, classes, cv=kfolds)\n",
    "    # print(\"QDA accuracy: \" + str(cv_results.mean()) + \" +/- \" + str(cv_results.std()))\n",
    "\n",
    "    # clf = RFC()\n",
    "    # clf.fit(data, classes)\n",
    "    # kfolds = KFold(n_splits=5, random_state=1, shuffle=True) \n",
    "    # cv_results = cross_val_score(clf, data, classes, cv=kfolds)\n",
    "    # print(\"RFC accuracy: \" + str(cv_results.mean()) + \" +/- \" + str(cv_results.std()))"
   ]
  },
  {
   "cell_type": "markdown",
   "metadata": {},
   "source": [
    "# Real-time Detection"
   ]
  },
  {
   "cell_type": "code",
   "execution_count": 47,
   "metadata": {},
   "outputs": [
    {
     "name": "stdout",
     "output_type": "stream",
     "text": [
      "LDA accuracy: 0.7785714285714286 +/- 0.07284313590846832\n"
     ]
    },
    {
     "data": {
      "image/png": "[encoded data removed]",
      "text/plain": [
       "<Figure size 432x288 with 1 Axes>"
      ]
     },
     "metadata": {
      "needs_background": "light"
     },
     "output_type": "display_data"
    },
    {
     "name": "stdout",
     "output_type": "stream",
     "text": [
      "Threshold value is: 0.4926336042133755\n",
      "F1 Score: 0.855072463768116\n"
     ]
    }
   ],
   "source": [
    "nr_chans = 18\n",
    "target_class = 1.0\n",
    "classifier_update_rate = 5 # samples\n",
    "\n",
    "### COPY IN WHERE BEST CLASSIFICATION PERFORMANCE WAS ACHIEVED ###\n",
    "\n",
    "clf = LDA(solver='eigen', shrinkage='auto')\n",
    "clf.fit(data, classes)\n",
    "kfolds = KFold(n_splits=5, random_state=1, shuffle=True) \n",
    "cv_results = cross_val_score(clf, data, classes, cv=kfolds)\n",
    "print(\"LDA accuracy: \" + str(cv_results.mean()) + \" +/- \" + str(cv_results.std()))\n",
    "\n",
    "### END ###\n",
    "\n",
    "from sklearn.metrics import roc_curve, auc\n",
    "import matplotlib.pyplot as plt\n",
    "\n",
    "def plot_roc_curve(fpr, tpr):\n",
    "    plt.plot(fpr, tpr, color='orange', label='ROC')\n",
    "    plt.plot([0, 1], [0, 1], color='darkblue', linestyle='--')\n",
    "    plt.xlabel('False Positive Rate')\n",
    "    plt.ylabel('True Positive Rate')\n",
    "    plt.title('Receiver Operating Characteristic (ROC) Curve')\n",
    "    plt.legend()\n",
    "    plt.show()\n",
    "\n",
    "predictions_prob = clf.predict_proba(data)\n",
    "pred_classes = clf.predict(data)\n",
    "false_positive_rate, recall, thresholds = roc_curve(classes, predictions_prob[:,1])\n",
    "roc_auc = auc(false_positive_rate, recall)\n",
    "plot_roc_curve(false_positive_rate, recall)\n",
    "\n",
    "optimal_idx = np.argmax(recall - false_positive_rate)\n",
    "optimal_threshold = thresholds[optimal_idx]\n",
    "print(\"Threshold value is:\", optimal_threshold)\n",
    "\n",
    "from sklearn.metrics import f1_score\n",
    "print(\"F1 Score: \"+ str(f1_score(classes, pred_classes)))\n",
    "\n",
    "filename = path+os.sep+pID+os.sep+'model_'+pID+'_eeg.sav'\n",
    "pickle.dump(clf, open(filename, 'wb'))\n",
    "\n",
    "# threshold = cv_results.mean()\n",
    "threshold = np.min(thresholds[false_positive_rate<.1])\n",
    "print(\"Threshold used is:\", threshold)\n",
    "\n",
    "bci_params = dict(((k, eval(k)) for k in ('chans', 'windows', 'baseline', 'target_class', 'threshold', 'data_srate', 'classifier_update_rate')))\n",
    "with open(path+os.sep+pID+os.sep+'bci_params.json', 'w') as f:\n",
    "    json.dump(bci_params, f)"
   ]
  }
 ],
 "metadata": {
  "kernelspec": {
   "display_name": "Python 3",
   "language": "python",
   "name": "python3"
  },
  "language_info": {
   "codemirror_mode": {
    "name": "ipython",
    "version": 3
   },
   "file_extension": ".py",
   "mimetype": "text/x-python",
   "name": "python",
   "nbconvert_exporter": "python",
   "pygments_lexer": "ipython3",
   "version": "3.9.16"
  },
  "orig_nbformat": 4
 },
 "nbformat": 4,
 "nbformat_minor": 2
}
