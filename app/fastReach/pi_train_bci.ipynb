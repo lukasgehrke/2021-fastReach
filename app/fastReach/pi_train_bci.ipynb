{
 "cells": [
  {
   "cell_type": "code",
   "execution_count": 9,
   "metadata": {},
   "outputs": [],
   "source": [
    "pID = 3\n",
    "pID = 'sub-' + \"%03d\" % (pID)"
   ]
  },
  {
   "cell_type": "code",
   "execution_count": 10,
   "metadata": {},
   "outputs": [],
   "source": [
    "import os\n",
    "\n",
    "import pandas as pd\n",
    "import numpy as np\n",
    "\n",
    "from sklearn.discriminant_analysis import LinearDiscriminantAnalysis as LDA\n",
    "from sklearn.model_selection import cross_val_score, KFold\n",
    "\n",
    "import pickle, json, os\n",
    "import scipy.io\n",
    "from bci_funcs import windowed_mean, base_correct, select_mean, slope\n",
    "\n",
    "path = 'P:\\\\Lukas_Gehrke\\\\fastReach\\\\data\\\\eeglab2python'\n",
    "# '/Users/lukasgehrke/Documents/publications/2021-fastReach/' # add path to repository here!!!"
   ]
  },
  {
   "attachments": {},
   "cell_type": "markdown",
   "metadata": {},
   "source": [
    "# Preconscious Augmentation\n",
    "\n",
    "This script trains the classifier for a brain-computer interface that controls electrical muscle stimulation in the preconscious augmentation experiment.\n",
    "The functions used to build the feature vectors are the same that are used for the online application and are found in 'bci_funcs'\n",
    "\n",
    "A two class linear discriminant model is fitted to idle and pre-movement EEG training data. The model and a channel selection is saved."
   ]
  },
  {
   "cell_type": "code",
   "execution_count": 11,
   "metadata": {},
   "outputs": [],
   "source": [
    "from scipy import stats\n",
    "\n",
    "pre_move = scipy.io.loadmat(path+pID+'/pre_move_Baseline.mat')\n",
    "idle = scipy.io.loadmat(path+pID+'/idle_Baseline.mat')\n",
    "\n",
    "chans = np.array(pd.read_csv(path+pID+'/sel_chans.csv', header=None)).flatten()\n",
    "chans = chans - 1 # Matlab to python indexing\n",
    "chans = chans[:10]\n",
    "\n",
    "data_srate = 250\n",
    "windows = 10\n",
    "sel_window = 10\n",
    "baseline = data_srate/windows\n",
    "\n",
    "idle = idle['idle'][chans,:,:]\n",
    "pre_move = pre_move['pre_move'][chans,:,:]\n",
    "\n",
    "idle_means = np.zeros((idle.shape[2], idle.shape[0] * (windows)))\n",
    "pre_move_means = np.zeros((pre_move.shape[2], pre_move.shape[0] * (windows)))\n",
    "\n",
    "idle_mean = np.zeros((idle.shape[2], idle.shape[0]))\n",
    "pre_move_mean = np.zeros((pre_move.shape[2], pre_move.shape[0]))\n",
    "\n",
    "slope_idle = np.zeros((idle.shape[2], idle.shape[0]*2))\n",
    "slope_pre_move = np.zeros((pre_move.shape[2], pre_move.shape[0]*2))\n",
    "\n",
    "target_class = 1.0\n",
    "classifier_update_rate = 25 # samples\n",
    "\n",
    "for trial_ix in range(0, pre_move.shape[2]):\n",
    "    tmp = base_correct(pre_move[:,:,trial_ix], baseline-1)\n",
    "    pre_move_means[trial_ix, :] = windowed_mean(tmp, windows).flatten()\n",
    "    pre_move_mean[trial_ix, :] = select_mean(tmp, windows, sel_window).flatten()\n",
    "    slope_pre_move[trial_ix, :chans.shape[0]] = slope(tmp, 'linear').flatten()\n",
    "    slope_pre_move[trial_ix, chans.shape[0]:] = slope(tmp, 'exp').flatten()\n",
    "\n",
    "for trial_ix in range(0, idle.shape[2]):\n",
    "    tmp = base_correct(idle[:,:,trial_ix], baseline-1)\n",
    "    idle_means[trial_ix, :] = windowed_mean(tmp, windows).flatten()\n",
    "    idle_mean[trial_ix, :] = select_mean(tmp, windows, sel_window).flatten()\n",
    "    slope_idle[trial_ix, :chans.shape[0]] = slope(tmp, 'linear').flatten()\n",
    "    slope_idle[trial_ix, chans.shape[0]:] = slope(tmp, 'exp').flatten()\n",
    "\n",
    "win_means = np.concatenate((pre_move_means, idle_means), axis = 0)\n",
    "win_mean = np.concatenate((pre_move_mean, idle_mean), axis = 0)\n",
    "slope = np.concatenate((slope_pre_move, slope_idle), axis = 0)"
   ]
  },
  {
   "cell_type": "code",
   "execution_count": 12,
   "metadata": {},
   "outputs": [],
   "source": [
    "pre_move_class = np.ones((pre_move_means.shape[0], 1))\n",
    "idle_class = np.zeros((idle_means.shape[0], 1))\n",
    "classes = np.concatenate((pre_move_class, idle_class)).ravel()"
   ]
  },
  {
   "cell_type": "code",
   "execution_count": 13,
   "metadata": {},
   "outputs": [
    {
     "data": {
      "text/plain": [
       "<seaborn.axisgrid.FacetGrid at 0x2ad9dc340>"
      ]
     },
     "execution_count": 13,
     "metadata": {},
     "output_type": "execute_result"
    },
    {
     "data": {
      "image/png": "[encoded data removed]",
      "text/plain": [
       "<Figure size 414.975x360 with 1 Axes>"
      ]
     },
     "metadata": {},
     "output_type": "display_data"
    }
   ],
   "source": [
    "data = slope\n",
    "\n",
    "data_to_plot = pd.DataFrame(data)\n",
    "data_to_plot['class'] = classes\n",
    "data_to_plot = data_to_plot.melt(id_vars = 'class', value_name = 'amplitude')\n",
    "\n",
    "import seaborn as sns\n",
    "import matplotlib.pyplot as plt\n",
    "\n",
    "sns.set_theme(style=\"ticks\")\n",
    "sns.displot(x=\"amplitude\", hue=\"class\", data=data_to_plot, kde=True, fill=True, stat=\"density\")\n"
   ]
  },
  {
   "cell_type": "code",
   "execution_count": 14,
   "metadata": {},
   "outputs": [
    {
     "name": "stdout",
     "output_type": "stream",
     "text": [
      "0.7071428571428571\n",
      "0.05714285714285711\n"
     ]
    }
   ],
   "source": [
    "clf = LDA(solver='eigen', shrinkage='auto')\n",
    "clf.fit(data, classes)\n",
    "\n",
    "kfolds = KFold(n_splits=5, random_state=1, shuffle=True) \n",
    "cv_results = cross_val_score(clf, data, classes, cv=kfolds)\n",
    "print(cv_results.mean())\n",
    "print(cv_results.std())\n",
    "\n",
    "filename = path+os.sep+pID+os.sep+'model_'+pID+'_eeg.sav'\n",
    "pickle.dump(clf, open(filename, 'wb'))"
   ]
  },
  {
   "cell_type": "code",
   "execution_count": null,
   "metadata": {},
   "outputs": [],
   "source": []
  }
 ],
 "metadata": {
  "kernelspec": {
   "display_name": "Python 3",
   "language": "python",
   "name": "python3"
  },
  "language_info": {
   "codemirror_mode": {
    "name": "ipython",
    "version": 3
   },
   "file_extension": ".py",
   "mimetype": "text/x-python",
   "name": "python",
   "nbconvert_exporter": "python",
   "pygments_lexer": "ipython3",
   "version": "3.10.11"
  },
  "orig_nbformat": 4
 },
 "nbformat": 4,
 "nbformat_minor": 2
}
