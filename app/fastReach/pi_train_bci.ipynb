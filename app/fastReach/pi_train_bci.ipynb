{
 "cells": [
  {
   "cell_type": "code",
   "execution_count": 1,
   "metadata": {},
   "outputs": [],
   "source": [
    "pID = 3\n",
    "pID = 'sub-' + \"%03d\" % (pID)"
   ]
  },
  {
   "cell_type": "code",
   "execution_count": 2,
   "metadata": {},
   "outputs": [],
   "source": [
    "import os\n",
    "\n",
    "import pandas as pd\n",
    "import numpy as np\n",
    "\n",
    "from sklearn.discriminant_analysis import LinearDiscriminantAnalysis as LDA\n",
    "from sklearn.model_selection import cross_val_score, KFold\n",
    "\n",
    "import pickle, json, os\n",
    "import scipy.io\n",
    "from bci_funcs import windowed_mean, base_correct, select_mean, slope\n",
    "\n",
    "path = 'P:\\\\Lukas_Gehrke\\\\fastReach\\\\data\\\\eeglab2python'\n",
    "# '/Users/lukasgehrke/Documents/publications/2021-fastReach/' # add path to repository here!!!"
   ]
  },
  {
   "attachments": {},
   "cell_type": "markdown",
   "metadata": {},
   "source": [
    "# Preconscious Augmentation\n",
    "\n",
    "This script trains the classifier for a brain-computer interface that controls electrical muscle stimulation in the preconscious augmentation experiment.\n",
    "The functions used to build the feature vectors are the same that are used for the online application and are found in 'bci_funcs'\n",
    "\n",
    "A two class linear discriminant model is fitted to idle and pre-movement EEG training data. The model and a channel selection is saved."
   ]
  },
  {
   "cell_type": "code",
   "execution_count": 3,
   "metadata": {},
   "outputs": [
    {
     "ename": "FileNotFoundError",
     "evalue": "[Errno 2] No such file or directory: 'P:\\\\Lukas_Gehrke\\\\fastReach\\\\data\\\\eeglab2pythonsub-003/pre_move_Baseline.mat'",
     "output_type": "error",
     "traceback": [
      "\u001b[0;31m---------------------------------------------------------------------------\u001b[0m",
      "\u001b[0;31mFileNotFoundError\u001b[0m                         Traceback (most recent call last)",
      "File \u001b[0;32m/opt/homebrew/lib/python3.9/site-packages/scipy/io/matlab/_mio.py:39\u001b[0m, in \u001b[0;36m_open_file\u001b[0;34m(file_like, appendmat, mode)\u001b[0m\n\u001b[1;32m     38\u001b[0m \u001b[39mtry\u001b[39;00m:\n\u001b[0;32m---> 39\u001b[0m     \u001b[39mreturn\u001b[39;00m \u001b[39mopen\u001b[39;49m(file_like, mode), \u001b[39mTrue\u001b[39;00m\n\u001b[1;32m     40\u001b[0m \u001b[39mexcept\u001b[39;00m \u001b[39mOSError\u001b[39;00m \u001b[39mas\u001b[39;00m e:\n\u001b[1;32m     41\u001b[0m     \u001b[39m# Probably \"not found\"\u001b[39;00m\n",
      "\u001b[0;31mFileNotFoundError\u001b[0m: [Errno 2] No such file or directory: 'P:\\\\Lukas_Gehrke\\\\fastReach\\\\data\\\\eeglab2pythonsub-003/pre_move_Baseline.mat'",
      "\nDuring handling of the above exception, another exception occurred:\n",
      "\u001b[0;31mFileNotFoundError\u001b[0m                         Traceback (most recent call last)",
      "\u001b[1;32m/Users/lukasgehrke/Documents/publications/2021-fastReach/app/fastReach/pi_train_bci.ipynb Cell 4\u001b[0m in \u001b[0;36m<module>\u001b[0;34m\u001b[0m\n\u001b[1;32m      <a href='vscode-notebook-cell:/Users/lukasgehrke/Documents/publications/2021-fastReach/app/fastReach/pi_train_bci.ipynb#W3sZmlsZQ%3D%3D?line=0'>1</a>\u001b[0m \u001b[39mfrom\u001b[39;00m \u001b[39mscipy\u001b[39;00m \u001b[39mimport\u001b[39;00m stats\n\u001b[0;32m----> <a href='vscode-notebook-cell:/Users/lukasgehrke/Documents/publications/2021-fastReach/app/fastReach/pi_train_bci.ipynb#W3sZmlsZQ%3D%3D?line=2'>3</a>\u001b[0m pre_move \u001b[39m=\u001b[39m scipy\u001b[39m.\u001b[39;49mio\u001b[39m.\u001b[39;49mloadmat(path\u001b[39m+\u001b[39;49mpID\u001b[39m+\u001b[39;49m\u001b[39m'\u001b[39;49m\u001b[39m/pre_move_Baseline.mat\u001b[39;49m\u001b[39m'\u001b[39;49m)\n\u001b[1;32m      <a href='vscode-notebook-cell:/Users/lukasgehrke/Documents/publications/2021-fastReach/app/fastReach/pi_train_bci.ipynb#W3sZmlsZQ%3D%3D?line=3'>4</a>\u001b[0m idle \u001b[39m=\u001b[39m scipy\u001b[39m.\u001b[39mio\u001b[39m.\u001b[39mloadmat(path\u001b[39m+\u001b[39mpID\u001b[39m+\u001b[39m\u001b[39m'\u001b[39m\u001b[39m/idle_Baseline.mat\u001b[39m\u001b[39m'\u001b[39m)\n\u001b[1;32m      <a href='vscode-notebook-cell:/Users/lukasgehrke/Documents/publications/2021-fastReach/app/fastReach/pi_train_bci.ipynb#W3sZmlsZQ%3D%3D?line=5'>6</a>\u001b[0m chans \u001b[39m=\u001b[39m np\u001b[39m.\u001b[39marray(pd\u001b[39m.\u001b[39mread_csv(path\u001b[39m+\u001b[39mpID\u001b[39m+\u001b[39m\u001b[39m'\u001b[39m\u001b[39m/sel_chans.csv\u001b[39m\u001b[39m'\u001b[39m, header\u001b[39m=\u001b[39m\u001b[39mNone\u001b[39;00m))\u001b[39m.\u001b[39mflatten()\n",
      "File \u001b[0;32m/opt/homebrew/lib/python3.9/site-packages/scipy/io/matlab/_mio.py:224\u001b[0m, in \u001b[0;36mloadmat\u001b[0;34m(file_name, mdict, appendmat, **kwargs)\u001b[0m\n\u001b[1;32m     87\u001b[0m \u001b[39m\"\"\"\u001b[39;00m\n\u001b[1;32m     88\u001b[0m \u001b[39mLoad MATLAB file.\u001b[39;00m\n\u001b[1;32m     89\u001b[0m \n\u001b[0;32m   (...)\u001b[0m\n\u001b[1;32m    221\u001b[0m \u001b[39m    3.14159265+3.14159265j])\u001b[39;00m\n\u001b[1;32m    222\u001b[0m \u001b[39m\"\"\"\u001b[39;00m\n\u001b[1;32m    223\u001b[0m variable_names \u001b[39m=\u001b[39m kwargs\u001b[39m.\u001b[39mpop(\u001b[39m'\u001b[39m\u001b[39mvariable_names\u001b[39m\u001b[39m'\u001b[39m, \u001b[39mNone\u001b[39;00m)\n\u001b[0;32m--> 224\u001b[0m \u001b[39mwith\u001b[39;00m _open_file_context(file_name, appendmat) \u001b[39mas\u001b[39;00m f:\n\u001b[1;32m    225\u001b[0m     MR, _ \u001b[39m=\u001b[39m mat_reader_factory(f, \u001b[39m*\u001b[39m\u001b[39m*\u001b[39mkwargs)\n\u001b[1;32m    226\u001b[0m     matfile_dict \u001b[39m=\u001b[39m MR\u001b[39m.\u001b[39mget_variables(variable_names)\n",
      "File \u001b[0;32m/opt/homebrew/Cellar/python@3.9/3.9.16/Frameworks/Python.framework/Versions/3.9/lib/python3.9/contextlib.py:119\u001b[0m, in \u001b[0;36m_GeneratorContextManager.__enter__\u001b[0;34m(self)\u001b[0m\n\u001b[1;32m    117\u001b[0m \u001b[39mdel\u001b[39;00m \u001b[39mself\u001b[39m\u001b[39m.\u001b[39margs, \u001b[39mself\u001b[39m\u001b[39m.\u001b[39mkwds, \u001b[39mself\u001b[39m\u001b[39m.\u001b[39mfunc\n\u001b[1;32m    118\u001b[0m \u001b[39mtry\u001b[39;00m:\n\u001b[0;32m--> 119\u001b[0m     \u001b[39mreturn\u001b[39;00m \u001b[39mnext\u001b[39;49m(\u001b[39mself\u001b[39;49m\u001b[39m.\u001b[39;49mgen)\n\u001b[1;32m    120\u001b[0m \u001b[39mexcept\u001b[39;00m \u001b[39mStopIteration\u001b[39;00m:\n\u001b[1;32m    121\u001b[0m     \u001b[39mraise\u001b[39;00m \u001b[39mRuntimeError\u001b[39;00m(\u001b[39m\"\u001b[39m\u001b[39mgenerator didn\u001b[39m\u001b[39m'\u001b[39m\u001b[39mt yield\u001b[39m\u001b[39m\"\u001b[39m) \u001b[39mfrom\u001b[39;00m \u001b[39mNone\u001b[39m\n",
      "File \u001b[0;32m/opt/homebrew/lib/python3.9/site-packages/scipy/io/matlab/_mio.py:17\u001b[0m, in \u001b[0;36m_open_file_context\u001b[0;34m(file_like, appendmat, mode)\u001b[0m\n\u001b[1;32m     15\u001b[0m \u001b[39m@contextmanager\u001b[39m\n\u001b[1;32m     16\u001b[0m \u001b[39mdef\u001b[39;00m \u001b[39m_open_file_context\u001b[39m(file_like, appendmat, mode\u001b[39m=\u001b[39m\u001b[39m'\u001b[39m\u001b[39mrb\u001b[39m\u001b[39m'\u001b[39m):\n\u001b[0;32m---> 17\u001b[0m     f, opened \u001b[39m=\u001b[39m _open_file(file_like, appendmat, mode)\n\u001b[1;32m     18\u001b[0m     \u001b[39mtry\u001b[39;00m:\n\u001b[1;32m     19\u001b[0m         \u001b[39myield\u001b[39;00m f\n",
      "File \u001b[0;32m/opt/homebrew/lib/python3.9/site-packages/scipy/io/matlab/_mio.py:45\u001b[0m, in \u001b[0;36m_open_file\u001b[0;34m(file_like, appendmat, mode)\u001b[0m\n\u001b[1;32m     43\u001b[0m     \u001b[39mif\u001b[39;00m appendmat \u001b[39mand\u001b[39;00m \u001b[39mnot\u001b[39;00m file_like\u001b[39m.\u001b[39mendswith(\u001b[39m'\u001b[39m\u001b[39m.mat\u001b[39m\u001b[39m'\u001b[39m):\n\u001b[1;32m     44\u001b[0m         file_like \u001b[39m+\u001b[39m\u001b[39m=\u001b[39m \u001b[39m'\u001b[39m\u001b[39m.mat\u001b[39m\u001b[39m'\u001b[39m\n\u001b[0;32m---> 45\u001b[0m     \u001b[39mreturn\u001b[39;00m \u001b[39mopen\u001b[39;49m(file_like, mode), \u001b[39mTrue\u001b[39;00m\n\u001b[1;32m     46\u001b[0m \u001b[39melse\u001b[39;00m:\n\u001b[1;32m     47\u001b[0m     \u001b[39mraise\u001b[39;00m \u001b[39mOSError\u001b[39;00m(\n\u001b[1;32m     48\u001b[0m         \u001b[39m'\u001b[39m\u001b[39mReader needs file name or open file-like object\u001b[39m\u001b[39m'\u001b[39m\n\u001b[1;32m     49\u001b[0m     ) \u001b[39mfrom\u001b[39;00m \u001b[39me\u001b[39;00m\n",
      "\u001b[0;31mFileNotFoundError\u001b[0m: [Errno 2] No such file or directory: 'P:\\\\Lukas_Gehrke\\\\fastReach\\\\data\\\\eeglab2pythonsub-003/pre_move_Baseline.mat'"
     ]
    }
   ],
   "source": [
    "from scipy import stats\n",
    "\n",
    "pre_move = scipy.io.loadmat(path+pID+'/pre_move_Baseline.mat')\n",
    "idle = scipy.io.loadmat(path+pID+'/idle_Baseline.mat')\n",
    "\n",
    "chans = np.array(pd.read_csv(path+pID+'/sel_chans.csv', header=None)).flatten()\n",
    "chans = chans - 1 # Matlab to python indexing\n",
    "chans = chans[:10]\n",
    "\n",
    "data_srate = 250\n",
    "windows = 10\n",
    "sel_window = 10\n",
    "baseline = data_srate/windows\n",
    "\n",
    "idle = idle['idle'][chans,:,:]\n",
    "pre_move = pre_move['pre_move'][chans,:,:]\n",
    "\n",
    "idle_means = np.zeros((idle.shape[2], idle.shape[0] * (windows)))\n",
    "pre_move_means = np.zeros((pre_move.shape[2], pre_move.shape[0] * (windows)))\n",
    "\n",
    "idle_mean = np.zeros((idle.shape[2], idle.shape[0]))\n",
    "pre_move_mean = np.zeros((pre_move.shape[2], pre_move.shape[0]))\n",
    "\n",
    "slope_idle = np.zeros((idle.shape[2], idle.shape[0]*2))\n",
    "slope_pre_move = np.zeros((pre_move.shape[2], pre_move.shape[0]*2))\n",
    "\n",
    "target_class = 1.0\n",
    "classifier_update_rate = 25 # samples\n",
    "\n",
    "for trial_ix in range(0, pre_move.shape[2]):\n",
    "    tmp = base_correct(pre_move[:,:,trial_ix], baseline-1)\n",
    "    pre_move_means[trial_ix, :] = windowed_mean(tmp, windows).flatten()\n",
    "    pre_move_mean[trial_ix, :] = select_mean(tmp, windows, sel_window).flatten()\n",
    "    slope_pre_move[trial_ix, :chans.shape[0]] = slope(tmp, 'linear').flatten()\n",
    "    slope_pre_move[trial_ix, chans.shape[0]:] = slope(tmp, 'exp').flatten()\n",
    "\n",
    "for trial_ix in range(0, idle.shape[2]):\n",
    "    tmp = base_correct(idle[:,:,trial_ix], baseline-1)\n",
    "    idle_means[trial_ix, :] = windowed_mean(tmp, windows).flatten()\n",
    "    idle_mean[trial_ix, :] = select_mean(tmp, windows, sel_window).flatten()\n",
    "    slope_idle[trial_ix, :chans.shape[0]] = slope(tmp, 'linear').flatten()\n",
    "    slope_idle[trial_ix, chans.shape[0]:] = slope(tmp, 'exp').flatten()\n",
    "\n",
    "win_means = np.concatenate((pre_move_means, idle_means), axis = 0)\n",
    "win_mean = np.concatenate((pre_move_mean, idle_mean), axis = 0)\n",
    "slope = np.concatenate((slope_pre_move, slope_idle), axis = 0)"
   ]
  },
  {
   "cell_type": "code",
   "execution_count": null,
   "metadata": {},
   "outputs": [],
   "source": [
    "pre_move_class = np.ones((pre_move_means.shape[0], 1))\n",
    "idle_class = np.zeros((idle_means.shape[0], 1))\n",
    "classes = np.concatenate((pre_move_class, idle_class)).ravel()"
   ]
  },
  {
   "cell_type": "code",
   "execution_count": null,
   "metadata": {},
   "outputs": [],
   "source": [
    "data = slope\n",
    "\n",
    "data_to_plot = pd.DataFrame(data)\n",
    "data_to_plot['class'] = classes\n",
    "data_to_plot = data_to_plot.melt(id_vars = 'class', value_name = 'amplitude')\n",
    "\n",
    "import seaborn as sns\n",
    "import matplotlib.pyplot as plt\n",
    "\n",
    "sns.set_theme(style=\"ticks\")\n",
    "sns.displot(x=\"amplitude\", hue=\"class\", data=data_to_plot, kde=True, fill=True, stat=\"density\")\n"
   ]
  },
  {
   "cell_type": "code",
   "execution_count": null,
   "metadata": {},
   "outputs": [],
   "source": [
    "clf = LDA(solver='eigen', shrinkage='auto')\n",
    "clf.fit(data, classes)\n",
    "\n",
    "kfolds = KFold(n_splits=5, random_state=1, shuffle=True) \n",
    "cv_results = cross_val_score(clf, data, classes, cv=kfolds)\n",
    "print(cv_results.mean())\n",
    "print(cv_results.std())\n",
    "\n",
    "filename = path+os.sep+pID+os.sep+'model_'+pID+'_eeg.sav'\n",
    "pickle.dump(clf, open(filename, 'wb'))\n",
    "\n",
    "threshold = cv_results.mean()\n",
    "bci_params = dict(((k, eval(k)) for k in ('chans', 'windows', 'baseline', 'target_class', 'threshold', 'data_srate', 'classifier_update_rate')))\n",
    "with open(path+os.sep+'example_data'+os.sep+'bci_params.json', 'w') as f:\n",
    "    json.dump(bci_params, f)"
   ]
  },
  {
   "cell_type": "code",
   "execution_count": null,
   "metadata": {},
   "outputs": [],
   "source": []
  }
 ],
 "metadata": {
  "kernelspec": {
   "display_name": "Python 3",
   "language": "python",
   "name": "python3"
  },
  "language_info": {
   "codemirror_mode": {
    "name": "ipython",
    "version": 3
   },
   "file_extension": ".py",
   "mimetype": "text/x-python",
   "name": "python",
   "nbconvert_exporter": "python",
   "pygments_lexer": "ipython3",
   "version": "3.9.16"
  },
  "orig_nbformat": 4
 },
 "nbformat": 4,
 "nbformat_minor": 2
}
