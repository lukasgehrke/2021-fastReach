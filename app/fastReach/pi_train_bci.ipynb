{
 "cells": [
  {
   "cell_type": "code",
   "execution_count": 84,
   "metadata": {},
   "outputs": [],
   "source": [
    "pID = 3\n",
    "pID = 'sub-0' + \"%02d\" % (pID)"
   ]
  },
  {
   "cell_type": "code",
   "execution_count": 85,
   "metadata": {},
   "outputs": [],
   "source": [
    "import pandas as pd\n",
    "import numpy as np\n",
    "\n",
    "from sklearn.discriminant_analysis import LinearDiscriminantAnalysis as LDA\n",
    "from sklearn.model_selection import cross_val_score, KFold\n",
    "\n",
    "import pickle, json\n",
    "import scipy.io\n",
    "from bci_funcs import windowed_mean, base_correct\n",
    "\n",
    "#path = '/Users/lukasgehrke/Documents/publications/2021-fastReach/data/study/eeglab2python/'\n",
    "# path = 'P:\\\\Lukas_Gehrke\\\\2021-fastReach\\\\data\\\\study\\\\eeglab2python\\\\'\n",
    "path = '/Volumes/projects/Lukas_Gehrke/2021-fastReach/data/study/eeglab2python/'"
   ]
  },
  {
   "attachments": {},
   "cell_type": "markdown",
   "metadata": {},
   "source": [
    "# Preconscious Augmentation\n",
    "\n",
    "This script trains the classifier for a brain-computer interface that controls electrical muscle stimulation in the preconscious augmentation experiment.\n",
    "The functions used to build the feature vectors are the same that are used for the online application and are found in 'bci_funcs'\n",
    "\n",
    "A two class linear discriminant model is fitted to idle and pre-movement EEG training data. The model and a channel selection is saved."
   ]
  },
  {
   "cell_type": "markdown",
   "metadata": {},
   "source": []
  },
  {
   "cell_type": "code",
   "execution_count": 86,
   "metadata": {},
   "outputs": [],
   "source": [
    "pre_move = scipy.io.loadmat(path+pID+'/pre_move_Baseline.mat')\n",
    "idle = scipy.io.loadmat(path+pID+'/idle_Baseline.mat')\n",
    "chans = np.array(pd.read_csv(path+pID+'/sel_chans.csv', header=None)).flatten()\n",
    "chans = chans - 1 # Matlab to python indexing\n",
    "\n",
    "# chans = chans[0:4]\n",
    "chans = chans.tolist() # first three channels are C3, C4, Cz, in that order. Might ignore, then start index at 3\n",
    "\n",
    "data_srate = 250\n",
    "windows = 10\n",
    "baseline = data_srate/windows\n",
    "\n",
    "idle = idle['idle'][chans,:,:]\n",
    "pre_move = pre_move['pre_move'][chans,:,:]\n",
    "\n",
    "idle_means = np.zeros((idle.shape[2], idle.shape[0] * (windows)))\n",
    "pre_move_means = np.zeros((pre_move.shape[2], pre_move.shape[0] * (windows)))\n",
    "\n",
    "target_class = 1\n",
    "threshold = 1\n",
    "classifier_update_rate = 10 # samples\n",
    "\n",
    "bci_params = dict(((k, eval(k)) for k in ('chans', 'windows', 'baseline_ix', 'baseline', 'target_class', 'threshold', 'data_srate', 'classifier_update_rate')))\n",
    "with open(path+pID+'/bci_params.json', 'w') as f:\n",
    "    json.dump(bci_params, f)\n",
    "\n",
    "for trial_ix in range(0, pre_move.shape[2]):\n",
    "    tmp = base_correct(pre_move[:,:,trial_ix], baseline-1)\n",
    "    pre_move_means[trial_ix, :] = windowed_mean(tmp, windows = windows).flatten()\n",
    "\n",
    "for trial_ix in range(0, idle.shape[2]):\n",
    "    tmp = base_correct(idle[:,:,trial_ix], baseline-1)\n",
    "    idle_means[trial_ix, :] = windowed_mean(tmp, windows = windows).flatten()\n",
    "\n",
    "data = np.concatenate((pre_move_means, idle_means), axis = 0)"
   ]
  },
  {
   "cell_type": "code",
   "execution_count": 87,
   "metadata": {},
   "outputs": [],
   "source": [
    "pre_move_class = np.ones((pre_move_means.shape[0], 1))\n",
    "idle_class = np.zeros((idle_means.shape[0], 1))\n",
    "classes = np.concatenate((pre_move_class, idle_class)).ravel()"
   ]
  },
  {
   "cell_type": "code",
   "execution_count": 88,
   "metadata": {},
   "outputs": [
    {
     "name": "stdout",
     "output_type": "stream",
     "text": [
      "0.6857142857142857\n",
      "0.03499271061118824\n"
     ]
    }
   ],
   "source": [
    "clf = LDA(solver='eigen', shrinkage='auto')\n",
    "clf.fit(data, classes)\n",
    "\n",
    "kfolds = KFold(n_splits=5, random_state=1, shuffle=True) \n",
    "cv_results = cross_val_score(clf, data, classes, cv=kfolds)\n",
    "print(cv_results.mean())\n",
    "print(cv_results.std())\n",
    "\n",
    "filename = path+pID+'/model_'+pID+'_eeg.sav'\n",
    "pickle.dump(clf, open(filename, 'wb'))"
   ]
  },
  {
   "cell_type": "code",
   "execution_count": null,
   "metadata": {},
   "outputs": [],
   "source": []
  }
 ],
 "metadata": {
  "kernelspec": {
   "display_name": "Python 3",
   "language": "python",
   "name": "python3"
  },
  "language_info": {
   "codemirror_mode": {
    "name": "ipython",
    "version": 3
   },
   "file_extension": ".py",
   "mimetype": "text/x-python",
   "name": "python",
   "nbconvert_exporter": "python",
   "pygments_lexer": "ipython3",
   "version": "3.9.16"
  },
  "orig_nbformat": 4
 },
 "nbformat": 4,
 "nbformat_minor": 2
}
