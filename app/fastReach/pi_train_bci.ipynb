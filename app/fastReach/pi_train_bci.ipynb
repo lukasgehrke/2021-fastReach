{
 "cells": [
  {
   "cell_type": "code",
   "execution_count": 118,
   "metadata": {},
   "outputs": [],
   "source": [
    "pID = 4\n",
    "pID = 'sub-' + \"%03d\" % (pID)\n",
    "\n",
    "nr_chans = 15"
   ]
  },
  {
   "cell_type": "code",
   "execution_count": 119,
   "metadata": {},
   "outputs": [],
   "source": [
    "import os\n",
    "\n",
    "import pandas as pd\n",
    "import numpy as np\n",
    "\n",
    "from sklearn.discriminant_analysis import LinearDiscriminantAnalysis as LDA\n",
    "from sklearn.model_selection import cross_val_score, KFold\n",
    "\n",
    "import pickle, json, os\n",
    "import scipy.io\n",
    "from bci_funcs import windowed_mean, base_correct, select_mean, slope\n",
    "\n",
    "path = 'P:\\\\Lukas_Gehrke\\\\fastReach\\\\data\\\\eeglab2python'\n",
    "# path = '/Volumes/Lukas_Gehrke/fastReach/data/eeglab2python'"
   ]
  },
  {
   "attachments": {},
   "cell_type": "markdown",
   "metadata": {},
   "source": [
    "# Preconscious Augmentation\n",
    "\n",
    "This script trains the classifier for a brain-computer interface that controls electrical muscle stimulation in the preconscious augmentation experiment.\n",
    "The functions used to build the feature vectors are the same that are used for the online application and are found in 'bci_funcs'\n",
    "\n",
    "A two class linear discriminant model is fitted to idle and pre-movement EEG training data. The model and a channel selection is saved."
   ]
  },
  {
   "cell_type": "code",
   "execution_count": 120,
   "metadata": {},
   "outputs": [],
   "source": [
    "# load data\n",
    "pre_move = scipy.io.loadmat(path+os.sep+pID+os.sep+'pre_move_Baseline.mat')\n",
    "idle = scipy.io.loadmat(path+os.sep+pID+os.sep+'idle_Baseline.mat')\n",
    "idle = idle['idle']\n",
    "pre_move = pre_move['pre_move']\n",
    "\n",
    "chan_names = pd.read_csv(path+os.sep+pID+os.sep+'sel_chans_names.csv')\n",
    "chans = pd.read_csv(path+os.sep+pID+os.sep+'sel_chans.csv', header=None)\n",
    "chans = np.squeeze(np.array(chans[0:nr_chans]) - 1).tolist()\n",
    "# chan_names.Var1[chans]\n"
   ]
  },
  {
   "cell_type": "markdown",
   "metadata": {},
   "source": [
    "## Select Best Channels by Slope"
   ]
  },
  {
   "cell_type": "code",
   "execution_count": 121,
   "metadata": {},
   "outputs": [],
   "source": [
    "# slope_idle = np.zeros((idle.shape[2], idle.shape[0]))\n",
    "# slope_pre_move = np.zeros((pre_move.shape[2], pre_move.shape[0]))\n",
    "\n",
    "# for trial_ix in range(0, pre_move.shape[2]):\n",
    "#     slope_pre_move[trial_ix, :] = slope(pre_move[:,:,trial_ix], 'linear').flatten()\n",
    "\n",
    "# for trial_ix in range(0, idle.shape[2]):\n",
    "#     slope_idle[trial_ix, :] = slope(idle[:,:,trial_ix], 'linear').flatten()\n",
    "\n",
    "# crit1 = pd.DataFrame(slope_pre_move.mean(axis=0)).sort_values(by=0, ascending=False)\n",
    "# crit1['chans'] = crit1.index\n",
    "# crit1['crit1_ranks'] = crit1.reset_index().index\n",
    "# crit1.sort_values(by='chans', inplace=True)\n",
    "\n",
    "# crit2 = pd.DataFrame(slope_idle.mean(axis=0)).sort_values(by=0, ascending=True)\n",
    "# crit2['chans'] = crit2.index\n",
    "# crit2['crit2_ranks'] = crit2.reset_index().index\n",
    "# crit2.sort_values(by='chans', inplace=True)\n",
    "\n",
    "# crits = pd.concat([crit1.chans, crit1.crit1_ranks, crit2.crit2_ranks], axis=1)\n",
    "# crits['mean_ranks'] = crits[['crit1_ranks', 'crit2_ranks']].mean(axis=1)\n",
    "# crits.sort_values(by='mean_ranks', inplace=True)\n",
    "# chans = crits.chans.values\n",
    "\n",
    "# chans = chans[:nr_chans]\n",
    "# chan_names.Var1[chans]"
   ]
  },
  {
   "cell_type": "markdown",
   "metadata": {},
   "source": [
    "## Compute Features"
   ]
  },
  {
   "cell_type": "code",
   "execution_count": 122,
   "metadata": {},
   "outputs": [],
   "source": [
    "idle = idle[chans, :, :]\n",
    "pre_move = pre_move[chans, :, :]\n",
    "\n",
    "# slope_idle = np.zeros((idle.shape[2], idle.shape[0]*2))\n",
    "# slope_pre_move = np.zeros((pre_move.shape[2], pre_move.shape[0]*2))\n",
    "\n",
    "slope_idle = np.zeros((idle.shape[2], idle.shape[0]))\n",
    "slope_pre_move = np.zeros((pre_move.shape[2], pre_move.shape[0]))\n",
    "\n",
    "for trial_ix in range(0, pre_move.shape[2]):\n",
    "    slope_pre_move[trial_ix, :] = slope(pre_move[:,:,trial_ix], 'linear').flatten()\n",
    "\n",
    "    # slope_pre_move[trial_ix, :idle.shape[0]] = slope(pre_move[:,:150,trial_ix], 'linear').flatten()\n",
    "    # slope_pre_move[trial_ix, idle.shape[0]:] = slope(pre_move[:,150:,trial_ix], 'exp').flatten()\n",
    "\n",
    "for trial_ix in range(0, idle.shape[2]):\n",
    "    slope_idle[trial_ix, :] = slope(idle[:,:,trial_ix], 'linear').flatten()\n",
    "\n",
    "    # slope_idle[trial_ix, :idle.shape[0]] = slope(idle[:,:150,trial_ix], 'linear').flatten()\n",
    "    # slope_idle[trial_ix, idle.shape[0]:] = slope(idle[:,150:,trial_ix], 'exp').flatten()\n",
    "\n",
    "slope = np.concatenate((slope_pre_move, slope_idle), axis = 0)"
   ]
  },
  {
   "cell_type": "code",
   "execution_count": 123,
   "metadata": {},
   "outputs": [],
   "source": [
    "pre_move_class = np.ones((slope_pre_move.shape[0], 1))\n",
    "idle_class = np.zeros((slope_idle.shape[0], 1))\n",
    "classes = np.concatenate((pre_move_class, idle_class)).ravel()"
   ]
  },
  {
   "cell_type": "code",
   "execution_count": 124,
   "metadata": {},
   "outputs": [
    {
     "data": {
      "text/plain": [
       "<seaborn.axisgrid.FacetGrid at 0x16cfa4fa0>"
      ]
     },
     "execution_count": 124,
     "metadata": {},
     "output_type": "execute_result"
    },
    {
     "data": {
      "image/png": "[encoded data removed]",
      "text/plain": [
       "<Figure size 414.975x360 with 1 Axes>"
      ]
     },
     "metadata": {},
     "output_type": "display_data"
    }
   ],
   "source": [
    "data = slope\n",
    "\n",
    "data_to_plot = pd.DataFrame(data)\n",
    "data_to_plot['class'] = classes\n",
    "data_to_plot = data_to_plot.melt(id_vars = 'class', value_name = 'amplitude')\n",
    "\n",
    "import seaborn as sns\n",
    "import matplotlib.pyplot as plt\n",
    "\n",
    "sns.set_theme(style=\"ticks\")\n",
    "sns.displot(x=\"amplitude\", hue=\"class\", data=data_to_plot, kde=True, fill=True, stat=\"density\")\n"
   ]
  },
  {
   "cell_type": "code",
   "execution_count": 125,
   "metadata": {},
   "outputs": [
    {
     "name": "stdout",
     "output_type": "stream",
     "text": [
      "0.4975806451612903\n",
      "0.06782888525029442\n"
     ]
    }
   ],
   "source": [
    "clf = LDA(solver='eigen', shrinkage='auto')\n",
    "clf.fit(data, classes)\n",
    "\n",
    "kfolds = KFold(n_splits=5, random_state=1, shuffle=True) \n",
    "cv_results = cross_val_score(clf, data, classes, cv=kfolds)\n",
    "print(cv_results.mean())\n",
    "print(cv_results.std())\n",
    "\n",
    "filename = path+os.sep+pID+os.sep+'model_'+pID+'_eeg.sav'\n",
    "pickle.dump(clf, open(filename, 'wb'))\n",
    "\n",
    "threshold = cv_results.mean()\n",
    "target_class = 1.0\n",
    "classifier_update_rate = 5 # samples\n",
    "data_srate = 250 # Hz\n",
    "windows = 10\n",
    "sel_window = 10\n",
    "baseline = data_srate/windows\n",
    "\n",
    "bci_params = dict(((k, eval(k)) for k in ('chans', 'windows', 'baseline', 'target_class', 'threshold', 'data_srate', 'classifier_update_rate')))\n",
    "with open(path+os.sep+pID+os.sep+'bci_params.json', 'w') as f:\n",
    "    json.dump(bci_params, f)"
   ]
  }
 ],
 "metadata": {
  "kernelspec": {
   "display_name": "Python 3",
   "language": "python",
   "name": "python3"
  },
  "language_info": {
   "codemirror_mode": {
    "name": "ipython",
    "version": 3
   },
   "file_extension": ".py",
   "mimetype": "text/x-python",
   "name": "python",
   "nbconvert_exporter": "python",
   "pygments_lexer": "ipython3",
   "version": "3.9.16"
  },
  "orig_nbformat": 4
 },
 "nbformat": 4,
 "nbformat_minor": 2
}
