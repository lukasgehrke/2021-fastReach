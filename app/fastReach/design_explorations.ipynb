{
 "cells": [
  {
   "cell_type": "code",
   "execution_count": 5,
   "metadata": {},
   "outputs": [],
   "source": [
    "import pandas as pd\n",
    "from matplotlib import pyplot as plt\n",
    "\n",
    "df = pd.read_csv('/Volumes/Lukas_Gehrke/fastReach/data/PI_results_design.csv')"
   ]
  },
  {
   "cell_type": "code",
   "execution_count": 6,
   "metadata": {},
   "outputs": [
    {
     "data": {
      "text/plain": [
       "(array([ 1.,  1.,  0.,  2.,  1.,  0.,  0.,  1.,  2.,  0.,  0.,  1.,  1.,\n",
       "         1.,  0.,  0.,  1.,  0.,  0.,  0.,  0.,  1.,  1.,  0.,  0.,  2.,\n",
       "         0.,  0.,  2.,  2.,  3.,  1.,  2.,  3.,  2.,  0.,  2.,  0.,  0.,\n",
       "         0.,  2.,  0.,  2.,  1.,  0.,  1.,  3.,  2.,  0.,  1.,  3.,  2.,\n",
       "         5.,  5.,  4.,  5.,  2.,  4.,  6.,  3.,  6.,  8.,  4.,  7.,  6.,\n",
       "         4.,  4.,  6.,  3.,  6.,  7.,  6.,  3.,  7.,  8., 10.,  6.,  9.,\n",
       "         6., 10.,  7., 11., 13., 10., 11., 13., 13., 21., 15., 13., 14.,\n",
       "        11., 18., 13., 22., 16.,  8., 11.,  4., 10.]),\n",
       " array([-12.848  , -12.73984, -12.63168, -12.52352, -12.41536, -12.3072 ,\n",
       "        -12.19904, -12.09088, -11.98272, -11.87456, -11.7664 , -11.65824,\n",
       "        -11.55008, -11.44192, -11.33376, -11.2256 , -11.11744, -11.00928,\n",
       "        -10.90112, -10.79296, -10.6848 , -10.57664, -10.46848, -10.36032,\n",
       "        -10.25216, -10.144  , -10.03584,  -9.92768,  -9.81952,  -9.71136,\n",
       "         -9.6032 ,  -9.49504,  -9.38688,  -9.27872,  -9.17056,  -9.0624 ,\n",
       "         -8.95424,  -8.84608,  -8.73792,  -8.62976,  -8.5216 ,  -8.41344,\n",
       "         -8.30528,  -8.19712,  -8.08896,  -7.9808 ,  -7.87264,  -7.76448,\n",
       "         -7.65632,  -7.54816,  -7.44   ,  -7.33184,  -7.22368,  -7.11552,\n",
       "         -7.00736,  -6.8992 ,  -6.79104,  -6.68288,  -6.57472,  -6.46656,\n",
       "         -6.3584 ,  -6.25024,  -6.14208,  -6.03392,  -5.92576,  -5.8176 ,\n",
       "         -5.70944,  -5.60128,  -5.49312,  -5.38496,  -5.2768 ,  -5.16864,\n",
       "         -5.06048,  -4.95232,  -4.84416,  -4.736  ,  -4.62784,  -4.51968,\n",
       "         -4.41152,  -4.30336,  -4.1952 ,  -4.08704,  -3.97888,  -3.87072,\n",
       "         -3.76256,  -3.6544 ,  -3.54624,  -3.43808,  -3.32992,  -3.22176,\n",
       "         -3.1136 ,  -3.00544,  -2.89728,  -2.78912,  -2.68096,  -2.5728 ,\n",
       "         -2.46464,  -2.35648,  -2.24832,  -2.14016,  -2.032  ]),\n",
       " <BarContainer object of 100 artists>)"
      ]
     },
     "execution_count": 6,
     "metadata": {},
     "output_type": "execute_result"
    },
    {
     "data": {
      "image/png": "[encoded data removed]",
      "text/plain": [
       "<Figure size 720x360 with 1 Axes>"
      ]
     },
     "metadata": {
      "needs_background": "light"
     },
     "output_type": "display_data"
    }
   ],
   "source": [
    "# plot histogram of delta_idle_ems in df\n",
    "plt.figure(figsize=(10, 5))\n",
    "plt.hist(df['delta_idle_ems'], bins=100)"
   ]
  },
  {
   "cell_type": "code",
   "execution_count": null,
   "metadata": {},
   "outputs": [],
   "source": []
  }
 ],
 "metadata": {
  "kernelspec": {
   "display_name": "Python 3",
   "language": "python",
   "name": "python3"
  },
  "language_info": {
   "codemirror_mode": {
    "name": "ipython",
    "version": 3
   },
   "file_extension": ".py",
   "mimetype": "text/x-python",
   "name": "python",
   "nbconvert_exporter": "python",
   "pygments_lexer": "ipython3",
   "version": "3.9.16"
  },
  "orig_nbformat": 4
 },
 "nbformat": 4,
 "nbformat_minor": 2
}
