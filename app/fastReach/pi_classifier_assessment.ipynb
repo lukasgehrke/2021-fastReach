{
 "cells": [
  {
   "cell_type": "code",
   "execution_count": 1,
   "metadata": {},
   "outputs": [],
   "source": [
    "import pandas as pd\n",
    "import numpy as np\n",
    "import seaborn as sns\n",
    "import matplotlib.pyplot as plt\n",
    "\n",
    "from sklearn.discriminant_analysis import LinearDiscriminantAnalysis as LDA\n",
    "from sklearn.ensemble import RandomForestClassifier\n",
    "from sklearn.model_selection import cross_val_score, KFold, train_test_split\n",
    "from sklearn.metrics import accuracy_score\n",
    "\n",
    "import pickle\n",
    "import scipy.io\n",
    "from bci_funcs import windowed_mean, base_correct, drop_baseline\n",
    "import mne\n",
    "\n",
    "path = '/Volumes/projects/Lukas_Gehrke/2021-fastReach/data/study/eeglab2python/'"
   ]
  },
  {
   "attachments": {},
   "cell_type": "markdown",
   "metadata": {},
   "source": [
    "# Imports"
   ]
  },
  {
   "attachments": {},
   "cell_type": "markdown",
   "metadata": {},
   "source": [
    "# Plot grand mean ERP"
   ]
  },
  {
   "attachments": {},
   "cell_type": "markdown",
   "metadata": {},
   "source": [
    "## By condition: Baseline, EMS1, EMS2"
   ]
  },
  {
   "cell_type": "code",
   "execution_count": null,
   "metadata": {},
   "outputs": [],
   "source": [
    "channel = 23\n",
    "\n",
    "design_all = pd.DataFrame()\n",
    "c_move_all = pd.DataFrame()\n",
    "c_idle_all = pd.DataFrame()\n",
    "\n",
    "pIDs = [2,3]\n",
    "\n",
    "for pID in pIDs:\n",
    "\n",
    "    pID = 'sub-0' + \"%02d\" % (pID)\n",
    "    chans = np.array(pd.read_csv(path+pID+'/sel_chans.csv', header=None)).flatten()\n",
    "    chans = chans - 1 # Matlab to python indexing\n",
    "    c_ix = np.where(chans==channel)[0][0] # Index of C3\n",
    "    chans_names = pd.read_csv(path+pID+'/sel_chans_names.csv')\n",
    "\n",
    "    # Load data\n",
    "    design = pd.read_csv(path+pID+'/design.csv')\n",
    "    design_all = pd.concat([design_all, design], axis=0)\n",
    "\n",
    "    tmp_move = scipy.io.loadmat(path+pID+'/pre_move.mat')\n",
    "    tmp_move = tmp_move['move'][c_ix,:,:] - tmp_move['move'][c_ix,0:24,:].mean(axis=0)\n",
    "    c_move = pd.DataFrame(tmp_move).T\n",
    "    c_move_all = pd.concat([c_move_all, c_move], axis=0)\n",
    "\n",
    "    tmp_idle = scipy.io.loadmat(path+pID+'/idle.mat')\n",
    "    tmp_idle = tmp_idle['idle'][c_ix,:,:] - tmp_idle['idle'][c_ix,0:24,:].mean(axis=0)\n",
    "    c_idle = pd.DataFrame(tmp_idle).T\n",
    "    c_idle_all = pd.concat([c_idle_all, c_idle], axis=0)\n",
    "\n",
    "design_all.reset_index(drop=True, inplace=True)\n",
    "c_move_all.reset_index(drop=True, inplace=True)\n",
    "c_idle_all.reset_index(drop=True, inplace=True)\n",
    "\n",
    "design_vars = design_all.columns\n",
    "data_vars = c_move_all.columns\n",
    "design_data = design_all.join(c_move_all)\n",
    "design = design_data.melt(id_vars=design_vars, value_vars=data_vars, var_name='time', value_name='amplitude')\n",
    "design['time'] = (((1/250) * (design[\"time\"].astype(int)))*1000) - 1000\n"
   ]
  },
  {
   "cell_type": "code",
   "execution_count": null,
   "metadata": {},
   "outputs": [],
   "source": [
    "with sns.plotting_context('paper', font_scale = 1.8):\n",
    "    fig, ax = plt.subplots(1, 1, figsize=(6,4.5))\n",
    "    fig.patch.set_alpha(1)\n",
    "    sns.despine()\n",
    "    sns.lineplot(data=design, y='amplitude', x='time', hue='condition', ci=95)\n",
    "    ax.set(xlabel='Time (ms)', ylabel='µV', title=chans_names.Var1[channel])\n",
    "    fig.savefig(path + chans_names.Var1[channel] + '_condition.png', format='png', transparent=False, bbox_inches='tight', dpi=300)\n",
    "    fig.savefig(path + chans_names.Var1[channel] + '_condition.eps', format='eps', transparent=False, bbox_inches='tight', dpi=300)"
   ]
  },
  {
   "attachments": {},
   "cell_type": "markdown",
   "metadata": {},
   "source": [
    "## By mental state: pre_movement vs. idle"
   ]
  },
  {
   "cell_type": "code",
   "execution_count": null,
   "metadata": {},
   "outputs": [],
   "source": [
    "pre_move_class = np.ones((c_move_all.shape[0], 1))\n",
    "idle_class = np.zeros((c_idle_all.shape[0], 1))\n",
    "classes = pd.DataFrame(np.concatenate((pre_move_class, idle_class)).ravel(), columns=['Mental State']).reset_index(drop=True)\n",
    "classes['Mental State'].replace({'0.0': 'Idle', '1.0': 'Pre Movement'}, inplace=True)\n",
    "\n",
    "erp = pd.concat([c_move_all, c_idle_all], axis=0).reset_index(drop=True)\n",
    "design_data = pd.concat([classes, erp], axis=1)\n",
    "design = design_data.melt(id_vars='Mental State', value_vars=data_vars, var_name='time', value_name='amplitude')\n",
    "design['time'] = (((1/250) * (design[\"time\"].astype(int)))*1000) - 1000"
   ]
  },
  {
   "cell_type": "code",
   "execution_count": null,
   "metadata": {},
   "outputs": [],
   "source": [
    "with sns.plotting_context('paper', font_scale = 1.8):\n",
    "    fig, ax = plt.subplots(1, 1, figsize=(6,4.5))\n",
    "    fig.patch.set_alpha(1)\n",
    "    sns.despine()\n",
    "    sns.lineplot(data=design, y='amplitude', x='time', hue='Mental State', ci=95)\n",
    "    ax.set(xlabel='Time (ms)', ylabel='µV', title=chans_names.Var1[channel])\n",
    "    fig.savefig(path + chans_names.Var1[channel] + '_mental_state.png', format='png', transparent=False, bbox_inches='tight', dpi=300)\n",
    "    fig.savefig(path + chans_names.Var1[channel] + '_mental_state.eps', format='eps', transparent=False, bbox_inches='tight', dpi=300)\n",
    "    "
   ]
  },
  {
   "attachments": {},
   "cell_type": "markdown",
   "metadata": {},
   "source": [
    "# Plot scalp maps"
   ]
  },
  {
   "cell_type": "code",
   "execution_count": null,
   "metadata": {},
   "outputs": [],
   "source": [
    "# TODO use preprocessed EEG data (interpolated bad channels) with all 65 channels\n",
    "\n",
    "pre_move_all = np.zeros((63, 250, len(pIDs)))\n",
    "idle_all = np.zeros((63, 250, len(pIDs)))\n",
    "\n",
    "for pID in pIDs:\n",
    "\n",
    "    this_pID = 'sub-0' + \"%02d\" % (pID)\n",
    "\n",
    "    # chans = np.array(pd.read_csv(path+this_pID+'/sel_chans.csv', header=None)).flatten()\n",
    "    # chans = chans - 1 # Matlab to python indexing\n",
    "\n",
    "    design = pd.read_csv(path+this_pID+'/design.csv')\n",
    "    good_trials = design.index[design.noisy_erp == 'no']\n",
    "\n",
    "    pre_move = scipy.io.loadmat(path+this_pID+'/pre_move.mat')\n",
    "    pre_move = pre_move['move'][:,:,good_trials]\n",
    "    # pre_move = pre_move['move'][chans,:,:]\n",
    "    # pre_move = pre_move[:,:,good_trials]\n",
    "    pre_move = pre_move.mean(axis=2)\n",
    "    pre_move = pre_move.T - pre_move[:,0:24].mean(axis=1)\n",
    "    pre_move = pre_move.T   \n",
    "    pre_move_all[:,:,pID-2] = pre_move\n",
    "\n",
    "    idle = scipy.io.loadmat(path+this_pID+'/idle.mat')\n",
    "    idle = idle['idle'][:,:,good_trials]\n",
    "    # idle = idle['idle'][chans,:,:]\n",
    "    # idle = idle[:,:,good_trials]\n",
    "    idle = idle.mean(axis=2)\n",
    "    idle = idle.T - idle[:,0:24].mean(axis=1)\n",
    "    idle = idle.T\n",
    "    idle_all[:,:,pID-2] = idle\n",
    "\n",
    "move = pre_move_all.mean(axis=2)\n",
    "idle = idle_all.mean(axis=2)\n",
    "\n",
    "# scalp topographies\n",
    "channel_labels = chans_names['Var1'].values.tolist()\n",
    "# channel_labels = channel_labels[chans]\n",
    "chans_types = ['eeg'] * channel_labels.__len__()\n",
    "info = mne.create_info(channel_labels, ch_types=chans_types, sfreq=250)\n",
    "easycap_montage = mne.channels.make_standard_montage('easycap-M1')\n",
    "\n",
    "raw = mne.EvokedArray(move, info, tmin=-1)\n",
    "raw.set_montage(easycap_montage)\n",
    "times = np.arange(-1, 0, 0.1)\n",
    "fig = raw.plot_topomap(times, ch_type='eeg', time_unit='s', show_names=False)\n",
    "fig.savefig(path + '/grand_mean_topomap_pre_move.png', format='png', transparent=False, bbox_inches='tight', dpi=300)\n",
    "fig.savefig(path + '/grand_mean_topomap_pre_move.eps', format='eps', transparent=True, bbox_inches='tight', dpi=300)\n",
    "\n",
    "raw = mne.EvokedArray(idle, info, tmin=-1)\n",
    "raw.set_montage(easycap_montage)\n",
    "times = np.arange(-1, 0, 0.1)\n",
    "fig = raw.plot_topomap(times, ch_type='eeg', time_unit='s', show_names=False)\n",
    "fig.savefig(path + '/grand_mean_topomap_idle.png', format='png', transparent=False, bbox_inches='tight', dpi=300)\n",
    "fig.savefig(path + '/grand_mean_topomap_idle.eps', format='eps', transparent=True, bbox_inches='tight', dpi=300)"
   ]
  },
  {
   "attachments": {},
   "cell_type": "markdown",
   "metadata": {},
   "source": [
    "# Classifier Evaluation"
   ]
  },
  {
   "cell_type": "code",
   "execution_count": 79,
   "metadata": {},
   "outputs": [
    {
     "name": "stdout",
     "output_type": "stream",
     "text": [
      "0.7333333333333334\n",
      "0.11737877907772674\n"
     ]
    }
   ],
   "source": [
    "# settings\n",
    "windows = 10\n",
    "baseline = 250/10 # 100 ms baseline\n",
    "\n",
    "pIDs = [2,3]\n",
    "\n",
    "# for pID in pIDs:\n",
    "pID = 3\n",
    "\n",
    "pID = 'sub-0' + \"%02d\" % (pID)\n",
    "\n",
    "# Load data\n",
    "design = pd.read_csv(path+pID+'/design.csv')\n",
    "chans = np.array(pd.read_csv(path+pID+'/sel_chans.csv', header=None)).flatten()\n",
    "chans = chans - 1 # Matlab to python indexing\n",
    "\n",
    "tmp_move = scipy.io.loadmat(path+pID+'/pre_move.mat')\n",
    "tmp_move = tmp_move['move'][chans,:,:]\n",
    "tmp_move_means = np.zeros((tmp_move.shape[0] * windows, tmp_move.shape[2]))\n",
    "for trial_ix in range(0, tmp_move.shape[2]):\n",
    "    tmp = base_correct(tmp_move[:,:,trial_ix], baseline-1)\n",
    "    tmp_move_means[:,trial_ix] = windowed_mean(tmp, windows = windows).flatten()\n",
    "\n",
    "tmp_idle = scipy.io.loadmat(path+pID+'/idle.mat')\n",
    "tmp_idle = tmp_idle['idle'][chans,:,:]\n",
    "tmp_idle_means = np.zeros((tmp_idle.shape[0] * windows, tmp_idle.shape[2]))\n",
    "for trial_ix in range(0, tmp_idle.shape[2]):\n",
    "    tmp = base_correct(tmp_idle[:,:,trial_ix], baseline-1)\n",
    "    tmp_idle_means[:,trial_ix] = windowed_mean(tmp, windows = windows).flatten()\n",
    "\n",
    "# Remove noisy trials\n",
    "# good_trials = design.index[design.noisy_erp == 'no']\n",
    "# tmp_move_means = tmp_move_means[:,good_trials]\n",
    "# tmp_idle_means = tmp_idle_means[:,good_trials]\n",
    "# design = design.iloc[good_trials].reset_index(drop=True)\n",
    "\n",
    "# Classifier training on baseline data\n",
    "baseline_trials = design.index[design.condition == 'baseline']\n",
    "idle_baseline = tmp_idle_means[:,baseline_trials]\n",
    "idle_class = np.zeros((idle_baseline.shape[1], 1))\n",
    "move_baseline = tmp_move_means[:,baseline_trials]\n",
    "move_class = np.ones((move_baseline.shape[1], 1))\n",
    "\n",
    "train_data = np.concatenate((move_baseline, idle_baseline), axis = 1).T\n",
    "train_class = np.concatenate((move_class, idle_class)).ravel()\n",
    "\n",
    "clf = LDA(solver='eigen', shrinkage='auto')\n",
    "clf.fit(train_data, train_class)\n",
    "\n",
    "kfolds = KFold(n_splits=5, random_state=1, shuffle=True) \n",
    "cv_results = cross_val_score(clf, train_data, train_class, cv=kfolds)\n",
    "print(cv_results.mean())\n",
    "print(cv_results.std())"
   ]
  },
  {
   "cell_type": "code",
   "execution_count": 80,
   "metadata": {},
   "outputs": [
    {
     "data": {
      "text/html": [
       "<style>#sk-container-id-6 {color: black;background-color: white;}#sk-container-id-6 pre{padding: 0;}#sk-container-id-6 div.sk-toggleable {background-color: white;}#sk-container-id-6 label.sk-toggleable__label {cursor: pointer;display: block;width: 100%;margin-bottom: 0;padding: 0.3em;box-sizing: border-box;text-align: center;}#sk-container-id-6 label.sk-toggleable__label-arrow:before {content: \"▸\";float: left;margin-right: 0.25em;color: #696969;}#sk-container-id-6 label.sk-toggleable__label-arrow:hover:before {color: black;}#sk-container-id-6 div.sk-estimator:hover label.sk-toggleable__label-arrow:before {color: black;}#sk-container-id-6 div.sk-toggleable__content {max-height: 0;max-width: 0;overflow: hidden;text-align: left;background-color: #f0f8ff;}#sk-container-id-6 div.sk-toggleable__content pre {margin: 0.2em;color: black;border-radius: 0.25em;background-color: #f0f8ff;}#sk-container-id-6 input.sk-toggleable__control:checked~div.sk-toggleable__content {max-height: 200px;max-width: 100%;overflow: auto;}#sk-container-id-6 input.sk-toggleable__control:checked~label.sk-toggleable__label-arrow:before {content: \"▾\";}#sk-container-id-6 div.sk-estimator input.sk-toggleable__control:checked~label.sk-toggleable__label {background-color: #d4ebff;}#sk-container-id-6 div.sk-label input.sk-toggleable__control:checked~label.sk-toggleable__label {background-color: #d4ebff;}#sk-container-id-6 input.sk-hidden--visually {border: 0;clip: rect(1px 1px 1px 1px);clip: rect(1px, 1px, 1px, 1px);height: 1px;margin: -1px;overflow: hidden;padding: 0;position: absolute;width: 1px;}#sk-container-id-6 div.sk-estimator {font-family: monospace;background-color: #f0f8ff;border: 1px dotted black;border-radius: 0.25em;box-sizing: border-box;margin-bottom: 0.5em;}#sk-container-id-6 div.sk-estimator:hover {background-color: #d4ebff;}#sk-container-id-6 div.sk-parallel-item::after {content: \"\";width: 100%;border-bottom: 1px solid gray;flex-grow: 1;}#sk-container-id-6 div.sk-label:hover label.sk-toggleable__label {background-color: #d4ebff;}#sk-container-id-6 div.sk-serial::before {content: \"\";position: absolute;border-left: 1px solid gray;box-sizing: border-box;top: 0;bottom: 0;left: 50%;z-index: 0;}#sk-container-id-6 div.sk-serial {display: flex;flex-direction: column;align-items: center;background-color: white;padding-right: 0.2em;padding-left: 0.2em;position: relative;}#sk-container-id-6 div.sk-item {position: relative;z-index: 1;}#sk-container-id-6 div.sk-parallel {display: flex;align-items: stretch;justify-content: center;background-color: white;position: relative;}#sk-container-id-6 div.sk-item::before, #sk-container-id-6 div.sk-parallel-item::before {content: \"\";position: absolute;border-left: 1px solid gray;box-sizing: border-box;top: 0;bottom: 0;left: 50%;z-index: -1;}#sk-container-id-6 div.sk-parallel-item {display: flex;flex-direction: column;z-index: 1;position: relative;background-color: white;}#sk-container-id-6 div.sk-parallel-item:first-child::after {align-self: flex-end;width: 50%;}#sk-container-id-6 div.sk-parallel-item:last-child::after {align-self: flex-start;width: 50%;}#sk-container-id-6 div.sk-parallel-item:only-child::after {width: 0;}#sk-container-id-6 div.sk-dashed-wrapped {border: 1px dashed gray;margin: 0 0.4em 0.5em 0.4em;box-sizing: border-box;padding-bottom: 0.4em;background-color: white;}#sk-container-id-6 div.sk-label label {font-family: monospace;font-weight: bold;display: inline-block;line-height: 1.2em;}#sk-container-id-6 div.sk-label-container {text-align: center;}#sk-container-id-6 div.sk-container {/* jupyter's `normalize.less` sets `[hidden] { display: none; }` but bootstrap.min.css set `[hidden] { display: none !important; }` so we also need the `!important` here to be able to override the default hidden behavior on the sphinx rendered scikit-learn.org. See: https://github.com/scikit-learn/scikit-learn/issues/21755 */display: inline-block !important;position: relative;}#sk-container-id-6 div.sk-text-repr-fallback {display: none;}</style><div id=\"sk-container-id-6\" class=\"sk-top-container\"><div class=\"sk-text-repr-fallback\"><pre>RandomForestClassifier(max_depth=2, random_state=0)</pre><b>In a Jupyter environment, please rerun this cell to show the HTML representation or trust the notebook. <br />On GitHub, the HTML representation is unable to render, please try loading this page with nbviewer.org.</b></div><div class=\"sk-container\" hidden><div class=\"sk-item\"><div class=\"sk-estimator sk-toggleable\"><input class=\"sk-toggleable__control sk-hidden--visually\" id=\"sk-estimator-id-6\" type=\"checkbox\" checked><label for=\"sk-estimator-id-6\" class=\"sk-toggleable__label sk-toggleable__label-arrow\">RandomForestClassifier</label><div class=\"sk-toggleable__content\"><pre>RandomForestClassifier(max_depth=2, random_state=0)</pre></div></div></div></div></div>"
      ],
      "text/plain": [
       "RandomForestClassifier(max_depth=2, random_state=0)"
      ]
     },
     "execution_count": 80,
     "metadata": {},
     "output_type": "execute_result"
    }
   ],
   "source": [
    "rf = RandomForestClassifier(max_depth=2, random_state=0)\n",
    "lda_scores_training = clf.transform(train_data)\n",
    "rf.fit(lda_scores_training, train_class)"
   ]
  },
  {
   "attachments": {},
   "cell_type": "markdown",
   "metadata": {},
   "source": [
    "## Histogram LDA Scores"
   ]
  },
  {
   "cell_type": "code",
   "execution_count": 84,
   "metadata": {},
   "outputs": [],
   "source": [
    "# get data\n",
    "trials = design.index[design.condition == 'ems2']\n",
    "idle = tmp_idle_means[:,trials]\n",
    "idle_class = np.zeros((idle.shape[1], 1))\n",
    "move = tmp_move_means[:,trials]\n",
    "move_class = np.ones((move.shape[1], 1))\n",
    "\n",
    "data = np.concatenate((move, idle), axis = 1).T\n",
    "classes = np.concatenate((move_class, idle_class)).ravel()"
   ]
  },
  {
   "cell_type": "code",
   "execution_count": 85,
   "metadata": {},
   "outputs": [
    {
     "name": "stdout",
     "output_type": "stream",
     "text": [
      "Accuracy score : \n",
      "0.5405405405405406\n",
      "Accuracy score : \n",
      "0.5405405405405406\n"
     ]
    }
   ],
   "source": [
    "print('Accuracy score : \\n' + str(accuracy_score(classes, clf.predict(data))))\n",
    "\n",
    "lda_scores_experiment = clf.transform(data)\n",
    "y_pred = rf.predict(lda_scores_experiment)\n",
    "\n",
    "print('Accuracy score : \\n' + str(accuracy_score(classes, y_pred)))"
   ]
  },
  {
   "cell_type": "code",
   "execution_count": 86,
   "metadata": {},
   "outputs": [
    {
     "data": {
      "image/png": "[encoded data removed]",
      "text/plain": [
       "<Figure size 648x360 with 1 Axes>"
      ]
     },
     "metadata": {},
     "output_type": "display_data"
    }
   ],
   "source": [
    "lda_scores = clf.transform(data)\n",
    "\n",
    "df_to_plot = pd.DataFrame()\n",
    "df_to_plot['scores'] = pd.DataFrame(lda_scores)\n",
    "df_to_plot['classes'] = pd.DataFrame(classes)\n",
    "\n",
    "with sns.plotting_context('paper', font_scale = 1.8):\n",
    "    fig, ax = plt.subplots(1, 1, figsize=(9,5))\n",
    "    fig.patch.set_alpha(1)\n",
    "    sns.despine() #bottom=True, left=True \n",
    "\n",
    "    sns.histplot(data=df_to_plot, x='scores', hue=classes, kde=True)\n",
    "\n",
    "    ax.set(xlabel='LDA score', ylabel='Frequency', title='Histogram of LDA scores')\n",
    "    ax.legend(['pre movement', 'idle'])"
   ]
  },
  {
   "cell_type": "code",
   "execution_count": 77,
   "metadata": {},
   "outputs": [
    {
     "data": {
      "text/plain": [
       "0.38752918915738416"
      ]
     },
     "execution_count": 77,
     "metadata": {},
     "output_type": "execute_result"
    },
    {
     "data": {
      "image/png": "[encoded data removed]",
      "text/plain": [
       "<Figure size 648x360 with 1 Axes>"
      ]
     },
     "metadata": {},
     "output_type": "display_data"
    }
   ],
   "source": [
    "probs = np.round(clf.predict_proba(data)[:,0],2)\n",
    "# probs = np.round(clf.predict_proba(pre_move_ems1_means)[:,1],2)\n",
    "# probs = np.round(clf.predict_proba(pre_move_means)[:,1],2)\n",
    "# probs = np.round(clf.predict_proba(idle_means)[:,0],2)\n",
    "\n",
    "with sns.plotting_context('paper', font_scale = 1.8):\n",
    "    fig, ax = plt.subplots(1, 1, figsize=(9,5))\n",
    "    fig.patch.set_alpha(1)\n",
    "    sns.despine() #bottom=True, left=True \n",
    "\n",
    "    sns.histplot(data=probs, kde=True)\n",
    "\n",
    "    ax.set(xlabel='Prediction Probability for Class Idle', ylabel='Frequency', title='Histogram of probabilities')\n",
    "\n",
    "probs.std()"
   ]
  },
  {
   "attachments": {},
   "cell_type": "markdown",
   "metadata": {},
   "source": [
    "# Resources"
   ]
  },
  {
   "cell_type": "code",
   "execution_count": null,
   "metadata": {},
   "outputs": [],
   "source": [
    "# windowed means\n",
    "# c_move_all_windowed_means = pd.DataFrame(windowed_mean(np.array(c_move_all), 10))\n",
    "# c_idle_all_windowed_means = pd.DataFrame(windowed_mean(np.array(c_idle_all), 10))\n",
    "\n",
    "# design_vars = design_all.columns\n",
    "# data_vars = c_move_all_windowed_means.columns\n",
    "# design_data = design_all.join(c_idle_all_windowed_means)\n",
    "# design = design_data.melt(id_vars=design_vars, value_vars=data_vars, var_name='time', value_name='amplitude')\n",
    "# sns.lineplot(data=design, y='amplitude', x='time', hue='condition', ci=95)\n",
    "\n",
    "\n",
    "# # plot patterns and filters\n",
    "# from mne.decoding import LinearModel\n",
    "\n",
    "# chans_names = pd.read_csv(path+pID+'/sel_chans_names.csv')\n",
    "# channel_labels = chans_names['Var1'].values.tolist()\n",
    "# channel_labels = channel_labels[0:-1]\n",
    "# channel_labels = np.array(channel_labels)[chans].tolist()\n",
    "# chans_types = ['eeg'] * channel_labels.__len__()\n",
    "\n",
    "# info = mne.create_info(channel_labels, ch_types=chans_types, sfreq=10)\n",
    "# easycap_montage = mne.channels.make_standard_montage('easycap-M1')\n",
    "# times = np.arange(-1, 0, 0.1)\n",
    "\n",
    "# # create a linear model with LogisticRegression\n",
    "# model = LinearModel(clf)\n",
    "# model.fit(data, classes)\n",
    "\n",
    "# # Extract and plot spatial filters and spatial patterns\n",
    "# for name, coef in (('patterns', model.patterns_), ('filters', model.filters_)):\n",
    "#     # We fitted the linear model onto Z-scored data. To make the filters\n",
    "#     # interpretable, we must reverse this normalization step\n",
    "#     # coef = scaler.inverse_transform([coef])[0]\n",
    "\n",
    "#     # The data was vectorized to fit a single model across all time points and\n",
    "#     # all channels. We thus reshape it:\n",
    "#     coef = coef.reshape(len(chans), -1)\n",
    "\n",
    "#     # Plot\n",
    "#     evoked = mne.EvokedArray(coef, info, tmin=-1)\n",
    "#     evoked.set_montage(easycap_montage)\n",
    "\n",
    "#     fig = evoked.plot_topomap(times)\n",
    "#     fig.suptitle(f'MEG {name}')"
   ]
  }
 ],
 "metadata": {
  "kernelspec": {
   "display_name": "Python 3",
   "language": "python",
   "name": "python3"
  },
  "language_info": {
   "codemirror_mode": {
    "name": "ipython",
    "version": 3
   },
   "file_extension": ".py",
   "mimetype": "text/x-python",
   "name": "python",
   "nbconvert_exporter": "python",
   "pygments_lexer": "ipython3",
   "version": "3.9.16"
  },
  "orig_nbformat": 4
 },
 "nbformat": 4,
 "nbformat_minor": 2
}
