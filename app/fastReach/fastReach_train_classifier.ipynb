{
 "cells": [
  {
   "cell_type": "code",
   "execution_count": 2,
   "metadata": {},
   "outputs": [
    {
     "name": "stdout",
     "output_type": "stream",
     "text": [
      "(1, 300)\n",
      "0.6544444444444444\n",
      "0.1690532825640455\n",
      "1.0\n"
     ]
    }
   ],
   "source": [
    "pID = '9'\n",
    "\n",
    "\n",
    "\n",
    "import pandas as pd\n",
    "import numpy as np\n",
    "import seaborn as sns\n",
    "import matplotlib.pyplot as plt\n",
    "from sklearn.discriminant_analysis import LinearDiscriminantAnalysis as LDA\n",
    "from sklearn.model_selection import cross_val_score, KFold\n",
    "import pickle\n",
    "\n",
    "path = '/Users/lukasgehrke/Documents/publications/2021-fastReach/data/study/eeglab2python/'\n",
    "data_fname = '/data.csv'\n",
    "data = pd.read_csv(path+pID+data_fname)\n",
    "\n",
    "# selected EEG chans\n",
    "chans_fname = '/chans.csv'\n",
    "chans = np.array(pd.read_csv(path+pID+chans_fname))\n",
    "filename = path+pID+'/chans_'+pID+'_eeg.sav'\n",
    "pickle.dump(chans, open(filename, 'wb'))\n",
    "\n",
    "# EEG features: 1. windowed means over EEG channels\n",
    "win_mean_size = 25\n",
    "win_mean = np.arange(len(data))//win_mean_size\n",
    "win_mean = data.groupby(win_mean).mean()\n",
    "\n",
    "df2 = win_mean.pivot(index=['epoch_ix', 'rp_class'], columns='sample', values=win_mean.columns[4:].tolist())\n",
    "df2.reset_index(inplace=True)\n",
    "# df2.head()\n",
    "\n",
    "# EEG\n",
    "clf = LDA(solver='lsqr', shrinkage='auto')\n",
    "eeg_dim1 = 2\n",
    "\n",
    "clf.fit(df2.iloc[:,eeg_dim1:].values, df2.rp_class)\n",
    "print(clf.coef_.shape)\n",
    "\n",
    "kfolds = KFold(n_splits=10, random_state=1, shuffle=True) \n",
    "cv_results = cross_val_score(clf, df2.iloc[:,eeg_dim1:].values, df2.rp_class, cv=kfolds)\n",
    "cv_average = cv_results.mean()\n",
    "print(cv_average)\n",
    "st_deviation = cv_results.std()\n",
    "print(st_deviation)\n",
    "\n",
    "filename = path+pID+'/model_'+pID+'_eeg.sav'\n",
    "pickle.dump(clf, open(filename, 'wb'))\n",
    "\n",
    "# Motion\n",
    "clf = LDA()\n",
    "mov_data = data.groupby(['epoch_ix']).mean()\n",
    "clf.fit(mov_data.Motion.values.reshape(-1,1), mov_data.rp_class)\n",
    "\n",
    "kfolds = KFold(n_splits=10, random_state=1, shuffle=True) \n",
    "cv_results = cross_val_score(clf, mov_data.Motion.values.reshape(-1,1), mov_data.rp_class, cv=kfolds)\n",
    "cv_average = cv_results.mean()\n",
    "print(cv_average)\n",
    "st_deviation = cv_results.std()\n",
    "\n",
    "filename = path+pID+'/model_'+pID+'_motion.sav'\n",
    "pickle.dump(clf, open(filename, 'wb'))"
   ]
  }
 ],
 "metadata": {
  "interpreter": {
   "hash": "b0fa6594d8f4cbf19f97940f81e996739fb7646882a419484c72d19e05852a7e"
  },
  "kernelspec": {
   "display_name": "Python 3.9.10 64-bit",
   "language": "python",
   "name": "python3"
  },
  "language_info": {
   "codemirror_mode": {
    "name": "ipython",
    "version": 3
   },
   "file_extension": ".py",
   "mimetype": "text/x-python",
   "name": "python",
   "nbconvert_exporter": "python",
   "pygments_lexer": "ipython3",
   "version": "3.9.10"
  },
  "orig_nbformat": 4
 },
 "nbformat": 4,
 "nbformat_minor": 2
}
